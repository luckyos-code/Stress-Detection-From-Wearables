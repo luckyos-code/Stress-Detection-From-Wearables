{
 "cells": [
  {
   "cell_type": "code",
   "execution_count": 5,
   "metadata": {},
   "outputs": [],
   "source": [
    "import os\n",
    "import pickle\n",
    "import scipy.signal\n",
    "from scipy import fft\n",
    "import pandas as pd\n",
    "import matplotlib.pyplot as plt\n",
    "import numpy as np\n",
    "import seaborn as sns"
   ]
  },
  {
   "cell_type": "markdown",
   "metadata": {},
   "source": [
    "# Data Preprocessing"
   ]
  },
  {
   "cell_type": "code",
   "execution_count": 6,
   "metadata": {},
   "outputs": [],
   "source": [
    "DATA_PATH = os.path.realpath(\"../data/WESAD\")"
   ]
  },
  {
   "cell_type": "code",
   "execution_count": 7,
   "metadata": {},
   "outputs": [],
   "source": [
    "class Subject:\n",
    "    \"\"\"Subject of the WESAD dataset.\n",
    "    Subject Class inspired by: https://github.com/WJMatthew/WESAD\"\"\"\n",
    "\n",
    "    def __init__(self, main_path, subject_number):\n",
    "        self.name = f'S{subject_number}'\n",
    "        self.subject_keys = ['signal', 'label', 'subject']\n",
    "        self.signal_keys = ['chest', 'wrist']\n",
    "        self.chest_keys = ['ACC', 'ECG', 'EMG', 'EDA', 'Temp', 'Resp']\n",
    "        self.wrist_keys = ['ACC', 'BVP', 'EDA', 'TEMP']\n",
    "        with open(os.path.join(main_path, self.name) + '/' + self.name + '.pkl', 'rb') as file:\n",
    "            self.data = pickle.load(file, encoding='latin1')\n",
    "        self.labels = self.data['label']\n",
    "\n",
    "    def get_wrist_data(self):\n",
    "        \"\"\"Returns data measured by the E4 Empatica\"\"\"\n",
    "\n",
    "        data = self.data['signal']['wrist']\n",
    "        return data\n",
    "    \n",
    "    def get_subject_dataframe(self):\n",
    "        \"\"\"Returns a dataframe with the preprocessed data of the subject\"\"\"\n",
    "        wrist_data = self.get_wrist_data()\n",
    "        bvp_signal = wrist_data['BVP'][:,0]\n",
    "        eda_signal = wrist_data['EDA'][:,0]\n",
    "        acc_x_signal = wrist_data['ACC'][:,0]\n",
    "        acc_y_signal = wrist_data['ACC'][:,1]\n",
    "        acc_z_signal = wrist_data['ACC'][:,2]\n",
    "        temp_signal = wrist_data['TEMP'][:,0]\n",
    "        # Upsampling data to match BVP data sampling rate using fourier method as described in Paper/dataset\n",
    "        eda_upsampled = scipy.signal.resample(eda_signal, len(bvp_signal))\n",
    "        temp_upsampled = scipy.signal.resample(temp_signal, len(bvp_signal))\n",
    "        acc_x_upsampled = scipy.signal.resample(acc_x_signal, len(bvp_signal))\n",
    "        acc_y_upsampled = scipy.signal.resample(acc_y_signal, len(bvp_signal))\n",
    "        acc_z_upsampled = scipy.signal.resample(acc_z_signal, len(bvp_signal))\n",
    "        label_df = pd.DataFrame(self.labels, columns=['label'])\n",
    "        label_df.index = [(1 / 700) * i for i in range(len(label_df))] # 700 is the sampling rate of the label\n",
    "        label_df.index = pd.to_datetime(label_df.index, unit='s')\n",
    "        data_arrays = zip(bvp_signal, eda_upsampled, acc_x_upsampled, acc_y_upsampled, acc_z_upsampled, temp_upsampled)\n",
    "        df = pd.DataFrame(data=data_arrays, columns=['BVP', 'EDA', 'ACC_x', 'ACC_y', 'ACC_z', 'TEMP'])\n",
    "        df.index = [(1 / 64) * i for i in range(len(df))] # 64 = sampling rate of BVP\n",
    "        df.index = pd.to_datetime(df.index, unit='s')\n",
    "        df = df.join(label_df)\n",
    "        df['label'] = df['label'].fillna(method='ffill')\n",
    "        df.reset_index(drop=True, inplace=True)\n",
    "        df.drop(df[df['label'].isin([0.0, 4.0, 5.0, 6.0, 7.0])].index, inplace=True)\n",
    "        df['label'] = df['label'].replace([1.0, 2.0, 3.0], [0, 1, 0])\n",
    "        df.reset_index(drop=True, inplace=True)\n",
    "        df = (df-df.min())/(df.max()-df.min()) # Normalize data (no train test leakage since data frame per subject) \n",
    "        return df\n"
   ]
  },
  {
   "cell_type": "code",
   "execution_count": 8,
   "metadata": {},
   "outputs": [],
   "source": [
    "s2 = Subject(DATA_PATH, 2)"
   ]
  },
  {
   "cell_type": "code",
   "execution_count": 9,
   "metadata": {},
   "outputs": [
    {
     "data": {
      "text/html": [
       "<div>\n",
       "<style scoped>\n",
       "    .dataframe tbody tr th:only-of-type {\n",
       "        vertical-align: middle;\n",
       "    }\n",
       "\n",
       "    .dataframe tbody tr th {\n",
       "        vertical-align: top;\n",
       "    }\n",
       "\n",
       "    .dataframe thead th {\n",
       "        text-align: right;\n",
       "    }\n",
       "</style>\n",
       "<table border=\"1\" class=\"dataframe\">\n",
       "  <thead>\n",
       "    <tr style=\"text-align: right;\">\n",
       "      <th></th>\n",
       "      <th>BVP</th>\n",
       "      <th>EDA</th>\n",
       "      <th>ACC_x</th>\n",
       "      <th>ACC_y</th>\n",
       "      <th>ACC_z</th>\n",
       "      <th>TEMP</th>\n",
       "      <th>label</th>\n",
       "    </tr>\n",
       "  </thead>\n",
       "  <tbody>\n",
       "    <tr>\n",
       "      <th>0</th>\n",
       "      <td>0.536850</td>\n",
       "      <td>0.993856</td>\n",
       "      <td>0.661565</td>\n",
       "      <td>0.717624</td>\n",
       "      <td>0.545219</td>\n",
       "      <td>0.950902</td>\n",
       "      <td>0.0</td>\n",
       "    </tr>\n",
       "    <tr>\n",
       "      <th>1</th>\n",
       "      <td>0.548782</td>\n",
       "      <td>0.995152</td>\n",
       "      <td>0.676264</td>\n",
       "      <td>0.736944</td>\n",
       "      <td>0.507794</td>\n",
       "      <td>0.950913</td>\n",
       "      <td>0.0</td>\n",
       "    </tr>\n",
       "    <tr>\n",
       "      <th>2</th>\n",
       "      <td>0.560715</td>\n",
       "      <td>0.996392</td>\n",
       "      <td>0.683334</td>\n",
       "      <td>0.736449</td>\n",
       "      <td>0.507154</td>\n",
       "      <td>0.950923</td>\n",
       "      <td>0.0</td>\n",
       "    </tr>\n",
       "    <tr>\n",
       "      <th>3</th>\n",
       "      <td>0.571374</td>\n",
       "      <td>0.997521</td>\n",
       "      <td>0.691702</td>\n",
       "      <td>0.691200</td>\n",
       "      <td>0.545094</td>\n",
       "      <td>0.950932</td>\n",
       "      <td>0.0</td>\n",
       "    </tr>\n",
       "    <tr>\n",
       "      <th>4</th>\n",
       "      <td>0.580215</td>\n",
       "      <td>0.998489</td>\n",
       "      <td>0.674626</td>\n",
       "      <td>0.642324</td>\n",
       "      <td>0.583283</td>\n",
       "      <td>0.950940</td>\n",
       "      <td>0.0</td>\n",
       "    </tr>\n",
       "    <tr>\n",
       "      <th>...</th>\n",
       "      <td>...</td>\n",
       "      <td>...</td>\n",
       "      <td>...</td>\n",
       "      <td>...</td>\n",
       "      <td>...</td>\n",
       "      <td>...</td>\n",
       "      <td>...</td>\n",
       "    </tr>\n",
       "    <tr>\n",
       "      <th>135739</th>\n",
       "      <td>0.533648</td>\n",
       "      <td>0.089840</td>\n",
       "      <td>0.499794</td>\n",
       "      <td>0.927696</td>\n",
       "      <td>0.460655</td>\n",
       "      <td>0.441595</td>\n",
       "      <td>0.0</td>\n",
       "    </tr>\n",
       "    <tr>\n",
       "      <th>135740</th>\n",
       "      <td>0.536857</td>\n",
       "      <td>0.089739</td>\n",
       "      <td>0.500468</td>\n",
       "      <td>0.929406</td>\n",
       "      <td>0.464332</td>\n",
       "      <td>0.441532</td>\n",
       "      <td>0.0</td>\n",
       "    </tr>\n",
       "    <tr>\n",
       "      <th>135741</th>\n",
       "      <td>0.540788</td>\n",
       "      <td>0.089649</td>\n",
       "      <td>0.503081</td>\n",
       "      <td>0.929464</td>\n",
       "      <td>0.466159</td>\n",
       "      <td>0.441435</td>\n",
       "      <td>0.0</td>\n",
       "    </tr>\n",
       "    <tr>\n",
       "      <th>135742</th>\n",
       "      <td>0.544653</td>\n",
       "      <td>0.089569</td>\n",
       "      <td>0.504822</td>\n",
       "      <td>0.929406</td>\n",
       "      <td>0.464332</td>\n",
       "      <td>0.441301</td>\n",
       "      <td>0.0</td>\n",
       "    </tr>\n",
       "    <tr>\n",
       "      <th>135743</th>\n",
       "      <td>0.548054</td>\n",
       "      <td>0.089500</td>\n",
       "      <td>0.503304</td>\n",
       "      <td>0.929665</td>\n",
       "      <td>0.462674</td>\n",
       "      <td>0.441131</td>\n",
       "      <td>0.0</td>\n",
       "    </tr>\n",
       "  </tbody>\n",
       "</table>\n",
       "<p>135744 rows × 7 columns</p>\n",
       "</div>"
      ],
      "text/plain": [
       "             BVP       EDA     ACC_x     ACC_y     ACC_z      TEMP  label\n",
       "0       0.536850  0.993856  0.661565  0.717624  0.545219  0.950902    0.0\n",
       "1       0.548782  0.995152  0.676264  0.736944  0.507794  0.950913    0.0\n",
       "2       0.560715  0.996392  0.683334  0.736449  0.507154  0.950923    0.0\n",
       "3       0.571374  0.997521  0.691702  0.691200  0.545094  0.950932    0.0\n",
       "4       0.580215  0.998489  0.674626  0.642324  0.583283  0.950940    0.0\n",
       "...          ...       ...       ...       ...       ...       ...    ...\n",
       "135739  0.533648  0.089840  0.499794  0.927696  0.460655  0.441595    0.0\n",
       "135740  0.536857  0.089739  0.500468  0.929406  0.464332  0.441532    0.0\n",
       "135741  0.540788  0.089649  0.503081  0.929464  0.466159  0.441435    0.0\n",
       "135742  0.544653  0.089569  0.504822  0.929406  0.464332  0.441301    0.0\n",
       "135743  0.548054  0.089500  0.503304  0.929665  0.462674  0.441131    0.0\n",
       "\n",
       "[135744 rows x 7 columns]"
      ]
     },
     "execution_count": 9,
     "metadata": {},
     "output_type": "execute_result"
    }
   ],
   "source": [
    "s2.get_subject_dataframe()"
   ]
  },
  {
   "cell_type": "code",
   "execution_count": 12,
   "metadata": {},
   "outputs": [],
   "source": [
    "def create_subjects_data() -> dict:\n",
    "    # Create a dictionary with all the subjects and belonging dataframes\n",
    "    subjects = [2, 3, 4, 5, 6, 7, 8, 9, 10, 11, 13, 14, 15, 16, 17]\n",
    "    subjects_data = {}\n",
    "    for subject_num in subjects:\n",
    "        subject = Subject(DATA_PATH, subject_num)\n",
    "        subjects_data[subject.name] = subject.get_subject_dataframe()\n",
    "\n",
    "    return subjects_data"
   ]
  },
  {
   "cell_type": "markdown",
   "metadata": {},
   "source": [
    "### Window"
   ]
  },
  {
   "cell_type": "markdown",
   "metadata": {},
   "source": [
    "1. Creating the windows\n",
    "2. Create subwindows from the windows\n",
    "3. Calculate the fft of the subwindows\n",
    "4. Average the subwindows\n",
    "\n",
    "![fft](/Users/nils/master/Stress-Detection-From-Wearables/images/fft.png)"
   ]
  },
  {
   "cell_type": "code",
   "execution_count": 13,
   "metadata": {},
   "outputs": [],
   "source": [
    "# Subwindow length of the biosignals\n",
    "signal_subwindow_dict = {\n",
    "    'ACC_x': 7,\n",
    "    'ACC_y': 7,\n",
    "    'ACC_z': 7,\n",
    "    'BVP': 30,\n",
    "    'EDA': 30,\n",
    "    'TEMP': 35\n",
    "    }"
   ]
  },
  {
   "cell_type": "code",
   "execution_count": 14,
   "metadata": {},
   "outputs": [],
   "source": [
    "# most frequent element in list\n",
    "def most_common(lst):\n",
    "    return max(set(lst), key=lst.count)"
   ]
  },
  {
   "cell_type": "code",
   "execution_count": 15,
   "metadata": {},
   "outputs": [],
   "source": [
    "def create_windows(df: pd.DataFrame) -> tuple[pd.DataFrame,list]:\n",
    "    \"\"\"Creates windows from the dataframe and returns the windows and the labels.\n",
    "    If the window is assigned to multiple labels, the most common label is chosen for that period.\n",
    "\n",
    "    Args:\n",
    "        df (pd.DataFrame): Subject DataFrame\n",
    "\n",
    "    Returns:\n",
    "        tuple[pd.DataFrame,list]: Windows representing the activity of the subject in one minute and the corresponding labels.\n",
    "    \"\"\"\n",
    "\n",
    "    window_len = 64 * 60 # fs = 64 and window length in seconds = 60\n",
    "    windows, labels = zip(*[(df[i:i+window_len], int(most_common(df['label'][i:i+window_len].to_list()))) for i in range(0,df.shape[0],window_len)])\n",
    "    return windows, labels"
   ]
  },
  {
   "cell_type": "code",
   "execution_count": 16,
   "metadata": {},
   "outputs": [],
   "source": [
    "def create_subwindows(df: pd.DataFrame, signal_subwindow_len: int, signal_name: str) -> list:\n",
    "    \"\"\"The function creates subwindows from the windows.\n",
    "\n",
    "    Args:\n",
    "        df (pd.DataFrame): Windows representing the activity of the subject in one minute.\n",
    "        signal_subwindow_len (int): Length of the subwindows.\n",
    "        signal_name (str): Name of the signal.\n",
    "\n",
    "    Returns:\n",
    "        list: Subwindows of the signal in the window.\n",
    "    \"\"\"\n",
    "    subwindow_len = 64 * signal_subwindow_len # fs = 64 and sub-window length in seconds = 30\n",
    "    window_len = 64 * 60 # fs = 64 and window length in seconds = 60\n",
    "    window_shift = int(64 * 0.25) # fs = 64 and window shift in seconds = 0.25\n",
    "    subwindows = []\n",
    "\n",
    "    for i in range(0, window_len, window_shift):\n",
    "        if i + subwindow_len <= window_len:\n",
    "            subwindow = df[signal_name][i:i+subwindow_len]\n",
    "            subwindows.append(subwindow)\n",
    "    return subwindows\n",
    "            "
   ]
  },
  {
   "cell_type": "code",
   "execution_count": 17,
   "metadata": {},
   "outputs": [],
   "source": [
    "def fft_subwindows(subwindows: list, duration: int, f_s: int) -> list:\n",
    "    \"\"\"Calculates the fft of the subwindows.\n",
    "\n",
    "    Args:\n",
    "        subwindows (list): C\n",
    "        duration (int): _description_\n",
    "        f_s (int): _description_\n",
    "\n",
    "    Returns:\n",
    "        list: Fft coefficients of the subwindows.\n",
    "    \"\"\"\n",
    "    freqs= []\n",
    "    yfs = []\n",
    "    for subwindow in subwindows:\n",
    "        y = np.array(subwindow)\n",
    "        yf = scipy.fft.fft(y)\n",
    "        l = len(yf)\n",
    "        N = f_s * duration\n",
    "        freq = scipy.fft.fftfreq(N, 1/f_s)\n",
    "\n",
    "        l //= 2\n",
    "        amps = np.abs(yf[0:l])\n",
    "        freq = np.abs(freq[0:l])\n",
    "\n",
    "        # Sort descending amp   \n",
    "        p = amps.argsort()[::-1]\n",
    "        freq = freq[p]\n",
    "        amps = amps[p]\n",
    "\n",
    "        freqs.append(freq)\n",
    "        yfs.append(amps)\n",
    "    return np.asarray(freqs), np.asarray(yfs)\n",
    "    "
   ]
  },
  {
   "cell_type": "code",
   "execution_count": 18,
   "metadata": {},
   "outputs": [],
   "source": [
    "def average_window(subwindows_fft: list) -> list:\n",
    "    \"\"\"Calculates the average of the fft coefficients of the subwindows.\n",
    "\n",
    "    Args:\n",
    "        subwindows_fft (list): List of fft coefficients of the subwindows.\n",
    "\n",
    "    Returns:\n",
    "        list: Average of the fft coefficients of the subwindow for signals.\n",
    "    \"\"\"\n",
    "    len_yfs = len(subwindows_fft[0])\n",
    "    avg_yfs = []\n",
    "    for i in range(len_yfs):\n",
    "        i_yfs = []\n",
    "        for yf in subwindows_fft:\n",
    "            try:\n",
    "                i_yfs.append(yf[i])\n",
    "            except IndexError:\n",
    "                pass\n",
    "        avg_yfs.append(sum(i_yfs)/len(i_yfs))\n",
    "    return avg_yfs"
   ]
  },
  {
   "cell_type": "code",
   "execution_count": 19,
   "metadata": {},
   "outputs": [],
   "source": [
    "def create_preprocessed_subjects_data(subjects_data: dict) -> dict:\n",
    "# Creates averaged windows for all subjects from dataframes\n",
    "\n",
    "    subjects_preprosessed_data = {}\n",
    "    for subject_name, subject_df in subjects_data.items():\n",
    "        subjects_preprosessed_data[subject_name] = {}\n",
    "        windows, labels = create_windows(subject_df)\n",
    "        yfs_per_min_for_signal = {}\n",
    "        X = []\n",
    "        for i in range(0,len(windows) - 1):\n",
    "            for signal in signal_subwindow_dict.keys():\n",
    "\n",
    "                duration_in_sec = signal_subwindow_dict[signal]\n",
    "\n",
    "                subwindows = create_subwindows(windows[i], signal_subwindow_len=duration_in_sec, signal_name=signal)\n",
    "                freqs, yfs = fft_subwindows(subwindows, duration_in_sec, 64)\n",
    "                yfs_average = average_window(yfs)[:210]\n",
    "                yfs_per_min_for_signal[signal] = yfs_average\n",
    "                \n",
    "            X.append(pd.DataFrame(yfs_per_min_for_signal).T)\n",
    "        y = list(labels[:len(windows)-1])\n",
    "        subjects_preprosessed_data[subject_name]['X'] = X\n",
    "        subjects_preprosessed_data[subject_name]['y'] = y\n",
    "    \n",
    "    return subjects_preprosessed_data\n"
   ]
  },
  {
   "cell_type": "code",
   "execution_count": null,
   "metadata": {},
   "outputs": [],
   "source": [
    "subjects_data = create_subjects_data()\n",
    "subjects_preprocessed_data = create_preprocessed_subjects_data(subjects_data)"
   ]
  },
  {
   "cell_type": "code",
   "execution_count": null,
   "metadata": {},
   "outputs": [],
   "source": [
    "subjects_preprocessed_data"
   ]
  },
  {
   "cell_type": "code",
   "execution_count": 22,
   "metadata": {},
   "outputs": [],
   "source": [
    "def get_subject_window_data(subjects_preprosessed_data: dict) -> tuple[list, list]:\n",
    "    # Created train and test data for leave one out cross validation\n",
    "    all_subjects_X = []\n",
    "    all_subjects_y = []\n",
    "    for subject_name, subject_data in subjects_preprosessed_data.items():\n",
    "        all_subjects_X.append(subject_data['X'])\n",
    "        all_subjects_y.append(subject_data['y'])\n",
    "    \n",
    "    return (all_subjects_X, all_subjects_y)\n"
   ]
  },
  {
   "cell_type": "code",
   "execution_count": 23,
   "metadata": {},
   "outputs": [],
   "source": [
    "all_subjects_X, all_subjects_y = get_subject_window_data(subjects_preprocessed_data)"
   ]
  },
  {
   "cell_type": "markdown",
   "metadata": {},
   "source": [
    "![OS_Sensors](/Users/nils/master/Stress-Detection-From-Wearables/images/os_sensors.png)"
   ]
  },
  {
   "cell_type": "code",
   "execution_count": 24,
   "metadata": {},
   "outputs": [],
   "source": [
    "SMARTWATCH_OS = {\n",
    "    'E4': ['ACC_x', 'ACC_y', 'ACC_z', 'TEMP', 'EDA', 'BVP'],\n",
    "    'Tizen': ['ACC_x', 'ACC_y', 'ACC_z', 'TEMP', 'BVP'],\n",
    "    'WearOS_watchOS': ['ACC_x', 'ACC_y', 'ACC_z', 'TEMP'],\n",
    "    'Fitbit': ['ACC_x', 'ACC_y', 'ACC_z', 'TEMP', 'EDA'],\n",
    "    #'PiaOS': ['TEMP', 'EDA', 'BVP']\n",
    "    }"
   ]
  },
  {
   "cell_type": "code",
   "execution_count": 25,
   "metadata": {},
   "outputs": [],
   "source": [
    "def filter_for_smartwatch_os(smartwatch_os_name: str, all_subjects_X: list) -> list:\n",
    "    # Adjusts the data for the smartwatch os\n",
    "    all_subjects_X_adjusted_for_smartwatch_os = []\n",
    "    for subject_data in all_subjects_X:\n",
    "        subject_adjusted_for_smartwatch_os = []\n",
    "        for window in subject_data:\n",
    "            subject_adjusted_for_smartwatch_os.append(window.loc[SMARTWATCH_OS[smartwatch_os_name]])\n",
    "        all_subjects_X_adjusted_for_smartwatch_os.append(subject_adjusted_for_smartwatch_os)\n",
    "    return all_subjects_X_adjusted_for_smartwatch_os\n"
   ]
  },
  {
   "cell_type": "markdown",
   "metadata": {},
   "source": [
    "# Model"
   ]
  },
  {
   "cell_type": "code",
   "execution_count": 31,
   "metadata": {},
   "outputs": [],
   "source": [
    "#import tensorflow as tf\n",
    "from sklearn.model_selection import train_test_split\n",
    "from sklearn.model_selection import KFold\n",
    "from sklearn.model_selection import LeaveOneGroupOut\n",
    "from sklearn.preprocessing import MinMaxScaler\n",
    "from sklearn.preprocessing import LabelEncoder"
   ]
  },
  {
   "cell_type": "markdown",
   "metadata": {},
   "source": [
    "### Build model"
   ]
  },
  {
   "cell_type": "markdown",
   "metadata": {},
   "source": [
    "![model_architecture](/Users/nils/master/Stress-Detection-From-Wearables/images/model_architecture.png)"
   ]
  },
  {
   "cell_type": "code",
   "execution_count": 45,
   "metadata": {},
   "outputs": [],
   "source": [
    "def build_model(num_signals: int, num_output_class: int) -> tf.keras.models.Sequential:\n",
    "    # Define the model architecture\n",
    "    model = tf.keras.Sequential()\n",
    "    # input_shape = 14 Signale (bei uns max. 6) X 210 Inputs (aus Tabelle nach Fourier)\n",
    "    model.add(tf.keras.layers.InputLayer(input_shape=[num_signals, 210, 1]))\n",
    "    model.add(tf.keras.layers.Conv2D(filters=64, activation='relu', kernel_size=(1,3), strides=1, padding='same')) \n",
    "    model.add(tf.keras.layers.Dropout(rate=0.3))\n",
    "    model.add(tf.keras.layers.Conv2D(filters=64, activation='relu', kernel_size=(1,3), strides=1, padding='same'))\n",
    "    model.add(tf.keras.layers.MaxPooling2D(pool_size=(1,2)))\n",
    "    model.add(tf.keras.layers.Dropout(rate=0.3))\n",
    "    model.add(tf.keras.layers.Conv2D(filters=64, activation='relu', kernel_size=(1,3), strides=1, padding='same'))\n",
    "    model.add(tf.keras.layers.Dropout(rate=0.3))\n",
    "    model.add(tf.keras.layers.MaxPooling2D(pool_size=(1,2)))\n",
    "    model.add(tf.keras.layers.Dropout(rate=0.3))\n",
    "    model.add(tf.keras.layers.Flatten())\n",
    "    model.add(tf.keras.layers.Dense(units=128, activation='relu', kernel_initializer='glorot_uniform'))\n",
    "    model.add(tf.keras.layers.Dropout(rate=0.3))\n",
    "    model.add(tf.keras.layers.Dense(units=64, activation='relu', kernel_initializer='glorot_uniform'))\n",
    "    model.add(tf.keras.layers.Dropout(rate=0.3))\n",
    "    # Anzahl der Units = Anzahl der Klassen (2 - non-stress vs stress)\n",
    "    model.add(tf.keras.layers.Dense(units=num_output_class, activation='sigmoid')) # sigmoid statt softmax, da nur 2 Klassen\n",
    "\n",
    "    model.compile(optimizer=\"rmsprop\",loss='binary_crossentropy', metrics=['accuracy', tf.keras.metrics.Precision(), tf.keras.metrics.Recall()])\n",
    "    return model"
   ]
  },
  {
   "cell_type": "markdown",
   "metadata": {},
   "source": [
    "### Train model"
   ]
  },
  {
   "cell_type": "code",
   "execution_count": null,
   "metadata": {},
   "outputs": [],
   "source": [
    "for os, signals in SMARTWATCH_OS.items():\n",
    "    print(f'\\n\\n\\nSmartwatchOS: {os} - Signals: {signals} - Num. Signals: {len(signals)}')\n",
    "    print(f'Number of signals: {len(signals)}')\n",
    "    all_subjects_X_os = filter_for_smartwatch_os(os, all_subjects_X)\n",
    "\n",
    "    groups_set = [0, 1, 2, 3, 4, 5, 6, 7, 8, 9, 10, 11, 12, 13, 14]\n",
    "    subject_ids = [2, 3, 4, 5, 6, 7, 8, 9, 10, 11, 13, 14, 15, 16, 17] # ids for subjects in WESAD dataset\n",
    "    num_signals = len(signals) # Number of signals in the WESAD dataset measured by the empatica e4\n",
    "    num_output_class = 2 # Number of output classes (2 - non-stress vs stress)\n",
    "    num_epochs = 100\n",
    "\n",
    "    all_acc_histories = []\n",
    "    all_loss_histories = []\n",
    "\n",
    "    for i in groups_set:\n",
    "        test_index = groups_set[i]\n",
    "        train_index = [x for x in groups_set if x != test_index]\n",
    "        print(train_index, test_index)\n",
    "\n",
    "        X_train = np.concatenate(np.array([all_subjects_X_os[x] for x in train_index], dtype=object))\n",
    "        y_train = np.concatenate(np.array([all_subjects_y[y] for y in train_index], dtype=object))\n",
    "        X_test = all_subjects_X_os[test_index]\n",
    "        y_test = all_subjects_y[test_index]\n",
    "        \n",
    "        weight_balance = y_train.tolist().count(0)/y_train.tolist().count(1)\n",
    "\n",
    "        X_train = np.asarray(X_train)\n",
    "        X_test = np.asarray(X_test)\n",
    "        y_train = np.asarray(y_train)\n",
    "        y_test = np.asarray(y_test)\n",
    "\n",
    "        y_train = tf.keras.utils.to_categorical(y_train, num_output_class)\n",
    "        y_test = tf.keras.utils.to_categorical(y_test, num_output_class)\n",
    "\n",
    "        tf.keras.backend.clear_session()\n",
    "\n",
    "        model = build_model(num_signals, num_output_class)\n",
    "\n",
    "        checkpoint = tf.keras.callbacks.ModelCheckpoint(\n",
    "            f\"models/{os}/wesad_{os}_binary_s{subject_ids[test_index]}_{num_epochs}.h5\",  # Path to save the model file\n",
    "            monitor=\"loss\", # The metric name to monitor\n",
    "            save_best_only=True # If True, it only saves the \"best\" model according to the quantity monitored \n",
    "        )\n",
    "        \n",
    "        early_stopping = tf.keras.callbacks.EarlyStopping(\n",
    "            monitor=\"loss\",     # Quantity to be monitored.\n",
    "            min_delta=0.001,     # Minimum change in the monitored quantity to qualify as an improvement, i.e. an absolute change of less than min_delta, will count as no improvement.\n",
    "            patience=100,        # Number of epochs with no improvement after which training will be stopped.\n",
    "        )\n",
    "\n",
    "        history = model.fit(\n",
    "        X_train, \n",
    "        y_train,\n",
    "        epochs=num_epochs, \n",
    "        batch_size=50,\n",
    "        verbose=1,\n",
    "        class_weight={0: 1, 1: weight_balance}, # to address the imbalance of the class labels\n",
    "        callbacks = [checkpoint, early_stopping]\n",
    "    )   \n",
    "    "
   ]
  },
  {
   "cell_type": "markdown",
   "metadata": {},
   "source": [
    "# Evaluation"
   ]
  },
  {
   "cell_type": "markdown",
   "metadata": {},
   "source": [
    "Evaluating every models on the corresponding test dataset not seen during training."
   ]
  },
  {
   "cell_type": "code",
   "execution_count": 47,
   "metadata": {},
   "outputs": [
    {
     "data": {
      "text/plain": [
       "[0.5121550559997559,\n",
       " 0.7567567825317383,\n",
       " 0.7631579041481018,\n",
       " 0.7837837934494019]"
      ]
     },
     "execution_count": 47,
     "metadata": {},
     "output_type": "execute_result"
    }
   ],
   "source": [
    "model.evaluate(X_test, y_test, verbose=0, )"
   ]
  },
  {
   "cell_type": "code",
   "execution_count": 48,
   "metadata": {},
   "outputs": [
    {
     "name": "stdout",
     "output_type": "stream",
     "text": [
      "Smartwatch OS: E4\n",
      "Evaluation of CNN model trained on 100 epochs\n",
      "\n",
      "Subject\t\t Accuracy\tPrecision\tRecall\t\tF1-Score\n",
      "************************************************************************\n",
      "S2\t\t 0.85714\t0.85714\t\t0.85714\t\t0.85714\n",
      "S3\t\t 0.68571\t0.66667\t\t0.68571\t\t0.67606\n",
      "S4\t\t 1.00000\t1.00000\t\t1.00000\t\t1.00000\n",
      "S5\t\t 0.94444\t0.94444\t\t0.94444\t\t0.94444\n",
      "S6\t\t 0.97222\t0.94595\t\t0.97222\t\t0.95890\n",
      "S7\t\t 0.97222\t0.97222\t\t0.97222\t\t0.97222\n",
      "S8\t\t 0.97222\t0.97222\t\t0.97222\t\t0.97222\n",
      "S9\t\t 0.94444\t0.94444\t\t0.94444\t\t0.94444\n",
      "S10\t\t 0.97297\t0.97297\t\t0.97297\t\t0.97297\n",
      "S11\t\t 0.70270\t0.70270\t\t0.70270\t\t0.70270\n",
      "S13\t\t 1.00000\t1.00000\t\t1.00000\t\t1.00000\n",
      "S14\t\t 0.21622\t0.21622\t\t0.21622\t\t0.21622\n",
      "S15\t\t 0.89189\t0.91667\t\t0.89189\t\t0.90411\n",
      "S16\t\t 1.00000\t1.00000\t\t1.00000\t\t1.00000\n",
      "S17\t\t 0.86486\t0.86486\t\t0.86486\t\t0.86486\n",
      "************************************************************************\n",
      "Average\t\t 0.86647\t0.86510\t\t0.86647\t\t0.86575\n",
      "\n",
      "\n",
      "\n",
      "Smartwatch OS: Tizen\n",
      "Evaluation of CNN model trained on 100 epochs\n",
      "\n",
      "Subject\t\t Accuracy\tPrecision\tRecall\t\tF1-Score\n",
      "************************************************************************\n",
      "S2\t\t 0.80000\t0.80000\t\t0.80000\t\t0.80000\n",
      "S3\t\t 0.85714\t0.85714\t\t0.85714\t\t0.85714\n",
      "S4\t\t 0.83333\t0.83333\t\t0.83333\t\t0.83333\n",
      "S5\t\t 0.97222\t0.97222\t\t0.97222\t\t0.97222\n",
      "S6\t\t 0.77778\t0.75000\t\t0.75000\t\t0.75000\n",
      "S7\t\t 0.44444\t0.42857\t\t0.41667\t\t0.42254\n",
      "S8\t\t 0.86111\t0.86111\t\t0.86111\t\t0.86111\n",
      "S9\t\t 0.83333\t0.83333\t\t0.83333\t\t0.83333\n",
      "S10\t\t 0.75676\t0.77143\t\t0.72973\t\t0.75000\n",
      "S11\t\t 0.83784\t0.83784\t\t0.83784\t\t0.83784\n",
      "S13\t\t 0.89189\t0.89189\t\t0.89189\t\t0.89189\n",
      "S14\t\t 0.35135\t0.33333\t\t0.32432\t\t0.32877\n",
      "S15\t\t 0.72973\t0.72973\t\t0.72973\t\t0.72973\n",
      "S16\t\t 0.40541\t0.40541\t\t0.40541\t\t0.40541\n",
      "S17\t\t 0.94595\t0.94595\t\t0.94595\t\t0.94595\n",
      "************************************************************************\n",
      "Average\t\t 0.75322\t0.75009\t\t0.74591\t\t0.74795\n",
      "\n",
      "\n",
      "\n",
      "Smartwatch OS: WearOS_watchOS\n",
      "Evaluation of CNN model trained on 100 epochs\n",
      "\n",
      "Subject\t\t Accuracy\tPrecision\tRecall\t\tF1-Score\n",
      "************************************************************************\n",
      "S2\t\t 0.94286\t0.94118\t\t0.91429\t\t0.92754\n",
      "S3\t\t 0.54286\t0.54286\t\t0.54286\t\t0.54286\n",
      "S4\t\t 0.77778\t0.78378\t\t0.80556\t\t0.79452\n",
      "S5\t\t 0.97222\t0.97222\t\t0.97222\t\t0.97222\n",
      "S6\t\t 0.63889\t0.65714\t\t0.63889\t\t0.64789\n",
      "S7\t\t 0.94444\t0.97059\t\t0.91667\t\t0.94286\n",
      "S8\t\t 0.97222\t1.00000\t\t0.97222\t\t0.98592\n",
      "S9\t\t 0.80556\t0.80556\t\t0.80556\t\t0.80556\n",
      "S10\t\t 0.91892\t0.94444\t\t0.91892\t\t0.93151\n",
      "S11\t\t 0.62162\t0.62162\t\t0.62162\t\t0.62162\n",
      "S13\t\t 0.94595\t0.94595\t\t0.94595\t\t0.94595\n",
      "S14\t\t 0.48649\t0.48649\t\t0.48649\t\t0.48649\n",
      "S15\t\t 0.81081\t0.76923\t\t0.81081\t\t0.78947\n",
      "S16\t\t 0.67568\t0.69444\t\t0.67568\t\t0.68493\n",
      "S17\t\t 0.91892\t0.92105\t\t0.94595\t\t0.93333\n",
      "************************************************************************\n",
      "Average\t\t 0.79835\t0.80377\t\t0.79824\t\t0.80084\n",
      "\n",
      "\n",
      "\n",
      "Smartwatch OS: Fitbit\n",
      "Evaluation of CNN model trained on 100 epochs\n",
      "\n",
      "Subject\t\t Accuracy\tPrecision\tRecall\t\tF1-Score\n",
      "************************************************************************\n",
      "S2\t\t 0.97143\t0.97143\t\t0.97143\t\t0.97143\n",
      "S3\t\t 0.74286\t0.73529\t\t0.71429\t\t0.72464\n",
      "S4\t\t 1.00000\t1.00000\t\t1.00000\t\t1.00000\n",
      "S5\t\t 0.88889\t0.88571\t\t0.86111\t\t0.87324\n",
      "S6\t\t 0.77778\t0.77778\t\t0.77778\t\t0.77778\n",
      "S7\t\t 1.00000\t0.97297\t\t1.00000\t\t0.98630\n",
      "S8\t\t 0.91667\t0.92105\t\t0.97222\t\t0.94595\n",
      "S9\t\t 1.00000\t1.00000\t\t1.00000\t\t1.00000\n",
      "S10\t\t 1.00000\t1.00000\t\t1.00000\t\t1.00000\n",
      "S11\t\t 0.72973\t0.72973\t\t0.72973\t\t0.72973\n",
      "S13\t\t 0.97297\t0.97059\t\t0.89189\t\t0.92958\n",
      "S14\t\t 0.29730\t0.29730\t\t0.29730\t\t0.29730\n",
      "S15\t\t 0.97297\t0.92308\t\t0.97297\t\t0.94737\n",
      "S16\t\t 1.00000\t1.00000\t\t1.00000\t\t1.00000\n",
      "S17\t\t 0.83784\t0.83784\t\t0.83784\t\t0.83784\n",
      "************************************************************************\n",
      "Average\t\t 0.87390\t0.86818\t\t0.86844\t\t0.86808\n",
      "\n",
      "\n",
      "\n"
     ]
    }
   ],
   "source": [
    "# Evaluating every models on the corresponding test dataset not seen during training.\n",
    "os_scores_acc = {}\n",
    "os_scores_f1 = {}\n",
    "\n",
    "for os, signals in SMARTWATCH_OS.items():\n",
    "\n",
    "    all_subjects_X_os = filter_for_smartwatch_os(os, all_subjects_X)\n",
    "\n",
    "    all_accuracies = []\n",
    "    all_precisions = []\n",
    "    all_recalls = []\n",
    "    all_f1s = []\n",
    "\n",
    "    for i, subject_id in enumerate(subject_ids):\n",
    "        X_test = all_subjects_X_os[i]\n",
    "        y_test = all_subjects_y[i]\n",
    "        X_test = np.asarray(X_test)\n",
    "        y_test = np.asarray(y_test)\n",
    "        \n",
    "        y_test = tf.keras.utils.to_categorical(y_test, num_output_class)\n",
    "        \n",
    "        model_path = f'models/{os}/wesad_{os}_binary_s{subject_id}_{num_epochs}.h5'\n",
    "\n",
    "        model = tf.keras.models.load_model(model_path)\n",
    "        accuracy = model.evaluate(X_test, y_test, verbose=0, )[1]\n",
    "        precision = model.evaluate(X_test, y_test, verbose=0, )[2]\n",
    "        recall = model.evaluate(X_test, y_test, verbose=0, )[3]\n",
    "        f1 = 2 * precision * recall / (precision + recall)\n",
    "        all_accuracies.append(accuracy)\n",
    "        all_precisions.append(precision)\n",
    "        all_recalls.append(recall)\n",
    "        all_f1s.append(f1)\n",
    "\n",
    "    print(f'Smartwatch OS: {os}')\n",
    "    print(f'Evaluation of CNN model trained on {num_epochs} epochs\\n')\n",
    "    print(f'Subject\\t\\t Accuracy\\tPrecision\\tRecall\\t\\tF1-Score')\n",
    "    print(\"************************************************************************\")\n",
    "    for i in range(len(all_accuracies)):\n",
    "        print(f'S{subject_ids[i]}\\t\\t {round(all_accuracies[i], 5):.5f}\\t{round(all_precisions[i], 5):.5f}\\t\\t{round(all_recalls[i], 5):.5f}\\t\\t{round(all_f1s[i], 5):.5f}')\n",
    "\n",
    "    print(\"************************************************************************\")\n",
    "    print(f'Average\\t\\t {round(np.mean(all_accuracies), 5):.5f}\\t{round(np.mean(all_precisions), 5):.5f}\\t\\t{round(np.mean(all_recalls), 5):.5f}\\t\\t{round(np.mean(all_f1s), 5):.5f}\\n\\n\\n')\n",
    "\n",
    "    os_scores_acc[os] = all_accuracies\n",
    "    os_scores_f1[os] = all_f1s\n"
   ]
  },
  {
   "cell_type": "code",
   "execution_count": 49,
   "metadata": {},
   "outputs": [],
   "source": [
    "df_os_scores_acc = pd.DataFrame(os_scores_acc)\n",
    "replacements = {l1:f'S{l2}' for l1, l2 in zip(groups_set, subject_ids)}\n",
    "df_os_scores_acc = df_os_scores_acc.rename(replacements)\n",
    "df_os_scores_acc.to_csv('os_scores_acc.csv')"
   ]
  },
  {
   "cell_type": "code",
   "execution_count": 50,
   "metadata": {},
   "outputs": [],
   "source": [
    "df_os_scores_f1 = pd.DataFrame(os_scores_f1)\n",
    "replacements = {l1:f'S{l2}' for l1, l2 in zip(groups_set, subject_ids)}\n",
    "df_os_scores_f1 = df_os_scores_f1.rename(replacements)\n",
    "df_os_scores_f1.to_csv('os_scores_f1.csv')"
   ]
  },
  {
   "cell_type": "code",
   "execution_count": 51,
   "metadata": {},
   "outputs": [
    {
     "data": {
      "text/plain": [
       "<AxesSubplot:title={'center':'Accuracy of different os models on each subject'}>"
      ]
     },
     "execution_count": 51,
     "metadata": {},
     "output_type": "execute_result"
    },
    {
     "data": {
      "image/png": "[encoded data removed]",
      "text/plain": [
       "<Figure size 1440x720 with 1 Axes>"
      ]
     },
     "metadata": {
      "needs_background": "light"
     },
     "output_type": "display_data"
    }
   ],
   "source": [
    "df_os_scores_acc.plot.bar(figsize=(20,10), title='Accuracy of different os models on each subject')"
   ]
  },
  {
   "cell_type": "code",
   "execution_count": 52,
   "metadata": {},
   "outputs": [
    {
     "data": {
      "text/plain": [
       "<AxesSubplot:title={'center':'F1-Score of different os models on each subject'}>"
      ]
     },
     "execution_count": 52,
     "metadata": {},
     "output_type": "execute_result"
    },
    {
     "data": {
      "image/png": "[encoded data removed]",
      "text/plain": [
       "<Figure size 1440x720 with 1 Axes>"
      ]
     },
     "metadata": {
      "needs_background": "light"
     },
     "output_type": "display_data"
    }
   ],
   "source": [
    "df_os_scores_f1.plot.bar(figsize=(20,10), title='F1-Score of different os models on each subject')"
   ]
  },
  {
   "cell_type": "code",
   "execution_count": 53,
   "metadata": {},
   "outputs": [
    {
     "name": "stdout",
     "output_type": "stream",
     "text": [
      "           E4     Tizen  WearOS_watchOS    Fitbit\n",
      "S2   0.857143  0.800000        0.942857  0.971429\n",
      "S3   0.685714  0.857143        0.542857  0.742857\n",
      "S4   1.000000  0.833333        0.777778  1.000000\n",
      "S5   0.944444  0.972222        0.972222  0.888889\n",
      "S6   0.972222  0.777778        0.638889  0.777778\n",
      "S7   0.972222  0.444444        0.944444  1.000000\n",
      "S8   0.972222  0.861111        0.972222  0.916667\n",
      "S9   0.944444  0.833333        0.805556  1.000000\n",
      "S10  0.972973  0.756757        0.918919  1.000000\n",
      "S11  0.702703  0.837838        0.621622  0.729730\n",
      "S13  1.000000  0.891892        0.945946  0.972973\n",
      "S14  0.216216  0.351351        0.486486  0.297297\n",
      "S15  0.891892  0.729730        0.810811  0.972973\n",
      "S16  1.000000  0.405405        0.675676  1.000000\n",
      "S17  0.864865  0.945946        0.918919  0.837838\n",
      "\n",
      "E4                0.866471\n",
      "Tizen             0.753219\n",
      "WearOS_watchOS    0.798347\n",
      "Fitbit            0.873895\n",
      "dtype: float64\n",
      "\n"
     ]
    },
    {
     "data": {
      "text/plain": [
       "Text(0.5, 1.0, 'Average accuracy of different models on each OS')"
      ]
     },
     "execution_count": 53,
     "metadata": {},
     "output_type": "execute_result"
    },
    {
     "data": {
      "image/png": "[encoded data removed]",
      "text/plain": [
       "<Figure size 432x288 with 1 Axes>"
      ]
     },
     "metadata": {
      "needs_background": "light"
     },
     "output_type": "display_data"
    }
   ],
   "source": [
    "# bar plot of the accuracy of the different loso models\n",
    "print(f'{df_os_scores_acc}\\n')\n",
    "print(f'{df_os_scores_acc.mean()}\\n')\n",
    "sns.barplot(x=df_os_scores_acc.keys(), y=df_os_scores_acc.mean(), palette='pastel').set_title(label='Average accuracy of different models on each OS')"
   ]
  },
  {
   "cell_type": "code",
   "execution_count": 54,
   "metadata": {},
   "outputs": [
    {
     "name": "stdout",
     "output_type": "stream",
     "text": [
      "           E4     Tizen  WearOS_watchOS    Fitbit\n",
      "S2   0.857143  0.800000        0.927536  0.971429\n",
      "S3   0.676056  0.857143        0.542857  0.724638\n",
      "S4   1.000000  0.833333        0.794521  1.000000\n",
      "S5   0.944444  0.972222        0.972222  0.873239\n",
      "S6   0.958904  0.750000        0.647887  0.777778\n",
      "S7   0.972222  0.422535        0.942857  0.986301\n",
      "S8   0.972222  0.861111        0.985915  0.945946\n",
      "S9   0.944444  0.833333        0.805556  1.000000\n",
      "S10  0.972973  0.750000        0.931507  1.000000\n",
      "S11  0.702703  0.837838        0.621622  0.729730\n",
      "S13  1.000000  0.891892        0.945946  0.929577\n",
      "S14  0.216216  0.328767        0.486486  0.297297\n",
      "S15  0.904110  0.729730        0.789474  0.947368\n",
      "S16  1.000000  0.405405        0.684932  1.000000\n",
      "S17  0.864865  0.945946        0.933333  0.837838\n",
      "\n",
      "E4                0.865754\n",
      "Tizen             0.747950\n",
      "WearOS_watchOS    0.800843\n",
      "Fitbit            0.868076\n",
      "dtype: float64\n",
      "\n"
     ]
    },
    {
     "data": {
      "text/plain": [
       "Text(0.5, 1.0, 'F1 score of different models on each OS')"
      ]
     },
     "execution_count": 54,
     "metadata": {},
     "output_type": "execute_result"
    },
    {
     "data": {
      "image/png": "[encoded data removed]",
      "text/plain": [
       "<Figure size 432x288 with 1 Axes>"
      ]
     },
     "metadata": {
      "needs_background": "light"
     },
     "output_type": "display_data"
    }
   ],
   "source": [
    "# bar plot of the accuracy of the different loso models\n",
    "print(f'{df_os_scores_f1}\\n')\n",
    "print(f'{df_os_scores_f1.mean()}\\n')\n",
    "sns.barplot(x=df_os_scores_f1.keys(), y=df_os_scores_f1.mean(), palette='pastel').set_title(label='F1 score of different models on each OS')"
   ]
  },
  {
   "cell_type": "markdown",
   "metadata": {},
   "source": [
    "# Prediction"
   ]
  },
  {
   "cell_type": "code",
   "execution_count": 55,
   "metadata": {},
   "outputs": [],
   "source": [
    "model_path = \"./models/Fitbit/wesad_Fitbit_binary_s3_100.h5\"\n",
    "model = tf.keras.models.load_model(model_path)\n",
    "predictions = model.predict(X_test) # make predictions on the test set using the trained model\n",
    "pred_class = np.argmax(predictions, axis=-1) # get the class with the highest probability"
   ]
  },
  {
   "cell_type": "code",
   "execution_count": 56,
   "metadata": {},
   "outputs": [
    {
     "name": "stdout",
     "output_type": "stream",
     "text": [
      "Prediction:  [0.39155424 0.6268184 ]\n",
      "Prediction:  1\n",
      "Ground Truth:  0\n",
      "\n",
      "Prediction:  [0.3796326  0.61021686]\n",
      "Prediction:  1\n",
      "Ground Truth:  0\n",
      "\n",
      "Prediction:  [0.6312174 0.3352824]\n",
      "Prediction:  0\n",
      "Ground Truth:  0\n",
      "\n",
      "Prediction:  [0.7924833  0.24528879]\n",
      "Prediction:  0\n",
      "Ground Truth:  0\n",
      "\n",
      "Prediction:  [0.4392612 0.5476617]\n",
      "Prediction:  1\n",
      "Ground Truth:  0\n",
      "\n",
      "Prediction:  [9.9997437e-01 7.4189906e-05]\n",
      "Prediction:  0\n",
      "Ground Truth:  0\n",
      "\n",
      "Prediction:  [0.99805576 0.00189915]\n",
      "Prediction:  0\n",
      "Ground Truth:  0\n",
      "\n",
      "Prediction:  [0.97802615 0.01607677]\n",
      "Prediction:  0\n",
      "Ground Truth:  0\n",
      "\n",
      "Prediction:  [0.74056965 0.17411408]\n",
      "Prediction:  0\n",
      "Ground Truth:  0\n",
      "\n",
      "Prediction:  [0.69090605 0.31151506]\n",
      "Prediction:  0\n",
      "Ground Truth:  0\n",
      "\n",
      "Prediction:  [0.806082  0.2004379]\n",
      "Prediction:  0\n",
      "Ground Truth:  0\n",
      "\n",
      "Prediction:  [0.9855296  0.01166433]\n",
      "Prediction:  0\n",
      "Ground Truth:  0\n",
      "\n",
      "Prediction:  [0.8224094  0.13898557]\n",
      "Prediction:  0\n",
      "Ground Truth:  0\n",
      "\n",
      "Prediction:  [0.5435084  0.42945445]\n",
      "Prediction:  0\n",
      "Ground Truth:  0\n",
      "\n",
      "Prediction:  [0.9638165  0.02924216]\n",
      "Prediction:  0\n",
      "Ground Truth:  0\n",
      "\n",
      "Prediction:  [9.9999982e-01 4.0207244e-08]\n",
      "Prediction:  0\n",
      "Ground Truth:  0\n",
      "\n",
      "Prediction:  [9.9999982e-01 1.1164979e-06]\n",
      "Prediction:  0\n",
      "Ground Truth:  0\n",
      "\n",
      "Prediction:  [0.7589974  0.22984344]\n",
      "Prediction:  0\n",
      "Ground Truth:  0\n",
      "\n",
      "Prediction:  [0.6617389  0.27274662]\n",
      "Prediction:  0\n",
      "Ground Truth:  0\n",
      "\n",
      "Prediction:  [0.7876046  0.19675931]\n",
      "Prediction:  0\n",
      "Ground Truth:  0\n",
      "\n",
      "Prediction:  [0.9964956  0.00346538]\n",
      "Prediction:  0\n",
      "Ground Truth:  0\n",
      "\n",
      "Prediction:  [9.9999964e-01 3.3273334e-06]\n",
      "Prediction:  0\n",
      "Ground Truth:  0\n",
      "\n",
      "Prediction:  [9.9999982e-01 1.5985424e-06]\n",
      "Prediction:  0\n",
      "Ground Truth:  0\n",
      "\n",
      "Prediction:  [9.9994028e-01 1.9684434e-04]\n",
      "Prediction:  0\n",
      "Ground Truth:  0\n",
      "\n",
      "Prediction:  [9.9990320e-01 2.2685528e-04]\n",
      "Prediction:  0\n",
      "Ground Truth:  0\n",
      "\n",
      "Prediction:  [0.92880595 0.04641512]\n",
      "Prediction:  0\n",
      "Ground Truth:  0\n",
      "\n",
      "Prediction:  [7.9286098e-04 9.9935776e-01]\n",
      "Prediction:  1\n",
      "Ground Truth:  1\n",
      "\n",
      "Prediction:  [7.735789e-04 9.986217e-01]\n",
      "Prediction:  1\n",
      "Ground Truth:  1\n",
      "\n",
      "Prediction:  [0.01787564 0.9642943 ]\n",
      "Prediction:  1\n",
      "Ground Truth:  1\n",
      "\n",
      "Prediction:  [7.6010823e-04 9.9760425e-01]\n",
      "Prediction:  1\n",
      "Ground Truth:  1\n",
      "\n",
      "Prediction:  [0.01182595 0.98866606]\n",
      "Prediction:  1\n",
      "Ground Truth:  1\n",
      "\n",
      "Prediction:  [0.00101352 0.99772465]\n",
      "Prediction:  1\n",
      "Ground Truth:  1\n",
      "\n",
      "Prediction:  [0.22024187 0.76124585]\n",
      "Prediction:  1\n",
      "Ground Truth:  1\n",
      "\n",
      "Prediction:  [0.00305808 0.99169695]\n",
      "Prediction:  1\n",
      "Ground Truth:  1\n",
      "\n",
      "Prediction:  [0.01373744 0.9778476 ]\n",
      "Prediction:  1\n",
      "Ground Truth:  1\n",
      "\n",
      "Prediction:  [0.51422644 0.42664117]\n",
      "Prediction:  0\n",
      "Ground Truth:  1\n",
      "\n",
      "Prediction:  [0.4968022 0.4568361]\n",
      "Prediction:  0\n",
      "Ground Truth:  1\n",
      "\n",
      "Accuracy:  0.8648648648648649\n"
     ]
    }
   ],
   "source": [
    "true_classified = 0\n",
    "for i in range(len(pred_class)):\n",
    "    print(\"Prediction: \", predictions[i])\n",
    "    print(\"Prediction: \", pred_class[i])\n",
    "    ground_truth = max(enumerate(y_test[i]),key=lambda x: x[1])[0]\n",
    "    print(\"Ground Truth: \", ground_truth)\n",
    "    print()\n",
    "    if ground_truth == pred_class[i]:\n",
    "        true_classified += 1\n",
    "print(\"Accuracy: \", true_classified/len(pred_class))\n",
    "    "
   ]
  }
 ],
 "metadata": {
  "kernelspec": {
   "display_name": "Python 3.9.13 ('pageblank')",
   "language": "python",
   "name": "python3"
  },
  "language_info": {
   "codemirror_mode": {
    "name": "ipython",
    "version": 3
   },
   "file_extension": ".py",
   "mimetype": "text/x-python",
   "name": "python",
   "nbconvert_exporter": "python",
   "pygments_lexer": "ipython3",
   "version": "3.9.13"
  },
  "vscode": {
   "interpreter": {
    "hash": "05320e546f369dcc8e105d9a3b35062d70587d63bda88e4cea376da0cda0edd6"
   }
  }
 },
 "nbformat": 4,
 "nbformat_minor": 4
}
