{
 "cells": [
  {
   "cell_type": "code",
   "execution_count": 1,
   "metadata": {},
   "outputs": [],
   "source": [
    "import os\n",
    "import pickle\n",
    "import scipy.signal\n",
    "from scipy import fft\n",
    "import pandas as pd\n",
    "import matplotlib.pyplot as plt\n",
    "import numpy as np"
   ]
  },
  {
   "cell_type": "code",
   "execution_count": 2,
   "metadata": {},
   "outputs": [],
   "source": [
    "DATA_PATH = os.path.realpath(\"../data/WESAD\")"
   ]
  },
  {
   "cell_type": "code",
   "execution_count": 102,
   "metadata": {},
   "outputs": [],
   "source": [
    "class Subject:\n",
    "\n",
    "    def __init__(self, main_path, subject_number):\n",
    "        self.name = f'S{subject_number}'\n",
    "        self.subject_keys = ['signal', 'label', 'subject']\n",
    "        self.signal_keys = ['chest', 'wrist']\n",
    "        self.chest_keys = ['ACC', 'ECG', 'EMG', 'EDA', 'Temp', 'Resp']\n",
    "        self.wrist_keys = ['ACC', 'BVP', 'EDA', 'TEMP']\n",
    "        with open(os.path.join(main_path, self.name) + '/' + self.name + '.pkl', 'rb') as file:\n",
    "            self.data = pickle.load(file, encoding='latin1')\n",
    "        self.labels = self.data['label']\n",
    "\n",
    "    def get_wrist_data(self):\n",
    "        data = self.data['signal']['wrist']\n",
    "        return data\n",
    "\n",
    "    def get_chest_data(self):\n",
    "        return self.data['signal']['chest']\n",
    "    \n",
    "    def get_subject_dataframe(self):\n",
    "        wrist_data = self.get_wrist_data()\n",
    "        bvp_signal = wrist_data['BVP'][:,0]\n",
    "        eda_signal = wrist_data['EDA'][:,0]\n",
    "        acc_x_signal = wrist_data['ACC'][:,0]\n",
    "        acc_y_signal = wrist_data['ACC'][:,1]\n",
    "        acc_z_signal = wrist_data['ACC'][:,2]\n",
    "        temp_signal = wrist_data['TEMP'][:,0]\n",
    "        # Upsampling data to match BVP data sampling rate using fourier method as described in Paper/dataset\n",
    "        eda_upsampled = scipy.signal.resample(eda_signal, len(bvp_signal))\n",
    "        temp_upsampled = scipy.signal.resample(temp_signal, len(bvp_signal))\n",
    "        acc_x_upsampled = scipy.signal.resample(acc_x_signal, len(bvp_signal))\n",
    "        acc_y_upsampled = scipy.signal.resample(acc_y_signal, len(bvp_signal))\n",
    "        acc_z_upsampled = scipy.signal.resample(acc_z_signal, len(bvp_signal))\n",
    "        label_df = pd.DataFrame(self.labels, columns=['label'])\n",
    "        label_df.index = [(1 / 700) * i for i in range(len(label_df))] # 700 is the sampling rate of the label\n",
    "        label_df.index = pd.to_datetime(label_df.index, unit='s')\n",
    "        data_arrays = zip(bvp_signal, eda_upsampled, acc_x_upsampled, acc_y_upsampled, acc_z_upsampled, temp_upsampled)\n",
    "        df = pd.DataFrame(data=data_arrays, columns=['BVP', 'EDA', 'ACC_x', 'ACC_y', 'ACC_z', 'TEMP'])\n",
    "        df.index = [(1 / 64) * i for i in range(len(df))] # 64 = sampling rate of BVP\n",
    "        df.index = pd.to_datetime(df.index, unit='s')\n",
    "       # df = (df-df.min())/(df.max()-df.min()) # Normalize data (no train test leakage since data frame per subject)\n",
    "        df = df.join(label_df)\n",
    "        df['label'] = df['label'].fillna(method='ffill')\n",
    "        df.reset_index(drop=True, inplace=True)\n",
    "        df.drop(df[df['label'].isin([0.0, 4.0, 5.0, 6.0, 7.0])].index, inplace=True)\n",
    "        df['label'] = df['label'].replace([1.0, 2.0, 3.0], [0, 1, 0])\n",
    "        df.reset_index(drop=True, inplace=True)\n",
    "        return df\n"
   ]
  },
  {
   "cell_type": "code",
   "execution_count": 103,
   "metadata": {},
   "outputs": [],
   "source": [
    "s_10_df = Subject(DATA_PATH, 10).get_subject_dataframe()"
   ]
  },
  {
   "cell_type": "code",
   "execution_count": 104,
   "metadata": {},
   "outputs": [
    {
     "data": {
      "text/html": [
       "<div>\n",
       "<style scoped>\n",
       "    .dataframe tbody tr th:only-of-type {\n",
       "        vertical-align: middle;\n",
       "    }\n",
       "\n",
       "    .dataframe tbody tr th {\n",
       "        vertical-align: top;\n",
       "    }\n",
       "\n",
       "    .dataframe thead th {\n",
       "        text-align: right;\n",
       "    }\n",
       "</style>\n",
       "<table border=\"1\" class=\"dataframe\">\n",
       "  <thead>\n",
       "    <tr style=\"text-align: right;\">\n",
       "      <th></th>\n",
       "      <th>BVP</th>\n",
       "      <th>EDA</th>\n",
       "      <th>ACC_x</th>\n",
       "      <th>ACC_y</th>\n",
       "      <th>ACC_z</th>\n",
       "      <th>TEMP</th>\n",
       "      <th>label</th>\n",
       "    </tr>\n",
       "  </thead>\n",
       "  <tbody>\n",
       "    <tr>\n",
       "      <th>count</th>\n",
       "      <td>145728.000000</td>\n",
       "      <td>145728.000000</td>\n",
       "      <td>145728.000000</td>\n",
       "      <td>145728.000000</td>\n",
       "      <td>145728.000000</td>\n",
       "      <td>145728.000000</td>\n",
       "      <td>145728.000000</td>\n",
       "    </tr>\n",
       "    <tr>\n",
       "      <th>mean</th>\n",
       "      <td>0.017492</td>\n",
       "      <td>1.071108</td>\n",
       "      <td>43.384344</td>\n",
       "      <td>1.108408</td>\n",
       "      <td>9.436471</td>\n",
       "      <td>33.688991</td>\n",
       "      <td>0.318401</td>\n",
       "    </tr>\n",
       "    <tr>\n",
       "      <th>std</th>\n",
       "      <td>46.410252</td>\n",
       "      <td>1.008972</td>\n",
       "      <td>17.520316</td>\n",
       "      <td>25.840410</td>\n",
       "      <td>32.475573</td>\n",
       "      <td>0.371620</td>\n",
       "      <td>0.465858</td>\n",
       "    </tr>\n",
       "    <tr>\n",
       "      <th>min</th>\n",
       "      <td>-440.190000</td>\n",
       "      <td>0.331912</td>\n",
       "      <td>-35.949821</td>\n",
       "      <td>-68.000000</td>\n",
       "      <td>-76.253821</td>\n",
       "      <td>32.902600</td>\n",
       "      <td>0.000000</td>\n",
       "    </tr>\n",
       "    <tr>\n",
       "      <th>25%</th>\n",
       "      <td>-13.270000</td>\n",
       "      <td>0.399136</td>\n",
       "      <td>34.461792</td>\n",
       "      <td>-21.901780</td>\n",
       "      <td>-21.000000</td>\n",
       "      <td>33.369566</td>\n",
       "      <td>0.000000</td>\n",
       "    </tr>\n",
       "    <tr>\n",
       "      <th>50%</th>\n",
       "      <td>2.430000</td>\n",
       "      <td>0.424644</td>\n",
       "      <td>51.000000</td>\n",
       "      <td>2.302454</td>\n",
       "      <td>0.963015</td>\n",
       "      <td>33.710000</td>\n",
       "      <td>0.000000</td>\n",
       "    </tr>\n",
       "    <tr>\n",
       "      <th>75%</th>\n",
       "      <td>13.360000</td>\n",
       "      <td>2.040967</td>\n",
       "      <td>57.000000</td>\n",
       "      <td>8.069503</td>\n",
       "      <td>46.670699</td>\n",
       "      <td>34.030000</td>\n",
       "      <td>1.000000</td>\n",
       "    </tr>\n",
       "    <tr>\n",
       "      <th>max</th>\n",
       "      <td>705.550000</td>\n",
       "      <td>3.511492</td>\n",
       "      <td>148.865822</td>\n",
       "      <td>80.000000</td>\n",
       "      <td>91.000000</td>\n",
       "      <td>34.316330</td>\n",
       "      <td>1.000000</td>\n",
       "    </tr>\n",
       "  </tbody>\n",
       "</table>\n",
       "</div>"
      ],
      "text/plain": [
       "                 BVP            EDA          ACC_x          ACC_y  \\\n",
       "count  145728.000000  145728.000000  145728.000000  145728.000000   \n",
       "mean        0.017492       1.071108      43.384344       1.108408   \n",
       "std        46.410252       1.008972      17.520316      25.840410   \n",
       "min      -440.190000       0.331912     -35.949821     -68.000000   \n",
       "25%       -13.270000       0.399136      34.461792     -21.901780   \n",
       "50%         2.430000       0.424644      51.000000       2.302454   \n",
       "75%        13.360000       2.040967      57.000000       8.069503   \n",
       "max       705.550000       3.511492     148.865822      80.000000   \n",
       "\n",
       "               ACC_z           TEMP          label  \n",
       "count  145728.000000  145728.000000  145728.000000  \n",
       "mean        9.436471      33.688991       0.318401  \n",
       "std        32.475573       0.371620       0.465858  \n",
       "min       -76.253821      32.902600       0.000000  \n",
       "25%       -21.000000      33.369566       0.000000  \n",
       "50%         0.963015      33.710000       0.000000  \n",
       "75%        46.670699      34.030000       1.000000  \n",
       "max        91.000000      34.316330       1.000000  "
      ]
     },
     "execution_count": 104,
     "metadata": {},
     "output_type": "execute_result"
    }
   ],
   "source": [
    "s_10_df.describe()"
   ]
  },
  {
   "cell_type": "code",
   "execution_count": 31,
   "metadata": {},
   "outputs": [],
   "source": [
    "subjects = [2, 3, 4, 5, 6, 7, 8, 9, 10, 11, 13, 14, 15, 16, 17]\n",
    "subjects_data = {}\n",
    "for subject_num in subjects:\n",
    "    subject = Subject(DATA_PATH, subject_num)\n",
    "    subjects_data[subject.name] = subject.get_subject_dataframe()\n"
   ]
  },
  {
   "cell_type": "code",
   "execution_count": 101,
   "metadata": {},
   "outputs": [
    {
     "data": {
      "text/html": [
       "<div>\n",
       "<style scoped>\n",
       "    .dataframe tbody tr th:only-of-type {\n",
       "        vertical-align: middle;\n",
       "    }\n",
       "\n",
       "    .dataframe tbody tr th {\n",
       "        vertical-align: top;\n",
       "    }\n",
       "\n",
       "    .dataframe thead th {\n",
       "        text-align: right;\n",
       "    }\n",
       "</style>\n",
       "<table border=\"1\" class=\"dataframe\">\n",
       "  <thead>\n",
       "    <tr style=\"text-align: right;\">\n",
       "      <th></th>\n",
       "      <th>BVP</th>\n",
       "      <th>EDA</th>\n",
       "      <th>ACC_x</th>\n",
       "      <th>ACC_y</th>\n",
       "      <th>ACC_z</th>\n",
       "      <th>TEMP</th>\n",
       "      <th>label</th>\n",
       "    </tr>\n",
       "  </thead>\n",
       "  <tbody>\n",
       "    <tr>\n",
       "      <th>0</th>\n",
       "      <td>0.380454</td>\n",
       "      <td>0.037829</td>\n",
       "      <td>0.431863</td>\n",
       "      <td>0.620424</td>\n",
       "      <td>0.545657</td>\n",
       "      <td>0.651013</td>\n",
       "      <td>0.0</td>\n",
       "    </tr>\n",
       "    <tr>\n",
       "      <th>1</th>\n",
       "      <td>0.386091</td>\n",
       "      <td>0.036998</td>\n",
       "      <td>0.434247</td>\n",
       "      <td>0.622652</td>\n",
       "      <td>0.544809</td>\n",
       "      <td>0.650849</td>\n",
       "      <td>0.0</td>\n",
       "    </tr>\n",
       "    <tr>\n",
       "      <th>2</th>\n",
       "      <td>0.395530</td>\n",
       "      <td>0.036225</td>\n",
       "      <td>0.431863</td>\n",
       "      <td>0.625168</td>\n",
       "      <td>0.542255</td>\n",
       "      <td>0.650657</td>\n",
       "      <td>0.0</td>\n",
       "    </tr>\n",
       "    <tr>\n",
       "      <th>3</th>\n",
       "      <td>0.409109</td>\n",
       "      <td>0.035537</td>\n",
       "      <td>0.428765</td>\n",
       "      <td>0.628173</td>\n",
       "      <td>0.540661</td>\n",
       "      <td>0.650438</td>\n",
       "      <td>0.0</td>\n",
       "    </tr>\n",
       "    <tr>\n",
       "      <th>4</th>\n",
       "      <td>0.426086</td>\n",
       "      <td>0.034959</td>\n",
       "      <td>0.431863</td>\n",
       "      <td>0.629913</td>\n",
       "      <td>0.538854</td>\n",
       "      <td>0.650191</td>\n",
       "      <td>0.0</td>\n",
       "    </tr>\n",
       "    <tr>\n",
       "      <th>...</th>\n",
       "      <td>...</td>\n",
       "      <td>...</td>\n",
       "      <td>...</td>\n",
       "      <td>...</td>\n",
       "      <td>...</td>\n",
       "      <td>...</td>\n",
       "      <td>...</td>\n",
       "    </tr>\n",
       "    <tr>\n",
       "      <th>145723</th>\n",
       "      <td>0.436886</td>\n",
       "      <td>0.416690</td>\n",
       "      <td>0.540589</td>\n",
       "      <td>0.501608</td>\n",
       "      <td>0.242877</td>\n",
       "      <td>0.574979</td>\n",
       "      <td>1.0</td>\n",
       "    </tr>\n",
       "    <tr>\n",
       "      <th>145724</th>\n",
       "      <td>0.435813</td>\n",
       "      <td>0.416645</td>\n",
       "      <td>0.542032</td>\n",
       "      <td>0.501806</td>\n",
       "      <td>0.242948</td>\n",
       "      <td>0.574981</td>\n",
       "      <td>1.0</td>\n",
       "    </tr>\n",
       "    <tr>\n",
       "      <th>145725</th>\n",
       "      <td>0.434373</td>\n",
       "      <td>0.416605</td>\n",
       "      <td>0.543469</td>\n",
       "      <td>0.502008</td>\n",
       "      <td>0.243001</td>\n",
       "      <td>0.574983</td>\n",
       "      <td>1.0</td>\n",
       "    </tr>\n",
       "    <tr>\n",
       "      <th>145726</th>\n",
       "      <td>0.432538</td>\n",
       "      <td>0.416571</td>\n",
       "      <td>0.542032</td>\n",
       "      <td>0.501806</td>\n",
       "      <td>0.242948</td>\n",
       "      <td>0.574984</td>\n",
       "      <td>1.0</td>\n",
       "    </tr>\n",
       "    <tr>\n",
       "      <th>145727</th>\n",
       "      <td>0.430392</td>\n",
       "      <td>0.416542</td>\n",
       "      <td>0.540411</td>\n",
       "      <td>0.501600</td>\n",
       "      <td>0.242960</td>\n",
       "      <td>0.574986</td>\n",
       "      <td>1.0</td>\n",
       "    </tr>\n",
       "  </tbody>\n",
       "</table>\n",
       "<p>145728 rows × 7 columns</p>\n",
       "</div>"
      ],
      "text/plain": [
       "             BVP       EDA     ACC_x     ACC_y     ACC_z      TEMP  label\n",
       "0       0.380454  0.037829  0.431863  0.620424  0.545657  0.651013    0.0\n",
       "1       0.386091  0.036998  0.434247  0.622652  0.544809  0.650849    0.0\n",
       "2       0.395530  0.036225  0.431863  0.625168  0.542255  0.650657    0.0\n",
       "3       0.409109  0.035537  0.428765  0.628173  0.540661  0.650438    0.0\n",
       "4       0.426086  0.034959  0.431863  0.629913  0.538854  0.650191    0.0\n",
       "...          ...       ...       ...       ...       ...       ...    ...\n",
       "145723  0.436886  0.416690  0.540589  0.501608  0.242877  0.574979    1.0\n",
       "145724  0.435813  0.416645  0.542032  0.501806  0.242948  0.574981    1.0\n",
       "145725  0.434373  0.416605  0.543469  0.502008  0.243001  0.574983    1.0\n",
       "145726  0.432538  0.416571  0.542032  0.501806  0.242948  0.574984    1.0\n",
       "145727  0.430392  0.416542  0.540411  0.501600  0.242960  0.574986    1.0\n",
       "\n",
       "[145728 rows x 7 columns]"
      ]
     },
     "execution_count": 101,
     "metadata": {},
     "output_type": "execute_result"
    }
   ],
   "source": [
    "subjects_data['S10']"
   ]
  },
  {
   "cell_type": "markdown",
   "metadata": {},
   "source": [
    "##### Anwendung von Fourier Transformation (scipy.fft) am Beispiel: https://realpython.com/python-scipy-fft/\n",
    "Wichtige Parameter:\n",
    "1. **SAMPLE_RATE** (in Hertz) determines how many data points the signal uses to represent the sine wave per second. So if the signal had a sample rate of 10 Hz and was a five-second sine wave, then it would have 10 * 5 = 50 data points.\n",
    "2. **DURATION** (in Seconds) is the length of the generated sample. -> Frage hierzu: können wir überhaupt duration in seconds nehmen, wenn wir gar nicht mit den Zeitstempeln arbeiten, oder ist das irrelvant?\n",
    "\n",
    "Für *fftfreq* wird N (= SAMPLE_RATE * DURATION) und 1/SAMPLE_RATE"
   ]
  },
  {
   "cell_type": "markdown",
   "metadata": {},
   "source": [
    "### Window"
   ]
  },
  {
   "cell_type": "code",
   "execution_count": 33,
   "metadata": {},
   "outputs": [],
   "source": [
    "signal_subwindow_dict = {\n",
    "    'ACC_x': 7,\n",
    "    'ACC_y': 7,\n",
    "    'ACC_z': 7,\n",
    "    'BVP': 30,\n",
    "    'EDA': 30,\n",
    "    'TEMP': 35\n",
    "    }"
   ]
  },
  {
   "cell_type": "code",
   "execution_count": 34,
   "metadata": {},
   "outputs": [],
   "source": [
    "# most frequent element in list\n",
    "def most_common(lst):\n",
    "    return max(set(lst), key=lst.count)"
   ]
  },
  {
   "cell_type": "code",
   "execution_count": 35,
   "metadata": {},
   "outputs": [],
   "source": [
    "def create_windows(df: pd.DataFrame) -> tuple[pd.DataFrame,list]:\n",
    "\n",
    "    window_len = 64 * 60 # fs = 64 and window length in seconds = 60\n",
    "    windows, labels = zip(*[(df[i:i+window_len], int(most_common(df['label'][i:i+window_len].to_list()))) for i in range(0,df.shape[0],window_len)])\n",
    "    return windows, labels"
   ]
  },
  {
   "cell_type": "code",
   "execution_count": 36,
   "metadata": {},
   "outputs": [],
   "source": [
    "def create_subwindows(df: pd.DataFrame, signal_subwindow_len: int, signal_name: str) -> list:\n",
    "    subwindow_len = 64 * signal_subwindow_len # fs = 64 and sub-window length in seconds = 30\n",
    "    window_len = 64 * 60 # fs = 64 and window length in seconds = 60\n",
    "    window_shift = int(64 * 0.25) # fs = 64 and window shift in seconds = 0.25\n",
    "    subwindows = []\n",
    "\n",
    "    for i in range(0, window_len, window_shift):\n",
    "        if i + subwindow_len <= window_len:\n",
    "            subwindow = df[signal_name][i:i+subwindow_len]\n",
    "            subwindows.append(subwindow)\n",
    "    return subwindows\n",
    "            "
   ]
  },
  {
   "cell_type": "code",
   "execution_count": 37,
   "metadata": {},
   "outputs": [],
   "source": [
    "def fft_subwindows(subwindows: list, duration: int, f_s: int) -> list:\n",
    "    freqs= []\n",
    "    yfs = []\n",
    "    for subwindow in subwindows:\n",
    "        y = np.array(subwindow)\n",
    "        yf = scipy.fft.fft(y)\n",
    "        N = f_s * duration\n",
    "        freq = scipy.fft.fftfreq(N, 1/f_s)\n",
    "        freqs.append(freq)\n",
    "        yfs.append(yf)\n",
    "    return freqs, yfs\n",
    "    "
   ]
  },
  {
   "cell_type": "code",
   "execution_count": 38,
   "metadata": {},
   "outputs": [],
   "source": [
    "def fft_subwindows_new(subwindows: list, duration: int, f_s: int) -> list:\n",
    "    freqs= []\n",
    "    yfs = []\n",
    "    for subwindow in subwindows:\n",
    "        y = np.array(subwindow)\n",
    "        yf = scipy.fft.fft(y)\n",
    "        l = len(yf)\n",
    "        freq = scipy.fft.fftfreq(l)\n",
    "\n",
    "        l //= 2\n",
    "        amps = np.abs(yf[0:l])\n",
    "        freq = np.abs(freq[0:l])\n",
    "\n",
    "        # Sort descending w.r.t amp   \n",
    "        p = amps.argsort()[::-1]\n",
    "        freq = freq[p]\n",
    "        amps = amps[p]\n",
    "\n",
    "        # amps_std = np.std(amps)\n",
    "        # freq_std = np.std(freq)\n",
    "\n",
    "        freqs.append(freq)\n",
    "        yfs.append(amps)\n",
    "        # freqs = np.append(np.array(freqs), freq)\n",
    "        # yfs = np.append(np.array(yfs), amps)\n",
    "    return np.asarray(freqs), np.asarray(yfs)\n",
    "    "
   ]
  },
  {
   "cell_type": "code",
   "execution_count": 39,
   "metadata": {},
   "outputs": [],
   "source": [
    "def average_window(subwindows_fft: list) -> list:\n",
    "    # len_list_yfs = [len(subwindows_fft[i]) for i in range(len(subwindows_fft))]\n",
    "    len_yfs = len(subwindows_fft[0])\n",
    "    avg_yfs = []\n",
    "    for i in range(len_yfs):\n",
    "        i_yfs = []\n",
    "        for yf in subwindows_fft:\n",
    "            try:\n",
    "                i_yfs.append(yf[i])\n",
    "            except IndexError:\n",
    "                pass\n",
    "        avg_yfs.append(sum(i_yfs)/len(i_yfs))\n",
    "    return avg_yfs"
   ]
  },
  {
   "cell_type": "code",
   "execution_count": 12,
   "metadata": {},
   "outputs": [
    {
     "ename": "NameError",
     "evalue": "name 'df' is not defined",
     "output_type": "error",
     "traceback": [
      "\u001b[0;31m---------------------------------------------------------------------------\u001b[0m",
      "\u001b[0;31mNameError\u001b[0m                                 Traceback (most recent call last)",
      "\u001b[1;32m/Users/nils/master/Stress-Detection-From-Wearables/code/data_preprocessing.ipynb Zelle 15\u001b[0m in \u001b[0;36m<cell line: 1>\u001b[0;34m()\u001b[0m\n\u001b[0;32m----> <a href='vscode-notebook-cell:/Users/nils/master/Stress-Detection-From-Wearables/code/data_preprocessing.ipynb#ch0000025?line=0'>1</a>\u001b[0m windows, labels \u001b[39m=\u001b[39m create_windows(df)\n\u001b[1;32m      <a href='vscode-notebook-cell:/Users/nils/master/Stress-Detection-From-Wearables/code/data_preprocessing.ipynb#ch0000025?line=1'>2</a>\u001b[0m yfs_per_min_for_signal \u001b[39m=\u001b[39m {}\n\u001b[1;32m      <a href='vscode-notebook-cell:/Users/nils/master/Stress-Detection-From-Wearables/code/data_preprocessing.ipynb#ch0000025?line=2'>3</a>\u001b[0m X \u001b[39m=\u001b[39m []\n",
      "\u001b[0;31mNameError\u001b[0m: name 'df' is not defined"
     ]
    }
   ],
   "source": [
    "windows, labels = create_windows(df)\n",
    "yfs_per_min_for_signal = {}\n",
    "X = []\n",
    "for i in range(0,len(windows) - 1):\n",
    "    for signal in signal_subwindow_dict.keys():\n",
    "\n",
    "        duration_in_sec = signal_subwindow_dict[signal]\n",
    "\n",
    "        subwindows = create_subwindows(windows[i], signal_subwindow_len=duration_in_sec, signal_name=signal)\n",
    "        freqs, yfs = fft_subwindows_new(subwindows, duration_in_sec, 64)\n",
    "        yfs_average = average_window(yfs)[:210]\n",
    "        yfs_per_min_for_signal[signal] = yfs_average\n",
    "        \n",
    "    X.append(pd.DataFrame(yfs_per_min_for_signal).T)\n",
    "y = list(labels[:len(windows)-1])"
   ]
  },
  {
   "cell_type": "code",
   "execution_count": 40,
   "metadata": {},
   "outputs": [],
   "source": [
    "#{S10: X:[], y:[])}\n",
    "subjects_preprosessed_data = {}\n",
    "for subject_name, subject_df in subjects_data.items():\n",
    "    subjects_preprosessed_data[subject_name] = {}\n",
    "    windows, labels = create_windows(subject_df)\n",
    "    yfs_per_min_for_signal = {}\n",
    "    X = []\n",
    "    for i in range(0,len(windows) - 1):\n",
    "        for signal in signal_subwindow_dict.keys():\n",
    "\n",
    "            duration_in_sec = signal_subwindow_dict[signal]\n",
    "\n",
    "            subwindows = create_subwindows(windows[i], signal_subwindow_len=duration_in_sec, signal_name=signal)\n",
    "            freqs, yfs = fft_subwindows(subwindows, duration_in_sec, 64)\n",
    "            yfs_average = average_window(yfs)[:210]\n",
    "            yfs_per_min_for_signal[signal] = yfs_average\n",
    "            \n",
    "        X.append(pd.DataFrame(yfs_per_min_for_signal).T)\n",
    "    y = list(labels[:len(windows)-1])\n",
    "    subjects_preprosessed_data[subject_name]['X'] = X\n",
    "    subjects_preprosessed_data[subject_name]['y'] = y\n"
   ]
  },
  {
   "cell_type": "code",
   "execution_count": 41,
   "metadata": {},
   "outputs": [],
   "source": [
    "all_subjects_X = []\n",
    "all_subjects_y = []\n",
    "for subject_name, subject_data in subjects_preprosessed_data.items():\n",
    "    all_subjects_X.append(subject_data['X'])\n",
    "    all_subjects_y.append(subject_data['y'])\n"
   ]
  },
  {
   "cell_type": "markdown",
   "metadata": {},
   "source": [
    "# Model"
   ]
  },
  {
   "cell_type": "code",
   "execution_count": 15,
   "metadata": {},
   "outputs": [],
   "source": [
    "import tensorflow as tf\n",
    "from sklearn.model_selection import train_test_split\n",
    "from sklearn.model_selection import KFold\n",
    "from sklearn.model_selection import LeaveOneGroupOut\n",
    "from sklearn.preprocessing import MinMaxScaler"
   ]
  },
  {
   "cell_type": "code",
   "execution_count": 52,
   "metadata": {},
   "outputs": [],
   "source": [
    "def build_model(num_signals: int, num_output_class: int) -> tf.keras.models.Sequential:\n",
    "    # Define the model architecture\n",
    "    model = tf.keras.Sequential()\n",
    "    #input_shape = 14 Signale (bei uns max. 6) X 210 Inputs (aus Tabelle nach Fourier)\n",
    "    model.add(tf.keras.layers.InputLayer(input_shape=[num_signals, 210, 1]))\n",
    "    model.add(tf.keras.layers.Conv2D(filters=64, activation='relu', kernel_size=(1,3), strides=1, padding='same')) \n",
    "    #hier fehlen: Output shape, was bringt mir param#, kernel_size != Kernels, Size?\n",
    "    model.add(tf.keras.layers.Dropout(rate=0.3)) # portion gibts nicht? und es ist 'rate' gefordert???\n",
    "    model.add(tf.keras.layers.Conv2D(filters=64, activation='relu', kernel_size=(1,3), strides=1, padding='same'))\n",
    "    model.add(tf.keras.layers.MaxPooling2D(pool_size=(1,2)))\n",
    "    model.add(tf.keras.layers.Dropout(rate=0.3))\n",
    "    model.add(tf.keras.layers.Conv2D(filters=64, activation='relu', kernel_size=(1,3), strides=1, padding='same'))\n",
    "    model.add(tf.keras.layers.Dropout(rate=0.3))\n",
    "    model.add(tf.keras.layers.MaxPooling2D(pool_size=(1,2)))\n",
    "    model.add(tf.keras.layers.Dropout(rate=0.3))\n",
    "    model.add(tf.keras.layers.Flatten())\n",
    "    model.add(tf.keras.layers.Dense(units=128, activation='relu'))#, kernel_initializer='glorot_uniform'))\n",
    "    model.add(tf.keras.layers.Dropout(rate=0.3))\n",
    "    model.add(tf.keras.layers.Dense(units=64, activation='relu'))#, kernel_initializer='glorot_uniform'))\n",
    "    model.add(tf.keras.layers.Dropout(rate=0.3))\n",
    "    #Anzahl der Units = Anzahl der Klassen (2 - non-stress vs stress)\n",
    "    model.add(tf.keras.layers.Dense(units=num_output_class, activation='sigmoid'))#, kernel_initializer='glorot_uniform'))\n",
    "\n",
    "    model.compile(optimizer=\"rmsprop\",loss='binary_crossentropy', metrics=['accuracy'])\n",
    "    return model"
   ]
  },
  {
   "cell_type": "code",
   "execution_count": 19,
   "metadata": {},
   "outputs": [],
   "source": [
    "def normalize(data):\n",
    "    scaler = MinMaxScaler(feature_range=(0, 1))\n",
    "    return scaler.fit_transform(data)"
   ]
  },
  {
   "cell_type": "code",
   "execution_count": 146,
   "metadata": {},
   "outputs": [
    {
     "name": "stdout",
     "output_type": "stream",
     "text": [
      "[1, 2, 3, 4, 5, 6, 7, 8, 9, 10, 11, 12, 13, 14] 0\n",
      "Epoch 1/10\n"
     ]
    },
    {
     "name": "stderr",
     "output_type": "stream",
     "text": [
      "/var/folders/3k/sjklqbj91hg9fgb_kbwpy1p40000gn/T/ipykernel_1476/2526669827.py:16: VisibleDeprecationWarning: Creating an ndarray from ragged nested sequences (which is a list-or-tuple of lists-or-tuples-or ndarrays with different lengths or shapes) is deprecated. If you meant to do this, you must specify 'dtype=object' when creating the ndarray.\n",
      "  X_train = np.concatenate(np.array([all_subjects_X[x] for x in train_index]))\n",
      "/var/folders/3k/sjklqbj91hg9fgb_kbwpy1p40000gn/T/ipykernel_1476/2526669827.py:17: VisibleDeprecationWarning: Creating an ndarray from ragged nested sequences (which is a list-or-tuple of lists-or-tuples-or ndarrays with different lengths or shapes) is deprecated. If you meant to do this, you must specify 'dtype=object' when creating the ndarray.\n",
      "  y_train = np.concatenate(np.array([all_subjects_y[y] for y in train_index]))\n"
     ]
    },
    {
     "name": "stdout",
     "output_type": "stream",
     "text": [
      "11/11 [==============================] - ETA: 0s - loss: 4.0846 - accuracy: 0.6667WARNING:tensorflow:Can save best model only with val_loss available, skipping.\n",
      "11/11 [==============================] - 1s 45ms/step - loss: 4.0846 - accuracy: 0.6667\n",
      "Epoch 2/10\n",
      "11/11 [==============================] - ETA: 0s - loss: 1.2869 - accuracy: 0.7216WARNING:tensorflow:Can save best model only with val_loss available, skipping.\n",
      "11/11 [==============================] - 0s 44ms/step - loss: 1.2869 - accuracy: 0.7216\n",
      "Epoch 3/10\n",
      "11/11 [==============================] - ETA: 0s - loss: 1.0380 - accuracy: 0.7961WARNING:tensorflow:Can save best model only with val_loss available, skipping.\n",
      "11/11 [==============================] - 0s 44ms/step - loss: 1.0380 - accuracy: 0.7961\n",
      "Epoch 4/10\n",
      "10/11 [==========================>...] - ETA: 0s - loss: 0.9587 - accuracy: 0.7700WARNING:tensorflow:Can save best model only with val_loss available, skipping.\n",
      "11/11 [==============================] - 1s 45ms/step - loss: 0.9806 - accuracy: 0.7706\n",
      "Epoch 5/10\n",
      "11/11 [==============================] - ETA: 0s - loss: 0.7804 - accuracy: 0.8078WARNING:tensorflow:Can save best model only with val_loss available, skipping.\n",
      "11/11 [==============================] - 0s 44ms/step - loss: 0.7804 - accuracy: 0.8078\n",
      "Epoch 6/10\n",
      "11/11 [==============================] - ETA: 0s - loss: 0.7328 - accuracy: 0.8157WARNING:tensorflow:Can save best model only with val_loss available, skipping.\n",
      "11/11 [==============================] - 0s 44ms/step - loss: 0.7328 - accuracy: 0.8157\n",
      "Epoch 7/10\n",
      "10/11 [==========================>...] - ETA: 0s - loss: 0.7521 - accuracy: 0.8140WARNING:tensorflow:Can save best model only with val_loss available, skipping.\n",
      "11/11 [==============================] - 0s 44ms/step - loss: 0.7568 - accuracy: 0.8118\n",
      "Epoch 8/10\n",
      "10/11 [==========================>...] - ETA: 0s - loss: 0.7976 - accuracy: 0.7800WARNING:tensorflow:Can save best model only with val_loss available, skipping.\n",
      "11/11 [==============================] - 0s 44ms/step - loss: 0.8056 - accuracy: 0.7804\n",
      "Epoch 9/10\n",
      "11/11 [==============================] - ETA: 0s - loss: 0.7038 - accuracy: 0.8235WARNING:tensorflow:Can save best model only with val_loss available, skipping.\n",
      "11/11 [==============================] - 0s 45ms/step - loss: 0.7038 - accuracy: 0.8235\n",
      "Epoch 10/10\n",
      "11/11 [==============================] - ETA: 0s - loss: 0.6517 - accuracy: 0.8314WARNING:tensorflow:Can save best model only with val_loss available, skipping.\n",
      "11/11 [==============================] - 0s 45ms/step - loss: 0.6517 - accuracy: 0.8314\n",
      "[0, 2, 3, 4, 5, 6, 7, 8, 9, 10, 11, 12, 13, 14] 1\n",
      "Epoch 1/10\n",
      "11/11 [==============================] - ETA: 0s - loss: 3.1460 - accuracy: 0.6529WARNING:tensorflow:Can save best model only with val_loss available, skipping.\n",
      "11/11 [==============================] - 1s 44ms/step - loss: 3.1460 - accuracy: 0.6529\n",
      "Epoch 2/10\n",
      "11/11 [==============================] - ETA: 0s - loss: 0.9542 - accuracy: 0.7490WARNING:tensorflow:Can save best model only with val_loss available, skipping.\n",
      "11/11 [==============================] - 0s 42ms/step - loss: 0.9542 - accuracy: 0.7490\n",
      "Epoch 3/10\n",
      "11/11 [==============================] - ETA: 0s - loss: 0.8021 - accuracy: 0.8098WARNING:tensorflow:Can save best model only with val_loss available, skipping.\n",
      "11/11 [==============================] - 0s 44ms/step - loss: 0.8021 - accuracy: 0.8098\n",
      "Epoch 4/10\n",
      "11/11 [==============================] - ETA: 0s - loss: 0.5679 - accuracy: 0.8725WARNING:tensorflow:Can save best model only with val_loss available, skipping.\n",
      "11/11 [==============================] - 0s 44ms/step - loss: 0.5679 - accuracy: 0.8725\n",
      "Epoch 5/10\n",
      "11/11 [==============================] - ETA: 0s - loss: 0.6794 - accuracy: 0.8294WARNING:tensorflow:Can save best model only with val_loss available, skipping.\n",
      "11/11 [==============================] - 0s 45ms/step - loss: 0.6794 - accuracy: 0.8294\n",
      "Epoch 6/10\n",
      "10/11 [==========================>...] - ETA: 0s - loss: 0.6172 - accuracy: 0.8460WARNING:tensorflow:Can save best model only with val_loss available, skipping.\n",
      "11/11 [==============================] - 1s 45ms/step - loss: 0.6119 - accuracy: 0.8471\n",
      "Epoch 7/10\n",
      "10/11 [==========================>...] - ETA: 0s - loss: 0.6009 - accuracy: 0.8620WARNING:tensorflow:Can save best model only with val_loss available, skipping.\n",
      "11/11 [==============================] - 0s 45ms/step - loss: 0.5971 - accuracy: 0.8608\n",
      "Epoch 8/10\n",
      "11/11 [==============================] - ETA: 0s - loss: 0.6473 - accuracy: 0.8216WARNING:tensorflow:Can save best model only with val_loss available, skipping.\n",
      "11/11 [==============================] - 0s 44ms/step - loss: 0.6473 - accuracy: 0.8216\n",
      "Epoch 9/10\n",
      "10/11 [==========================>...] - ETA: 0s - loss: 0.5082 - accuracy: 0.8540WARNING:tensorflow:Can save best model only with val_loss available, skipping.\n",
      "11/11 [==============================] - 0s 44ms/step - loss: 0.4985 - accuracy: 0.8569\n",
      "Epoch 10/10\n",
      "11/11 [==============================] - ETA: 0s - loss: 0.6870 - accuracy: 0.8529WARNING:tensorflow:Can save best model only with val_loss available, skipping.\n",
      "11/11 [==============================] - 0s 44ms/step - loss: 0.6870 - accuracy: 0.8529\n",
      "[0, 1, 3, 4, 5, 6, 7, 8, 9, 10, 11, 12, 13, 14] 2\n",
      "Epoch 1/10\n",
      "11/11 [==============================] - ETA: 0s - loss: 3.9201 - accuracy: 0.5815WARNING:tensorflow:Can save best model only with val_loss available, skipping.\n",
      "11/11 [==============================] - 1s 44ms/step - loss: 3.9201 - accuracy: 0.5815\n",
      "Epoch 2/10\n",
      "10/11 [==========================>...] - ETA: 0s - loss: 0.8873 - accuracy: 0.7560WARNING:tensorflow:Can save best model only with val_loss available, skipping.\n",
      "11/11 [==============================] - 1s 45ms/step - loss: 0.8911 - accuracy: 0.7544\n",
      "Epoch 3/10\n",
      "10/11 [==========================>...] - ETA: 0s - loss: 0.8853 - accuracy: 0.7740WARNING:tensorflow:Can save best model only with val_loss available, skipping.\n",
      "11/11 [==============================] - 0s 44ms/step - loss: 0.8879 - accuracy: 0.7701\n",
      "Epoch 4/10\n",
      "11/11 [==============================] - ETA: 0s - loss: 0.8808 - accuracy: 0.7721WARNING:tensorflow:Can save best model only with val_loss available, skipping.\n",
      "11/11 [==============================] - 0s 44ms/step - loss: 0.8808 - accuracy: 0.7721\n",
      "Epoch 5/10\n",
      "11/11 [==============================] - ETA: 0s - loss: 0.7845 - accuracy: 0.7819WARNING:tensorflow:Can save best model only with val_loss available, skipping.\n",
      "11/11 [==============================] - 0s 44ms/step - loss: 0.7845 - accuracy: 0.7819\n",
      "Epoch 6/10\n",
      "10/11 [==========================>...] - ETA: 0s - loss: 0.7894 - accuracy: 0.7860WARNING:tensorflow:Can save best model only with val_loss available, skipping.\n",
      "11/11 [==============================] - 0s 45ms/step - loss: 0.7847 - accuracy: 0.7859\n",
      "Epoch 7/10\n",
      "11/11 [==============================] - ETA: 0s - loss: 0.6524 - accuracy: 0.8212WARNING:tensorflow:Can save best model only with val_loss available, skipping.\n",
      "11/11 [==============================] - 0s 45ms/step - loss: 0.6524 - accuracy: 0.8212\n",
      "Epoch 8/10\n",
      "10/11 [==========================>...] - ETA: 0s - loss: 0.7302 - accuracy: 0.7980WARNING:tensorflow:Can save best model only with val_loss available, skipping.\n",
      "11/11 [==============================] - 0s 44ms/step - loss: 0.7246 - accuracy: 0.7976\n",
      "Epoch 9/10\n",
      "11/11 [==============================] - ETA: 0s - loss: 0.6764 - accuracy: 0.8350WARNING:tensorflow:Can save best model only with val_loss available, skipping.\n",
      "11/11 [==============================] - 0s 44ms/step - loss: 0.6764 - accuracy: 0.8350\n",
      "Epoch 10/10\n",
      "10/11 [==========================>...] - ETA: 0s - loss: 0.7820 - accuracy: 0.8020WARNING:tensorflow:Can save best model only with val_loss available, skipping.\n",
      "11/11 [==============================] - 0s 43ms/step - loss: 0.7726 - accuracy: 0.8055\n",
      "[0, 1, 2, 4, 5, 6, 7, 8, 9, 10, 11, 12, 13, 14] 3\n",
      "Epoch 1/10\n",
      "11/11 [==============================] - ETA: 0s - loss: 5.0116 - accuracy: 0.6424WARNING:tensorflow:Can save best model only with val_loss available, skipping.\n",
      "11/11 [==============================] - 1s 43ms/step - loss: 5.0116 - accuracy: 0.6424\n",
      "Epoch 2/10\n",
      "11/11 [==============================] - ETA: 0s - loss: 0.9625 - accuracy: 0.7819WARNING:tensorflow:Can save best model only with val_loss available, skipping.\n",
      "11/11 [==============================] - 0s 44ms/step - loss: 0.9625 - accuracy: 0.7819\n",
      "Epoch 3/10\n",
      "11/11 [==============================] - ETA: 0s - loss: 0.7855 - accuracy: 0.7839WARNING:tensorflow:Can save best model only with val_loss available, skipping.\n",
      "11/11 [==============================] - 0s 44ms/step - loss: 0.7855 - accuracy: 0.7839\n",
      "Epoch 4/10\n",
      "11/11 [==============================] - ETA: 0s - loss: 0.7836 - accuracy: 0.8134WARNING:tensorflow:Can save best model only with val_loss available, skipping.\n",
      "11/11 [==============================] - 0s 42ms/step - loss: 0.7836 - accuracy: 0.8134\n",
      "Epoch 5/10\n",
      "10/11 [==========================>...] - ETA: 0s - loss: 0.6830 - accuracy: 0.8280WARNING:tensorflow:Can save best model only with val_loss available, skipping.\n",
      "11/11 [==============================] - 0s 45ms/step - loss: 0.6774 - accuracy: 0.8291\n",
      "Epoch 6/10\n",
      "11/11 [==============================] - ETA: 0s - loss: 0.8385 - accuracy: 0.7898WARNING:tensorflow:Can save best model only with val_loss available, skipping.\n",
      "11/11 [==============================] - 0s 43ms/step - loss: 0.8385 - accuracy: 0.7898\n",
      "Epoch 7/10\n",
      "11/11 [==============================] - ETA: 0s - loss: 0.7517 - accuracy: 0.8193WARNING:tensorflow:Can save best model only with val_loss available, skipping.\n",
      "11/11 [==============================] - 0s 44ms/step - loss: 0.7517 - accuracy: 0.8193\n",
      "Epoch 8/10\n",
      "10/11 [==========================>...] - ETA: 0s - loss: 0.6480 - accuracy: 0.8260WARNING:tensorflow:Can save best model only with val_loss available, skipping.\n",
      "11/11 [==============================] - 0s 44ms/step - loss: 0.6438 - accuracy: 0.8291\n",
      "Epoch 9/10\n",
      "10/11 [==========================>...] - ETA: 0s - loss: 0.6530 - accuracy: 0.8220WARNING:tensorflow:Can save best model only with val_loss available, skipping.\n",
      "11/11 [==============================] - 0s 44ms/step - loss: 0.6531 - accuracy: 0.8232\n",
      "Epoch 10/10\n",
      "11/11 [==============================] - ETA: 0s - loss: 0.6295 - accuracy: 0.8173WARNING:tensorflow:Can save best model only with val_loss available, skipping.\n",
      "11/11 [==============================] - 0s 44ms/step - loss: 0.6295 - accuracy: 0.8173\n",
      "WARNING:tensorflow:5 out of the last 59 calls to <function Model.make_test_function.<locals>.test_function at 0x2e3be44c0> triggered tf.function retracing. Tracing is expensive and the excessive number of tracings could be due to (1) creating @tf.function repeatedly in a loop, (2) passing tensors with different shapes, (3) passing Python objects instead of tensors. For (1), please define your @tf.function outside of the loop. For (2), @tf.function has experimental_relax_shapes=True option that relaxes argument shapes that can avoid unnecessary retracing. For (3), please refer to https://www.tensorflow.org/guide/function#controlling_retracing and https://www.tensorflow.org/api_docs/python/tf/function for  more details.\n",
      "[0, 1, 2, 3, 5, 6, 7, 8, 9, 10, 11, 12, 13, 14] 4\n",
      "Epoch 1/10\n",
      "11/11 [==============================] - ETA: 0s - loss: 4.8070 - accuracy: 0.6228WARNING:tensorflow:Can save best model only with val_loss available, skipping.\n",
      "11/11 [==============================] - 1s 43ms/step - loss: 4.8070 - accuracy: 0.6228\n",
      "Epoch 2/10\n",
      "11/11 [==============================] - ETA: 0s - loss: 1.1352 - accuracy: 0.7014WARNING:tensorflow:Can save best model only with val_loss available, skipping.\n",
      "11/11 [==============================] - 0s 43ms/step - loss: 1.1352 - accuracy: 0.7014\n",
      "Epoch 3/10\n",
      "11/11 [==============================] - ETA: 0s - loss: 0.9350 - accuracy: 0.7544WARNING:tensorflow:Can save best model only with val_loss available, skipping.\n",
      "11/11 [==============================] - 0s 44ms/step - loss: 0.9350 - accuracy: 0.7544\n",
      "Epoch 4/10\n",
      "11/11 [==============================] - ETA: 0s - loss: 0.7941 - accuracy: 0.7957WARNING:tensorflow:Can save best model only with val_loss available, skipping.\n",
      "11/11 [==============================] - 0s 44ms/step - loss: 0.7941 - accuracy: 0.7957\n",
      "Epoch 5/10\n",
      "11/11 [==============================] - ETA: 0s - loss: 0.7250 - accuracy: 0.7937WARNING:tensorflow:Can save best model only with val_loss available, skipping.\n",
      "11/11 [==============================] - 0s 44ms/step - loss: 0.7250 - accuracy: 0.7937\n",
      "Epoch 6/10\n",
      "11/11 [==============================] - ETA: 0s - loss: 0.8555 - accuracy: 0.7976WARNING:tensorflow:Can save best model only with val_loss available, skipping.\n",
      "11/11 [==============================] - 0s 44ms/step - loss: 0.8555 - accuracy: 0.7976\n",
      "Epoch 7/10\n",
      "11/11 [==============================] - ETA: 0s - loss: 0.6386 - accuracy: 0.8193WARNING:tensorflow:Can save best model only with val_loss available, skipping.\n",
      "11/11 [==============================] - 0s 44ms/step - loss: 0.6386 - accuracy: 0.8193\n",
      "Epoch 8/10\n",
      "10/11 [==========================>...] - ETA: 0s - loss: 0.7245 - accuracy: 0.8000WARNING:tensorflow:Can save best model only with val_loss available, skipping.\n",
      "11/11 [==============================] - 1s 47ms/step - loss: 0.7151 - accuracy: 0.8035\n",
      "Epoch 9/10\n",
      "10/11 [==========================>...] - ETA: 0s - loss: 0.6301 - accuracy: 0.8080WARNING:tensorflow:Can save best model only with val_loss available, skipping.\n",
      "11/11 [==============================] - 0s 44ms/step - loss: 0.6245 - accuracy: 0.8094\n",
      "Epoch 10/10\n",
      "10/11 [==========================>...] - ETA: 0s - loss: 0.7879 - accuracy: 0.7960WARNING:tensorflow:Can save best model only with val_loss available, skipping.\n",
      "11/11 [==============================] - 0s 44ms/step - loss: 0.7816 - accuracy: 0.7976\n",
      "WARNING:tensorflow:6 out of the last 61 calls to <function Model.make_test_function.<locals>.test_function at 0x173636700> triggered tf.function retracing. Tracing is expensive and the excessive number of tracings could be due to (1) creating @tf.function repeatedly in a loop, (2) passing tensors with different shapes, (3) passing Python objects instead of tensors. For (1), please define your @tf.function outside of the loop. For (2), @tf.function has experimental_relax_shapes=True option that relaxes argument shapes that can avoid unnecessary retracing. For (3), please refer to https://www.tensorflow.org/guide/function#controlling_retracing and https://www.tensorflow.org/api_docs/python/tf/function for  more details.\n",
      "[0, 1, 2, 3, 4, 6, 7, 8, 9, 10, 11, 12, 13, 14] 5\n",
      "Epoch 1/10\n",
      "11/11 [==============================] - ETA: 0s - loss: 4.7627 - accuracy: 0.6680WARNING:tensorflow:Can save best model only with val_loss available, skipping.\n",
      "11/11 [==============================] - 1s 45ms/step - loss: 4.7627 - accuracy: 0.6680\n",
      "Epoch 2/10\n",
      "11/11 [==============================] - ETA: 0s - loss: 1.1826 - accuracy: 0.7721WARNING:tensorflow:Can save best model only with val_loss available, skipping.\n",
      "11/11 [==============================] - 0s 45ms/step - loss: 1.1826 - accuracy: 0.7721\n",
      "Epoch 3/10\n",
      "11/11 [==============================] - ETA: 0s - loss: 0.9985 - accuracy: 0.7603WARNING:tensorflow:Can save best model only with val_loss available, skipping.\n",
      "11/11 [==============================] - 0s 44ms/step - loss: 0.9985 - accuracy: 0.7603\n",
      "Epoch 4/10\n",
      "11/11 [==============================] - ETA: 0s - loss: 0.9483 - accuracy: 0.7426WARNING:tensorflow:Can save best model only with val_loss available, skipping.\n",
      "11/11 [==============================] - 0s 43ms/step - loss: 0.9483 - accuracy: 0.7426\n",
      "Epoch 5/10\n",
      "11/11 [==============================] - ETA: 0s - loss: 0.8180 - accuracy: 0.8016WARNING:tensorflow:Can save best model only with val_loss available, skipping.\n",
      "11/11 [==============================] - 0s 45ms/step - loss: 0.8180 - accuracy: 0.8016\n",
      "Epoch 6/10\n",
      "10/11 [==========================>...] - ETA: 0s - loss: 0.8676 - accuracy: 0.7620WARNING:tensorflow:Can save best model only with val_loss available, skipping.\n",
      "11/11 [==============================] - 1s 47ms/step - loss: 0.8667 - accuracy: 0.7642\n",
      "Epoch 7/10\n",
      "10/11 [==========================>...] - ETA: 0s - loss: 0.7237 - accuracy: 0.8140WARNING:tensorflow:Can save best model only with val_loss available, skipping.\n",
      "11/11 [==============================] - 1s 47ms/step - loss: 0.7189 - accuracy: 0.8134\n",
      "Epoch 8/10\n",
      "10/11 [==========================>...] - ETA: 0s - loss: 0.7315 - accuracy: 0.8340WARNING:tensorflow:Can save best model only with val_loss available, skipping.\n",
      "11/11 [==============================] - 1s 45ms/step - loss: 0.7294 - accuracy: 0.8350\n",
      "Epoch 9/10\n",
      "10/11 [==========================>...] - ETA: 0s - loss: 0.7146 - accuracy: 0.8160WARNING:tensorflow:Can save best model only with val_loss available, skipping.\n",
      "11/11 [==============================] - 1s 47ms/step - loss: 0.7277 - accuracy: 0.8134\n",
      "Epoch 10/10\n",
      "10/11 [==========================>...] - ETA: 0s - loss: 0.6941 - accuracy: 0.8040WARNING:tensorflow:Can save best model only with val_loss available, skipping.\n",
      "11/11 [==============================] - 1s 46ms/step - loss: 0.6929 - accuracy: 0.8035\n",
      "[0, 1, 2, 3, 4, 5, 7, 8, 9, 10, 11, 12, 13, 14] 6\n",
      "Epoch 1/10\n",
      "11/11 [==============================] - ETA: 0s - loss: 5.1127 - accuracy: 0.5992WARNING:tensorflow:Can save best model only with val_loss available, skipping.\n",
      "11/11 [==============================] - 1s 46ms/step - loss: 5.1127 - accuracy: 0.5992\n",
      "Epoch 2/10\n",
      "10/11 [==========================>...] - ETA: 0s - loss: 1.2217 - accuracy: 0.7100WARNING:tensorflow:Can save best model only with val_loss available, skipping.\n",
      "11/11 [==============================] - 0s 44ms/step - loss: 1.2119 - accuracy: 0.7132\n",
      "Epoch 3/10\n",
      "11/11 [==============================] - ETA: 0s - loss: 0.8558 - accuracy: 0.7741WARNING:tensorflow:Can save best model only with val_loss available, skipping.\n",
      "11/11 [==============================] - 0s 44ms/step - loss: 0.8558 - accuracy: 0.7741\n",
      "Epoch 4/10\n",
      "11/11 [==============================] - ETA: 0s - loss: 0.7626 - accuracy: 0.8016WARNING:tensorflow:Can save best model only with val_loss available, skipping.\n",
      "11/11 [==============================] - 0s 43ms/step - loss: 0.7626 - accuracy: 0.8016\n",
      "Epoch 5/10\n",
      "11/11 [==============================] - ETA: 0s - loss: 0.8096 - accuracy: 0.7642WARNING:tensorflow:Can save best model only with val_loss available, skipping.\n",
      "11/11 [==============================] - 0s 44ms/step - loss: 0.8096 - accuracy: 0.7642\n",
      "Epoch 6/10\n",
      "10/11 [==========================>...] - ETA: 0s - loss: 0.7727 - accuracy: 0.7900WARNING:tensorflow:Can save best model only with val_loss available, skipping.\n",
      "11/11 [==============================] - 1s 46ms/step - loss: 0.7615 - accuracy: 0.7937\n",
      "Epoch 7/10\n",
      "11/11 [==============================] - ETA: 0s - loss: 0.6844 - accuracy: 0.8173WARNING:tensorflow:Can save best model only with val_loss available, skipping.\n",
      "11/11 [==============================] - 0s 44ms/step - loss: 0.6844 - accuracy: 0.8173\n",
      "Epoch 8/10\n",
      "10/11 [==========================>...] - ETA: 0s - loss: 0.7582 - accuracy: 0.7940WARNING:tensorflow:Can save best model only with val_loss available, skipping.\n",
      "11/11 [==============================] - 0s 44ms/step - loss: 0.7513 - accuracy: 0.7957\n",
      "Epoch 9/10\n",
      "10/11 [==========================>...] - ETA: 0s - loss: 0.6713 - accuracy: 0.8240WARNING:tensorflow:Can save best model only with val_loss available, skipping.\n",
      "11/11 [==============================] - 0s 43ms/step - loss: 0.6683 - accuracy: 0.8251\n",
      "Epoch 10/10\n",
      "11/11 [==============================] - ETA: 0s - loss: 0.7175 - accuracy: 0.8094WARNING:tensorflow:Can save best model only with val_loss available, skipping.\n",
      "11/11 [==============================] - 0s 45ms/step - loss: 0.7175 - accuracy: 0.8094\n",
      "[0, 1, 2, 3, 4, 5, 6, 8, 9, 10, 11, 12, 13, 14] 7\n",
      "Epoch 1/10\n",
      "11/11 [==============================] - ETA: 0s - loss: 3.8882 - accuracy: 0.6464WARNING:tensorflow:Can save best model only with val_loss available, skipping.\n",
      "11/11 [==============================] - 1s 44ms/step - loss: 3.8882 - accuracy: 0.6464\n",
      "Epoch 2/10\n",
      "11/11 [==============================] - ETA: 0s - loss: 1.1709 - accuracy: 0.7328WARNING:tensorflow:Can save best model only with val_loss available, skipping.\n",
      "11/11 [==============================] - 0s 43ms/step - loss: 1.1709 - accuracy: 0.7328\n",
      "Epoch 3/10\n",
      "11/11 [==============================] - ETA: 0s - loss: 0.8653 - accuracy: 0.7839WARNING:tensorflow:Can save best model only with val_loss available, skipping.\n",
      "11/11 [==============================] - 0s 43ms/step - loss: 0.8653 - accuracy: 0.7839\n",
      "Epoch 4/10\n",
      "11/11 [==============================] - ETA: 0s - loss: 0.8148 - accuracy: 0.7878WARNING:tensorflow:Can save best model only with val_loss available, skipping.\n",
      "11/11 [==============================] - 0s 43ms/step - loss: 0.8148 - accuracy: 0.7878\n",
      "Epoch 5/10\n",
      "11/11 [==============================] - ETA: 0s - loss: 0.7581 - accuracy: 0.8212WARNING:tensorflow:Can save best model only with val_loss available, skipping.\n",
      "11/11 [==============================] - 0s 43ms/step - loss: 0.7581 - accuracy: 0.8212\n",
      "Epoch 6/10\n",
      "10/11 [==========================>...] - ETA: 0s - loss: 0.6588 - accuracy: 0.8300WARNING:tensorflow:Can save best model only with val_loss available, skipping.\n",
      "11/11 [==============================] - 0s 43ms/step - loss: 0.6556 - accuracy: 0.8310\n",
      "Epoch 7/10\n",
      "11/11 [==============================] - ETA: 0s - loss: 0.7242 - accuracy: 0.8212WARNING:tensorflow:Can save best model only with val_loss available, skipping.\n",
      "11/11 [==============================] - 0s 43ms/step - loss: 0.7242 - accuracy: 0.8212\n",
      "Epoch 8/10\n",
      "11/11 [==============================] - ETA: 0s - loss: 0.6969 - accuracy: 0.8094WARNING:tensorflow:Can save best model only with val_loss available, skipping.\n",
      "11/11 [==============================] - 0s 44ms/step - loss: 0.6969 - accuracy: 0.8094\n",
      "Epoch 9/10\n",
      "11/11 [==============================] - ETA: 0s - loss: 0.7089 - accuracy: 0.8035WARNING:tensorflow:Can save best model only with val_loss available, skipping.\n",
      "11/11 [==============================] - 0s 42ms/step - loss: 0.7089 - accuracy: 0.8035\n",
      "Epoch 10/10\n",
      "11/11 [==============================] - ETA: 0s - loss: 0.6428 - accuracy: 0.8369WARNING:tensorflow:Can save best model only with val_loss available, skipping.\n",
      "11/11 [==============================] - 0s 43ms/step - loss: 0.6428 - accuracy: 0.8369\n",
      "[0, 1, 2, 3, 4, 5, 6, 7, 9, 10, 11, 12, 13, 14] 8\n",
      "Epoch 1/10\n",
      "11/11 [==============================] - ETA: 0s - loss: 6.1115 - accuracy: 0.6417WARNING:tensorflow:Can save best model only with val_loss available, skipping.\n",
      "11/11 [==============================] - 1s 43ms/step - loss: 6.1115 - accuracy: 0.6417\n",
      "Epoch 2/10\n",
      "11/11 [==============================] - ETA: 0s - loss: 1.3846 - accuracy: 0.7539WARNING:tensorflow:Can save best model only with val_loss available, skipping.\n",
      "11/11 [==============================] - 0s 44ms/step - loss: 1.3846 - accuracy: 0.7539\n",
      "Epoch 3/10\n",
      "10/11 [==========================>...] - ETA: 0s - loss: 1.0746 - accuracy: 0.7700WARNING:tensorflow:Can save best model only with val_loss available, skipping.\n",
      "11/11 [==============================] - 0s 44ms/step - loss: 1.0744 - accuracy: 0.7677\n",
      "Epoch 4/10\n",
      "10/11 [==========================>...] - ETA: 0s - loss: 0.7709 - accuracy: 0.8360WARNING:tensorflow:Can save best model only with val_loss available, skipping.\n",
      "11/11 [==============================] - 0s 45ms/step - loss: 0.7714 - accuracy: 0.8346\n",
      "Epoch 5/10\n",
      "11/11 [==============================] - ETA: 0s - loss: 0.7846 - accuracy: 0.8110WARNING:tensorflow:Can save best model only with val_loss available, skipping.\n",
      "11/11 [==============================] - 0s 44ms/step - loss: 0.7846 - accuracy: 0.8110\n",
      "Epoch 6/10\n",
      "11/11 [==============================] - ETA: 0s - loss: 0.7398 - accuracy: 0.8346WARNING:tensorflow:Can save best model only with val_loss available, skipping.\n",
      "11/11 [==============================] - 0s 43ms/step - loss: 0.7398 - accuracy: 0.8346\n",
      "Epoch 7/10\n",
      "11/11 [==============================] - ETA: 0s - loss: 0.7501 - accuracy: 0.7972WARNING:tensorflow:Can save best model only with val_loss available, skipping.\n",
      "11/11 [==============================] - 0s 44ms/step - loss: 0.7501 - accuracy: 0.7972\n",
      "Epoch 8/10\n",
      "11/11 [==============================] - ETA: 0s - loss: 0.6502 - accuracy: 0.8465WARNING:tensorflow:Can save best model only with val_loss available, skipping.\n",
      "11/11 [==============================] - 0s 43ms/step - loss: 0.6502 - accuracy: 0.8465\n",
      "Epoch 9/10\n",
      "10/11 [==========================>...] - ETA: 0s - loss: 0.6417 - accuracy: 0.8520WARNING:tensorflow:Can save best model only with val_loss available, skipping.\n",
      "11/11 [==============================] - 0s 44ms/step - loss: 0.6373 - accuracy: 0.8524\n",
      "Epoch 10/10\n",
      "10/11 [==========================>...] - ETA: 0s - loss: 0.7456 - accuracy: 0.8220WARNING:tensorflow:Can save best model only with val_loss available, skipping.\n",
      "11/11 [==============================] - 0s 45ms/step - loss: 0.7404 - accuracy: 0.8209\n",
      "[0, 1, 2, 3, 4, 5, 6, 7, 8, 10, 11, 12, 13, 14] 9\n",
      "Epoch 1/10\n",
      "10/11 [==========================>...] - ETA: 0s - loss: 4.4782 - accuracy: 0.6100WARNING:tensorflow:Can save best model only with val_loss available, skipping.\n",
      "11/11 [==============================] - 1s 46ms/step - loss: 4.4510 - accuracy: 0.6102\n",
      "Epoch 2/10\n",
      "11/11 [==============================] - ETA: 0s - loss: 1.1571 - accuracy: 0.7638WARNING:tensorflow:Can save best model only with val_loss available, skipping.\n",
      "11/11 [==============================] - 0s 45ms/step - loss: 1.1571 - accuracy: 0.7638\n",
      "Epoch 3/10\n",
      "10/11 [==========================>...] - ETA: 0s - loss: 0.8812 - accuracy: 0.8020WARNING:tensorflow:Can save best model only with val_loss available, skipping.\n",
      "11/11 [==============================] - 0s 45ms/step - loss: 0.8837 - accuracy: 0.8031\n",
      "Epoch 4/10\n",
      "11/11 [==============================] - ETA: 0s - loss: 0.8110 - accuracy: 0.7933WARNING:tensorflow:Can save best model only with val_loss available, skipping.\n",
      "11/11 [==============================] - 0s 44ms/step - loss: 0.8110 - accuracy: 0.7933\n",
      "Epoch 5/10\n",
      "11/11 [==============================] - ETA: 0s - loss: 0.6378 - accuracy: 0.8406WARNING:tensorflow:Can save best model only with val_loss available, skipping.\n",
      "11/11 [==============================] - 0s 45ms/step - loss: 0.6378 - accuracy: 0.8406\n",
      "Epoch 6/10\n",
      "11/11 [==============================] - ETA: 0s - loss: 0.6454 - accuracy: 0.8287WARNING:tensorflow:Can save best model only with val_loss available, skipping.\n",
      "11/11 [==============================] - 0s 42ms/step - loss: 0.6454 - accuracy: 0.8287\n",
      "Epoch 7/10\n",
      "11/11 [==============================] - ETA: 0s - loss: 0.5562 - accuracy: 0.8661WARNING:tensorflow:Can save best model only with val_loss available, skipping.\n",
      "11/11 [==============================] - 0s 43ms/step - loss: 0.5562 - accuracy: 0.8661\n",
      "Epoch 8/10\n",
      "10/11 [==========================>...] - ETA: 0s - loss: 0.6207 - accuracy: 0.8600WARNING:tensorflow:Can save best model only with val_loss available, skipping.\n",
      "11/11 [==============================] - 0s 44ms/step - loss: 0.6186 - accuracy: 0.8583\n",
      "Epoch 9/10\n",
      "10/11 [==========================>...] - ETA: 0s - loss: 0.6620 - accuracy: 0.8380WARNING:tensorflow:Can save best model only with val_loss available, skipping.\n",
      "11/11 [==============================] - 0s 45ms/step - loss: 0.6541 - accuracy: 0.8406\n",
      "Epoch 10/10\n",
      "10/11 [==========================>...] - ETA: 0s - loss: 0.5643 - accuracy: 0.8300WARNING:tensorflow:Can save best model only with val_loss available, skipping.\n",
      "11/11 [==============================] - 0s 45ms/step - loss: 0.5582 - accuracy: 0.8327\n",
      "[0, 1, 2, 3, 4, 5, 6, 7, 8, 9, 11, 12, 13, 14] 10\n",
      "Epoch 1/10\n",
      "11/11 [==============================] - ETA: 0s - loss: 5.0178 - accuracy: 0.6732WARNING:tensorflow:Can save best model only with val_loss available, skipping.\n",
      "11/11 [==============================] - 1s 43ms/step - loss: 5.0178 - accuracy: 0.6732\n",
      "Epoch 2/10\n",
      "11/11 [==============================] - ETA: 0s - loss: 1.1562 - accuracy: 0.7717WARNING:tensorflow:Can save best model only with val_loss available, skipping.\n",
      "11/11 [==============================] - 0s 44ms/step - loss: 1.1562 - accuracy: 0.7717\n",
      "Epoch 3/10\n",
      "11/11 [==============================] - ETA: 0s - loss: 1.0548 - accuracy: 0.7756WARNING:tensorflow:Can save best model only with val_loss available, skipping.\n",
      "11/11 [==============================] - 0s 43ms/step - loss: 1.0548 - accuracy: 0.7756\n",
      "Epoch 4/10\n",
      "11/11 [==============================] - ETA: 0s - loss: 0.8203 - accuracy: 0.8327WARNING:tensorflow:Can save best model only with val_loss available, skipping.\n",
      "11/11 [==============================] - 0s 42ms/step - loss: 0.8203 - accuracy: 0.8327\n",
      "Epoch 5/10\n",
      "10/11 [==========================>...] - ETA: 0s - loss: 0.8318 - accuracy: 0.7980WARNING:tensorflow:Can save best model only with val_loss available, skipping.\n",
      "11/11 [==============================] - 0s 44ms/step - loss: 0.8292 - accuracy: 0.7992\n",
      "Epoch 6/10\n",
      "11/11 [==============================] - ETA: 0s - loss: 0.7947 - accuracy: 0.7992WARNING:tensorflow:Can save best model only with val_loss available, skipping.\n",
      "11/11 [==============================] - 1s 46ms/step - loss: 0.7947 - accuracy: 0.7992\n",
      "Epoch 7/10\n",
      "10/11 [==========================>...] - ETA: 0s - loss: 0.6875 - accuracy: 0.8220WARNING:tensorflow:Can save best model only with val_loss available, skipping.\n",
      "11/11 [==============================] - 1s 45ms/step - loss: 0.6881 - accuracy: 0.8209\n",
      "Epoch 8/10\n",
      "10/11 [==========================>...] - ETA: 0s - loss: 0.7633 - accuracy: 0.8080WARNING:tensorflow:Can save best model only with val_loss available, skipping.\n",
      "11/11 [==============================] - 0s 45ms/step - loss: 0.7580 - accuracy: 0.8051\n",
      "Epoch 9/10\n",
      "11/11 [==============================] - ETA: 0s - loss: 0.6784 - accuracy: 0.8346WARNING:tensorflow:Can save best model only with val_loss available, skipping.\n",
      "11/11 [==============================] - 0s 45ms/step - loss: 0.6784 - accuracy: 0.8346\n",
      "Epoch 10/10\n",
      "11/11 [==============================] - ETA: 0s - loss: 0.7395 - accuracy: 0.8209WARNING:tensorflow:Can save best model only with val_loss available, skipping.\n",
      "11/11 [==============================] - 1s 46ms/step - loss: 0.7395 - accuracy: 0.8209\n",
      "[0, 1, 2, 3, 4, 5, 6, 7, 8, 9, 10, 12, 13, 14] 11\n",
      "Epoch 1/10\n",
      "11/11 [==============================] - ETA: 0s - loss: 4.9705 - accuracy: 0.6909WARNING:tensorflow:Can save best model only with val_loss available, skipping.\n",
      "11/11 [==============================] - 1s 44ms/step - loss: 4.9705 - accuracy: 0.6909\n",
      "Epoch 2/10\n",
      "11/11 [==============================] - ETA: 0s - loss: 1.0665 - accuracy: 0.7972WARNING:tensorflow:Can save best model only with val_loss available, skipping.\n",
      "11/11 [==============================] - 0s 44ms/step - loss: 1.0665 - accuracy: 0.7972\n",
      "Epoch 3/10\n",
      "10/11 [==========================>...] - ETA: 0s - loss: 0.7414 - accuracy: 0.8380WARNING:tensorflow:Can save best model only with val_loss available, skipping.\n",
      "11/11 [==============================] - 0s 43ms/step - loss: 0.7326 - accuracy: 0.8406\n",
      "Epoch 4/10\n",
      "11/11 [==============================] - ETA: 0s - loss: 0.6446 - accuracy: 0.8563WARNING:tensorflow:Can save best model only with val_loss available, skipping.\n",
      "11/11 [==============================] - 0s 45ms/step - loss: 0.6446 - accuracy: 0.8563\n",
      "Epoch 5/10\n",
      "10/11 [==========================>...] - ETA: 0s - loss: 0.7458 - accuracy: 0.8360WARNING:tensorflow:Can save best model only with val_loss available, skipping.\n",
      "11/11 [==============================] - 1s 48ms/step - loss: 0.7360 - accuracy: 0.8386\n",
      "Epoch 6/10\n",
      "10/11 [==========================>...] - ETA: 0s - loss: 0.5842 - accuracy: 0.8600WARNING:tensorflow:Can save best model only with val_loss available, skipping.\n",
      "11/11 [==============================] - 0s 44ms/step - loss: 0.5816 - accuracy: 0.8622\n",
      "Epoch 7/10\n",
      "11/11 [==============================] - ETA: 0s - loss: 0.5982 - accuracy: 0.8780WARNING:tensorflow:Can save best model only with val_loss available, skipping.\n",
      "11/11 [==============================] - 0s 45ms/step - loss: 0.5982 - accuracy: 0.8780\n",
      "Epoch 8/10\n",
      "10/11 [==========================>...] - ETA: 0s - loss: 0.5800 - accuracy: 0.8800WARNING:tensorflow:Can save best model only with val_loss available, skipping.\n",
      "11/11 [==============================] - 0s 45ms/step - loss: 0.5806 - accuracy: 0.8799\n",
      "Epoch 9/10\n",
      "11/11 [==============================] - ETA: 0s - loss: 0.4911 - accuracy: 0.8898WARNING:tensorflow:Can save best model only with val_loss available, skipping.\n",
      "11/11 [==============================] - 0s 44ms/step - loss: 0.4911 - accuracy: 0.8898\n",
      "Epoch 10/10\n",
      "11/11 [==============================] - ETA: 0s - loss: 0.6771 - accuracy: 0.8661WARNING:tensorflow:Can save best model only with val_loss available, skipping.\n",
      "11/11 [==============================] - 0s 44ms/step - loss: 0.6771 - accuracy: 0.8661\n",
      "[0, 1, 2, 3, 4, 5, 6, 7, 8, 9, 10, 11, 13, 14] 12\n",
      "Epoch 1/10\n",
      "11/11 [==============================] - ETA: 0s - loss: 5.3749 - accuracy: 0.6378WARNING:tensorflow:Can save best model only with val_loss available, skipping.\n",
      "11/11 [==============================] - 1s 43ms/step - loss: 5.3749 - accuracy: 0.6378\n",
      "Epoch 2/10\n",
      "11/11 [==============================] - ETA: 0s - loss: 1.1169 - accuracy: 0.7520WARNING:tensorflow:Can save best model only with val_loss available, skipping.\n",
      "11/11 [==============================] - 0s 43ms/step - loss: 1.1169 - accuracy: 0.7520\n",
      "Epoch 3/10\n",
      "11/11 [==============================] - ETA: 0s - loss: 0.9699 - accuracy: 0.7441WARNING:tensorflow:Can save best model only with val_loss available, skipping.\n",
      "11/11 [==============================] - 0s 43ms/step - loss: 0.9699 - accuracy: 0.7441\n",
      "Epoch 4/10\n",
      "11/11 [==============================] - ETA: 0s - loss: 0.8364 - accuracy: 0.7795WARNING:tensorflow:Can save best model only with val_loss available, skipping.\n",
      "11/11 [==============================] - 0s 43ms/step - loss: 0.8364 - accuracy: 0.7795\n",
      "Epoch 5/10\n",
      "11/11 [==============================] - ETA: 0s - loss: 0.8682 - accuracy: 0.8130WARNING:tensorflow:Can save best model only with val_loss available, skipping.\n",
      "11/11 [==============================] - 0s 44ms/step - loss: 0.8682 - accuracy: 0.8130\n",
      "Epoch 6/10\n",
      "11/11 [==============================] - ETA: 0s - loss: 0.7199 - accuracy: 0.8307WARNING:tensorflow:Can save best model only with val_loss available, skipping.\n",
      "11/11 [==============================] - 0s 43ms/step - loss: 0.7199 - accuracy: 0.8307\n",
      "Epoch 7/10\n",
      "11/11 [==============================] - ETA: 0s - loss: 0.7288 - accuracy: 0.7894WARNING:tensorflow:Can save best model only with val_loss available, skipping.\n",
      "11/11 [==============================] - 0s 44ms/step - loss: 0.7288 - accuracy: 0.7894\n",
      "Epoch 8/10\n",
      "11/11 [==============================] - ETA: 0s - loss: 0.6527 - accuracy: 0.8209WARNING:tensorflow:Can save best model only with val_loss available, skipping.\n",
      "11/11 [==============================] - 0s 44ms/step - loss: 0.6527 - accuracy: 0.8209\n",
      "Epoch 9/10\n",
      "11/11 [==============================] - ETA: 0s - loss: 0.6373 - accuracy: 0.8268WARNING:tensorflow:Can save best model only with val_loss available, skipping.\n",
      "11/11 [==============================] - 0s 43ms/step - loss: 0.6373 - accuracy: 0.8268\n",
      "Epoch 10/10\n",
      "11/11 [==============================] - ETA: 0s - loss: 0.6201 - accuracy: 0.8327WARNING:tensorflow:Can save best model only with val_loss available, skipping.\n",
      "11/11 [==============================] - 0s 43ms/step - loss: 0.6201 - accuracy: 0.8327\n",
      "[0, 1, 2, 3, 4, 5, 6, 7, 8, 9, 10, 11, 12, 14] 13\n",
      "Epoch 1/10\n",
      "11/11 [==============================] - ETA: 0s - loss: 8.4339 - accuracy: 0.6398WARNING:tensorflow:Can save best model only with val_loss available, skipping.\n",
      "11/11 [==============================] - 1s 44ms/step - loss: 8.4339 - accuracy: 0.6398\n",
      "Epoch 2/10\n",
      "10/11 [==========================>...] - ETA: 0s - loss: 1.3877 - accuracy: 0.7440WARNING:tensorflow:Can save best model only with val_loss available, skipping.\n",
      "11/11 [==============================] - 0s 44ms/step - loss: 1.3856 - accuracy: 0.7441\n",
      "Epoch 3/10\n",
      "10/11 [==========================>...] - ETA: 0s - loss: 1.0770 - accuracy: 0.7540WARNING:tensorflow:Can save best model only with val_loss available, skipping.\n",
      "11/11 [==============================] - 0s 45ms/step - loss: 1.0727 - accuracy: 0.7539\n",
      "Epoch 4/10\n",
      "11/11 [==============================] - ETA: 0s - loss: 0.8960 - accuracy: 0.8130WARNING:tensorflow:Can save best model only with val_loss available, skipping.\n",
      "11/11 [==============================] - 0s 44ms/step - loss: 0.8960 - accuracy: 0.8130\n",
      "Epoch 5/10\n",
      "11/11 [==============================] - ETA: 0s - loss: 0.7676 - accuracy: 0.8071WARNING:tensorflow:Can save best model only with val_loss available, skipping.\n",
      "11/11 [==============================] - 0s 43ms/step - loss: 0.7676 - accuracy: 0.8071\n",
      "Epoch 6/10\n",
      "11/11 [==============================] - ETA: 0s - loss: 0.7350 - accuracy: 0.7992WARNING:tensorflow:Can save best model only with val_loss available, skipping.\n",
      "11/11 [==============================] - 0s 43ms/step - loss: 0.7350 - accuracy: 0.7992\n",
      "Epoch 7/10\n",
      "11/11 [==============================] - ETA: 0s - loss: 0.7335 - accuracy: 0.7953WARNING:tensorflow:Can save best model only with val_loss available, skipping.\n",
      "11/11 [==============================] - 0s 44ms/step - loss: 0.7335 - accuracy: 0.7953\n",
      "Epoch 8/10\n",
      "11/11 [==============================] - ETA: 0s - loss: 0.7624 - accuracy: 0.7874WARNING:tensorflow:Can save best model only with val_loss available, skipping.\n",
      "11/11 [==============================] - 0s 45ms/step - loss: 0.7624 - accuracy: 0.7874\n",
      "Epoch 9/10\n",
      "10/11 [==========================>...] - ETA: 0s - loss: 0.6628 - accuracy: 0.8380WARNING:tensorflow:Can save best model only with val_loss available, skipping.\n",
      "11/11 [==============================] - 0s 45ms/step - loss: 0.7096 - accuracy: 0.8346\n",
      "Epoch 10/10\n",
      "10/11 [==========================>...] - ETA: 0s - loss: 0.6728 - accuracy: 0.7900WARNING:tensorflow:Can save best model only with val_loss available, skipping.\n",
      "11/11 [==============================] - 1s 48ms/step - loss: 0.6808 - accuracy: 0.7913\n",
      "[0, 1, 2, 3, 4, 5, 6, 7, 8, 9, 10, 11, 12, 13] 14\n",
      "Epoch 1/10\n",
      "11/11 [==============================] - ETA: 0s - loss: 5.4397 - accuracy: 0.6378WARNING:tensorflow:Can save best model only with val_loss available, skipping.\n",
      "11/11 [==============================] - 1s 43ms/step - loss: 5.4397 - accuracy: 0.6378\n",
      "Epoch 2/10\n",
      "11/11 [==============================] - ETA: 0s - loss: 1.1065 - accuracy: 0.7815WARNING:tensorflow:Can save best model only with val_loss available, skipping.\n",
      "11/11 [==============================] - 0s 44ms/step - loss: 1.1065 - accuracy: 0.7815\n",
      "Epoch 3/10\n",
      "10/11 [==========================>...] - ETA: 0s - loss: 0.9678 - accuracy: 0.8080WARNING:tensorflow:Can save best model only with val_loss available, skipping.\n",
      "11/11 [==============================] - 0s 44ms/step - loss: 0.9578 - accuracy: 0.8091\n",
      "Epoch 4/10\n",
      "11/11 [==============================] - ETA: 0s - loss: 0.7349 - accuracy: 0.8366WARNING:tensorflow:Can save best model only with val_loss available, skipping.\n",
      "11/11 [==============================] - 0s 44ms/step - loss: 0.7349 - accuracy: 0.8366\n",
      "Epoch 5/10\n",
      "11/11 [==============================] - ETA: 0s - loss: 0.7782 - accuracy: 0.8445WARNING:tensorflow:Can save best model only with val_loss available, skipping.\n",
      "11/11 [==============================] - 1s 45ms/step - loss: 0.7782 - accuracy: 0.8445\n",
      "Epoch 6/10\n",
      "10/11 [==========================>...] - ETA: 0s - loss: 0.7706 - accuracy: 0.8280WARNING:tensorflow:Can save best model only with val_loss available, skipping.\n",
      "11/11 [==============================] - 0s 44ms/step - loss: 0.7674 - accuracy: 0.8268\n",
      "Epoch 7/10\n",
      "10/11 [==========================>...] - ETA: 0s - loss: 0.6544 - accuracy: 0.8600WARNING:tensorflow:Can save best model only with val_loss available, skipping.\n",
      "11/11 [==============================] - 0s 45ms/step - loss: 0.6859 - accuracy: 0.8583\n",
      "Epoch 8/10\n",
      "11/11 [==============================] - ETA: 0s - loss: 0.6300 - accuracy: 0.8406WARNING:tensorflow:Can save best model only with val_loss available, skipping.\n",
      "11/11 [==============================] - 0s 45ms/step - loss: 0.6300 - accuracy: 0.8406\n",
      "Epoch 9/10\n",
      "11/11 [==============================] - ETA: 0s - loss: 0.5196 - accuracy: 0.8760WARNING:tensorflow:Can save best model only with val_loss available, skipping.\n",
      "11/11 [==============================] - 0s 44ms/step - loss: 0.5196 - accuracy: 0.8760\n",
      "Epoch 10/10\n",
      "10/11 [==========================>...] - ETA: 0s - loss: 0.7130 - accuracy: 0.8500WARNING:tensorflow:Can save best model only with val_loss available, skipping.\n",
      "11/11 [==============================] - 1s 45ms/step - loss: 0.7257 - accuracy: 0.8465\n"
     ]
    }
   ],
   "source": [
    "groups_set = [0, 1, 2, 3, 4, 5, 6, 7, 8, 9, 10, 11, 12, 13, 14]\n",
    "num_signals = 6\n",
    "num_output_class = 2\n",
    "num_epochs = 10\n",
    "\n",
    "all_acc_histories = []\n",
    "all_loss_histories = []\n",
    "\n",
    "all_scores = []\n",
    "\n",
    "for i in groups_set:\n",
    "    test_index = groups_set[i]\n",
    "    train_index = [x for x in groups_set if x != test_index]\n",
    "    print(train_index, test_index)\n",
    "\n",
    "    X_train = np.concatenate(np.array([all_subjects_X[x] for x in train_index]))\n",
    "    y_train = np.concatenate(np.array([all_subjects_y[y] for y in train_index]))\n",
    "    X_test = all_subjects_X[test_index]\n",
    "    y_test = all_subjects_y[test_index]\n",
    "\n",
    "    weight_balance = y_train.tolist().count(0)/y_train.tolist().count(1)\n",
    "\n",
    "    X_train = np.asarray(X_train)\n",
    "    y_train = np.asarray(y_train)\n",
    "    X_test = np.asarray(X_test)\n",
    "    y_test = np.asarray(y_test)\n",
    "\n",
    "    #tf.keras.backend.clear_session()\n",
    "\n",
    "    y_train = tf.keras.utils.to_categorical(y_train, num_output_class)\n",
    "    y_test = tf.keras.utils.to_categorical(y_test, num_output_class)\n",
    "\n",
    "    tf.keras.backend.clear_session()\n",
    "\n",
    "    model = build_model(num_signals, num_output_class)\n",
    "\n",
    "    checkpoint = tf.keras.callbacks.ModelCheckpoint(\n",
    "        f\"wesad_binary_s{test_index}.h5\",  # Path to save the model file\n",
    "        monitor=\"loss\", # The metric name to monitor\n",
    "        save_best_only=True # If True, it only saves the \"best\" model according to the quantity monitored \n",
    "    )\n",
    "    \n",
    "    early_stopping = tf.keras.callbacks.EarlyStopping(\n",
    "        monitor=\"loss\", # Quantity to be monitored.\n",
    "        min_delta=0.01,     # Minimum change in the monitored quantity to qualify as an improvement, i.e. an absolute change of less than min_delta, will count as no improvement.\n",
    "        patience=10,        # Number of epochs with no improvement after which training will be stopped.\n",
    "    )\n",
    "\n",
    "    history = model.fit(\n",
    "    X_train, \n",
    "    y_train,\n",
    "    # validation_data=(X_test, y_test),\n",
    "    epochs=num_epochs, \n",
    "    batch_size=50,\n",
    "    verbose=1,\n",
    "    class_weight={0: 1, 1: weight_balance}, # to address the imbalance of the data\n",
    "    callbacks = [checkpoint]#, early_stopping]\n",
    ")   \n",
    "    #acc_history = history.history['val_accuracy']\n",
    "    #loss_history = history.history['val_loss']\n",
    "    #all_acc_histories.append(acc_history)\n",
    "    #all_loss_histories.append(loss_history)\n",
    "    score = model.evaluate(X_test, y_test, verbose=0) \n",
    "    # print('Test loss:', round(score[0], 2)) \n",
    "    # print('Test accuracy:', round(score[1], 2))\n",
    "\n",
    "    # test_loss.append(score[0])\n",
    "    # test_acc.append(score[1])\n",
    "    all_scores.append(score)\n",
    "\n",
    "    "
   ]
  },
  {
   "cell_type": "code",
   "execution_count": 141,
   "metadata": {},
   "outputs": [
    {
     "name": "stdout",
     "output_type": "stream",
     "text": [
      "Subject 0\n",
      "Max Accurary: 0.9714285731315613\n",
      "Min Loss: 0.27669352293014526\n",
      "\n",
      "Subject 1\n",
      "Max Accurary: 0.800000011920929\n",
      "Min Loss: 0.4736672043800354\n",
      "\n",
      "Subject 2\n",
      "Max Accurary: 1.0\n",
      "Min Loss: 0.0959198996424675\n",
      "\n",
      "Subject 3\n",
      "Max Accurary: 1.0\n",
      "Min Loss: 0.20394562184810638\n",
      "\n",
      "Subject 4\n",
      "Max Accurary: 0.9722222089767456\n",
      "Min Loss: 0.13313668966293335\n",
      "\n",
      "Subject 5\n",
      "Max Accurary: 1.0\n",
      "Min Loss: 0.1896345168352127\n",
      "\n",
      "Subject 6\n",
      "Max Accurary: 1.0\n",
      "Min Loss: 0.17317478358745575\n",
      "\n",
      "Subject 7\n",
      "Max Accurary: 0.9722222089767456\n",
      "Min Loss: 0.24084478616714478\n",
      "\n",
      "Subject 8\n",
      "Max Accurary: 1.0\n",
      "Min Loss: 0.09136440604925156\n",
      "\n",
      "Subject 9\n",
      "Max Accurary: 0.8648648858070374\n",
      "Min Loss: 0.4154405891895294\n",
      "\n",
      "Subject 10\n",
      "Max Accurary: 1.0\n",
      "Min Loss: 0.15251615643501282\n",
      "\n",
      "Subject 11\n",
      "Max Accurary: 0.7027027010917664\n",
      "Min Loss: 0.7087381482124329\n",
      "\n",
      "Subject 12\n",
      "Max Accurary: 1.0\n",
      "Min Loss: 0.19975809752941132\n",
      "\n",
      "Subject 13\n",
      "Max Accurary: 1.0\n",
      "Min Loss: 0.1782628297805786\n",
      "\n",
      "Subject 14\n",
      "Max Accurary: 0.7297297120094299\n",
      "Min Loss: 0.4891062080860138\n",
      "\n"
     ]
    }
   ],
   "source": [
    "for i in groups_set:\n",
    "    print(f'Subject {i}\\nMax Accurary: {max(all_acc_histories[i])}\\nMin Loss: {min(all_loss_histories[i])}\\n')"
   ]
  },
  {
   "cell_type": "code",
   "execution_count": 149,
   "metadata": {},
   "outputs": [
    {
     "data": {
      "text/plain": [
       "[0.5643645524978638, 0.7428571581840515]"
      ]
     },
     "execution_count": 149,
     "metadata": {},
     "output_type": "execute_result"
    }
   ],
   "source": []
  },
  {
   "cell_type": "code",
   "execution_count": 155,
   "metadata": {},
   "outputs": [
    {
     "data": {
      "text/plain": [
       "0.4582371711730957"
      ]
     },
     "execution_count": 155,
     "metadata": {},
     "output_type": "execute_result"
    }
   ],
   "source": [
    "all_scores[0][0]"
   ]
  },
  {
   "cell_type": "code",
   "execution_count": 157,
   "metadata": {},
   "outputs": [
    {
     "data": {
      "text/plain": [
       "[[0.4582371711730957, 0.8571428656578064],\n",
       " [0.5643645524978638, 0.7428571581840515],\n",
       " [0.20774409174919128, 1.0],\n",
       " [0.19472549855709076, 1.0],\n",
       " [0.20889171957969666, 0.9722222089767456],\n",
       " [0.45748409628868103, 0.9444444179534912],\n",
       " [0.4060139060020447, 0.9722222089767456],\n",
       " [0.5993079543113708, 0.6388888955116272],\n",
       " [0.14154163002967834, 1.0],\n",
       " [0.6408984065055847, 0.7567567825317383],\n",
       " [0.42695778608322144, 0.7837837934494019],\n",
       " [0.7229179739952087, 0.29729729890823364],\n",
       " [0.3181799650192261, 1.0],\n",
       " [0.4798763394355774, 0.8918918967247009],\n",
       " [1.0553820133209229, 0.29729729890823364]]"
      ]
     },
     "execution_count": 157,
     "metadata": {},
     "output_type": "execute_result"
    }
   ],
   "source": [
    "all_scores"
   ]
  },
  {
   "cell_type": "code",
   "execution_count": 156,
   "metadata": {},
   "outputs": [
    {
     "name": "stdout",
     "output_type": "stream",
     "text": [
      "0: 0.8571428656578064\n",
      "1: 0.7428571581840515\n",
      "2: 1.0\n",
      "3: 1.0\n",
      "4: 0.9722222089767456\n",
      "5: 0.9444444179534912\n",
      "6: 0.9722222089767456\n",
      "7: 0.6388888955116272\n",
      "8: 1.0\n",
      "9: 0.7567567825317383\n",
      "10: 0.7837837934494019\n",
      "11: 0.29729729890823364\n",
      "12: 1.0\n",
      "13: 0.8918918967247009\n",
      "14: 0.29729729890823364\n"
     ]
    }
   ],
   "source": [
    "for i in groups_set:\n",
    "    print(f'{i}: {all_scores[i][1]}')"
   ]
  },
  {
   "cell_type": "markdown",
   "metadata": {},
   "source": [
    "### 200 EPOCHS"
   ]
  },
  {
   "cell_type": "code",
   "execution_count": 138,
   "metadata": {},
   "outputs": [
    {
     "data": {
      "image/png": "[encoded data removed]",
      "text/plain": [
       "<Figure size 432x288 with 1 Axes>"
      ]
     },
     "metadata": {
      "needs_background": "light"
     },
     "output_type": "display_data"
    }
   ],
   "source": [
    "average_acc_history = [\n",
    "    np.mean([x[i] for x in all_acc_histories]) for i in range(num_epochs)\n",
    "]\n",
    "\n",
    "plt.plot(range(1, len(average_acc_history) + 1), average_acc_history)\n",
    "plt.xlabel(\"Epochs\")\n",
    "plt.ylabel(\"Validaton Accuracy\")\n",
    "plt.show()"
   ]
  },
  {
   "cell_type": "code",
   "execution_count": 139,
   "metadata": {},
   "outputs": [
    {
     "data": {
      "image/png": "[encoded data removed]",
      "text/plain": [
       "<Figure size 432x288 with 1 Axes>"
      ]
     },
     "metadata": {
      "needs_background": "light"
     },
     "output_type": "display_data"
    }
   ],
   "source": [
    "average_loss_history = [\n",
    "    np.mean([x[i] for x in all_loss_histories]) for i in range(num_epochs)\n",
    "]\n",
    "\n",
    "plt.plot(range(1, len(average_loss_history) + 1), average_loss_history)\n",
    "plt.xlabel(\"Epochs\")\n",
    "plt.ylabel(\"Validaton Loss\")\n",
    "plt.show()"
   ]
  },
  {
   "cell_type": "code",
   "execution_count": 58,
   "metadata": {},
   "outputs": [
    {
     "data": {
      "image/png": "[encoded data removed]",
      "text/plain": [
       "<Figure size 432x288 with 1 Axes>"
      ]
     },
     "metadata": {
      "needs_background": "light"
     },
     "output_type": "display_data"
    }
   ],
   "source": [
    "average_acc_history = [\n",
    "    np.mean([x[i] for x in all_acc_histories]) for i in range(num_epochs)\n",
    "]\n",
    "\n",
    "plt.plot(range(1, len(average_acc_history) + 1), average_acc_history)\n",
    "plt.xlabel(\"Epochs\")\n",
    "plt.ylabel(\"Validaton Accuracy\")\n",
    "plt.show()"
   ]
  },
  {
   "cell_type": "code",
   "execution_count": 59,
   "metadata": {},
   "outputs": [
    {
     "data": {
      "image/png": "[encoded data removed]",
      "text/plain": [
       "<Figure size 432x288 with 1 Axes>"
      ]
     },
     "metadata": {
      "needs_background": "light"
     },
     "output_type": "display_data"
    }
   ],
   "source": [
    "average_loss_history = [\n",
    "    np.mean([x[i] for x in all_loss_histories]) for i in range(num_epochs)\n",
    "]\n",
    "\n",
    "plt.plot(range(1, len(average_loss_history) + 1), average_loss_history)\n",
    "plt.xlabel(\"Epochs\")\n",
    "plt.ylabel(\"Validaton Loss\")\n",
    "plt.show()"
   ]
  },
  {
   "cell_type": "code",
   "execution_count": 49,
   "metadata": {},
   "outputs": [
    {
     "data": {
      "image/png": "[encoded data removed]",
      "text/plain": [
       "<Figure size 432x288 with 1 Axes>"
      ]
     },
     "metadata": {
      "needs_background": "light"
     },
     "output_type": "display_data"
    }
   ],
   "source": [
    "average_acc_history = [\n",
    "    np.mean([x[i] for x in all_acc_histories]) for i in range(num_epochs)\n",
    "]\n",
    "\n",
    "plt.plot(range(1, len(average_acc_history) + 1), average_acc_history)\n",
    "plt.xlabel(\"Epochs\")\n",
    "plt.ylabel(\"Validaton Accuracy\")\n",
    "plt.show()"
   ]
  },
  {
   "cell_type": "code",
   "execution_count": 50,
   "metadata": {},
   "outputs": [
    {
     "data": {
      "image/png": "[encoded data removed]",
      "text/plain": [
       "<Figure size 432x288 with 1 Axes>"
      ]
     },
     "metadata": {
      "needs_background": "light"
     },
     "output_type": "display_data"
    }
   ],
   "source": [
    "average_loss_history = [\n",
    "    np.mean([x[i] for x in all_loss_histories]) for i in range(num_epochs)\n",
    "]\n",
    "\n",
    "plt.plot(range(1, len(average_loss_history) + 1), average_loss_history)\n",
    "plt.xlabel(\"Epochs\")\n",
    "plt.ylabel(\"Validaton Loss\")\n",
    "plt.show()"
   ]
  },
  {
   "cell_type": "code",
   "execution_count": 23,
   "metadata": {},
   "outputs": [
    {
     "data": {
      "image/png": "[encoded data removed]",
      "text/plain": [
       "<Figure size 432x288 with 1 Axes>"
      ]
     },
     "metadata": {
      "needs_background": "light"
     },
     "output_type": "display_data"
    }
   ],
   "source": [
    "average_acc_history = [\n",
    "    np.mean([x[i] for x in all_acc_histories]) for i in range(num_epochs)\n",
    "]\n",
    "\n",
    "plt.plot(range(1, len(average_acc_history) + 1), average_acc_history)\n",
    "plt.xlabel(\"Epochs\")\n",
    "plt.ylabel(\"Validaton Accuracy\")\n",
    "plt.show()"
   ]
  },
  {
   "cell_type": "code",
   "execution_count": 24,
   "metadata": {},
   "outputs": [
    {
     "data": {
      "image/png": "[encoded data removed]",
      "text/plain": [
       "<Figure size 432x288 with 1 Axes>"
      ]
     },
     "metadata": {
      "needs_background": "light"
     },
     "output_type": "display_data"
    }
   ],
   "source": [
    "average_loss_history = [\n",
    "    np.mean([x[i] for x in all_loss_histories]) for i in range(num_epochs)\n",
    "]\n",
    "\n",
    "plt.plot(range(1, len(average_loss_history) + 1), average_loss_history)\n",
    "plt.xlabel(\"Epochs\")\n",
    "plt.ylabel(\"Validaton Loss\")\n",
    "plt.show()"
   ]
  },
  {
   "cell_type": "code",
   "execution_count": 18,
   "metadata": {},
   "outputs": [
    {
     "data": {
      "text/plain": [
       "[0.7142857313156128,\n",
       " 0.6857143044471741,\n",
       " 0.7222222089767456,\n",
       " 0.7222222089767456,\n",
       " 0.7222222089767456,\n",
       " 0.7222222089767456,\n",
       " 0.7222222089767456,\n",
       " 0.7222222089767456,\n",
       " 0.7027027010917664,\n",
       " 0.45945945382118225,\n",
       " 0.7027027010917664,\n",
       " 0.7027027010917664,\n",
       " 0.7027027010917664,\n",
       " 0.7027027010917664,\n",
       " 0.6216216087341309]"
      ]
     },
     "execution_count": 18,
     "metadata": {},
     "output_type": "execute_result"
    }
   ],
   "source": [
    "test_acc"
   ]
  },
  {
   "cell_type": "code",
   "execution_count": 81,
   "metadata": {},
   "outputs": [],
   "source": [
    "average_acc = sum(test_acc)/len(test_acc)"
   ]
  },
  {
   "cell_type": "code",
   "execution_count": 299,
   "metadata": {},
   "outputs": [
    {
     "name": "stdout",
     "output_type": "stream",
     "text": [
      "Model: \"sequential_11\"\n",
      "_________________________________________________________________\n",
      " Layer (type)                Output Shape              Param #   \n",
      "=================================================================\n",
      " conv2d_33 (Conv2D)          (None, 6, 210, 64)        256       \n",
      "                                                                 \n",
      " dropout_66 (Dropout)        (None, 6, 210, 64)        0         \n",
      "                                                                 \n",
      " conv2d_34 (Conv2D)          (None, 6, 210, 64)        12352     \n",
      "                                                                 \n",
      " max_pooling2d_22 (MaxPoolin  (None, 6, 105, 64)       0         \n",
      " g2D)                                                            \n",
      "                                                                 \n",
      " dropout_67 (Dropout)        (None, 6, 105, 64)        0         \n",
      "                                                                 \n",
      " conv2d_35 (Conv2D)          (None, 6, 105, 64)        12352     \n",
      "                                                                 \n",
      " dropout_68 (Dropout)        (None, 6, 105, 64)        0         \n",
      "                                                                 \n",
      " max_pooling2d_23 (MaxPoolin  (None, 6, 52, 64)        0         \n",
      " g2D)                                                            \n",
      "                                                                 \n",
      " dropout_69 (Dropout)        (None, 6, 52, 64)         0         \n",
      "                                                                 \n",
      " flatten_11 (Flatten)        (None, 19968)             0         \n",
      "                                                                 \n",
      " dense_33 (Dense)            (None, 128)               2556032   \n",
      "                                                                 \n",
      " dropout_70 (Dropout)        (None, 128)               0         \n",
      "                                                                 \n",
      " dense_34 (Dense)            (None, 64)                8256      \n",
      "                                                                 \n",
      " dropout_71 (Dropout)        (None, 64)                0         \n",
      "                                                                 \n",
      " dense_35 (Dense)            (None, 2)                 130       \n",
      "                                                                 \n",
      "=================================================================\n",
      "Total params: 2,589,378\n",
      "Trainable params: 2,589,378\n",
      "Non-trainable params: 0\n",
      "_________________________________________________________________\n"
     ]
    }
   ],
   "source": [
    "model.summary()"
   ]
  },
  {
   "cell_type": "code",
   "execution_count": 52,
   "metadata": {},
   "outputs": [],
   "source": [
    "X_train, X_test, y_train, y_test = train_test_split(X, y, test_size=0.2)\n",
    "\n",
    "X_train, X_val, y_train, y_val = train_test_split(X_train, y_train, test_size=0.25, random_state=1) # 0.25 x 0.8 = 0.2\n",
    "\n",
    "X_train = np.asarray(X_train)\n",
    "y_train = np.asarray(y_train)\n",
    "X_test = np.asarray(X_test)\n",
    "y_test = np.asarray(y_test)\n",
    "X_val = np.asarray(X_val)\n",
    "y_val = np.asarray(y_val)\n",
    "\n",
    "\n",
    "y_train = tf.keras.utils.to_categorical(y_train, num_output_class)\n",
    "y_test = tf.keras.utils.to_categorical(y_test, num_output_class)\n",
    "y_val = tf.keras.utils.to_categorical(y_val, num_output_class)"
   ]
  },
  {
   "cell_type": "code",
   "execution_count": 24,
   "metadata": {},
   "outputs": [],
   "source": [
    "predictions = model.predict(X_train)"
   ]
  },
  {
   "cell_type": "code",
   "execution_count": 31,
   "metadata": {},
   "outputs": [
    {
     "data": {
      "text/plain": [
       "1.0973594"
      ]
     },
     "execution_count": 31,
     "metadata": {},
     "output_type": "execute_result"
    }
   ],
   "source": [
    "np.sum(predictions[0])"
   ]
  },
  {
   "cell_type": "code",
   "execution_count": 28,
   "metadata": {},
   "outputs": [
    {
     "data": {
      "image/png": "[encoded data removed]",
      "text/plain": [
       "<Figure size 432x288 with 1 Axes>"
      ]
     },
     "metadata": {
      "needs_background": "light"
     },
     "output_type": "display_data"
    }
   ],
   "source": [
    "history_dict = history.history\n",
    "loss_values = history_dict['loss']\n",
    "epochs = range(1, len(loss_values) + 1)\n",
    "plt.plot(epochs, loss_values, 'bo', label='Training loss')\n",
    "plt.title(\"Training loss\")\n",
    "plt.xlabel('Epochs')\n",
    "plt.ylabel('Loss')\n",
    "plt.legend()\n",
    "plt.show()"
   ]
  },
  {
   "cell_type": "code",
   "execution_count": 29,
   "metadata": {},
   "outputs": [
    {
     "data": {
      "image/png": "[encoded data removed]",
      "text/plain": [
       "<Figure size 432x288 with 1 Axes>"
      ]
     },
     "metadata": {
      "needs_background": "light"
     },
     "output_type": "display_data"
    }
   ],
   "source": [
    "plt.clf()\n",
    "acc = history_dict['accuracy']\n",
    "plt.plot(epochs, acc, 'bo', label='Training acc')\n",
    "plt.title(\"Training accuracy\")\n",
    "plt.xlabel('Epochs')\n",
    "plt.ylabel('Accuracy')\n",
    "plt.legend()\n",
    "plt.show()"
   ]
  },
  {
   "cell_type": "code",
   "execution_count": 96,
   "metadata": {},
   "outputs": [],
   "source": [
    "train = [1,2,3,5]\n",
    "test = [2,4]\n",
    "\n",
    "df_test_train = pd.DataFrame(train, columns=['a'])\n",
    "df_test_test = pd.DataFrame(test, columns=['a'])"
   ]
  },
  {
   "cell_type": "code",
   "execution_count": 100,
   "metadata": {},
   "outputs": [
    {
     "data": {
      "text/html": [
       "<div>\n",
       "<style scoped>\n",
       "    .dataframe tbody tr th:only-of-type {\n",
       "        vertical-align: middle;\n",
       "    }\n",
       "\n",
       "    .dataframe tbody tr th {\n",
       "        vertical-align: top;\n",
       "    }\n",
       "\n",
       "    .dataframe thead th {\n",
       "        text-align: right;\n",
       "    }\n",
       "</style>\n",
       "<table border=\"1\" class=\"dataframe\">\n",
       "  <thead>\n",
       "    <tr style=\"text-align: right;\">\n",
       "      <th></th>\n",
       "      <th>a</th>\n",
       "    </tr>\n",
       "  </thead>\n",
       "  <tbody>\n",
       "    <tr>\n",
       "      <th>0</th>\n",
       "      <td>0.00</td>\n",
       "    </tr>\n",
       "    <tr>\n",
       "      <th>1</th>\n",
       "      <td>0.25</td>\n",
       "    </tr>\n",
       "    <tr>\n",
       "      <th>2</th>\n",
       "      <td>0.50</td>\n",
       "    </tr>\n",
       "    <tr>\n",
       "      <th>3</th>\n",
       "      <td>1.00</td>\n",
       "    </tr>\n",
       "  </tbody>\n",
       "</table>\n",
       "</div>"
      ],
      "text/plain": [
       "      a\n",
       "0  0.00\n",
       "1  0.25\n",
       "2  0.50\n",
       "3  1.00"
      ]
     },
     "execution_count": 100,
     "metadata": {},
     "output_type": "execute_result"
    }
   ],
   "source": [
    "df_test_train"
   ]
  },
  {
   "cell_type": "code",
   "execution_count": 99,
   "metadata": {},
   "outputs": [
    {
     "data": {
      "text/html": [
       "<div>\n",
       "<style scoped>\n",
       "    .dataframe tbody tr th:only-of-type {\n",
       "        vertical-align: middle;\n",
       "    }\n",
       "\n",
       "    .dataframe tbody tr th {\n",
       "        vertical-align: top;\n",
       "    }\n",
       "\n",
       "    .dataframe thead th {\n",
       "        text-align: right;\n",
       "    }\n",
       "</style>\n",
       "<table border=\"1\" class=\"dataframe\">\n",
       "  <thead>\n",
       "    <tr style=\"text-align: right;\">\n",
       "      <th></th>\n",
       "      <th>a</th>\n",
       "    </tr>\n",
       "  </thead>\n",
       "  <tbody>\n",
       "    <tr>\n",
       "      <th>0</th>\n",
       "      <td>0.0</td>\n",
       "    </tr>\n",
       "    <tr>\n",
       "      <th>1</th>\n",
       "      <td>1.0</td>\n",
       "    </tr>\n",
       "  </tbody>\n",
       "</table>\n",
       "</div>"
      ],
      "text/plain": [
       "     a\n",
       "0  0.0\n",
       "1  1.0"
      ]
     },
     "execution_count": 99,
     "metadata": {},
     "output_type": "execute_result"
    }
   ],
   "source": [
    "df_test_test"
   ]
  },
  {
   "cell_type": "code",
   "execution_count": 98,
   "metadata": {},
   "outputs": [],
   "source": [
    "df_test_train = (df_test_train-df_test_train.min())/(df_test_train.max()-df_test_train.min())\n",
    "df_test_test = (df_test_test-df_test_test.min())/(df_test_test.max()-df_test_test.min())"
   ]
  },
  {
   "cell_type": "markdown",
   "metadata": {},
   "source": [
    "# Fragen\n",
    "\n",
    "- Wie und wann Labels entfernen?"
   ]
  }
 ],
 "metadata": {
  "kernelspec": {
   "display_name": "Python 3.10.4 ('sdfw')",
   "language": "python",
   "name": "python3"
  },
  "language_info": {
   "codemirror_mode": {
    "name": "ipython",
    "version": 3
   },
   "file_extension": ".py",
   "mimetype": "text/x-python",
   "name": "python",
   "nbconvert_exporter": "python",
   "pygments_lexer": "ipython3",
   "version": "3.9.13"
  },
  "orig_nbformat": 4,
  "vscode": {
   "interpreter": {
    "hash": "421d3e5045432d1c81a7cbcf776867c261bbaddc029f3e12ea9459c25f8592c5"
   }
  }
 },
 "nbformat": 4,
 "nbformat_minor": 2
}
