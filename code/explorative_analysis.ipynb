{
 "cells": [
  {
   "cell_type": "code",
   "execution_count": 4,
   "metadata": {
    "id": "sPj6wrBeejUk"
   },
   "outputs": [],
   "source": [
    "import pickle\n",
    "import os\n",
    "import numpy as np\n",
    "import pandas as pd\n",
    "import seaborn as sns\n",
    "import matplotlib.pyplot as plt\n",
    "import scipy"
   ]
  },
  {
   "cell_type": "code",
   "execution_count": 5,
   "metadata": {},
   "outputs": [],
   "source": [
    "DATA_PATH = os.path.realpath(\"../data/WESAD\")"
   ]
  },
  {
   "cell_type": "code",
   "execution_count": 6,
   "metadata": {
    "id": "Xv4nzRc0fGo2"
   },
   "outputs": [],
   "source": [
    "class Subject:\n",
    "\n",
    "    def __init__(self, main_path, subject_number):\n",
    "        self.name = f'S{subject_number}'\n",
    "        self.subject_keys = ['signal', 'label', 'subject']\n",
    "        self.signal_keys = ['chest', 'wrist']\n",
    "        self.chest_keys = ['ACC', 'ECG', 'EMG', 'EDA', 'Temp', 'Resp']\n",
    "        self.wrist_keys = ['ACC', 'BVP', 'EDA', 'TEMP']\n",
    "        with open(os.path.join(main_path, self.name) + '/' + self.name + '.pkl', 'rb') as file:\n",
    "            self.data = pickle.load(file, encoding='latin1')\n",
    "        self.labels = self.data['label']\n",
    "\n",
    "    def get_wrist_data(self):\n",
    "        data = self.data['signal']['wrist']\n",
    "        return data\n",
    "\n",
    "    def get_chest_data(self):\n",
    "        return self.data['signal']['chest']"
   ]
  },
  {
   "cell_type": "code",
   "execution_count": 7,
   "metadata": {
    "id": "G5ApA_aGfJ3j"
   },
   "outputs": [],
   "source": [
    "s10 = Subject(DATA_PATH, '10')"
   ]
  },
  {
   "cell_type": "code",
   "execution_count": 8,
   "metadata": {
    "id": "uY8YBVAQfYR0"
   },
   "outputs": [],
   "source": [
    "s10_wrist_data = s10.get_wrist_data()"
   ]
  },
  {
   "cell_type": "code",
   "execution_count": 9,
   "metadata": {},
   "outputs": [
    {
     "data": {
      "text/plain": [
       "351744"
      ]
     },
     "execution_count": 9,
     "metadata": {},
     "output_type": "execute_result"
    }
   ],
   "source": [
    "len(s10_wrist_data['BVP'])"
   ]
  },
  {
   "cell_type": "code",
   "execution_count": 15,
   "metadata": {},
   "outputs": [
    {
     "data": {
      "text/plain": [
       "array([[10.17],\n",
       "       [12.04],\n",
       "       [13.01],\n",
       "       [13.07],\n",
       "       [12.33],\n",
       "       [10.99],\n",
       "       [ 9.38],\n",
       "       [ 7.82],\n",
       "       [ 6.61],\n",
       "       [ 5.91]])"
      ]
     },
     "execution_count": 15,
     "metadata": {},
     "output_type": "execute_result"
    }
   ],
   "source": [
    "s10_wrist_data['BVP'][:10]"
   ]
  },
  {
   "cell_type": "markdown",
   "metadata": {
    "id": "uvnyLrF7hIgb"
   },
   "source": [
    "# Data Preparation"
   ]
  },
  {
   "cell_type": "markdown",
   "metadata": {
    "id": "XgVeW7GZiDqc"
   },
   "source": [
    "**Wrist - Empatica E4**\n",
    "\n",
    "ACC: three-axis acceleration (32 Hz)\n",
    "\n",
    "BVP: blood volume pulse (64 Hz)\n",
    "\n",
    "EDA: electrodermal activity (4 Hz)\n",
    "\n",
    "TEMP: skin temperature (4 Hz)"
   ]
  },
  {
   "cell_type": "code",
   "execution_count": 19,
   "metadata": {},
   "outputs": [
    {
     "data": {
      "text/plain": [
       "351744"
      ]
     },
     "execution_count": 19,
     "metadata": {},
     "output_type": "execute_result"
    }
   ],
   "source": [
    "len(s10_wrist_data['BVP'])"
   ]
  },
  {
   "cell_type": "code",
   "execution_count": 11,
   "metadata": {
    "id": "PwJei-1rf1sw"
   },
   "outputs": [],
   "source": [
    "# Turn e4-wrist-data into datafames\n",
    "\n",
    "eda_df = pd.DataFrame(s10_wrist_data['EDA'], columns=['EDA'])\n",
    "bvp_df = pd.DataFrame(s10_wrist_data['BVP'], columns=['BVP'])\n",
    "acc_df = pd.DataFrame(s10_wrist_data['ACC'], columns=['ACC_x', 'ACC_y', 'ACC_z'])\n",
    "temp_df = pd.DataFrame(s10_wrist_data['TEMP'], columns=['TEMP'])\n",
    "label_df = pd.DataFrame(s10.labels, columns=['label'])"
   ]
  },
  {
   "cell_type": "code",
   "execution_count": 16,
   "metadata": {},
   "outputs": [
    {
     "data": {
      "text/plain": [
       "label\n",
       "0        1589000\n",
       "1         826000\n",
       "4         557200\n",
       "2         507500\n",
       "3         260400\n",
       "7          39900\n",
       "5          35700\n",
       "6          31500\n",
       "dtype: int64"
      ]
     },
     "execution_count": 16,
     "metadata": {},
     "output_type": "execute_result"
    }
   ],
   "source": [
    "label_df.value_counts()"
   ]
  },
  {
   "cell_type": "code",
   "execution_count": 15,
   "metadata": {
    "colab": {
     "base_uri": "https://localhost:8080/"
    },
    "id": "Z442gSlbiyYQ",
    "outputId": "efcea2e4-8830-47b7-9286-34fe9d036815"
   },
   "outputs": [
    {
     "data": {
      "text/plain": [
       "label\n",
       "1        826000\n",
       "2        507500\n",
       "3        260400\n",
       "dtype: int64"
      ]
     },
     "execution_count": 15,
     "metadata": {},
     "output_type": "execute_result"
    }
   ],
   "source": [
    "label_df_clean.value_counts()"
   ]
  },
  {
   "cell_type": "code",
   "execution_count": 13,
   "metadata": {},
   "outputs": [
    {
     "data": {
      "text/plain": [
       "3847200"
      ]
     },
     "execution_count": 13,
     "metadata": {},
     "output_type": "execute_result"
    }
   ],
   "source": [
    "len(label_df)"
   ]
  },
  {
   "cell_type": "code",
   "execution_count": 14,
   "metadata": {},
   "outputs": [],
   "source": [
    "label_df_clean = label_df[label_df['label'].isin([1,2,3])]"
   ]
  },
  {
   "cell_type": "code",
   "execution_count": 24,
   "metadata": {},
   "outputs": [],
   "source": [
    "label_df_bsa = label_df_clean['label'].map({1: 'neutral', 2: 'stress', 3: 'amusement'})\n",
    "label_df_binary = label_df_clean['label'].map({1: 'non-stress', 2: 'stress', 3: 'non-stress'})"
   ]
  },
  {
   "cell_type": "code",
   "execution_count": 25,
   "metadata": {},
   "outputs": [
    {
     "data": {
      "text/plain": [
       "neutral      826000\n",
       "stress       507500\n",
       "amusement    260400\n",
       "Name: label, dtype: int64"
      ]
     },
     "execution_count": 25,
     "metadata": {},
     "output_type": "execute_result"
    }
   ],
   "source": [
    "label_df_bsa.value_counts()"
   ]
  },
  {
   "cell_type": "code",
   "execution_count": 26,
   "metadata": {},
   "outputs": [
    {
     "data": {
      "text/plain": [
       "non-stress    1086400\n",
       "stress         507500\n",
       "Name: label, dtype: int64"
      ]
     },
     "execution_count": 26,
     "metadata": {},
     "output_type": "execute_result"
    }
   ],
   "source": [
    "label_df_binary.value_counts()"
   ]
  },
  {
   "cell_type": "code",
   "execution_count": 30,
   "metadata": {},
   "outputs": [
    {
     "data": {
      "image/png": "[encoded data removed]",
      "text/plain": [
       "<Figure size 432x288 with 1 Axes>"
      ]
     },
     "metadata": {
      "needs_background": "light"
     },
     "output_type": "display_data"
    }
   ],
   "source": [
    "baseline_indices = label_df[label_df['label'] == 1]\n",
    "stress_indices = label_df[label_df['label'] == 2]\n",
    "amusement_indices = label_df[label_df['label'] == 3]\n",
    "label = [\"baseline\", \"stress\", \"amusement\"]\n",
    "y_ax = [len(baseline_indices), len(stress_indices), len(amusement_indices)]\n",
    "bsa_barplot = sns.barplot(x=label, y=y_ax)\n",
    "fig = bsa_barplot.get_figure()\n",
    "fig.savefig(\"bsa_barplot.png\") "
   ]
  },
  {
   "cell_type": "code",
   "execution_count": 154,
   "metadata": {},
   "outputs": [
    {
     "data": {
      "text/plain": [
       "1086400"
      ]
     },
     "execution_count": 154,
     "metadata": {},
     "output_type": "execute_result"
    }
   ],
   "source": [
    "max(y_ax)"
   ]
  },
  {
   "cell_type": "code",
   "execution_count": 164,
   "metadata": {},
   "outputs": [
    {
     "data": {
      "image/png": "[encoded data removed]",
      "text/plain": [
       "<Figure size 432x288 with 1 Axes>"
      ]
     },
     "metadata": {
      "needs_background": "light"
     },
     "output_type": "display_data"
    }
   ],
   "source": [
    "label = [\"non-stress\", \"stress\"]\n",
    "y_ax = [len(baseline_indices)+ len(amusement_indices), len(stress_indices)]\n",
    "plt.ylim(0, max(y_ax))\n",
    "nss_barplot = sns.barplot(x=label, y=y_ax)\n",
    "fig = nss_barplot.get_figure()\n",
    "fig.savefig(\"nss_barplot.png\") "
   ]
  },
  {
   "cell_type": "code",
   "execution_count": 32,
   "metadata": {
    "id": "kKKaH6T1f37h"
   },
   "outputs": [],
   "source": [
    "# DATA "
   ]
  },
  {
   "cell_type": "code",
   "execution_count": 64,
   "metadata": {
    "id": "D3AKpwDFmtJG"
   },
   "outputs": [],
   "source": [
    "frequency_dict = {'ACC': 32, 'BVP': 64, 'EDA': 4, 'TEMP': 4, 'label': 64}"
   ]
  },
  {
   "cell_type": "code",
   "execution_count": 65,
   "metadata": {
    "id": "do1jXPigmoG4"
   },
   "outputs": [],
   "source": [
    "eda_df.index = [(1 / frequency_dict['EDA']) * i for i in range(len(eda_df))]\n",
    "bvp_df.index = [(1 / frequency_dict['BVP']) * i for i in range(len(bvp_df))]\n",
    "acc_df.index = [(1 / frequency_dict['ACC']) * i for i in range(len(acc_df))]\n",
    "temp_df.index = [(1 / frequency_dict['TEMP']) * i for i in range(len(temp_df))]\n",
    "label_df.index = [(1 / frequency_dict['label']) * i for i in range(len(label_df))]"
   ]
  },
  {
   "cell_type": "code",
   "execution_count": 66,
   "metadata": {
    "id": "-VrWmng1nRmo"
   },
   "outputs": [],
   "source": [
    "eda_df.index = pd.to_datetime(eda_df.index, unit='s')\n",
    "bvp_df.index = pd.to_datetime(bvp_df.index, unit='s')\n",
    "temp_df.index = pd.to_datetime(temp_df.index, unit='s')\n",
    "acc_df.index = pd.to_datetime(acc_df.index, unit='s')\n",
    "label_df.index = pd.to_datetime(label_df.index, unit='s')"
   ]
  },
  {
   "cell_type": "code",
   "execution_count": 67,
   "metadata": {
    "colab": {
     "base_uri": "https://localhost:8080/"
    },
    "id": "HwiNfiENmxlh",
    "outputId": "f8b78c63-6d0b-43f6-a08f-8b3b94025bca"
   },
   "outputs": [
    {
     "data": {
      "text/plain": [
       "DatetimeIndex([       '1970-01-01 00:00:00', '1970-01-01 00:00:00.015625',\n",
       "               '1970-01-01 00:00:00.031250', '1970-01-01 00:00:00.046875',\n",
       "               '1970-01-01 00:00:00.062500', '1970-01-01 00:00:00.078125',\n",
       "               '1970-01-01 00:00:00.093750', '1970-01-01 00:00:00.109375',\n",
       "               '1970-01-01 00:00:00.125000', '1970-01-01 00:00:00.140625',\n",
       "               ...\n",
       "               '1970-01-01 01:31:35.843750', '1970-01-01 01:31:35.859375',\n",
       "               '1970-01-01 01:31:35.875000', '1970-01-01 01:31:35.890625',\n",
       "               '1970-01-01 01:31:35.906250', '1970-01-01 01:31:35.921875',\n",
       "               '1970-01-01 01:31:35.937500', '1970-01-01 01:31:35.953125',\n",
       "               '1970-01-01 01:31:35.968750', '1970-01-01 01:31:35.984375'],\n",
       "              dtype='datetime64[ns]', length=351744, freq=None)"
      ]
     },
     "execution_count": 67,
     "metadata": {},
     "output_type": "execute_result"
    }
   ],
   "source": [
    "bvp_df.index"
   ]
  },
  {
   "cell_type": "code",
   "execution_count": 175,
   "metadata": {},
   "outputs": [
    {
     "data": {
      "text/html": [
       "<div>\n",
       "<style scoped>\n",
       "    .dataframe tbody tr th:only-of-type {\n",
       "        vertical-align: middle;\n",
       "    }\n",
       "\n",
       "    .dataframe tbody tr th {\n",
       "        vertical-align: top;\n",
       "    }\n",
       "\n",
       "    .dataframe thead th {\n",
       "        text-align: right;\n",
       "    }\n",
       "</style>\n",
       "<table border=\"1\" class=\"dataframe\">\n",
       "  <thead>\n",
       "    <tr style=\"text-align: right;\">\n",
       "      <th></th>\n",
       "      <th>EDA</th>\n",
       "      <th>BVP</th>\n",
       "      <th>TEMP</th>\n",
       "      <th>ACC_x</th>\n",
       "      <th>ACC_y</th>\n",
       "      <th>ACC_z</th>\n",
       "      <th>label</th>\n",
       "    </tr>\n",
       "  </thead>\n",
       "  <tbody>\n",
       "    <tr>\n",
       "      <th>3847190</th>\n",
       "      <td>NaN</td>\n",
       "      <td>NaN</td>\n",
       "      <td>NaN</td>\n",
       "      <td>NaN</td>\n",
       "      <td>NaN</td>\n",
       "      <td>NaN</td>\n",
       "      <td>0</td>\n",
       "    </tr>\n",
       "    <tr>\n",
       "      <th>3847191</th>\n",
       "      <td>NaN</td>\n",
       "      <td>NaN</td>\n",
       "      <td>NaN</td>\n",
       "      <td>NaN</td>\n",
       "      <td>NaN</td>\n",
       "      <td>NaN</td>\n",
       "      <td>0</td>\n",
       "    </tr>\n",
       "    <tr>\n",
       "      <th>3847192</th>\n",
       "      <td>NaN</td>\n",
       "      <td>NaN</td>\n",
       "      <td>NaN</td>\n",
       "      <td>NaN</td>\n",
       "      <td>NaN</td>\n",
       "      <td>NaN</td>\n",
       "      <td>0</td>\n",
       "    </tr>\n",
       "    <tr>\n",
       "      <th>3847193</th>\n",
       "      <td>NaN</td>\n",
       "      <td>NaN</td>\n",
       "      <td>NaN</td>\n",
       "      <td>NaN</td>\n",
       "      <td>NaN</td>\n",
       "      <td>NaN</td>\n",
       "      <td>0</td>\n",
       "    </tr>\n",
       "    <tr>\n",
       "      <th>3847194</th>\n",
       "      <td>NaN</td>\n",
       "      <td>NaN</td>\n",
       "      <td>NaN</td>\n",
       "      <td>NaN</td>\n",
       "      <td>NaN</td>\n",
       "      <td>NaN</td>\n",
       "      <td>0</td>\n",
       "    </tr>\n",
       "    <tr>\n",
       "      <th>3847195</th>\n",
       "      <td>NaN</td>\n",
       "      <td>NaN</td>\n",
       "      <td>NaN</td>\n",
       "      <td>NaN</td>\n",
       "      <td>NaN</td>\n",
       "      <td>NaN</td>\n",
       "      <td>0</td>\n",
       "    </tr>\n",
       "    <tr>\n",
       "      <th>3847196</th>\n",
       "      <td>NaN</td>\n",
       "      <td>NaN</td>\n",
       "      <td>NaN</td>\n",
       "      <td>NaN</td>\n",
       "      <td>NaN</td>\n",
       "      <td>NaN</td>\n",
       "      <td>0</td>\n",
       "    </tr>\n",
       "    <tr>\n",
       "      <th>3847197</th>\n",
       "      <td>NaN</td>\n",
       "      <td>NaN</td>\n",
       "      <td>NaN</td>\n",
       "      <td>NaN</td>\n",
       "      <td>NaN</td>\n",
       "      <td>NaN</td>\n",
       "      <td>0</td>\n",
       "    </tr>\n",
       "    <tr>\n",
       "      <th>3847198</th>\n",
       "      <td>NaN</td>\n",
       "      <td>NaN</td>\n",
       "      <td>NaN</td>\n",
       "      <td>NaN</td>\n",
       "      <td>NaN</td>\n",
       "      <td>NaN</td>\n",
       "      <td>0</td>\n",
       "    </tr>\n",
       "    <tr>\n",
       "      <th>3847199</th>\n",
       "      <td>NaN</td>\n",
       "      <td>NaN</td>\n",
       "      <td>NaN</td>\n",
       "      <td>NaN</td>\n",
       "      <td>NaN</td>\n",
       "      <td>NaN</td>\n",
       "      <td>0</td>\n",
       "    </tr>\n",
       "  </tbody>\n",
       "</table>\n",
       "</div>"
      ],
      "text/plain": [
       "         EDA  BVP  TEMP  ACC_x  ACC_y  ACC_z  label\n",
       "3847190  NaN  NaN   NaN    NaN    NaN    NaN      0\n",
       "3847191  NaN  NaN   NaN    NaN    NaN    NaN      0\n",
       "3847192  NaN  NaN   NaN    NaN    NaN    NaN      0\n",
       "3847193  NaN  NaN   NaN    NaN    NaN    NaN      0\n",
       "3847194  NaN  NaN   NaN    NaN    NaN    NaN      0\n",
       "3847195  NaN  NaN   NaN    NaN    NaN    NaN      0\n",
       "3847196  NaN  NaN   NaN    NaN    NaN    NaN      0\n",
       "3847197  NaN  NaN   NaN    NaN    NaN    NaN      0\n",
       "3847198  NaN  NaN   NaN    NaN    NaN    NaN      0\n",
       "3847199  NaN  NaN   NaN    NaN    NaN    NaN      0"
      ]
     },
     "execution_count": 175,
     "metadata": {},
     "output_type": "execute_result"
    }
   ],
   "source": [
    "df[3847190:]"
   ]
  },
  {
   "cell_type": "code",
   "execution_count": 166,
   "metadata": {
    "id": "enZ5lmd3nfFA"
   },
   "outputs": [],
   "source": [
    "# Combined dataframe - not used yet\n",
    "df = eda_df.join(bvp_df, how='outer')\n",
    "df = df.join(temp_df, how='outer')\n",
    "df = df.join(acc_df, how='outer')\n",
    "df = df.join(label_df, how='outer')\n",
    "df['label'] = df['label'].fillna(method='bfill')\n",
    "df.reset_index(drop=True, inplace=True)"
   ]
  },
  {
   "cell_type": "code",
   "execution_count": 167,
   "metadata": {},
   "outputs": [
    {
     "name": "stdout",
     "output_type": "stream",
     "text": [
      "<class 'pandas.core.frame.DataFrame'>\n",
      "RangeIndex: 3847200 entries, 0 to 3847199\n",
      "Data columns (total 7 columns):\n",
      " #   Column  Dtype  \n",
      "---  ------  -----  \n",
      " 0   EDA     float64\n",
      " 1   BVP     float64\n",
      " 2   TEMP    float64\n",
      " 3   ACC_x   float64\n",
      " 4   ACC_y   float64\n",
      " 5   ACC_z   float64\n",
      " 6   label   int32  \n",
      "dtypes: float64(6), int32(1)\n",
      "memory usage: 190.8 MB\n"
     ]
    }
   ],
   "source": [
    "df.info()"
   ]
  },
  {
   "cell_type": "code",
   "execution_count": 170,
   "metadata": {},
   "outputs": [],
   "source": [
    "test_df = df.loc[ : , df.columns != 'label']"
   ]
  },
  {
   "cell_type": "code",
   "execution_count": 171,
   "metadata": {},
   "outputs": [
    {
     "data": {
      "text/html": [
       "<div>\n",
       "<style scoped>\n",
       "    .dataframe tbody tr th:only-of-type {\n",
       "        vertical-align: middle;\n",
       "    }\n",
       "\n",
       "    .dataframe tbody tr th {\n",
       "        vertical-align: top;\n",
       "    }\n",
       "\n",
       "    .dataframe thead th {\n",
       "        text-align: right;\n",
       "    }\n",
       "</style>\n",
       "<table border=\"1\" class=\"dataframe\">\n",
       "  <thead>\n",
       "    <tr style=\"text-align: right;\">\n",
       "      <th></th>\n",
       "      <th>EDA</th>\n",
       "      <th>BVP</th>\n",
       "      <th>TEMP</th>\n",
       "      <th>ACC_x</th>\n",
       "      <th>ACC_y</th>\n",
       "      <th>ACC_z</th>\n",
       "    </tr>\n",
       "  </thead>\n",
       "  <tbody>\n",
       "    <tr>\n",
       "      <th>count</th>\n",
       "      <td>21984.000000</td>\n",
       "      <td>351744.000000</td>\n",
       "      <td>21984.000000</td>\n",
       "      <td>175872.000000</td>\n",
       "      <td>175872.00000</td>\n",
       "      <td>175872.000000</td>\n",
       "    </tr>\n",
       "    <tr>\n",
       "      <th>mean</th>\n",
       "      <td>0.981519</td>\n",
       "      <td>0.000452</td>\n",
       "      <td>33.430048</td>\n",
       "      <td>42.882437</td>\n",
       "      <td>-1.07199</td>\n",
       "      <td>17.579854</td>\n",
       "    </tr>\n",
       "    <tr>\n",
       "      <th>std</th>\n",
       "      <td>0.766773</td>\n",
       "      <td>46.252525</td>\n",
       "      <td>0.971530</td>\n",
       "      <td>18.481615</td>\n",
       "      <td>21.96079</td>\n",
       "      <td>32.024483</td>\n",
       "    </tr>\n",
       "    <tr>\n",
       "      <th>min</th>\n",
       "      <td>0.266335</td>\n",
       "      <td>-609.230000</td>\n",
       "      <td>30.810000</td>\n",
       "      <td>-74.000000</td>\n",
       "      <td>-128.00000</td>\n",
       "      <td>-96.000000</td>\n",
       "    </tr>\n",
       "    <tr>\n",
       "      <th>25%</th>\n",
       "      <td>0.418290</td>\n",
       "      <td>-12.360000</td>\n",
       "      <td>32.930000</td>\n",
       "      <td>26.000000</td>\n",
       "      <td>-17.00000</td>\n",
       "      <td>-12.000000</td>\n",
       "    </tr>\n",
       "    <tr>\n",
       "      <th>50%</th>\n",
       "      <td>0.472282</td>\n",
       "      <td>2.530000</td>\n",
       "      <td>33.660000</td>\n",
       "      <td>48.000000</td>\n",
       "      <td>3.00000</td>\n",
       "      <td>12.000000</td>\n",
       "    </tr>\n",
       "    <tr>\n",
       "      <th>75%</th>\n",
       "      <td>1.371709</td>\n",
       "      <td>12.740000</td>\n",
       "      <td>34.180000</td>\n",
       "      <td>59.000000</td>\n",
       "      <td>8.00000</td>\n",
       "      <td>53.000000</td>\n",
       "    </tr>\n",
       "    <tr>\n",
       "      <th>max</th>\n",
       "      <td>3.507541</td>\n",
       "      <td>779.690000</td>\n",
       "      <td>34.710000</td>\n",
       "      <td>127.000000</td>\n",
       "      <td>80.00000</td>\n",
       "      <td>127.000000</td>\n",
       "    </tr>\n",
       "  </tbody>\n",
       "</table>\n",
       "</div>"
      ],
      "text/plain": [
       "                EDA            BVP          TEMP          ACC_x         ACC_y  \\\n",
       "count  21984.000000  351744.000000  21984.000000  175872.000000  175872.00000   \n",
       "mean       0.981519       0.000452     33.430048      42.882437      -1.07199   \n",
       "std        0.766773      46.252525      0.971530      18.481615      21.96079   \n",
       "min        0.266335    -609.230000     30.810000     -74.000000    -128.00000   \n",
       "25%        0.418290     -12.360000     32.930000      26.000000     -17.00000   \n",
       "50%        0.472282       2.530000     33.660000      48.000000       3.00000   \n",
       "75%        1.371709      12.740000     34.180000      59.000000       8.00000   \n",
       "max        3.507541     779.690000     34.710000     127.000000      80.00000   \n",
       "\n",
       "               ACC_z  \n",
       "count  175872.000000  \n",
       "mean       17.579854  \n",
       "std        32.024483  \n",
       "min       -96.000000  \n",
       "25%       -12.000000  \n",
       "50%        12.000000  \n",
       "75%        53.000000  \n",
       "max       127.000000  "
      ]
     },
     "execution_count": 171,
     "metadata": {},
     "output_type": "execute_result"
    }
   ],
   "source": [
    "test_df.describe()"
   ]
  },
  {
   "cell_type": "code",
   "execution_count": 34,
   "metadata": {},
   "outputs": [
    {
     "ename": "NameError",
     "evalue": "name 'df' is not defined",
     "output_type": "error",
     "traceback": [
      "\u001b[0;31m---------------------------------------------------------------------------\u001b[0m",
      "\u001b[0;31mNameError\u001b[0m                                 Traceback (most recent call last)",
      "\u001b[0;32m<ipython-input-34-ce5819527961>\u001b[0m in \u001b[0;36m<module>\u001b[0;34m\u001b[0m\n\u001b[0;32m----> 1\u001b[0;31m \u001b[0mdf\u001b[0m\u001b[0;34m[\u001b[0m\u001b[0;34m'label'\u001b[0m\u001b[0;34m]\u001b[0m\u001b[0;34m.\u001b[0m\u001b[0mhist\u001b[0m\u001b[0;34m(\u001b[0m\u001b[0;34m)\u001b[0m\u001b[0;34m\u001b[0m\u001b[0;34m\u001b[0m\u001b[0m\n\u001b[0m",
      "\u001b[0;31mNameError\u001b[0m: name 'df' is not defined"
     ]
    }
   ],
   "source": [
    "df['label'].hist()"
   ]
  },
  {
   "cell_type": "markdown",
   "metadata": {},
   "source": [
    "**TODO**:\n",
    "Adjust Datatypes for memory optimization"
   ]
  },
  {
   "cell_type": "code",
   "execution_count": 35,
   "metadata": {},
   "outputs": [
    {
     "data": {
      "image/png": "[encoded data removed]",
      "text/plain": [
       "<Figure size 1152x1440 with 9 Axes>"
      ]
     },
     "metadata": {
      "needs_background": "light"
     },
     "output_type": "display_data"
    }
   ],
   "source": [
    "df.hist(figsize=(16, 20), bins=50, xlabelsize=8, ylabelsize=8)"
   ]
  },
  {
   "cell_type": "code",
   "execution_count": 54,
   "metadata": {},
   "outputs": [
    {
     "data": {
      "text/plain": [
       "<AxesSubplot:>"
      ]
     },
     "execution_count": 54,
     "metadata": {},
     "output_type": "execute_result"
    },
    {
     "data": {
      "image/png": "[encoded data removed]",
      "text/plain": [
       "<Figure size 432x288 with 4 Axes>"
      ]
     },
     "metadata": {
      "needs_background": "light"
     },
     "output_type": "display_data"
    }
   ],
   "source": [
    "fig, axes = plt.subplots(nrows=2, ncols=2)\n",
    "df.boxplot(column=['ACC_x','ACC_y','ACC_z'], ax=axes[0,0])\n",
    "df.boxplot(column=['BVP'], ax=axes[0,1])\n",
    "df.boxplot(column=['EDA'], ax=axes[1,0])\n",
    "df.boxplot(column=['TEMP'], ax=axes[1,1])"
   ]
  },
  {
   "cell_type": "code",
   "execution_count": 55,
   "metadata": {},
   "outputs": [
    {
     "name": "stdout",
     "output_type": "stream",
     "text": [
      "IQR is\n",
      " EDA       0.953419\n",
      "BVP      25.100000\n",
      "TEMP      1.250000\n",
      "ACC_x    33.000000\n",
      "ACC_y    25.000000\n",
      "ACC_z    65.000000\n",
      "label     2.000000\n",
      "dtype: float64\n"
     ]
    }
   ],
   "source": [
    "Q1 = df.quantile(0.25)\n",
    "Q3 = df.quantile(0.75)\n",
    "IQR = Q3 - Q1\n",
    "print(\"IQR is\\n\", IQR)"
   ]
  },
  {
   "cell_type": "code",
   "execution_count": 60,
   "metadata": {},
   "outputs": [
    {
     "data": {
      "text/html": [
       "<div>\n",
       "<style scoped>\n",
       "    .dataframe tbody tr th:only-of-type {\n",
       "        vertical-align: middle;\n",
       "    }\n",
       "\n",
       "    .dataframe tbody tr th {\n",
       "        vertical-align: top;\n",
       "    }\n",
       "\n",
       "    .dataframe thead th {\n",
       "        text-align: right;\n",
       "    }\n",
       "</style>\n",
       "<table border=\"1\" class=\"dataframe\">\n",
       "  <thead>\n",
       "    <tr style=\"text-align: right;\">\n",
       "      <th></th>\n",
       "      <th>EDA</th>\n",
       "      <th>BVP</th>\n",
       "      <th>TEMP</th>\n",
       "      <th>ACC_x</th>\n",
       "      <th>ACC_y</th>\n",
       "      <th>ACC_z</th>\n",
       "      <th>label</th>\n",
       "    </tr>\n",
       "  </thead>\n",
       "  <tbody>\n",
       "    <tr>\n",
       "      <th>count</th>\n",
       "      <td>21984.000000</td>\n",
       "      <td>351744.000000</td>\n",
       "      <td>21984.000000</td>\n",
       "      <td>175872.000000</td>\n",
       "      <td>175872.00000</td>\n",
       "      <td>175872.000000</td>\n",
       "      <td>3.847200e+06</td>\n",
       "    </tr>\n",
       "    <tr>\n",
       "      <th>mean</th>\n",
       "      <td>0.981519</td>\n",
       "      <td>0.000452</td>\n",
       "      <td>33.430048</td>\n",
       "      <td>42.882437</td>\n",
       "      <td>-1.07199</td>\n",
       "      <td>17.579854</td>\n",
       "      <td>1.429039e+00</td>\n",
       "    </tr>\n",
       "    <tr>\n",
       "      <th>std</th>\n",
       "      <td>0.766773</td>\n",
       "      <td>46.252525</td>\n",
       "      <td>0.971530</td>\n",
       "      <td>18.481615</td>\n",
       "      <td>21.96079</td>\n",
       "      <td>32.024483</td>\n",
       "      <td>1.631451e+00</td>\n",
       "    </tr>\n",
       "    <tr>\n",
       "      <th>min</th>\n",
       "      <td>0.266335</td>\n",
       "      <td>-609.230000</td>\n",
       "      <td>30.810000</td>\n",
       "      <td>-74.000000</td>\n",
       "      <td>-128.00000</td>\n",
       "      <td>-96.000000</td>\n",
       "      <td>0.000000e+00</td>\n",
       "    </tr>\n",
       "    <tr>\n",
       "      <th>25%</th>\n",
       "      <td>0.418290</td>\n",
       "      <td>-12.360000</td>\n",
       "      <td>32.930000</td>\n",
       "      <td>26.000000</td>\n",
       "      <td>-17.00000</td>\n",
       "      <td>-12.000000</td>\n",
       "      <td>0.000000e+00</td>\n",
       "    </tr>\n",
       "    <tr>\n",
       "      <th>50%</th>\n",
       "      <td>0.472282</td>\n",
       "      <td>2.530000</td>\n",
       "      <td>33.660000</td>\n",
       "      <td>48.000000</td>\n",
       "      <td>3.00000</td>\n",
       "      <td>12.000000</td>\n",
       "      <td>1.000000e+00</td>\n",
       "    </tr>\n",
       "    <tr>\n",
       "      <th>75%</th>\n",
       "      <td>1.371709</td>\n",
       "      <td>12.740000</td>\n",
       "      <td>34.180000</td>\n",
       "      <td>59.000000</td>\n",
       "      <td>8.00000</td>\n",
       "      <td>53.000000</td>\n",
       "      <td>2.000000e+00</td>\n",
       "    </tr>\n",
       "    <tr>\n",
       "      <th>max</th>\n",
       "      <td>3.507541</td>\n",
       "      <td>779.690000</td>\n",
       "      <td>34.710000</td>\n",
       "      <td>127.000000</td>\n",
       "      <td>80.00000</td>\n",
       "      <td>127.000000</td>\n",
       "      <td>7.000000e+00</td>\n",
       "    </tr>\n",
       "  </tbody>\n",
       "</table>\n",
       "</div>"
      ],
      "text/plain": [
       "                EDA            BVP          TEMP          ACC_x         ACC_y  \\\n",
       "count  21984.000000  351744.000000  21984.000000  175872.000000  175872.00000   \n",
       "mean       0.981519       0.000452     33.430048      42.882437      -1.07199   \n",
       "std        0.766773      46.252525      0.971530      18.481615      21.96079   \n",
       "min        0.266335    -609.230000     30.810000     -74.000000    -128.00000   \n",
       "25%        0.418290     -12.360000     32.930000      26.000000     -17.00000   \n",
       "50%        0.472282       2.530000     33.660000      48.000000       3.00000   \n",
       "75%        1.371709      12.740000     34.180000      59.000000       8.00000   \n",
       "max        3.507541     779.690000     34.710000     127.000000      80.00000   \n",
       "\n",
       "               ACC_z         label  \n",
       "count  175872.000000  3.847200e+06  \n",
       "mean       17.579854  1.429039e+00  \n",
       "std        32.024483  1.631451e+00  \n",
       "min       -96.000000  0.000000e+00  \n",
       "25%       -12.000000  0.000000e+00  \n",
       "50%        12.000000  1.000000e+00  \n",
       "75%        53.000000  2.000000e+00  \n",
       "max       127.000000  7.000000e+00  "
      ]
     },
     "execution_count": 60,
     "metadata": {},
     "output_type": "execute_result"
    }
   ],
   "source": [
    "df.describe()"
   ]
  },
  {
   "cell_type": "code",
   "execution_count": 165,
   "metadata": {},
   "outputs": [
    {
     "ename": "NameError",
     "evalue": "name 'df' is not defined",
     "output_type": "error",
     "traceback": [
      "\u001b[0;31m---------------------------------------------------------------------------\u001b[0m",
      "\u001b[0;31mNameError\u001b[0m                                 Traceback (most recent call last)",
      "\u001b[0;32m<ipython-input-165-a2604427b017>\u001b[0m in \u001b[0;36m<module>\u001b[0;34m\u001b[0m\n\u001b[0;32m----> 1\u001b[0;31m \u001b[0mtest_df\u001b[0m \u001b[0;34m=\u001b[0m \u001b[0mdf\u001b[0m\u001b[0;34m.\u001b[0m\u001b[0mloc\u001b[0m\u001b[0;34m[\u001b[0m \u001b[0;34m:\u001b[0m \u001b[0;34m,\u001b[0m \u001b[0mdata\u001b[0m\u001b[0;34m.\u001b[0m\u001b[0mcolumns\u001b[0m \u001b[0;34m!=\u001b[0m \u001b[0;34m'label'\u001b[0m\u001b[0;34m]\u001b[0m\u001b[0;34m\u001b[0m\u001b[0;34m\u001b[0m\u001b[0m\n\u001b[0m",
      "\u001b[0;31mNameError\u001b[0m: name 'df' is not defined"
     ]
    }
   ],
   "source": [
    "test_df = df.loc[ : , data.columns != 'label']"
   ]
  },
  {
   "cell_type": "markdown",
   "metadata": {},
   "source": [
    "Clean data by outliers."
   ]
  },
  {
   "cell_type": "code",
   "execution_count": 61,
   "metadata": {},
   "outputs": [],
   "source": [
    "df = df[~((df < (Q1 - 1.5 * IQR)) |(df > (Q3 + 1.5 * IQR))).any(axis=1)]"
   ]
  },
  {
   "cell_type": "code",
   "execution_count": 62,
   "metadata": {},
   "outputs": [
    {
     "data": {
      "text/html": [
       "<div>\n",
       "<style scoped>\n",
       "    .dataframe tbody tr th:only-of-type {\n",
       "        vertical-align: middle;\n",
       "    }\n",
       "\n",
       "    .dataframe tbody tr th {\n",
       "        vertical-align: top;\n",
       "    }\n",
       "\n",
       "    .dataframe thead th {\n",
       "        text-align: right;\n",
       "    }\n",
       "</style>\n",
       "<table border=\"1\" class=\"dataframe\">\n",
       "  <thead>\n",
       "    <tr style=\"text-align: right;\">\n",
       "      <th></th>\n",
       "      <th>EDA</th>\n",
       "      <th>BVP</th>\n",
       "      <th>TEMP</th>\n",
       "      <th>ACC_x</th>\n",
       "      <th>ACC_y</th>\n",
       "      <th>ACC_z</th>\n",
       "      <th>label</th>\n",
       "    </tr>\n",
       "  </thead>\n",
       "  <tbody>\n",
       "    <tr>\n",
       "      <th>count</th>\n",
       "      <td>16672.000000</td>\n",
       "      <td>301453.000000</td>\n",
       "      <td>16672.000000</td>\n",
       "      <td>144121.000000</td>\n",
       "      <td>144121.000000</td>\n",
       "      <td>144121.000000</td>\n",
       "      <td>3.725509e+06</td>\n",
       "    </tr>\n",
       "    <tr>\n",
       "      <th>mean</th>\n",
       "      <td>0.890678</td>\n",
       "      <td>0.499859</td>\n",
       "      <td>33.433085</td>\n",
       "      <td>45.544355</td>\n",
       "      <td>-2.957605</td>\n",
       "      <td>17.899952</td>\n",
       "      <td>1.340696e+00</td>\n",
       "    </tr>\n",
       "    <tr>\n",
       "      <th>std</th>\n",
       "      <td>0.616791</td>\n",
       "      <td>17.487096</td>\n",
       "      <td>0.950832</td>\n",
       "      <td>16.366607</td>\n",
       "      <td>14.596968</td>\n",
       "      <td>33.054151</td>\n",
       "      <td>1.490459e+00</td>\n",
       "    </tr>\n",
       "    <tr>\n",
       "      <th>min</th>\n",
       "      <td>0.267614</td>\n",
       "      <td>-50.010000</td>\n",
       "      <td>31.070000</td>\n",
       "      <td>-23.000000</td>\n",
       "      <td>-54.000000</td>\n",
       "      <td>-96.000000</td>\n",
       "      <td>0.000000e+00</td>\n",
       "    </tr>\n",
       "    <tr>\n",
       "      <th>25%</th>\n",
       "      <td>0.422394</td>\n",
       "      <td>-10.250000</td>\n",
       "      <td>32.910000</td>\n",
       "      <td>30.000000</td>\n",
       "      <td>-14.000000</td>\n",
       "      <td>-13.000000</td>\n",
       "      <td>0.000000e+00</td>\n",
       "    </tr>\n",
       "    <tr>\n",
       "      <th>50%</th>\n",
       "      <td>0.462048</td>\n",
       "      <td>2.640000</td>\n",
       "      <td>33.660000</td>\n",
       "      <td>52.000000</td>\n",
       "      <td>3.000000</td>\n",
       "      <td>13.000000</td>\n",
       "      <td>1.000000e+00</td>\n",
       "    </tr>\n",
       "    <tr>\n",
       "      <th>75%</th>\n",
       "      <td>1.188787</td>\n",
       "      <td>11.520000</td>\n",
       "      <td>34.230000</td>\n",
       "      <td>61.000000</td>\n",
       "      <td>6.000000</td>\n",
       "      <td>54.000000</td>\n",
       "      <td>2.000000e+00</td>\n",
       "    </tr>\n",
       "    <tr>\n",
       "      <th>max</th>\n",
       "      <td>2.796694</td>\n",
       "      <td>50.390000</td>\n",
       "      <td>34.710000</td>\n",
       "      <td>108.000000</td>\n",
       "      <td>45.000000</td>\n",
       "      <td>91.000000</td>\n",
       "      <td>5.000000e+00</td>\n",
       "    </tr>\n",
       "  </tbody>\n",
       "</table>\n",
       "</div>"
      ],
      "text/plain": [
       "                EDA            BVP          TEMP          ACC_x  \\\n",
       "count  16672.000000  301453.000000  16672.000000  144121.000000   \n",
       "mean       0.890678       0.499859     33.433085      45.544355   \n",
       "std        0.616791      17.487096      0.950832      16.366607   \n",
       "min        0.267614     -50.010000     31.070000     -23.000000   \n",
       "25%        0.422394     -10.250000     32.910000      30.000000   \n",
       "50%        0.462048       2.640000     33.660000      52.000000   \n",
       "75%        1.188787      11.520000     34.230000      61.000000   \n",
       "max        2.796694      50.390000     34.710000     108.000000   \n",
       "\n",
       "               ACC_y          ACC_z         label  \n",
       "count  144121.000000  144121.000000  3.725509e+06  \n",
       "mean       -2.957605      17.899952  1.340696e+00  \n",
       "std        14.596968      33.054151  1.490459e+00  \n",
       "min       -54.000000     -96.000000  0.000000e+00  \n",
       "25%       -14.000000     -13.000000  0.000000e+00  \n",
       "50%         3.000000      13.000000  1.000000e+00  \n",
       "75%         6.000000      54.000000  2.000000e+00  \n",
       "max        45.000000      91.000000  5.000000e+00  "
      ]
     },
     "execution_count": 62,
     "metadata": {},
     "output_type": "execute_result"
    }
   ],
   "source": [
    "df.describe()"
   ]
  },
  {
   "cell_type": "code",
   "execution_count": 63,
   "metadata": {},
   "outputs": [
    {
     "data": {
      "text/plain": [
       "<AxesSubplot:>"
      ]
     },
     "execution_count": 63,
     "metadata": {},
     "output_type": "execute_result"
    },
    {
     "data": {
      "image/png": "[encoded data removed]",
      "text/plain": [
       "<Figure size 432x288 with 4 Axes>"
      ]
     },
     "metadata": {
      "needs_background": "light"
     },
     "output_type": "display_data"
    }
   ],
   "source": [
    "fig, axes = plt.subplots(nrows=2, ncols=2)\n",
    "df.boxplot(column=['ACC_x','ACC_y','ACC_z'], ax=axes[0,0])\n",
    "df.boxplot(column=['BVP'], ax=axes[0,1])\n",
    "df.boxplot(column=['EDA'], ax=axes[1,0])\n",
    "df.boxplot(column=['TEMP'], ax=axes[1,1])"
   ]
  },
  {
   "cell_type": "code",
   "execution_count": 64,
   "metadata": {},
   "outputs": [
    {
     "name": "stdout",
     "output_type": "stream",
     "text": [
      "<class 'pandas.core.frame.DataFrame'>\n",
      "Int64Index: 3725509 entries, 1 to 3847199\n",
      "Data columns (total 7 columns):\n",
      " #   Column  Dtype  \n",
      "---  ------  -----  \n",
      " 0   EDA     float64\n",
      " 1   BVP     float64\n",
      " 2   TEMP    float64\n",
      " 3   ACC_x   float64\n",
      " 4   ACC_y   float64\n",
      " 5   ACC_z   float64\n",
      " 6   label   int32  \n",
      "dtypes: float64(6), int32(1)\n",
      "memory usage: 213.2 MB\n"
     ]
    }
   ],
   "source": [
    "df.info()"
   ]
  },
  {
   "cell_type": "code",
   "execution_count": 65,
   "metadata": {},
   "outputs": [
    {
     "data": {
      "text/plain": [
       "array([[<AxesSubplot:title={'center':'EDA'}>,\n",
       "        <AxesSubplot:title={'center':'BVP'}>,\n",
       "        <AxesSubplot:title={'center':'TEMP'}>],\n",
       "       [<AxesSubplot:title={'center':'ACC_x'}>,\n",
       "        <AxesSubplot:title={'center':'ACC_y'}>,\n",
       "        <AxesSubplot:title={'center':'ACC_z'}>],\n",
       "       [<AxesSubplot:title={'center':'label'}>, <AxesSubplot:>,\n",
       "        <AxesSubplot:>]], dtype=object)"
      ]
     },
     "execution_count": 65,
     "metadata": {},
     "output_type": "execute_result"
    },
    {
     "data": {
      "image/png": "[encoded data removed]",
      "text/plain": [
       "<Figure size 1440x1080 with 9 Axes>"
      ]
     },
     "metadata": {
      "needs_background": "light"
     },
     "output_type": "display_data"
    }
   ],
   "source": [
    "dfcorr_matrix=df_out.corr()\n",
    "#corr_matrix [\"c_ax\"].sort_values(ascending=False)\n",
    "(corr_matrix).hist(bins=100, figsize = (20,15))"
   ]
  },
  {
   "cell_type": "code",
   "execution_count": 66,
   "metadata": {},
   "outputs": [
    {
     "data": {
      "text/html": [
       "<div>\n",
       "<style scoped>\n",
       "    .dataframe tbody tr th:only-of-type {\n",
       "        vertical-align: middle;\n",
       "    }\n",
       "\n",
       "    .dataframe tbody tr th {\n",
       "        vertical-align: top;\n",
       "    }\n",
       "\n",
       "    .dataframe thead th {\n",
       "        text-align: right;\n",
       "    }\n",
       "</style>\n",
       "<table border=\"1\" class=\"dataframe\">\n",
       "  <thead>\n",
       "    <tr style=\"text-align: right;\">\n",
       "      <th></th>\n",
       "      <th>EDA</th>\n",
       "      <th>BVP</th>\n",
       "      <th>TEMP</th>\n",
       "      <th>ACC_x</th>\n",
       "      <th>ACC_y</th>\n",
       "      <th>ACC_z</th>\n",
       "      <th>label</th>\n",
       "    </tr>\n",
       "  </thead>\n",
       "  <tbody>\n",
       "    <tr>\n",
       "      <th>EDA</th>\n",
       "      <td>1.000000</td>\n",
       "      <td>-0.002006</td>\n",
       "      <td>-0.265349</td>\n",
       "      <td>0.037892</td>\n",
       "      <td>-0.403968</td>\n",
       "      <td>-0.127800</td>\n",
       "      <td>0.353701</td>\n",
       "    </tr>\n",
       "    <tr>\n",
       "      <th>BVP</th>\n",
       "      <td>-0.002006</td>\n",
       "      <td>1.000000</td>\n",
       "      <td>0.007175</td>\n",
       "      <td>-0.001174</td>\n",
       "      <td>-0.007742</td>\n",
       "      <td>-0.004385</td>\n",
       "      <td>0.004715</td>\n",
       "    </tr>\n",
       "    <tr>\n",
       "      <th>TEMP</th>\n",
       "      <td>-0.265349</td>\n",
       "      <td>0.007175</td>\n",
       "      <td>1.000000</td>\n",
       "      <td>-0.008915</td>\n",
       "      <td>0.026202</td>\n",
       "      <td>-0.019267</td>\n",
       "      <td>-0.055025</td>\n",
       "    </tr>\n",
       "    <tr>\n",
       "      <th>ACC_x</th>\n",
       "      <td>0.037892</td>\n",
       "      <td>-0.001174</td>\n",
       "      <td>-0.008915</td>\n",
       "      <td>1.000000</td>\n",
       "      <td>-0.057303</td>\n",
       "      <td>-0.837775</td>\n",
       "      <td>0.153043</td>\n",
       "    </tr>\n",
       "    <tr>\n",
       "      <th>ACC_y</th>\n",
       "      <td>-0.403968</td>\n",
       "      <td>-0.007742</td>\n",
       "      <td>0.026202</td>\n",
       "      <td>-0.057303</td>\n",
       "      <td>1.000000</td>\n",
       "      <td>0.352128</td>\n",
       "      <td>-0.270411</td>\n",
       "    </tr>\n",
       "    <tr>\n",
       "      <th>ACC_z</th>\n",
       "      <td>-0.127800</td>\n",
       "      <td>-0.004385</td>\n",
       "      <td>-0.019267</td>\n",
       "      <td>-0.837775</td>\n",
       "      <td>0.352128</td>\n",
       "      <td>1.000000</td>\n",
       "      <td>-0.350124</td>\n",
       "    </tr>\n",
       "    <tr>\n",
       "      <th>label</th>\n",
       "      <td>0.353701</td>\n",
       "      <td>0.004715</td>\n",
       "      <td>-0.055025</td>\n",
       "      <td>0.153043</td>\n",
       "      <td>-0.270411</td>\n",
       "      <td>-0.350124</td>\n",
       "      <td>1.000000</td>\n",
       "    </tr>\n",
       "  </tbody>\n",
       "</table>\n",
       "</div>"
      ],
      "text/plain": [
       "            EDA       BVP      TEMP     ACC_x     ACC_y     ACC_z     label\n",
       "EDA    1.000000 -0.002006 -0.265349  0.037892 -0.403968 -0.127800  0.353701\n",
       "BVP   -0.002006  1.000000  0.007175 -0.001174 -0.007742 -0.004385  0.004715\n",
       "TEMP  -0.265349  0.007175  1.000000 -0.008915  0.026202 -0.019267 -0.055025\n",
       "ACC_x  0.037892 -0.001174 -0.008915  1.000000 -0.057303 -0.837775  0.153043\n",
       "ACC_y -0.403968 -0.007742  0.026202 -0.057303  1.000000  0.352128 -0.270411\n",
       "ACC_z -0.127800 -0.004385 -0.019267 -0.837775  0.352128  1.000000 -0.350124\n",
       "label  0.353701  0.004715 -0.055025  0.153043 -0.270411 -0.350124  1.000000"
      ]
     },
     "execution_count": 66,
     "metadata": {},
     "output_type": "execute_result"
    }
   ],
   "source": [
    "corr_matrix=df_out.corr()\n",
    "#corr_matrix [\"c_ax\"].sort_values(ascending=False)\n",
    "(corr_matrix)"
   ]
  },
  {
   "cell_type": "code",
   "execution_count": 70,
   "metadata": {},
   "outputs": [],
   "source": [
    "norm_df = (df-df.mean())/df.std()"
   ]
  },
  {
   "cell_type": "code",
   "execution_count": 72,
   "metadata": {},
   "outputs": [],
   "source": [
    "norm_y = df['label']"
   ]
  },
  {
   "cell_type": "code",
   "execution_count": 73,
   "metadata": {},
   "outputs": [],
   "source": [
    "norm_x = norm_df.drop('label',axis=1)"
   ]
  },
  {
   "cell_type": "code",
   "execution_count": 76,
   "metadata": {},
   "outputs": [
    {
     "data": {
      "image/png": "[encoded data removed]",
      "text/plain": [
       "<Figure size 864x720 with 2 Axes>"
      ]
     },
     "metadata": {
      "needs_background": "light"
     },
     "output_type": "display_data"
    }
   ],
   "source": [
    "plt.figure(figsize=(12,10))\n",
    "cor = norm_x.corr()\n",
    "sns.heatmap(cor, annot=True, cmap=plt.cm.Reds)\n",
    "plt.show()"
   ]
  }
 ],
 "metadata": {
  "colab": {
   "collapsed_sections": [],
   "name": "Stress Detection With Wearables: Explorative Analyse.ipynb",
   "provenance": []
  },
  "kernelspec": {
   "display_name": "Python 3.9.13 ('sdfw')",
   "language": "python",
   "name": "python3"
  },
  "language_info": {
   "codemirror_mode": {
    "name": "ipython",
    "version": 3
   },
   "file_extension": ".py",
   "mimetype": "text/x-python",
   "name": "python",
   "nbconvert_exporter": "python",
   "pygments_lexer": "ipython3",
   "version": "3.9.13"
  },
  "vscode": {
   "interpreter": {
    "hash": "421d3e5045432d1c81a7cbcf776867c261bbaddc029f3e12ea9459c25f8592c5"
   }
  }
 },
 "nbformat": 4,
 "nbformat_minor": 4
}
