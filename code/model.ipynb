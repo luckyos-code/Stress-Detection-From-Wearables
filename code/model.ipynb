{
 "cells": [
  {
   "cell_type": "code",
   "execution_count": 2,
   "metadata": {},
   "outputs": [],
   "source": [
    "import tensorflow as tf"
   ]
  },
  {
   "cell_type": "markdown",
   "metadata": {},
   "source": [
    "- Hinzufügen der Layer nach Tabelle 2 (CNN Paper)"
   ]
  },
  {
   "cell_type": "code",
   "execution_count": 54,
   "metadata": {},
   "outputs": [],
   "source": [
    "model = tf.keras.Sequential()\n",
    "#input_shape = 14 Signale (bei uns max. 6) X 210 Inputs (aus Tabelle nach Fourier)\n",
    "model.add(tf.keras.layers.InputLayer(input_shape=[14, 210, 1]))\n",
    "model.add(tf.keras.layers.Conv2D(filters=64 ,activation='relu', kernel_size=(1,3), strides=1, padding='same')) \n",
    "#hier fehlen: Output shape, was bringt mir param#, kernel_size != Kernels, Size?\n",
    "model.add(tf.keras.layers.Dropout(rate=0.3)) # portion gibts nicht? und es ist 'rate' gefordert???\n",
    "model.add(tf.keras.layers.Conv2D(filters=64, activation='relu', kernel_size=(1,3), strides=1, padding='same'))\n",
    "model.add(tf.keras.layers.MaxPooling2D(pool_size=(1,2)))\n",
    "model.add(tf.keras.layers.Dropout(rate=0.3))\n",
    "model.add(tf.keras.layers.Conv2D(filters=64, activation='relu', kernel_size=(1,3), strides=1, padding='same'))\n",
    "model.add(tf.keras.layers.Dropout(rate=0.3))\n",
    "model.add(tf.keras.layers.MaxPooling2D(pool_size=(1,2)))\n",
    "model.add(tf.keras.layers.Dropout(rate=0.3))\n",
    "model.add(tf.keras.layers.Flatten())\n",
    "model.add(tf.keras.layers.Dense(units=128, activation='relu', kernel_initializer='glorot_uniform'))\n",
    "model.add(tf.keras.layers.Dropout(rate=0.3))\n",
    "model.add(tf.keras.layers.Dense(units=64, activation='relu', kernel_initializer='glorot_uniform'))\n",
    "model.add(tf.keras.layers.Dropout(rate=0.3))\n",
    "#Anzahl der Units = Anzahl der Klassen (2 - non-stress vs stress)\n",
    "model.add(tf.keras.layers.Dense(units=2, activation='softmax', kernel_initializer='glorot_uniform'))"
   ]
  },
  {
   "cell_type": "code",
   "execution_count": 55,
   "metadata": {},
   "outputs": [
    {
     "name": "stdout",
     "output_type": "stream",
     "text": [
      "Model: \"sequential_12\"\n",
      "_________________________________________________________________\n",
      " Layer (type)                Output Shape              Param #   \n",
      "=================================================================\n",
      " conv2d_39 (Conv2D)          (None, 14, 210, 64)       256       \n",
      "                                                                 \n",
      " dropout_32 (Dropout)        (None, 14, 210, 64)       0         \n",
      "                                                                 \n",
      " conv2d_40 (Conv2D)          (None, 14, 210, 64)       12352     \n",
      "                                                                 \n",
      " max_pooling2d_11 (MaxPoolin  (None, 14, 105, 64)      0         \n",
      " g2D)                                                            \n",
      "                                                                 \n",
      " dropout_33 (Dropout)        (None, 14, 105, 64)       0         \n",
      "                                                                 \n",
      " conv2d_41 (Conv2D)          (None, 14, 105, 64)       12352     \n",
      "                                                                 \n",
      " dropout_34 (Dropout)        (None, 14, 105, 64)       0         \n",
      "                                                                 \n",
      " max_pooling2d_12 (MaxPoolin  (None, 14, 52, 64)       0         \n",
      " g2D)                                                            \n",
      "                                                                 \n",
      " dropout_35 (Dropout)        (None, 14, 52, 64)        0         \n",
      "                                                                 \n",
      " flatten_4 (Flatten)         (None, 46592)             0         \n",
      "                                                                 \n",
      " dense_6 (Dense)             (None, 128)               5963904   \n",
      "                                                                 \n",
      " dropout_36 (Dropout)        (None, 128)               0         \n",
      "                                                                 \n",
      " dense_7 (Dense)             (None, 64)                8256      \n",
      "                                                                 \n",
      " dropout_37 (Dropout)        (None, 64)                0         \n",
      "                                                                 \n",
      " dense_8 (Dense)             (None, 3)                 195       \n",
      "                                                                 \n",
      "=================================================================\n",
      "Total params: 5,997,315\n",
      "Trainable params: 5,997,315\n",
      "Non-trainable params: 0\n",
      "_________________________________________________________________\n"
     ]
    }
   ],
   "source": [
    "model.summary()"
   ]
  },
  {
   "cell_type": "markdown",
   "metadata": {},
   "source": [
    "#### Fragen zu Layer-Infos\n",
    "- Ist *filters* bei Conv2D-Layern gleichzusetzen mit *#Kernel* aus Tabelle?\n",
    "- Ist *rate* bei Dropout-Layern gleichzustezen mit *portion* aus Tabelle?\n",
    "- Probleme beim 3. Conv2D - wieso ändert sich der Output-Shape nicht?"
   ]
  }
 ],
 "metadata": {
  "kernelspec": {
   "display_name": "Python 3.9.13 64-bit",
   "language": "python",
   "name": "python3"
  },
  "language_info": {
   "codemirror_mode": {
    "name": "ipython",
    "version": 3
   },
   "file_extension": ".py",
   "mimetype": "text/x-python",
   "name": "python",
   "nbconvert_exporter": "python",
   "pygments_lexer": "ipython3",
   "version": "3.9.13"
  },
  "orig_nbformat": 4,
  "vscode": {
   "interpreter": {
    "hash": "aee8b7b246df8f9039afb4144a1f6fd8d2ca17a180786b69acc140d282b71a49"
   }
  }
 },
 "nbformat": 4,
 "nbformat_minor": 2
}
