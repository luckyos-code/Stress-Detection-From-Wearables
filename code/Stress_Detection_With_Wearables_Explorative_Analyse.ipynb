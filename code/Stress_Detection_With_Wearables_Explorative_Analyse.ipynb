{
 "cells": [
  {
   "cell_type": "code",
   "execution_count": 5,
   "metadata": {
    "id": "sPj6wrBeejUk"
   },
   "outputs": [],
   "source": [
    "import pickle\n",
    "import os\n",
    "import scipy\n",
    "import pandas as pd\n",
    "import numpy as np\n",
    "import matplotlib.pyplot as plt\n",
    "import neurokit2 as nk"
   ]
  },
  {
   "cell_type": "code",
   "execution_count": 15,
   "metadata": {},
   "outputs": [],
   "source": [
    "# Nils' Path\n",
    "#DATA_PATH = \"/Users/nils/master/Stress-Detection-From-Wearables/data/WESAD\"\n",
    "# Pia's Path\n",
    "DATA_PATH = \"/Users/piasuelzle/Desktop/Uni/SS2022/BigDataPrak/Stress-Detection-From-Wearables/data/WESAD\""
   ]
  },
  {
   "cell_type": "code",
   "execution_count": 16,
   "metadata": {
    "id": "Xv4nzRc0fGo2"
   },
   "outputs": [],
   "source": [
    "class Subject:\n",
    "\n",
    "    def __init__(self, main_path, subject_number):\n",
    "        self.name = f'S{subject_number}'\n",
    "        self.subject_keys = ['signal', 'label', 'subject']\n",
    "        self.signal_keys = ['chest', 'wrist']\n",
    "        self.chest_keys = ['ACC', 'ECG', 'EMG', 'EDA', 'Temp', 'Resp']\n",
    "        self.wrist_keys = ['ACC', 'BVP', 'EDA', 'TEMP']\n",
    "        with open(os.path.join(main_path, self.name) + '/' + self.name + '.pkl', 'rb') as file:\n",
    "            self.data = pickle.load(file, encoding='latin1')\n",
    "        self.labels = self.data['label']\n",
    "\n",
    "    def get_wrist_data(self):\n",
    "        data = self.data['signal']['wrist']\n",
    "        return data\n",
    "\n",
    "    def get_chest_data(self):\n",
    "        return self.data['signal']['chest']"
   ]
  },
  {
   "cell_type": "code",
   "execution_count": 17,
   "metadata": {
    "id": "G5ApA_aGfJ3j"
   },
   "outputs": [],
   "source": [
    "s10 = Subject(DATA_PATH, '10')"
   ]
  },
  {
   "cell_type": "code",
   "execution_count": 18,
   "metadata": {
    "id": "uY8YBVAQfYR0"
   },
   "outputs": [],
   "source": [
    "s10_wrist_data = s10.get_wrist_data()"
   ]
  },
  {
   "cell_type": "code",
   "execution_count": 19,
   "metadata": {},
   "outputs": [
    {
     "data": {
      "text/plain": [
       "{'ACC': array([[ 107., -105.,  127.],\n",
       "        [  67.,  -52.,   45.],\n",
       "        [  26.,   40.,    0.],\n",
       "        ...,\n",
       "        [  54.,   23.,   24.],\n",
       "        [  54.,   23.,   24.],\n",
       "        [  54.,   23.,   24.]]),\n",
       " 'BVP': array([[10.17],\n",
       "        [12.04],\n",
       "        [13.01],\n",
       "        ...,\n",
       "        [57.59],\n",
       "        [65.93],\n",
       "        [69.86]]),\n",
       " 'EDA': array([[0.349215],\n",
       "        [0.346656],\n",
       "        [0.350494],\n",
       "        ...,\n",
       "        [0.931574],\n",
       "        [0.932854],\n",
       "        [0.932854]]),\n",
       " 'TEMP': array([[33.13],\n",
       "        [33.16],\n",
       "        [33.16],\n",
       "        ...,\n",
       "        [30.83],\n",
       "        [30.83],\n",
       "        [30.83]])}"
      ]
     },
     "execution_count": 19,
     "metadata": {},
     "output_type": "execute_result"
    }
   ],
   "source": [
    "s10_wrist_data"
   ]
  },
  {
   "cell_type": "markdown",
   "metadata": {
    "id": "uvnyLrF7hIgb"
   },
   "source": [
    "# Data Preparation"
   ]
  },
  {
   "cell_type": "code",
   "execution_count": null,
   "metadata": {},
   "outputs": [],
   "source": [
    "# https://github.com/WJMatthew/WESAD/blob/master/data_wrangling.py"
   ]
  },
  {
   "cell_type": "markdown",
   "metadata": {
    "id": "XgVeW7GZiDqc"
   },
   "source": [
    "**Wrist - Empatica E4**\n",
    "\n",
    "ACC: three-axis acceleration (32 Hz)\n",
    "\n",
    "BVP: blood volume pulse (64 Hz)\n",
    "\n",
    "EDA: electrodermal activity (4 Hz)\n",
    "\n",
    "TEMP: skin temperature (4 Hz)"
   ]
  },
  {
   "cell_type": "code",
   "execution_count": 21,
   "metadata": {},
   "outputs": [],
   "source": [
    "bvp_signal = s10_wrist_data['BVP'][:,0]\n",
    "eda_signal = s10_wrist_data['EDA'][:,0]\n",
    "acc_x_signal = s10_wrist_data['ACC'][:,0]\n",
    "acc_y_signal = s10_wrist_data['ACC'][:,1]\n",
    "acc_z_signal = s10_wrist_data['ACC'][:,2]\n",
    "temp_signal = s10_wrist_data['TEMP'][:,0]\n",
    "labels = s10.labels"
   ]
  },
  {
   "cell_type": "code",
   "execution_count": 22,
   "metadata": {},
   "outputs": [
    {
     "data": {
      "text/plain": [
       "array([10.17, 12.04, 13.01, ..., 57.59, 65.93, 69.86])"
      ]
     },
     "execution_count": 22,
     "metadata": {},
     "output_type": "execute_result"
    }
   ],
   "source": [
    "bvp_signal"
   ]
  },
  {
   "cell_type": "code",
   "execution_count": 23,
   "metadata": {},
   "outputs": [
    {
     "name": "stderr",
     "output_type": "stream",
     "text": [
      "/usr/local/lib/python3.9/site-packages/neurokit2/signal/signal_filter.py:310: NeuroKitWarning: The sampling rate is too low. Sampling rate must exceed the Nyquist rate to avoid aliasing problem. In this analysis, the sampling rate has to be higher than 6 Hz\n",
      "  warn(\n"
     ]
    },
    {
     "ename": "ValueError",
     "evalue": "Digital filter critical frequencies must be 0 < Wn < fs/2 (fs=4 -> fs/2=2.0)",
     "output_type": "error",
     "traceback": [
      "\u001b[0;31m---------------------------------------------------------------------------\u001b[0m",
      "\u001b[0;31mValueError\u001b[0m                                Traceback (most recent call last)",
      "\u001b[1;32m/Users/piasuelzle/Desktop/Uni/SS2022/BigDataPrak/Stress-Detection-From-Wearables/code/Stress_Detection_With_Wearables_Explorative_Analyse.ipynb Cell 12'\u001b[0m in \u001b[0;36m<cell line: 1>\u001b[0;34m()\u001b[0m\n\u001b[0;32m----> <a href='vscode-notebook-cell:/Users/piasuelzle/Desktop/Uni/SS2022/BigDataPrak/Stress-Detection-From-Wearables/code/Stress_Detection_With_Wearables_Explorative_Analyse.ipynb#ch0000011?line=0'>1</a>\u001b[0m signals, info \u001b[39m=\u001b[39m nk\u001b[39m.\u001b[39;49meda_process(eda_signal, sampling_rate\u001b[39m=\u001b[39;49m\u001b[39m4\u001b[39;49m)\n\u001b[1;32m      <a href='vscode-notebook-cell:/Users/piasuelzle/Desktop/Uni/SS2022/BigDataPrak/Stress-Detection-From-Wearables/code/Stress_Detection_With_Wearables_Explorative_Analyse.ipynb#ch0000011?line=2'>3</a>\u001b[0m nk\u001b[39m.\u001b[39meda_plot(signals[:\u001b[39m3000\u001b[39m], sampling_rate\u001b[39m=\u001b[39m\u001b[39m4\u001b[39m)\n",
      "File \u001b[0;32m/usr/local/lib/python3.9/site-packages/neurokit2/eda/eda_process.py:81\u001b[0m, in \u001b[0;36meda_process\u001b[0;34m(eda_signal, sampling_rate, method)\u001b[0m\n\u001b[1;32m     78\u001b[0m eda_signal \u001b[39m=\u001b[39m signal_sanitize(eda_signal)\n\u001b[1;32m     80\u001b[0m \u001b[39m# Preprocess\u001b[39;00m\n\u001b[0;32m---> 81\u001b[0m eda_cleaned \u001b[39m=\u001b[39m eda_clean(eda_signal, sampling_rate\u001b[39m=\u001b[39;49msampling_rate, method\u001b[39m=\u001b[39;49mmethod)\n\u001b[1;32m     82\u001b[0m eda_decomposed \u001b[39m=\u001b[39m eda_phasic(eda_cleaned, sampling_rate\u001b[39m=\u001b[39msampling_rate)\n\u001b[1;32m     84\u001b[0m \u001b[39m# Find peaks\u001b[39;00m\n",
      "File \u001b[0;32m/usr/local/lib/python3.9/site-packages/neurokit2/eda/eda_clean.py:67\u001b[0m, in \u001b[0;36meda_clean\u001b[0;34m(eda_signal, sampling_rate, method)\u001b[0m\n\u001b[1;32m     65\u001b[0m     clean \u001b[39m=\u001b[39m _eda_clean_biosppy(eda_signal, sampling_rate)\n\u001b[1;32m     66\u001b[0m \u001b[39melif\u001b[39;00m method \u001b[39min\u001b[39;00m [\u001b[39m\"\u001b[39m\u001b[39mdefault\u001b[39m\u001b[39m\"\u001b[39m, \u001b[39m\"\u001b[39m\u001b[39mneurokit\u001b[39m\u001b[39m\"\u001b[39m, \u001b[39m\"\u001b[39m\u001b[39mnk\u001b[39m\u001b[39m\"\u001b[39m]:\n\u001b[0;32m---> 67\u001b[0m     clean \u001b[39m=\u001b[39m _eda_clean_neurokit(eda_signal, sampling_rate)\n\u001b[1;32m     68\u001b[0m \u001b[39melse\u001b[39;00m:\n\u001b[1;32m     69\u001b[0m     \u001b[39mraise\u001b[39;00m \u001b[39mValueError\u001b[39;00m(\u001b[39m\"\u001b[39m\u001b[39mNeuroKit error: eda_clean(): \u001b[39m\u001b[39m'\u001b[39m\u001b[39mmethod\u001b[39m\u001b[39m'\u001b[39m\u001b[39m should be one of \u001b[39m\u001b[39m'\u001b[39m\u001b[39mbiosppy\u001b[39m\u001b[39m'\u001b[39m\u001b[39m.\u001b[39m\u001b[39m\"\u001b[39m)\n",
      "File \u001b[0;32m/usr/local/lib/python3.9/site-packages/neurokit2/eda/eda_clean.py:89\u001b[0m, in \u001b[0;36m_eda_clean_neurokit\u001b[0;34m(eda_signal, sampling_rate)\u001b[0m\n\u001b[1;32m     86\u001b[0m \u001b[39mdef\u001b[39;00m \u001b[39m_eda_clean_neurokit\u001b[39m(eda_signal, sampling_rate\u001b[39m=\u001b[39m\u001b[39m1000\u001b[39m):\n\u001b[1;32m     87\u001b[0m \n\u001b[1;32m     88\u001b[0m     \u001b[39m# Filtering\u001b[39;00m\n\u001b[0;32m---> 89\u001b[0m     filtered \u001b[39m=\u001b[39m signal_filter(eda_signal, sampling_rate\u001b[39m=\u001b[39;49msampling_rate, highcut\u001b[39m=\u001b[39;49m\u001b[39m3\u001b[39;49m, method\u001b[39m=\u001b[39;49m\u001b[39m\"\u001b[39;49m\u001b[39mbutterworth\u001b[39;49m\u001b[39m\"\u001b[39;49m, order\u001b[39m=\u001b[39;49m\u001b[39m4\u001b[39;49m)\n\u001b[1;32m     91\u001b[0m     \u001b[39mreturn\u001b[39;00m filtered\n",
      "File \u001b[0;32m/usr/local/lib/python3.9/site-packages/neurokit2/signal/signal_filter.py:157\u001b[0m, in \u001b[0;36msignal_filter\u001b[0;34m(signal, sampling_rate, lowcut, highcut, method, order, window_size, powerline, show)\u001b[0m\n\u001b[1;32m    152\u001b[0m     \u001b[39mraise\u001b[39;00m \u001b[39mValueError\u001b[39;00m(\n\u001b[1;32m    153\u001b[0m         \u001b[39m\"\u001b[39m\u001b[39mNeuroKit error: signal_filter(): you need to specify a \u001b[39m\u001b[39m'\u001b[39m\u001b[39mlowcut\u001b[39m\u001b[39m'\u001b[39m\u001b[39m or a \u001b[39m\u001b[39m'\u001b[39m\u001b[39mhighcut\u001b[39m\u001b[39m'\u001b[39m\u001b[39m.\u001b[39m\u001b[39m\"\u001b[39m\n\u001b[1;32m    154\u001b[0m     )\n\u001b[1;32m    156\u001b[0m \u001b[39mif\u001b[39;00m method \u001b[39min\u001b[39;00m [\u001b[39m\"\u001b[39m\u001b[39mbutter\u001b[39m\u001b[39m\"\u001b[39m, \u001b[39m\"\u001b[39m\u001b[39mbutterworth\u001b[39m\u001b[39m\"\u001b[39m]:\n\u001b[0;32m--> 157\u001b[0m     filtered \u001b[39m=\u001b[39m _signal_filter_butterworth(signal, sampling_rate, lowcut, highcut, order)\n\u001b[1;32m    158\u001b[0m \u001b[39melif\u001b[39;00m method \u001b[39min\u001b[39;00m [\u001b[39m\"\u001b[39m\u001b[39mbutter_ba\u001b[39m\u001b[39m\"\u001b[39m, \u001b[39m\"\u001b[39m\u001b[39mbutterworth_ba\u001b[39m\u001b[39m\"\u001b[39m]:\n\u001b[1;32m    159\u001b[0m     filtered \u001b[39m=\u001b[39m _signal_filter_butterworth_ba(signal, sampling_rate, lowcut, highcut, order)\n",
      "File \u001b[0;32m/usr/local/lib/python3.9/site-packages/neurokit2/signal/signal_filter.py:248\u001b[0m, in \u001b[0;36m_signal_filter_butterworth\u001b[0;34m(signal, sampling_rate, lowcut, highcut, order)\u001b[0m\n\u001b[1;32m    243\u001b[0m \u001b[39m\"\"\"Filter a signal using IIR Butterworth SOS method.\"\"\"\u001b[39;00m\n\u001b[1;32m    244\u001b[0m freqs, filter_type \u001b[39m=\u001b[39m _signal_filter_sanitize(\n\u001b[1;32m    245\u001b[0m     lowcut\u001b[39m=\u001b[39mlowcut, highcut\u001b[39m=\u001b[39mhighcut, sampling_rate\u001b[39m=\u001b[39msampling_rate\n\u001b[1;32m    246\u001b[0m )\n\u001b[0;32m--> 248\u001b[0m sos \u001b[39m=\u001b[39m scipy\u001b[39m.\u001b[39;49msignal\u001b[39m.\u001b[39;49mbutter(order, freqs, btype\u001b[39m=\u001b[39;49mfilter_type, output\u001b[39m=\u001b[39;49m\u001b[39m\"\u001b[39;49m\u001b[39msos\u001b[39;49m\u001b[39m\"\u001b[39;49m, fs\u001b[39m=\u001b[39;49msampling_rate)\n\u001b[1;32m    249\u001b[0m filtered \u001b[39m=\u001b[39m scipy\u001b[39m.\u001b[39msignal\u001b[39m.\u001b[39msosfiltfilt(sos, signal)\n\u001b[1;32m    250\u001b[0m \u001b[39mreturn\u001b[39;00m filtered\n",
      "File \u001b[0;32m/usr/local/lib/python3.9/site-packages/scipy/signal/_filter_design.py:3045\u001b[0m, in \u001b[0;36mbutter\u001b[0;34m(N, Wn, btype, analog, output, fs)\u001b[0m\n\u001b[1;32m   2935\u001b[0m \u001b[39mdef\u001b[39;00m \u001b[39mbutter\u001b[39m(N, Wn, btype\u001b[39m=\u001b[39m\u001b[39m'\u001b[39m\u001b[39mlow\u001b[39m\u001b[39m'\u001b[39m, analog\u001b[39m=\u001b[39m\u001b[39mFalse\u001b[39;00m, output\u001b[39m=\u001b[39m\u001b[39m'\u001b[39m\u001b[39mba\u001b[39m\u001b[39m'\u001b[39m, fs\u001b[39m=\u001b[39m\u001b[39mNone\u001b[39;00m):\n\u001b[1;32m   2936\u001b[0m     \u001b[39m\"\"\"\u001b[39;00m\n\u001b[1;32m   2937\u001b[0m \u001b[39m    Butterworth digital and analog filter design.\u001b[39;00m\n\u001b[1;32m   2938\u001b[0m \n\u001b[0;32m   (...)\u001b[0m\n\u001b[1;32m   3043\u001b[0m \u001b[39m    >>> plt.show()\u001b[39;00m\n\u001b[1;32m   3044\u001b[0m \u001b[39m    \"\"\"\u001b[39;00m\n\u001b[0;32m-> 3045\u001b[0m     \u001b[39mreturn\u001b[39;00m iirfilter(N, Wn, btype\u001b[39m=\u001b[39;49mbtype, analog\u001b[39m=\u001b[39;49manalog,\n\u001b[1;32m   3046\u001b[0m                      output\u001b[39m=\u001b[39;49moutput, ftype\u001b[39m=\u001b[39;49m\u001b[39m'\u001b[39;49m\u001b[39mbutter\u001b[39;49m\u001b[39m'\u001b[39;49m, fs\u001b[39m=\u001b[39;49mfs)\n",
      "File \u001b[0;32m/usr/local/lib/python3.9/site-packages/scipy/signal/_filter_design.py:2511\u001b[0m, in \u001b[0;36miirfilter\u001b[0;34m(N, Wn, rp, rs, btype, analog, ftype, output, fs)\u001b[0m\n\u001b[1;32m   2509\u001b[0m \u001b[39mif\u001b[39;00m numpy\u001b[39m.\u001b[39many(Wn \u001b[39m<\u001b[39m\u001b[39m=\u001b[39m \u001b[39m0\u001b[39m) \u001b[39mor\u001b[39;00m numpy\u001b[39m.\u001b[39many(Wn \u001b[39m>\u001b[39m\u001b[39m=\u001b[39m \u001b[39m1\u001b[39m):\n\u001b[1;32m   2510\u001b[0m     \u001b[39mif\u001b[39;00m fs \u001b[39mis\u001b[39;00m \u001b[39mnot\u001b[39;00m \u001b[39mNone\u001b[39;00m:\n\u001b[0;32m-> 2511\u001b[0m         \u001b[39mraise\u001b[39;00m \u001b[39mValueError\u001b[39;00m(\u001b[39m\"\u001b[39m\u001b[39mDigital filter critical frequencies \u001b[39m\u001b[39m\"\u001b[39m\n\u001b[1;32m   2512\u001b[0m                          \u001b[39m\"\u001b[39m\u001b[39mmust be 0 < Wn < fs/2 (fs=\u001b[39m\u001b[39m{}\u001b[39;00m\u001b[39m -> fs/2=\u001b[39m\u001b[39m{}\u001b[39;00m\u001b[39m)\u001b[39m\u001b[39m\"\u001b[39m\u001b[39m.\u001b[39mformat(fs, fs\u001b[39m/\u001b[39m\u001b[39m2\u001b[39m))\n\u001b[1;32m   2513\u001b[0m     \u001b[39mraise\u001b[39;00m \u001b[39mValueError\u001b[39;00m(\u001b[39m\"\u001b[39m\u001b[39mDigital filter critical frequencies \u001b[39m\u001b[39m\"\u001b[39m\n\u001b[1;32m   2514\u001b[0m                      \u001b[39m\"\u001b[39m\u001b[39mmust be 0 < Wn < 1\u001b[39m\u001b[39m\"\u001b[39m)\n\u001b[1;32m   2515\u001b[0m fs \u001b[39m=\u001b[39m \u001b[39m2.0\u001b[39m\n",
      "\u001b[0;31mValueError\u001b[0m: Digital filter critical frequencies must be 0 < Wn < fs/2 (fs=4 -> fs/2=2.0)"
     ]
    }
   ],
   "source": [
    "signals, info = nk.eda_process(eda_signal, sampling_rate=4)\n",
    "\n",
    "nk.eda_plot(signals[:3000], sampling_rate=4)"
   ]
  },
  {
   "cell_type": "code",
   "execution_count": 24,
   "metadata": {
    "id": "PwJei-1rf1sw"
   },
   "outputs": [],
   "source": [
    "# Turn e4-wrist-data into datafames\n",
    "\n",
    "eda_df = pd.DataFrame(s10_wrist_data['EDA'], columns=['EDA'])\n",
    "bvp_df = pd.DataFrame(s10_wrist_data['BVP'], columns=['BVP'])\n",
    "acc_df = pd.DataFrame(s10_wrist_data['ACC'], columns=['ACC_x', 'ACC_y', 'ACC_z'])\n",
    "temp_df = pd.DataFrame(s10_wrist_data['TEMP'], columns=['TEMP'])\n",
    "label_df = pd.DataFrame(s10.labels, columns=['label'])"
   ]
  },
  {
   "cell_type": "code",
   "execution_count": 25,
   "metadata": {
    "colab": {
     "base_uri": "https://localhost:8080/"
    },
    "id": "Z442gSlbiyYQ",
    "outputId": "efcea2e4-8830-47b7-9286-34fe9d036815"
   },
   "outputs": [
    {
     "data": {
      "text/plain": [
       "RangeIndex(start=0, stop=21984, step=1)"
      ]
     },
     "execution_count": 25,
     "metadata": {},
     "output_type": "execute_result"
    }
   ],
   "source": [
    "eda_df.index"
   ]
  },
  {
   "cell_type": "markdown",
   "metadata": {},
   "source": [
    "# Data"
   ]
  },
  {
   "cell_type": "code",
   "execution_count": 26,
   "metadata": {
    "id": "D3AKpwDFmtJG"
   },
   "outputs": [],
   "source": [
    "fs_dict = {'ACC': 32, 'BVP': 64, 'EDA': 4, 'TEMP': 4, 'label': 700}"
   ]
  },
  {
   "cell_type": "code",
   "execution_count": 27,
   "metadata": {
    "id": "do1jXPigmoG4"
   },
   "outputs": [],
   "source": [
    "eda_df.index = [(1 / fs_dict['EDA']) * i for i in range(len(eda_df))]\n",
    "bvp_df.index = [(1 / fs_dict['BVP']) * i for i in range(len(bvp_df))]\n",
    "acc_df.index = [(1 / fs_dict['ACC']) * i for i in range(len(acc_df))]\n",
    "temp_df.index = [(1 / fs_dict['TEMP']) * i for i in range(len(temp_df))]\n",
    "label_df.index = [(1 / fs_dict['label']) * i for i in range(len(label_df))]"
   ]
  },
  {
   "cell_type": "code",
   "execution_count": 28,
   "metadata": {
    "id": "-VrWmng1nRmo"
   },
   "outputs": [],
   "source": [
    "eda_df.index = pd.to_datetime(eda_df.index, unit='s')\n",
    "bvp_df.index = pd.to_datetime(bvp_df.index, unit='s')\n",
    "temp_df.index = pd.to_datetime(temp_df.index, unit='s')\n",
    "acc_df.index = pd.to_datetime(acc_df.index, unit='s')\n",
    "label_df.index = pd.to_datetime(label_df.index, unit='s')"
   ]
  },
  {
   "cell_type": "code",
   "execution_count": 29,
   "metadata": {},
   "outputs": [
    {
     "data": {
      "text/html": [
       "<div>\n",
       "<style scoped>\n",
       "    .dataframe tbody tr th:only-of-type {\n",
       "        vertical-align: middle;\n",
       "    }\n",
       "\n",
       "    .dataframe tbody tr th {\n",
       "        vertical-align: top;\n",
       "    }\n",
       "\n",
       "    .dataframe thead th {\n",
       "        text-align: right;\n",
       "    }\n",
       "</style>\n",
       "<table border=\"1\" class=\"dataframe\">\n",
       "  <thead>\n",
       "    <tr style=\"text-align: right;\">\n",
       "      <th></th>\n",
       "      <th>EDA</th>\n",
       "    </tr>\n",
       "  </thead>\n",
       "  <tbody>\n",
       "    <tr>\n",
       "      <th>1970-01-01 00:00:00.000</th>\n",
       "      <td>0.349215</td>\n",
       "    </tr>\n",
       "    <tr>\n",
       "      <th>1970-01-01 00:00:00.250</th>\n",
       "      <td>0.346656</td>\n",
       "    </tr>\n",
       "    <tr>\n",
       "      <th>1970-01-01 00:00:00.500</th>\n",
       "      <td>0.350494</td>\n",
       "    </tr>\n",
       "    <tr>\n",
       "      <th>1970-01-01 00:00:00.750</th>\n",
       "      <td>0.336423</td>\n",
       "    </tr>\n",
       "    <tr>\n",
       "      <th>1970-01-01 00:00:01.000</th>\n",
       "      <td>0.338981</td>\n",
       "    </tr>\n",
       "    <tr>\n",
       "      <th>...</th>\n",
       "      <td>...</td>\n",
       "    </tr>\n",
       "    <tr>\n",
       "      <th>1970-01-01 01:31:34.750</th>\n",
       "      <td>0.941808</td>\n",
       "    </tr>\n",
       "    <tr>\n",
       "      <th>1970-01-01 01:31:35.000</th>\n",
       "      <td>0.940529</td>\n",
       "    </tr>\n",
       "    <tr>\n",
       "      <th>1970-01-01 01:31:35.250</th>\n",
       "      <td>0.931574</td>\n",
       "    </tr>\n",
       "    <tr>\n",
       "      <th>1970-01-01 01:31:35.500</th>\n",
       "      <td>0.932854</td>\n",
       "    </tr>\n",
       "    <tr>\n",
       "      <th>1970-01-01 01:31:35.750</th>\n",
       "      <td>0.932854</td>\n",
       "    </tr>\n",
       "  </tbody>\n",
       "</table>\n",
       "<p>21984 rows × 1 columns</p>\n",
       "</div>"
      ],
      "text/plain": [
       "                              EDA\n",
       "1970-01-01 00:00:00.000  0.349215\n",
       "1970-01-01 00:00:00.250  0.346656\n",
       "1970-01-01 00:00:00.500  0.350494\n",
       "1970-01-01 00:00:00.750  0.336423\n",
       "1970-01-01 00:00:01.000  0.338981\n",
       "...                           ...\n",
       "1970-01-01 01:31:34.750  0.941808\n",
       "1970-01-01 01:31:35.000  0.940529\n",
       "1970-01-01 01:31:35.250  0.931574\n",
       "1970-01-01 01:31:35.500  0.932854\n",
       "1970-01-01 01:31:35.750  0.932854\n",
       "\n",
       "[21984 rows x 1 columns]"
      ]
     },
     "execution_count": 29,
     "metadata": {},
     "output_type": "execute_result"
    }
   ],
   "source": [
    "eda_df"
   ]
  },
  {
   "cell_type": "code",
   "execution_count": 30,
   "metadata": {},
   "outputs": [
    {
     "data": {
      "text/plain": [
       "351744"
      ]
     },
     "execution_count": 30,
     "metadata": {},
     "output_type": "execute_result"
    }
   ],
   "source": [
    "len(bvp_df)"
   ]
  },
  {
   "cell_type": "code",
   "execution_count": 31,
   "metadata": {
    "id": "enZ5lmd3nfFA"
   },
   "outputs": [],
   "source": [
    "# Combined dataframe - not used yet\n",
    "df = eda_df.join(bvp_df, how='outer')\n",
    "df = df.join(temp_df, how='outer')\n",
    "df = df.join(acc_df, how='outer')\n",
    "df = df.join(label_df, how='outer')\n",
    "df['label'] = df['label'].fillna(method='bfill')\n",
    "df.reset_index(drop=True, inplace=True)"
   ]
  },
  {
   "cell_type": "markdown",
   "metadata": {},
   "source": [
    "df_test = pd.DataFrame()\n",
    "df_test = bvp_df.join(label_df, how='inner')"
   ]
  },
  {
   "cell_type": "code",
   "execution_count": 32,
   "metadata": {},
   "outputs": [],
   "source": [
    "# Combined dataframe - not used yet\n",
    "df_test = pd.DataFrame()\n",
    "df_test = bvp_df.join(label_df, how='inner')\n",
    "df_test = df_test.join(eda_df, how='outer')\n",
    "df_test = df_test.join(acc_df, how='outer')\n",
    "# df_test = df_test.join(label_df, how='inner')\n",
    "#df_test['label'] = df_test['label'].fillna(method='bfill')\n",
    "#df_test.reset_index(drop=True, inplace=True)"
   ]
  },
  {
   "cell_type": "code",
   "execution_count": 33,
   "metadata": {},
   "outputs": [],
   "source": [
    "df_test = pd.DataFrame()\n",
    "df_test = bvp_df.join(label_df, how='left')\n",
    "#df_test = df_test.join(eda_df, how='inner')"
   ]
  },
  {
   "cell_type": "code",
   "execution_count": 178,
   "metadata": {},
   "outputs": [
    {
     "data": {
      "text/html": [
       "<div>\n",
       "<style scoped>\n",
       "    .dataframe tbody tr th:only-of-type {\n",
       "        vertical-align: middle;\n",
       "    }\n",
       "\n",
       "    .dataframe tbody tr th {\n",
       "        vertical-align: top;\n",
       "    }\n",
       "\n",
       "    .dataframe thead th {\n",
       "        text-align: right;\n",
       "    }\n",
       "</style>\n",
       "<table border=\"1\" class=\"dataframe\">\n",
       "  <thead>\n",
       "    <tr style=\"text-align: right;\">\n",
       "      <th></th>\n",
       "      <th>label</th>\n",
       "    </tr>\n",
       "  </thead>\n",
       "  <tbody>\n",
       "    <tr>\n",
       "      <th>1970-01-01 00:00:00.000000000</th>\n",
       "      <td>0</td>\n",
       "    </tr>\n",
       "    <tr>\n",
       "      <th>1970-01-01 00:00:00.001428571</th>\n",
       "      <td>0</td>\n",
       "    </tr>\n",
       "    <tr>\n",
       "      <th>1970-01-01 00:00:00.002857142</th>\n",
       "      <td>0</td>\n",
       "    </tr>\n",
       "    <tr>\n",
       "      <th>1970-01-01 00:00:00.004285714</th>\n",
       "      <td>0</td>\n",
       "    </tr>\n",
       "    <tr>\n",
       "      <th>1970-01-01 00:00:00.005714285</th>\n",
       "      <td>0</td>\n",
       "    </tr>\n",
       "    <tr>\n",
       "      <th>...</th>\n",
       "      <td>...</td>\n",
       "    </tr>\n",
       "    <tr>\n",
       "      <th>1970-01-01 01:31:35.992857142</th>\n",
       "      <td>0</td>\n",
       "    </tr>\n",
       "    <tr>\n",
       "      <th>1970-01-01 01:31:35.994285714</th>\n",
       "      <td>0</td>\n",
       "    </tr>\n",
       "    <tr>\n",
       "      <th>1970-01-01 01:31:35.995714285</th>\n",
       "      <td>0</td>\n",
       "    </tr>\n",
       "    <tr>\n",
       "      <th>1970-01-01 01:31:35.997142857</th>\n",
       "      <td>0</td>\n",
       "    </tr>\n",
       "    <tr>\n",
       "      <th>1970-01-01 01:31:35.998571428</th>\n",
       "      <td>0</td>\n",
       "    </tr>\n",
       "  </tbody>\n",
       "</table>\n",
       "<p>3847200 rows × 1 columns</p>\n",
       "</div>"
      ],
      "text/plain": [
       "                               label\n",
       "1970-01-01 00:00:00.000000000      0\n",
       "1970-01-01 00:00:00.001428571      0\n",
       "1970-01-01 00:00:00.002857142      0\n",
       "1970-01-01 00:00:00.004285714      0\n",
       "1970-01-01 00:00:00.005714285      0\n",
       "...                              ...\n",
       "1970-01-01 01:31:35.992857142      0\n",
       "1970-01-01 01:31:35.994285714      0\n",
       "1970-01-01 01:31:35.995714285      0\n",
       "1970-01-01 01:31:35.997142857      0\n",
       "1970-01-01 01:31:35.998571428      0\n",
       "\n",
       "[3847200 rows x 1 columns]"
      ]
     },
     "execution_count": 178,
     "metadata": {},
     "output_type": "execute_result"
    }
   ],
   "source": [
    "label_df"
   ]
  },
  {
   "cell_type": "code",
   "execution_count": 34,
   "metadata": {
    "colab": {
     "base_uri": "https://localhost:8080/"
    },
    "id": "rIQT07QznHjD",
    "outputId": "c7921584-d5b3-4420-83f6-7730f6d8bc67"
   },
   "outputs": [
    {
     "data": {
      "text/plain": [
       "896800"
      ]
     },
     "execution_count": 34,
     "metadata": {},
     "output_type": "execute_result"
    }
   ],
   "source": [
    "len(df[df['label'] == 1])"
   ]
  },
  {
   "cell_type": "code",
   "execution_count": 35,
   "metadata": {},
   "outputs": [
    {
     "data": {
      "text/html": [
       "<div>\n",
       "<style scoped>\n",
       "    .dataframe tbody tr th:only-of-type {\n",
       "        vertical-align: middle;\n",
       "    }\n",
       "\n",
       "    .dataframe tbody tr th {\n",
       "        vertical-align: top;\n",
       "    }\n",
       "\n",
       "    .dataframe thead th {\n",
       "        text-align: right;\n",
       "    }\n",
       "</style>\n",
       "<table border=\"1\" class=\"dataframe\">\n",
       "  <thead>\n",
       "    <tr style=\"text-align: right;\">\n",
       "      <th></th>\n",
       "      <th>EDA</th>\n",
       "      <th>BVP</th>\n",
       "      <th>TEMP</th>\n",
       "      <th>ACC_x</th>\n",
       "      <th>ACC_y</th>\n",
       "      <th>ACC_z</th>\n",
       "      <th>label</th>\n",
       "    </tr>\n",
       "  </thead>\n",
       "  <tbody>\n",
       "    <tr>\n",
       "      <th>0</th>\n",
       "      <td>0.349215</td>\n",
       "      <td>10.17</td>\n",
       "      <td>33.13</td>\n",
       "      <td>107.0</td>\n",
       "      <td>-105.0</td>\n",
       "      <td>127.0</td>\n",
       "      <td>0.0</td>\n",
       "    </tr>\n",
       "    <tr>\n",
       "      <th>1</th>\n",
       "      <td>NaN</td>\n",
       "      <td>NaN</td>\n",
       "      <td>NaN</td>\n",
       "      <td>NaN</td>\n",
       "      <td>NaN</td>\n",
       "      <td>NaN</td>\n",
       "      <td>0.0</td>\n",
       "    </tr>\n",
       "    <tr>\n",
       "      <th>2</th>\n",
       "      <td>NaN</td>\n",
       "      <td>NaN</td>\n",
       "      <td>NaN</td>\n",
       "      <td>NaN</td>\n",
       "      <td>NaN</td>\n",
       "      <td>NaN</td>\n",
       "      <td>0.0</td>\n",
       "    </tr>\n",
       "    <tr>\n",
       "      <th>3</th>\n",
       "      <td>NaN</td>\n",
       "      <td>NaN</td>\n",
       "      <td>NaN</td>\n",
       "      <td>NaN</td>\n",
       "      <td>NaN</td>\n",
       "      <td>NaN</td>\n",
       "      <td>0.0</td>\n",
       "    </tr>\n",
       "    <tr>\n",
       "      <th>4</th>\n",
       "      <td>NaN</td>\n",
       "      <td>NaN</td>\n",
       "      <td>NaN</td>\n",
       "      <td>NaN</td>\n",
       "      <td>NaN</td>\n",
       "      <td>NaN</td>\n",
       "      <td>0.0</td>\n",
       "    </tr>\n",
       "    <tr>\n",
       "      <th>...</th>\n",
       "      <td>...</td>\n",
       "      <td>...</td>\n",
       "      <td>...</td>\n",
       "      <td>...</td>\n",
       "      <td>...</td>\n",
       "      <td>...</td>\n",
       "      <td>...</td>\n",
       "    </tr>\n",
       "    <tr>\n",
       "      <th>171</th>\n",
       "      <td>NaN</td>\n",
       "      <td>NaN</td>\n",
       "      <td>NaN</td>\n",
       "      <td>NaN</td>\n",
       "      <td>NaN</td>\n",
       "      <td>NaN</td>\n",
       "      <td>0.0</td>\n",
       "    </tr>\n",
       "    <tr>\n",
       "      <th>172</th>\n",
       "      <td>NaN</td>\n",
       "      <td>NaN</td>\n",
       "      <td>NaN</td>\n",
       "      <td>NaN</td>\n",
       "      <td>NaN</td>\n",
       "      <td>NaN</td>\n",
       "      <td>0.0</td>\n",
       "    </tr>\n",
       "    <tr>\n",
       "      <th>173</th>\n",
       "      <td>NaN</td>\n",
       "      <td>NaN</td>\n",
       "      <td>NaN</td>\n",
       "      <td>NaN</td>\n",
       "      <td>NaN</td>\n",
       "      <td>NaN</td>\n",
       "      <td>0.0</td>\n",
       "    </tr>\n",
       "    <tr>\n",
       "      <th>174</th>\n",
       "      <td>NaN</td>\n",
       "      <td>NaN</td>\n",
       "      <td>NaN</td>\n",
       "      <td>NaN</td>\n",
       "      <td>NaN</td>\n",
       "      <td>NaN</td>\n",
       "      <td>0.0</td>\n",
       "    </tr>\n",
       "    <tr>\n",
       "      <th>175</th>\n",
       "      <td>NaN</td>\n",
       "      <td>NaN</td>\n",
       "      <td>NaN</td>\n",
       "      <td>NaN</td>\n",
       "      <td>NaN</td>\n",
       "      <td>NaN</td>\n",
       "      <td>0.0</td>\n",
       "    </tr>\n",
       "  </tbody>\n",
       "</table>\n",
       "<p>176 rows × 7 columns</p>\n",
       "</div>"
      ],
      "text/plain": [
       "          EDA    BVP   TEMP  ACC_x  ACC_y  ACC_z  label\n",
       "0    0.349215  10.17  33.13  107.0 -105.0  127.0    0.0\n",
       "1         NaN    NaN    NaN    NaN    NaN    NaN    0.0\n",
       "2         NaN    NaN    NaN    NaN    NaN    NaN    0.0\n",
       "3         NaN    NaN    NaN    NaN    NaN    NaN    0.0\n",
       "4         NaN    NaN    NaN    NaN    NaN    NaN    0.0\n",
       "..        ...    ...    ...    ...    ...    ...    ...\n",
       "171       NaN    NaN    NaN    NaN    NaN    NaN    0.0\n",
       "172       NaN    NaN    NaN    NaN    NaN    NaN    0.0\n",
       "173       NaN    NaN    NaN    NaN    NaN    NaN    0.0\n",
       "174       NaN    NaN    NaN    NaN    NaN    NaN    0.0\n",
       "175       NaN    NaN    NaN    NaN    NaN    NaN    0.0\n",
       "\n",
       "[176 rows x 7 columns]"
      ]
     },
     "execution_count": 35,
     "metadata": {},
     "output_type": "execute_result"
    }
   ],
   "source": [
    "df[0:176]"
   ]
  },
  {
   "cell_type": "code",
   "execution_count": 36,
   "metadata": {},
   "outputs": [
    {
     "data": {
      "text/plain": [
       "0         10.17\n",
       "1           NaN\n",
       "2           NaN\n",
       "3           NaN\n",
       "4           NaN\n",
       "          ...  \n",
       "351741      NaN\n",
       "351742      NaN\n",
       "351743      NaN\n",
       "351744      NaN\n",
       "351745      NaN\n",
       "Name: BVP, Length: 351746, dtype: float64"
      ]
     },
     "execution_count": 36,
     "metadata": {},
     "output_type": "execute_result"
    }
   ],
   "source": [
    "df.BVP[:351746]"
   ]
  },
  {
   "cell_type": "code",
   "execution_count": 37,
   "metadata": {},
   "outputs": [
    {
     "data": {
      "text/plain": [
       "99.45142857142856"
      ]
     },
     "execution_count": 37,
     "metadata": {},
     "output_type": "execute_result"
    }
   ],
   "source": [
    "len(df.BVP)/700/60"
   ]
  },
  {
   "cell_type": "markdown",
   "metadata": {},
   "source": [
    "# Playground"
   ]
  },
  {
   "cell_type": "code",
   "execution_count": 38,
   "metadata": {},
   "outputs": [
    {
     "ename": "FileNotFoundError",
     "evalue": "[Errno 2] No such file or directory: '/Users/nils/master/Stress-Detection-From-Wearables/data/WESAD/S10/S10_E4_Data/BVP.csv'",
     "output_type": "error",
     "traceback": [
      "\u001b[0;31m---------------------------------------------------------------------------\u001b[0m",
      "\u001b[0;31mFileNotFoundError\u001b[0m                         Traceback (most recent call last)",
      "\u001b[1;32m/Users/piasuelzle/Desktop/Uni/SS2022/BigDataPrak/Stress-Detection-From-Wearables/code/Stress_Detection_With_Wearables_Explorative_Analyse.ipynb Cell 31'\u001b[0m in \u001b[0;36m<cell line: 1>\u001b[0;34m()\u001b[0m\n\u001b[0;32m----> <a href='vscode-notebook-cell:/Users/piasuelzle/Desktop/Uni/SS2022/BigDataPrak/Stress-Detection-From-Wearables/code/Stress_Detection_With_Wearables_Explorative_Analyse.ipynb#ch0000030?line=0'>1</a>\u001b[0m csv \u001b[39m=\u001b[39m pd\u001b[39m.\u001b[39;49mread_csv(\u001b[39m\"\u001b[39;49m\u001b[39m/Users/nils/master/Stress-Detection-From-Wearables/data/WESAD/S10/S10_E4_Data/BVP.csv\u001b[39;49m\u001b[39m\"\u001b[39;49m)\n",
      "File \u001b[0;32m/usr/local/lib/python3.9/site-packages/pandas/util/_decorators.py:311\u001b[0m, in \u001b[0;36mdeprecate_nonkeyword_arguments.<locals>.decorate.<locals>.wrapper\u001b[0;34m(*args, **kwargs)\u001b[0m\n\u001b[1;32m    305\u001b[0m \u001b[39mif\u001b[39;00m \u001b[39mlen\u001b[39m(args) \u001b[39m>\u001b[39m num_allow_args:\n\u001b[1;32m    306\u001b[0m     warnings\u001b[39m.\u001b[39mwarn(\n\u001b[1;32m    307\u001b[0m         msg\u001b[39m.\u001b[39mformat(arguments\u001b[39m=\u001b[39marguments),\n\u001b[1;32m    308\u001b[0m         \u001b[39mFutureWarning\u001b[39;00m,\n\u001b[1;32m    309\u001b[0m         stacklevel\u001b[39m=\u001b[39mstacklevel,\n\u001b[1;32m    310\u001b[0m     )\n\u001b[0;32m--> 311\u001b[0m \u001b[39mreturn\u001b[39;00m func(\u001b[39m*\u001b[39;49margs, \u001b[39m*\u001b[39;49m\u001b[39m*\u001b[39;49mkwargs)\n",
      "File \u001b[0;32m/usr/local/lib/python3.9/site-packages/pandas/io/parsers/readers.py:680\u001b[0m, in \u001b[0;36mread_csv\u001b[0;34m(filepath_or_buffer, sep, delimiter, header, names, index_col, usecols, squeeze, prefix, mangle_dupe_cols, dtype, engine, converters, true_values, false_values, skipinitialspace, skiprows, skipfooter, nrows, na_values, keep_default_na, na_filter, verbose, skip_blank_lines, parse_dates, infer_datetime_format, keep_date_col, date_parser, dayfirst, cache_dates, iterator, chunksize, compression, thousands, decimal, lineterminator, quotechar, quoting, doublequote, escapechar, comment, encoding, encoding_errors, dialect, error_bad_lines, warn_bad_lines, on_bad_lines, delim_whitespace, low_memory, memory_map, float_precision, storage_options)\u001b[0m\n\u001b[1;32m    665\u001b[0m kwds_defaults \u001b[39m=\u001b[39m _refine_defaults_read(\n\u001b[1;32m    666\u001b[0m     dialect,\n\u001b[1;32m    667\u001b[0m     delimiter,\n\u001b[0;32m   (...)\u001b[0m\n\u001b[1;32m    676\u001b[0m     defaults\u001b[39m=\u001b[39m{\u001b[39m\"\u001b[39m\u001b[39mdelimiter\u001b[39m\u001b[39m\"\u001b[39m: \u001b[39m\"\u001b[39m\u001b[39m,\u001b[39m\u001b[39m\"\u001b[39m},\n\u001b[1;32m    677\u001b[0m )\n\u001b[1;32m    678\u001b[0m kwds\u001b[39m.\u001b[39mupdate(kwds_defaults)\n\u001b[0;32m--> 680\u001b[0m \u001b[39mreturn\u001b[39;00m _read(filepath_or_buffer, kwds)\n",
      "File \u001b[0;32m/usr/local/lib/python3.9/site-packages/pandas/io/parsers/readers.py:575\u001b[0m, in \u001b[0;36m_read\u001b[0;34m(filepath_or_buffer, kwds)\u001b[0m\n\u001b[1;32m    572\u001b[0m _validate_names(kwds\u001b[39m.\u001b[39mget(\u001b[39m\"\u001b[39m\u001b[39mnames\u001b[39m\u001b[39m\"\u001b[39m, \u001b[39mNone\u001b[39;00m))\n\u001b[1;32m    574\u001b[0m \u001b[39m# Create the parser.\u001b[39;00m\n\u001b[0;32m--> 575\u001b[0m parser \u001b[39m=\u001b[39m TextFileReader(filepath_or_buffer, \u001b[39m*\u001b[39;49m\u001b[39m*\u001b[39;49mkwds)\n\u001b[1;32m    577\u001b[0m \u001b[39mif\u001b[39;00m chunksize \u001b[39mor\u001b[39;00m iterator:\n\u001b[1;32m    578\u001b[0m     \u001b[39mreturn\u001b[39;00m parser\n",
      "File \u001b[0;32m/usr/local/lib/python3.9/site-packages/pandas/io/parsers/readers.py:933\u001b[0m, in \u001b[0;36mTextFileReader.__init__\u001b[0;34m(self, f, engine, **kwds)\u001b[0m\n\u001b[1;32m    930\u001b[0m     \u001b[39mself\u001b[39m\u001b[39m.\u001b[39moptions[\u001b[39m\"\u001b[39m\u001b[39mhas_index_names\u001b[39m\u001b[39m\"\u001b[39m] \u001b[39m=\u001b[39m kwds[\u001b[39m\"\u001b[39m\u001b[39mhas_index_names\u001b[39m\u001b[39m\"\u001b[39m]\n\u001b[1;32m    932\u001b[0m \u001b[39mself\u001b[39m\u001b[39m.\u001b[39mhandles: IOHandles \u001b[39m|\u001b[39m \u001b[39mNone\u001b[39;00m \u001b[39m=\u001b[39m \u001b[39mNone\u001b[39;00m\n\u001b[0;32m--> 933\u001b[0m \u001b[39mself\u001b[39m\u001b[39m.\u001b[39m_engine \u001b[39m=\u001b[39m \u001b[39mself\u001b[39;49m\u001b[39m.\u001b[39;49m_make_engine(f, \u001b[39mself\u001b[39;49m\u001b[39m.\u001b[39;49mengine)\n",
      "File \u001b[0;32m/usr/local/lib/python3.9/site-packages/pandas/io/parsers/readers.py:1217\u001b[0m, in \u001b[0;36mTextFileReader._make_engine\u001b[0;34m(self, f, engine)\u001b[0m\n\u001b[1;32m   1213\u001b[0m     mode \u001b[39m=\u001b[39m \u001b[39m\"\u001b[39m\u001b[39mrb\u001b[39m\u001b[39m\"\u001b[39m\n\u001b[1;32m   1214\u001b[0m \u001b[39m# error: No overload variant of \"get_handle\" matches argument types\u001b[39;00m\n\u001b[1;32m   1215\u001b[0m \u001b[39m# \"Union[str, PathLike[str], ReadCsvBuffer[bytes], ReadCsvBuffer[str]]\"\u001b[39;00m\n\u001b[1;32m   1216\u001b[0m \u001b[39m# , \"str\", \"bool\", \"Any\", \"Any\", \"Any\", \"Any\", \"Any\"\u001b[39;00m\n\u001b[0;32m-> 1217\u001b[0m \u001b[39mself\u001b[39m\u001b[39m.\u001b[39mhandles \u001b[39m=\u001b[39m get_handle(  \u001b[39m# type: ignore[call-overload]\u001b[39;49;00m\n\u001b[1;32m   1218\u001b[0m     f,\n\u001b[1;32m   1219\u001b[0m     mode,\n\u001b[1;32m   1220\u001b[0m     encoding\u001b[39m=\u001b[39;49m\u001b[39mself\u001b[39;49m\u001b[39m.\u001b[39;49moptions\u001b[39m.\u001b[39;49mget(\u001b[39m\"\u001b[39;49m\u001b[39mencoding\u001b[39;49m\u001b[39m\"\u001b[39;49m, \u001b[39mNone\u001b[39;49;00m),\n\u001b[1;32m   1221\u001b[0m     compression\u001b[39m=\u001b[39;49m\u001b[39mself\u001b[39;49m\u001b[39m.\u001b[39;49moptions\u001b[39m.\u001b[39;49mget(\u001b[39m\"\u001b[39;49m\u001b[39mcompression\u001b[39;49m\u001b[39m\"\u001b[39;49m, \u001b[39mNone\u001b[39;49;00m),\n\u001b[1;32m   1222\u001b[0m     memory_map\u001b[39m=\u001b[39;49m\u001b[39mself\u001b[39;49m\u001b[39m.\u001b[39;49moptions\u001b[39m.\u001b[39;49mget(\u001b[39m\"\u001b[39;49m\u001b[39mmemory_map\u001b[39;49m\u001b[39m\"\u001b[39;49m, \u001b[39mFalse\u001b[39;49;00m),\n\u001b[1;32m   1223\u001b[0m     is_text\u001b[39m=\u001b[39;49mis_text,\n\u001b[1;32m   1224\u001b[0m     errors\u001b[39m=\u001b[39;49m\u001b[39mself\u001b[39;49m\u001b[39m.\u001b[39;49moptions\u001b[39m.\u001b[39;49mget(\u001b[39m\"\u001b[39;49m\u001b[39mencoding_errors\u001b[39;49m\u001b[39m\"\u001b[39;49m, \u001b[39m\"\u001b[39;49m\u001b[39mstrict\u001b[39;49m\u001b[39m\"\u001b[39;49m),\n\u001b[1;32m   1225\u001b[0m     storage_options\u001b[39m=\u001b[39;49m\u001b[39mself\u001b[39;49m\u001b[39m.\u001b[39;49moptions\u001b[39m.\u001b[39;49mget(\u001b[39m\"\u001b[39;49m\u001b[39mstorage_options\u001b[39;49m\u001b[39m\"\u001b[39;49m, \u001b[39mNone\u001b[39;49;00m),\n\u001b[1;32m   1226\u001b[0m )\n\u001b[1;32m   1227\u001b[0m \u001b[39massert\u001b[39;00m \u001b[39mself\u001b[39m\u001b[39m.\u001b[39mhandles \u001b[39mis\u001b[39;00m \u001b[39mnot\u001b[39;00m \u001b[39mNone\u001b[39;00m\n\u001b[1;32m   1228\u001b[0m f \u001b[39m=\u001b[39m \u001b[39mself\u001b[39m\u001b[39m.\u001b[39mhandles\u001b[39m.\u001b[39mhandle\n",
      "File \u001b[0;32m/usr/local/lib/python3.9/site-packages/pandas/io/common.py:789\u001b[0m, in \u001b[0;36mget_handle\u001b[0;34m(path_or_buf, mode, encoding, compression, memory_map, is_text, errors, storage_options)\u001b[0m\n\u001b[1;32m    784\u001b[0m \u001b[39melif\u001b[39;00m \u001b[39misinstance\u001b[39m(handle, \u001b[39mstr\u001b[39m):\n\u001b[1;32m    785\u001b[0m     \u001b[39m# Check whether the filename is to be opened in binary mode.\u001b[39;00m\n\u001b[1;32m    786\u001b[0m     \u001b[39m# Binary mode does not support 'encoding' and 'newline'.\u001b[39;00m\n\u001b[1;32m    787\u001b[0m     \u001b[39mif\u001b[39;00m ioargs\u001b[39m.\u001b[39mencoding \u001b[39mand\u001b[39;00m \u001b[39m\"\u001b[39m\u001b[39mb\u001b[39m\u001b[39m\"\u001b[39m \u001b[39mnot\u001b[39;00m \u001b[39min\u001b[39;00m ioargs\u001b[39m.\u001b[39mmode:\n\u001b[1;32m    788\u001b[0m         \u001b[39m# Encoding\u001b[39;00m\n\u001b[0;32m--> 789\u001b[0m         handle \u001b[39m=\u001b[39m \u001b[39mopen\u001b[39;49m(\n\u001b[1;32m    790\u001b[0m             handle,\n\u001b[1;32m    791\u001b[0m             ioargs\u001b[39m.\u001b[39;49mmode,\n\u001b[1;32m    792\u001b[0m             encoding\u001b[39m=\u001b[39;49mioargs\u001b[39m.\u001b[39;49mencoding,\n\u001b[1;32m    793\u001b[0m             errors\u001b[39m=\u001b[39;49merrors,\n\u001b[1;32m    794\u001b[0m             newline\u001b[39m=\u001b[39;49m\u001b[39m\"\u001b[39;49m\u001b[39m\"\u001b[39;49m,\n\u001b[1;32m    795\u001b[0m         )\n\u001b[1;32m    796\u001b[0m     \u001b[39melse\u001b[39;00m:\n\u001b[1;32m    797\u001b[0m         \u001b[39m# Binary mode\u001b[39;00m\n\u001b[1;32m    798\u001b[0m         handle \u001b[39m=\u001b[39m \u001b[39mopen\u001b[39m(handle, ioargs\u001b[39m.\u001b[39mmode)\n",
      "\u001b[0;31mFileNotFoundError\u001b[0m: [Errno 2] No such file or directory: '/Users/nils/master/Stress-Detection-From-Wearables/data/WESAD/S10/S10_E4_Data/BVP.csv'"
     ]
    }
   ],
   "source": [
    "csv = pd.read_csv(\"/Users/nils/master/Stress-Detection-From-Wearables/data/WESAD/S10/S10_E4_Data/BVP.csv\")"
   ]
  },
  {
   "cell_type": "code",
   "execution_count": 39,
   "metadata": {},
   "outputs": [
    {
     "data": {
      "text/plain": [
       "Text(0, 0.5, 'BVP')"
      ]
     },
     "execution_count": 39,
     "metadata": {},
     "output_type": "execute_result"
    },
    {
     "data": {
      "image/png": "[encoded data removed]",
      "text/plain": [
       "<Figure size 432x288 with 1 Axes>"
      ]
     },
     "metadata": {
      "needs_background": "light"
     },
     "output_type": "display_data"
    }
   ],
   "source": [
    "x = bvp_df.index\n",
    "y = np.array(bvp_df['BVP'])\n",
    "plt.plot(x, y)\n",
    "plt.xlabel('Index')\n",
    "plt.ylabel('BVP')"
   ]
  },
  {
   "cell_type": "code",
   "execution_count": 40,
   "metadata": {},
   "outputs": [],
   "source": [
    "y_detrend = scipy.signal.detrend(y)"
   ]
  },
  {
   "cell_type": "code",
   "execution_count": 41,
   "metadata": {},
   "outputs": [
    {
     "name": "stdout",
     "output_type": "stream",
     "text": [
      "[10.17 12.04 13.01 ... 57.59 65.93 69.86]\n",
      "[10.16143209 12.03143214 13.00143219 ... 57.59766437 65.93766442\n",
      " 69.86766447]\n"
     ]
    }
   ],
   "source": [
    "print(y)\n",
    "print(y_detrend)"
   ]
  },
  {
   "cell_type": "code",
   "execution_count": 42,
   "metadata": {},
   "outputs": [
    {
     "data": {
      "text/plain": [
       "(0.0, 200.0)"
      ]
     },
     "execution_count": 42,
     "metadata": {},
     "output_type": "execute_result"
    },
    {
     "data": {
      "image/png": "[encoded data removed]",
      "text/plain": [
       "<Figure size 432x288 with 1 Axes>"
      ]
     },
     "metadata": {
      "needs_background": "light"
     },
     "output_type": "display_data"
    }
   ],
   "source": [
    "FFT =np.fft.fft(y)\n",
    "new_N=int(len(FFT)/2) \n",
    "f_nat=1\n",
    "new_X = np.linspace(10**-12, f_nat/2, new_N, endpoint=True)\n",
    "new_Xph=1.0/(new_X)\n",
    "FFT_abs=np.abs(FFT)\n",
    "plt.plot(new_Xph,2*FFT_abs[0:int(len(FFT)/2.)]/len(new_Xph),color='black')\n",
    "plt.xlabel('Period ($h$)',fontsize=20)\n",
    "plt.ylabel('Amplitude',fontsize=20)\n",
    "plt.title('(Fast) Fourier Transform Method Algorithm',fontsize=20)\n",
    "plt.grid(True)\n",
    "plt.xlim(0,200)"
   ]
  },
  {
   "cell_type": "markdown",
   "metadata": {},
   "source": [
    "# Upsampling and matching signals"
   ]
  },
  {
   "cell_type": "code",
   "execution_count": 43,
   "metadata": {},
   "outputs": [],
   "source": [
    "# Upsampling data to match BVP data sampling rate using fourier method as described in Paper/dataset\n",
    "eda_upsampled = scipy.signal.resample(eda_signal, len(bvp_signal))\n",
    "temp_upsampled = scipy.signal.resample(temp_signal, len(bvp_signal))\n",
    "acc_x_upsampled = scipy.signal.resample(acc_x_signal, len(bvp_signal))\n",
    "acc_y_upsampled = scipy.signal.resample(acc_y_signal, len(bvp_signal))\n",
    "acc_z_upsampled = scipy.signal.resample(acc_z_signal, len(bvp_signal))\n"
   ]
  },
  {
   "cell_type": "code",
   "execution_count": 44,
   "metadata": {},
   "outputs": [],
   "source": [
    "data_arrays = zip(bvp_signal, eda_upsampled, acc_x_upsampled, acc_y_upsampled, acc_z_upsampled, temp_upsampled)\n",
    "df = pd.DataFrame(data=data_arrays, columns=['BVP', 'EDA', 'ACC_x', 'ACC_y', 'ACC_z', 'TEMP'])\n",
    "df.index = [(1 / 64) * i for i in range(len(df))]\n",
    "df.index = pd.to_datetime(df.index, unit='s')\n",
    "df_new = df.join(label_df)\n",
    "df_bfill = df_new.copy()\n",
    "df_new['label'] = df_new['label'].fillna(method='ffill')\n",
    "df_new.reset_index(drop=True, inplace=True)\n"
   ]
  },
  {
   "cell_type": "markdown",
   "metadata": {},
   "source": [
    "- Anwendung von Fourier Transformation (scipy.fft) am Beispiel: https://realpython.com/python-scipy-fft/\n",
    "\n",
    "Wichtige Parameter:\n",
    "1. **SAMPLE_RATE** (in Hertz) determines how many data points the signal uses to represent the sine wave per second. So if the signal had a sample rate of 10 Hz and was a five-second sine wave, then it would have 10 * 5 = 50 data points.\n",
    "2. **DURATION** (in Seconds) is the length of the generated sample. -> Frage hierzu: können wir überhaupt duration in seconds nehmen, wenn wir gar nicht mit den Zeitstempeln arbeiten, oder ist das irrelvant?\n",
    "\n",
    "Für *fftfreq* wird N (= SAMPLE_RATE * DURATION) und 1/SAMPLE_RATE"
   ]
  },
  {
   "cell_type": "code",
   "execution_count": 50,
   "metadata": {},
   "outputs": [
    {
     "name": "stdout",
     "output_type": "stream",
     "text": [
      "       BVP       EDA       ACC_x       ACC_y         ACC_z       TEMP  label\n",
      "0    10.17  0.349215  107.000000 -105.000000  1.270000e+02  33.130000    0.0\n",
      "1    12.04  0.325576  102.356872 -113.012765  1.126363e+02  33.223713    0.0\n",
      "2    13.01  0.305809   67.000000  -52.000000  4.500000e+01  33.302211    0.0\n",
      "3    13.07  0.289995   32.736815   17.606782 -5.830147e+00  33.365191    0.0\n",
      "4    12.33  0.278123   26.000000   40.000000  2.862856e-14  33.412692    0.0\n",
      "..     ...       ...         ...         ...           ...        ...    ...\n",
      "443 -95.33  0.343879   16.015270  -58.014264  1.432545e+01  33.117342    0.0\n",
      "444 -94.04  0.343758   16.000000  -58.000000  1.400000e+01  33.119272    0.0\n",
      "445 -93.85  0.343583   16.085786  -58.365212  1.370724e+01  33.121600    0.0\n",
      "446 -94.39  0.343360   16.000000  -59.000000  1.400000e+01  33.124233    0.0\n",
      "447 -95.18  0.343102   15.812592  -59.249986  1.425438e+01  33.127070    0.0\n",
      "\n",
      "[448 rows x 7 columns]\n",
      "       BVP       EDA       ACC_x       ACC_y       ACC_z       TEMP  label\n",
      "16    5.79  0.346656   26.000000   13.000000  -35.000000  33.160000    0.0\n",
      "17    5.11  0.357686   67.179106  -59.500987   80.661660  33.118766    0.0\n",
      "18    4.42  0.367651  127.000000 -103.000000  127.000000  33.081777    0.0\n",
      "19    3.77  0.376277  152.923771  -65.720440   50.001748  33.050069    0.0\n",
      "20    3.10  0.383352  109.000000   13.000000  -53.000000  33.024435    0.0\n",
      "..     ...       ...         ...         ...         ...        ...    ...\n",
      "459 -23.09  0.341384   18.079972  -60.035861   13.315224  33.142055    0.0\n",
      "460 -15.47  0.341586   18.000000  -60.000000   13.000000  33.140224    0.0\n",
      "461  -8.58  0.341841   17.908695  -60.418708   12.702533  33.138012    0.0\n",
      "462  -2.28  0.342138   18.000000  -61.000000   13.000000  33.135504    0.0\n",
      "463   3.58  0.342469   18.155940  -60.817697   13.278346  33.132799    0.0\n",
      "\n",
      "[448 rows x 7 columns]\n",
      "       BVP       EDA      ACC_x      ACC_y      ACC_z       TEMP  label\n",
      "32  -16.79  0.350494  50.000000  30.000000  21.000000  33.160000    0.0\n",
      "33  -13.87  0.343191  51.630111  31.091513  20.328529  33.186492    0.0\n",
      "34   -9.59  0.336327  53.000000  26.000000  29.000000  33.210810    0.0\n",
      "35   -4.69  0.330113  51.327651  21.384591  34.632698  33.232155    0.0\n",
      "36   -0.02  0.324729  50.000000  22.000000  30.000000  33.249872    0.0\n",
      "..     ...       ...        ...        ...        ...        ...    ...\n",
      "475  14.50  0.344538  17.060660 -60.547126  14.464762  33.118408    0.0\n",
      "476  20.83  0.344304  17.000000 -60.000000  14.000000  33.120164    0.0\n",
      "477  28.03  0.344006  16.580505 -59.484714  13.181690  33.122288    0.0\n",
      "478  35.71  0.343652  16.000000 -60.000000  13.000000  33.124700    0.0\n",
      "479  43.55  0.343252  15.816501 -60.598248  13.199742  33.127304    0.0\n",
      "\n",
      "[448 rows x 7 columns]\n",
      "       BVP       EDA      ACC_x      ACC_y      ACC_z       TEMP  label\n",
      "48   18.41  0.336423  51.000000  21.000000  19.000000  33.160000    0.0\n",
      "49   18.23  0.340902  51.963902  22.464144  16.651634  33.140661    0.0\n",
      "50   19.15  0.345155  53.000000  22.000000  19.000000  33.122710    0.0\n",
      "51   21.30  0.349023  55.043735  22.113412  20.738151  33.106770    0.0\n",
      "52   24.36  0.352367  58.000000  24.000000  18.000000  33.093372    0.0\n",
      "..     ...       ...        ...        ...        ...        ...    ...\n",
      "491  77.53  0.339413  15.223613 -60.564174   9.531779  33.141223    0.0\n",
      "492  81.40  0.339458  15.000000 -60.000000   8.000000  33.139527    0.0\n",
      "493  84.68  0.339571  15.540275 -59.766322   7.113643  33.137472    0.0\n",
      "494  86.91  0.339748  16.000000 -60.000000   8.000000  33.135138    0.0\n",
      "495  87.84  0.339980  15.954050 -60.196241   9.215329  33.132615    0.0\n",
      "\n",
      "[448 rows x 7 columns]\n",
      "       BVP       EDA      ACC_x      ACC_y      ACC_z       TEMP  label\n",
      "64   35.28  0.338981  59.000000  24.000000  16.000000  33.160000    0.0\n",
      "65   33.57  0.335301  60.241955  24.611860  15.668561  33.174956    0.0\n",
      "66   32.92  0.331798  59.000000  23.000000  18.000000  33.188867    0.0\n",
      "67   34.64  0.328597  57.414975  21.346632  19.676528  33.201222    0.0\n",
      "68   39.91  0.325811  58.000000  22.000000  18.000000  33.211578    0.0\n",
      "..     ...       ...        ...        ...        ...        ...    ...\n",
      "507  39.73  0.343670  16.657815 -60.386765   8.947624  33.119067    0.0\n",
      "508  32.30  0.343821  17.000000 -60.000000   9.000000  33.120715    0.0\n",
      "509  25.52  0.343935  16.606040 -59.678048   9.333863  33.122715    0.0\n",
      "510  20.41  0.344016  16.000000 -60.000000  10.000000  33.124989    0.0\n",
      "511  18.00  0.344068  16.087559 -60.285628  10.629594  33.127449    0.0\n",
      "\n",
      "[448 rows x 7 columns]\n",
      "       BVP       EDA      ACC_x      ACC_y      ACC_z       TEMP  label\n",
      "80   -4.20  0.336423  57.000000  21.000000  16.000000  33.150000    0.0\n",
      "81  -39.17  0.339556  57.666460  21.998693  14.915932  33.136852    0.0\n",
      "82  -68.27  0.342573  57.000000  22.000000  16.000000  33.124527    0.0\n",
      "83  -88.60  0.345367  56.231368  21.581951  17.026564  33.113464    0.0\n",
      "84  -97.99  0.347838  57.000000  22.000000  16.000000  33.104045    0.0\n",
      "..     ...       ...        ...        ...        ...        ...    ...\n",
      "523  64.26  0.344593  17.451335 -60.205985  12.160310  33.140730    0.0\n",
      "524  59.93  0.344738  18.000000 -60.000000  12.000000  33.139117    0.0\n",
      "525  55.19  0.344894  18.191753 -60.188018  11.898845  33.137157    0.0\n",
      "526  50.70  0.345057  18.000000 -61.000000  12.000000  33.134926    0.0\n",
      "527  47.04  0.345220  17.865958 -61.443109  11.741674  33.132510    0.0\n",
      "\n",
      "[448 rows x 7 columns]\n",
      "        BVP       EDA      ACC_x      ACC_y      ACC_z       TEMP  label\n",
      "96   104.35  0.340260  56.000000  22.000000  16.000000  33.150000    0.0\n",
      "97    64.33  0.337519  56.781199  22.503286  14.990377  33.161072    0.0\n",
      "98    20.58  0.334823  57.000000  22.000000  16.000000  33.171515    0.0\n",
      "99   -22.32  0.332265  56.673431  21.510941  16.946559  33.180948    0.0\n",
      "100  -61.56  0.329928  57.000000  22.000000  16.000000  33.189033    0.0\n",
      "..      ...       ...        ...        ...        ...        ...    ...\n",
      "539   27.96  0.345245  16.654603 -61.514811  10.094720  33.119350    0.0\n",
      "540   24.96  0.345033  17.000000 -61.000000  10.000000  33.120942    0.0\n",
      "541   21.33  0.344804  17.366865 -59.812529   9.848876  33.122882    0.0\n",
      "542   16.96  0.344566  17.000000 -59.000000  10.000000  33.125095    0.0\n",
      "543   11.84  0.344328  16.235054 -58.563158  10.171196  33.127499    0.0\n",
      "\n",
      "[448 rows x 7 columns]\n",
      "        BVP       EDA      ACC_x      ACC_y      ACC_z       TEMP  label\n",
      "112 -123.98  0.331306  56.000000  22.000000  15.000000  33.150000    0.0\n",
      "113 -118.55  0.333228  56.642044  22.739160  14.538324  33.140326    0.0\n",
      "114 -108.48  0.335141  57.000000  22.000000  16.000000  33.131163    0.0\n",
      "115  -94.69  0.336971  56.945068  21.330112  17.022952  33.122849    0.0\n",
      "116  -79.65  0.338647  57.000000  22.000000  16.000000  33.115687    0.0\n",
      "..      ...       ...        ...        ...        ...        ...    ...\n",
      "555   30.74  0.343977  17.018179 -61.402063  10.188078  33.140824    0.0\n",
      "556   37.32  0.344225  17.000000 -61.000000  10.000000  33.139228    0.0\n",
      "557   41.82  0.344498  16.927819 -60.220483   9.813382  33.137270    0.0\n",
      "558   44.02  0.344788  17.000000 -60.000000  10.000000  33.135023    0.0\n",
      "559   43.88  0.345084  17.431531 -60.209173  10.184317  33.132569    0.0\n",
      "\n",
      "[448 rows x 7 columns]\n",
      "       BVP       EDA      ACC_x      ACC_y      ACC_z       TEMP  label\n",
      "128   1.29  0.336423  59.000000  21.000000  16.000000  33.150000    0.0\n",
      "129   3.65  0.334862  59.528962  21.410969  15.145555  33.158822    0.0\n",
      "130   6.41  0.333322  59.000000  21.000000  16.000000  33.167263    0.0\n",
      "131   9.27  0.331863  58.604540  20.595622  17.183728  33.175022    0.0\n",
      "132  11.80  0.330543  59.000000  21.000000  17.000000  33.181829    0.0\n",
      "..     ...       ...        ...        ...        ...        ...    ...\n",
      "571  22.89  0.346355  18.229190 -59.242434  10.070542  33.118155    0.0\n",
      "572  21.83  0.346190  18.000000 -59.000000  10.000000  33.119806    0.0\n",
      "573  20.63  0.346000  18.180422 -58.680738  10.293303  33.121883    0.0\n",
      "574  19.47  0.345795  18.000000 -59.000000  11.000000  33.124325    0.0\n",
      "575  18.30  0.345584  17.386235 -59.698718  11.342578  33.127058    0.0\n",
      "\n",
      "[448 rows x 7 columns]\n",
      "       BVP       EDA      ACC_x      ACC_y      ACC_z       TEMP  label\n",
      "144   5.86  0.333865  56.000000  21.000000  16.000000  33.160000    0.0\n",
      "145   3.94  0.335304  56.702621  21.334289  15.217125  33.152932    0.0\n",
      "146   1.91  0.336723  57.000000  21.000000  16.000000  33.146182    0.0\n",
      "147  -0.31  0.338071  56.992419  20.680608  16.820266  33.140014    0.0\n",
      "148  -2.74  0.339299  57.000000  21.000000  16.000000  33.134664    0.0\n",
      "..     ...       ...        ...        ...        ...        ...    ...\n",
      "587  -8.33  0.345349  17.344277 -59.514883  11.187932  33.153221    0.0\n",
      "588  -1.74  0.345590  17.000000 -60.000000  11.000000  33.153203    0.0\n",
      "589   6.56  0.345851  16.302644 -60.038965  10.871351  33.152819    0.0\n",
      "590  15.57  0.346123  16.000000 -60.000000  11.000000  33.152117    0.0\n",
      "591  24.22  0.346394  16.393451 -60.098879  10.768797  33.151155    0.0\n",
      "\n",
      "[448 rows x 7 columns]\n",
      "       BVP       EDA      ACC_x      ACC_y      ACC_z       TEMP  label\n",
      "160  13.65  0.337702  58.000000  22.000000  17.000000  33.160000    0.0\n",
      "161  14.86  0.336598  57.703464  21.844256  15.934101  33.166548    0.0\n",
      "162  15.50  0.335515  57.000000  21.000000  16.000000  33.172773    0.0\n",
      "163  15.60  0.334499  56.989053  20.950190  16.811317  33.178441    0.0\n",
      "164  15.20  0.333589  58.000000  22.000000  17.000000  33.183339    0.0\n",
      "..     ...       ...        ...        ...        ...        ...    ...\n",
      "603  17.88  0.346819  18.296766 -60.140302  10.465983  33.143264    0.0\n",
      "604  17.47  0.346555  18.000000 -60.000000  10.000000  33.144213    0.0\n",
      "605  17.26  0.346268  17.312821 -59.861197   9.111603  33.145412    0.0\n",
      "606  16.95  0.345968  17.000000 -60.000000   9.000000  33.146813    0.0\n",
      "607  16.38  0.345667  17.453465 -60.139858   9.614658  33.148363    0.0\n",
      "\n",
      "[448 rows x 7 columns]\n",
      "       BVP       EDA      ACC_x      ACC_y      ACC_z       TEMP  label\n",
      "176   8.55  0.336423  56.000000  22.000000  17.000000  33.160000    0.0\n",
      "177   7.84  0.337415  56.467827  22.335265  16.575165  33.154038    0.0\n",
      "178   7.00  0.338370  56.000000  22.000000  17.000000  33.148380    0.0\n",
      "179   5.95  0.339248  55.500630  21.688801  17.428957  33.143238    0.0\n",
      "180   4.63  0.340015  56.000000  22.000000  17.000000  33.138806    0.0\n",
      "..     ...       ...        ...        ...        ...        ...    ...\n",
      "619 -16.67  0.345103  16.854768 -60.154945  10.234001  33.157347    0.0\n",
      "620 -19.49  0.345384  17.000000 -60.000000  10.000000  33.156262    0.0\n",
      "621 -20.29  0.345691  17.127613 -59.842262   9.742225  33.154931    0.0\n",
      "622 -18.77  0.346014  17.000000 -60.000000  10.000000  33.153403    0.0\n",
      "623 -14.94  0.346339  16.893267 -60.160626  10.289971  33.151738    0.0\n",
      "\n",
      "[448 rows x 7 columns]\n",
      "       BVP       EDA      ACC_x      ACC_y      ACC_z       TEMP  label\n",
      "192 -13.84  0.336423  57.000000  22.000000  17.000000  33.160000    0.0\n",
      "193 -13.88  0.335472  57.213540  21.640854  16.548813  33.165244    0.0\n",
      "194 -12.70  0.334566  57.000000  21.000000  17.000000  33.170158    0.0\n",
      "195 -10.29  0.333741  56.736103  21.077220  17.458914  33.174543    0.0\n",
      "196  -6.86  0.333027  57.000000  22.000000  17.000000  33.178218    0.0\n",
      "..     ...       ...        ...        ...        ...        ...    ...\n",
      "635  20.59  0.347068  16.182223 -60.183334   9.455660  33.142503    0.0\n",
      "636  17.09  0.346771  16.000000 -60.000000  10.000000  33.143621    0.0\n",
      "637  14.35  0.346442  16.159523 -59.810943   9.737626  33.144986    0.0\n",
      "638  12.61  0.346091  16.000000 -60.000000   9.000000  33.146546    0.0\n",
      "639  11.82  0.345732  15.775872 -60.195943   8.704047  33.148238    0.0\n",
      "\n",
      "[448 rows x 7 columns]\n",
      "       BVP       EDA      ACC_x      ACC_y      ACC_z       TEMP  label\n",
      "208   5.90  0.336423  57.000000  22.000000  17.000000  33.150000    0.0\n",
      "209   4.73  0.337274  57.271544  22.287920  16.742378  33.144276    0.0\n",
      "210   4.12  0.338073  57.000000  22.000000  17.000000  33.138866    0.0\n",
      "211   4.00  0.338787  56.863927  21.727470  17.681220  33.133964    0.0\n",
      "212   4.21  0.339388  57.000000  22.000000  18.000000  33.129743    0.0\n",
      "..     ...       ...        ...        ...        ...        ...    ...\n",
      "651  -1.91  0.344248  17.153564 -60.382258  10.298777  33.157505    0.0\n",
      "652  -5.89  0.344450  17.000000 -60.000000  10.000000  33.156381    0.0\n",
      "653 -10.67  0.344676  16.942605 -59.188789   9.810084  33.155012    0.0\n",
      "654 -15.96  0.344915  17.000000 -59.000000  10.000000  33.153452    0.0\n",
      "655 -21.12  0.345153  17.014535 -59.543579  10.114993  33.151759    0.0\n",
      "\n",
      "[448 rows x 7 columns]\n",
      "       BVP       EDA      ACC_x      ACC_y      ACC_z       TEMP  label\n",
      "224  -3.58  0.335144  56.000000  22.000000  17.000000  33.150000    0.0\n",
      "225  -4.29  0.334281  56.913729  22.003804  16.604561  33.155187    0.0\n",
      "226  -4.92  0.333476  57.000000  22.000000  17.000000  33.160128    0.0\n",
      "227  -5.73  0.332761  56.823691  22.453012  17.429045  33.164637    0.0\n",
      "228  -6.99  0.332162  57.000000  23.000000  17.000000  33.168548    0.0\n",
      "..     ...       ...        ...        ...        ...        ...    ...\n",
      "667  22.48  0.344155  16.946027 -60.305472   9.889250  33.142541    0.0\n",
      "668  23.07  0.343663  17.000000 -60.000000  10.000000  33.143660    0.0\n",
      "669  21.90  0.343140  17.057519 -59.262605   9.789340  33.145021    0.0\n",
      "670  19.31  0.342600  17.000000 -59.000000  10.000000  33.146572    0.0\n",
      "671  15.93  0.342061  16.939645 -59.470237  10.249412  33.148254    0.0\n",
      "\n",
      "[448 rows x 7 columns]\n",
      "       BVP       EDA      ACC_x      ACC_y      ACC_z       TEMP  label\n",
      "240   6.76  0.336423  57.000000  23.000000  17.000000  33.150000    0.0\n",
      "241   9.54  0.337282  57.395551  23.247301  16.787384  33.145119    0.0\n",
      "242  11.52  0.338084  57.000000  23.000000  17.000000  33.140451    0.0\n",
      "243  12.57  0.338798  56.529607  22.792405  17.222510  33.136173    0.0\n",
      "244  12.61  0.339396  57.000000  23.000000  17.000000  33.132443    0.0\n",
      "..     ...       ...        ...        ...        ...        ...    ...\n",
      "683   3.51  0.340846  16.930976 -60.084154  10.300883  33.157393    0.0\n",
      "684   1.90  0.341378  17.000000 -60.000000  10.000000  33.156283    0.0\n",
      "685   0.19  0.341986  17.069594 -59.904771   9.681129  33.154934    0.0\n",
      "686  -1.71  0.342654  17.000000 -60.000000  10.000000  33.153396    0.0\n",
      "687  -4.03  0.343364  16.930031 -60.105343  10.346353  33.151731    0.0\n",
      "\n",
      "[448 rows x 7 columns]\n",
      "       BVP       EDA      ACC_x      ACC_y      ACC_z       TEMP  label\n",
      "256   4.46  0.335144  56.000000  23.000000  17.000000  33.150000    0.0\n",
      "257   3.84  0.334260  56.709451  22.744429  16.767267  33.154837    0.0\n",
      "258   2.88  0.333425  57.000000  22.000000  17.000000  33.159530    0.0\n",
      "259   1.70  0.332669  56.895654  22.085669  17.231808  33.163917    0.0\n",
      "260   0.41  0.332019  57.000000  23.000000  17.000000  33.167848    0.0\n",
      "..     ...       ...        ...        ...        ...        ...    ...\n",
      "699  -7.63  0.348612  16.934393 -60.215423   9.002625  33.142674    0.0\n",
      "700  -0.62  0.348409  17.000000 -60.000000   9.000000  33.143773    0.0\n",
      "701   5.67  0.348100  17.061807 -59.697748   8.878383  33.145110    0.0\n",
      "702  10.80  0.347696  17.000000 -60.000000   9.000000  33.146633    0.0\n",
      "703  14.50  0.347210  16.945437 -60.728394   9.203779  33.148285    0.0\n",
      "\n",
      "[448 rows x 7 columns]\n",
      "       BVP       EDA      ACC_x      ACC_y      ACC_z       TEMP  label\n",
      "272 -17.46  0.335144  57.000000  23.000000  18.000000  33.160000    0.0\n",
      "273 -18.29  0.335938  57.476427  23.252852  18.078627  33.156300    0.0\n",
      "274 -17.72  0.336692  57.000000  22.000000  18.000000  33.152721    0.0\n",
      "275 -15.60  0.337379  56.088042  21.164956  17.612509  33.149412    0.0\n",
      "276 -12.16  0.337973  56.000000  22.000000  17.000000  33.146506    0.0\n",
      "..     ...       ...        ...        ...        ...        ...    ...\n",
      "715   4.96  0.341108  17.010424 -60.041325   9.083518  33.157276    0.0\n",
      "716   5.22  0.341013  17.000000 -60.000000   9.000000  33.156186    0.0\n",
      "717   4.95  0.341014  17.037880 -59.948839   8.883212  33.154859    0.0\n",
      "718   4.11  0.341107  17.000000 -60.000000   9.000000  33.153346    0.0\n",
      "719   2.77  0.341285  16.946196 -60.058576   9.145564  33.151706    0.0\n",
      "\n",
      "[448 rows x 7 columns]\n",
      "       BVP       EDA      ACC_x      ACC_y      ACC_z       TEMP  label\n",
      "288   8.33  0.335144  57.000000  23.000000  18.000000  33.160000    0.0\n",
      "289   6.64  0.334424  57.418921  23.376630  18.249128  33.163673    0.0\n",
      "290   5.39  0.333741  57.000000  23.000000  18.000000  33.167189    0.0\n",
      "291   4.65  0.333122  56.191855  22.630738  17.337114  33.170412    0.0\n",
      "292   4.38  0.332591  56.000000  23.000000  17.000000  33.173220    0.0\n",
      "..     ...       ...        ...        ...        ...        ...    ...\n",
      "731 -29.15  0.345936  16.931664 -60.082753   8.795019  33.142729    0.0\n",
      "732 -31.91  0.346185  17.000000 -60.000000   9.000000  33.143815    0.0\n",
      "733 -33.04  0.346380  17.068269 -59.914445   9.516540  33.145139    0.0\n",
      "734 -31.91  0.346522  17.000000 -60.000000  10.000000  33.146650    0.0\n",
      "735 -28.22  0.346612  16.932008 -60.088418   9.835717  33.148291    0.0\n",
      "\n",
      "[448 rows x 7 columns]\n",
      "       BVP       EDA      ACC_x      ACC_y      ACC_z       TEMP  label\n",
      "304  -4.39  0.335144  56.000000  23.000000  17.000000  33.160000    0.0\n",
      "305  -5.71  0.335731  56.739729  23.340983  16.731520  33.156485    0.0\n",
      "306  -7.03  0.336263  57.000000  23.000000  17.000000  33.153127    0.0\n",
      "307  -8.58  0.336713  56.357431  22.658970  17.165089  33.150054    0.0\n",
      "308 -10.55  0.337058  56.000000  23.000000  17.000000  33.147382    0.0\n",
      "..     ...       ...        ...        ...        ...        ...    ...\n",
      "747   6.95  0.346139  16.937339 -60.175932   9.715334  33.157378    0.0\n",
      "748   4.66  0.346184  17.000000 -60.000000  10.000000  33.156287    0.0\n",
      "749   2.96  0.346260  17.061049 -59.483625   9.404983  33.154950    0.0\n",
      "750   2.14  0.346366  17.000000 -59.000000   9.000000  33.153418    0.0\n",
      "751   2.27  0.346499  16.940870 -58.819564   9.473497  33.151747    0.0\n",
      "\n",
      "[448 rows x 7 columns]\n",
      "       BVP       EDA      ACC_x      ACC_y      ACC_z       TEMP  label\n",
      "320   5.70  0.331306  55.000000  22.000000  17.000000  33.160000    0.0\n",
      "321   9.43  0.330417  55.791510  22.160381  16.724882  33.163331    0.0\n",
      "322  11.98  0.329588  56.000000  22.000000  17.000000  33.166510    0.0\n",
      "323  13.36  0.328848  55.524909  21.803139  17.218059  33.169416    0.0\n",
      "324  13.65  0.328223  55.000000  22.000000  17.000000  33.171941    0.0\n",
      "..     ...       ...        ...        ...        ...        ...    ...\n",
      "763  -8.76  0.348218  16.967428 -60.105689   9.050370  33.142101    0.0\n",
      "764 -10.92  0.348217  17.000000 -60.000000   9.000000  33.143222    0.0\n",
      "765 -13.10  0.348184  17.021179 -59.896153   8.870148  33.144620    0.0\n",
      "766 -15.50  0.348124  17.000000 -60.000000   9.000000  33.146252    0.0\n",
      "767 -18.31  0.348039  16.996902 -60.102815   9.510388  33.148065    0.0\n",
      "\n",
      "[448 rows x 7 columns]\n"
     ]
    },
    {
     "name": "stderr",
     "output_type": "stream",
     "text": [
      "/var/folders/0x/2h0x6gds2qg6pxyf4w18xmcr0000gn/T/ipykernel_84638/73345312.py:29: RuntimeWarning: More than 20 figures have been opened. Figures created through the pyplot interface (`matplotlib.pyplot.figure`) are retained until explicitly closed and may consume too much memory. (To control this warning, see the rcParam `figure.max_open_warning`).\n",
      "  fig, ax = plt.subplots()\n"
     ]
    },
    {
     "name": "stdout",
     "output_type": "stream",
     "text": [
      "       BVP       EDA      ACC_x      ACC_y      ACC_z       TEMP  label\n",
      "336   5.93  0.332585  48.000000  15.000000  14.000000  33.160000    0.0\n",
      "337   5.24  0.333590  47.704613  14.386793  12.288644  33.156870    0.0\n",
      "338   4.31  0.334574  47.000000  14.000000  11.000000  33.153887    0.0\n",
      "339   3.20  0.335507  47.117517  14.026462  10.394739  33.151163    0.0\n",
      "340   1.92  0.336361  48.000000  14.000000  10.000000  33.148802    0.0\n",
      "..     ...       ...        ...        ...        ...        ...    ...\n",
      "779   2.80  0.347219  16.329724 -60.102037   9.623962  33.163590    0.0\n",
      "780   7.81  0.347309  16.000000 -60.000000   9.000000  33.163284    0.0\n",
      "781  11.27  0.347429  15.984423 -59.897794   8.777614  33.162731    0.0\n",
      "782  13.11  0.347577  16.000000 -60.000000   9.000000  33.161969    0.0\n",
      "783  13.42  0.347747  15.998965 -60.102402   9.155046  33.161042    0.0\n",
      "\n",
      "[448 rows x 7 columns]\n",
      "       BVP       EDA      ACC_x      ACC_y      ACC_z       TEMP  label\n",
      "352 -25.91  0.336423  44.000000  -3.000000   5.000000  33.160000    0.0\n",
      "353 -27.63  0.335814  44.478608  -3.795701   3.554772  33.162894    0.0\n",
      "354 -27.21  0.335217  50.000000  -5.000000   3.000000  33.165643    0.0\n",
      "355 -24.59  0.334658  57.749145  -7.680836   3.801119  33.168143    0.0\n",
      "356 -20.13  0.334166  62.000000 -12.000000   4.000000  33.170299    0.0\n",
      "..     ...       ...        ...        ...        ...        ...    ...\n",
      "795   6.59  0.349500  16.871940 -60.103888   9.578190  33.154658    0.0\n",
      "796   6.04  0.349491  17.000000 -60.000000  10.000000  33.155429    0.0\n",
      "797   5.14  0.349454  17.119181 -59.895832  10.058810  33.156388    0.0\n",
      "798   3.90  0.349393  17.000000 -60.000000  10.000000  33.157499    0.0\n",
      "799   2.36  0.349311  16.887305 -60.104455  10.002180  33.158719    0.0\n",
      "\n",
      "[448 rows x 7 columns]\n",
      "       BVP       EDA      ACC_x      ACC_y      ACC_z       TEMP  label\n",
      "368  10.40  0.337702  61.000000 -45.000000   2.000000  33.160000    0.0\n",
      "369   9.03  0.338595  61.612596 -45.793854   2.964846  33.157454    0.0\n",
      "370   7.99  0.339479  62.000000 -48.000000   6.000000  33.155066    0.0\n",
      "371   7.29  0.340327  59.912790 -51.517905   8.619880  33.152929    0.0\n",
      "372   6.85  0.341112  56.000000 -54.000000   9.000000  33.151123    0.0\n",
      "..     ...       ...        ...        ...        ...        ...    ...\n",
      "811 -24.90  0.348675  16.911502 -60.106370  10.060161  33.165635    0.0\n",
      "812 -28.46  0.348755  17.000000 -60.000000  10.000000  33.164799    0.0\n",
      "813 -32.17  0.348853  17.084539 -59.893270   9.937181  33.163775    0.0\n",
      "814 -35.32  0.348967  17.000000 -60.000000  10.000000  33.162603    0.0\n",
      "815 -37.00  0.349089  16.919950 -60.107106  10.065036  33.161328    0.0\n",
      "\n",
      "[448 rows x 7 columns]\n",
      "       BVP       EDA      ACC_x      ACC_y      ACC_z       TEMP  label\n",
      "384  -3.39  0.340260  36.000000 -67.000000   4.000000  33.160000    0.0\n",
      "385  -6.19  0.339409  37.633402 -65.712846   5.626309  33.161631    0.0\n",
      "386  -8.86  0.338521  37.000000 -65.000000   7.000000  33.162952    0.0\n",
      "387 -11.38  0.337625  33.516862 -64.610272   7.234897  33.163870    0.0\n",
      "388 -13.90  0.336746  30.000000 -64.000000   7.000000  33.164306    0.0\n",
      "..     ...       ...        ...        ...        ...        ...    ...\n",
      "827  14.11  0.349184  17.045992 -60.109823  10.073454  33.154309    0.0\n",
      "828  12.56  0.348977  17.000000 -60.000000  10.000000  33.155160    0.0\n",
      "829  10.48  0.348742  16.586951 -59.889619   9.925610  33.156197    0.0\n",
      "830   8.40  0.348485  16.000000 -60.000000  10.000000  33.157381    0.0\n",
      "831   6.79  0.348213  15.781804 -60.110981  10.075243  33.158665    0.0\n",
      "\n",
      "[448 rows x 7 columns]\n",
      "       BVP       EDA      ACC_x      ACC_y      ACC_z       TEMP  label\n",
      "400   5.99  0.333865  23.000000 -57.000000  12.000000  33.130000    0.0\n",
      "401  11.39  0.334360  23.332511 -57.365967  12.536641  33.125878    0.0\n",
      "402  15.63  0.334918  23.000000 -58.000000  13.000000  33.122082    0.0\n",
      "403  18.49  0.335519  22.773878 -58.314090  13.063780  33.118721    0.0\n",
      "404  19.81  0.336143  23.000000 -58.000000  13.000000  33.115892    0.0\n",
      "..     ...       ...        ...        ...        ...        ...    ...\n",
      "843   6.64  0.346634  16.325833 -60.115880  10.079117  33.165669    0.0\n",
      "844   5.48  0.346805  16.000000 -60.000000  10.000000  33.164819    0.0\n",
      "845   3.84  0.347026  16.001122 -59.882979   9.920391  33.163784    0.0\n",
      "846   1.52  0.347293  16.000000 -60.000000  10.000000  33.162605    0.0\n",
      "847  -1.47  0.347598  15.971928 -60.118304  10.080067  33.161327    0.0\n",
      "\n",
      "[448 rows x 7 columns]\n",
      "       BVP       EDA      ACC_x      ACC_y      ACC_z       TEMP  label\n",
      "416   6.42  0.340260  15.000000 -60.000000  13.000000  33.130000    0.0\n",
      "417   3.81  0.340206  14.850592 -59.849106  12.249344  33.133375    0.0\n",
      "418   0.15  0.340123  15.000000 -60.000000  12.000000  33.136573    0.0\n",
      "419  -4.46  0.340023  15.443350 -59.844144  11.973890  33.139476    0.0\n",
      "420  -9.84  0.339921  16.000000 -59.000000  12.000000  33.141981    0.0\n",
      "..     ...       ...        ...        ...        ...        ...    ...\n",
      "859 -33.01  0.351446  16.411143 -60.131493  10.082261  33.154390    0.0\n",
      "860 -35.97  0.351586  17.000000 -60.000000  10.000000  33.155233    0.0\n",
      "861 -37.61  0.351686  17.245339 -59.864529   9.917448  33.156258    0.0\n",
      "862 -37.25  0.351748  17.000000 -60.000000  10.000000  33.157425    0.0\n",
      "863 -34.42  0.351776  16.803377 -60.140499  10.082825  33.158688    0.0\n",
      "\n",
      "[448 rows x 7 columns]\n",
      "        BVP       EDA      ACC_x      ACC_y      ACC_z       TEMP  label\n",
      "432 -111.06  0.341540  15.000000 -57.000000  13.000000  33.130000    0.0\n",
      "433 -117.62  0.341913  14.678927 -57.425422  12.712560  33.126913    0.0\n",
      "434 -121.78  0.342286  14.000000 -58.000000  13.000000  33.123971    0.0\n",
      "435 -123.48  0.342646  13.594112 -58.225519  13.203481  33.121283    0.0\n",
      "436 -122.93  0.342981  14.000000 -58.000000  13.000000  33.118950    0.0\n",
      "..      ...       ...        ...        ...        ...        ...    ...\n",
      "875   13.85  0.351373  16.277346 -60.310472  10.084165  33.165527    0.0\n",
      "876   11.79  0.351418  16.000000 -60.000000  10.000000  33.164695    0.0\n",
      "877    9.88  0.351484  16.442834 -59.265082   9.915654  33.163685    0.0\n",
      "878    8.50  0.351567  17.000000 -59.000000  10.000000  33.162536    0.0\n",
      "879    7.94  0.351665  17.140425 -59.461711  10.084518  33.161291    0.0\n",
      "\n",
      "[448 rows x 7 columns]\n",
      "       BVP       EDA      ACC_x      ACC_y      ACC_z       TEMP  label\n",
      "448 -95.74  0.342819  16.000000 -59.000000  14.000000  33.130000    0.0\n",
      "449 -95.50  0.342524  16.588848 -58.845189  13.818103  33.132912    0.0\n",
      "450 -93.91  0.342230  17.000000 -59.000000  14.000000  33.135694    0.0\n",
      "451 -90.53  0.341949  16.979345 -59.057085  13.808887  33.138241    0.0\n",
      "452 -85.14  0.341696  17.000000 -59.000000  13.000000  33.140458    0.0\n",
      "..     ...       ...        ...        ...        ...        ...    ...\n",
      "891   8.24  0.352359  15.756626 -60.049516  10.085377  33.154576    0.0\n",
      "892   6.44  0.352278  16.000000 -60.000000  10.000000  33.155393    0.0\n",
      "893   4.33  0.352175  16.512316 -59.943940   9.914503  33.156385    0.0\n",
      "894   1.89  0.352054  17.000000 -60.000000  10.000000  33.157513    0.0\n",
      "895  -0.88  0.351918  17.231396 -60.061062  10.085611  33.158734    0.0\n",
      "\n",
      "[448 rows x 7 columns]\n",
      "       BVP       EDA      ACC_x      ACC_y      ACC_z       TEMP  label\n",
      "464   9.02  0.342819  18.000000 -60.000000  13.000000  33.130000    0.0\n",
      "465  13.77  0.343177  17.440116 -59.679450  12.749429  33.127215    0.0\n",
      "466  17.28  0.343528  17.000000 -60.000000  13.000000  33.124551    0.0\n",
      "467  18.91  0.343858  17.258629 -59.858707  13.188235  33.122109    0.0\n",
      "468  18.28  0.344156  18.000000 -59.000000  13.000000  33.119981    0.0\n",
      "..     ...       ...        ...        ...        ...        ...    ...\n",
      "907 -30.81  0.351062  16.897021 -60.076412  10.086202  33.165295    0.0\n",
      "908 -34.32  0.351161  17.000000 -60.000000  10.000000  33.164496    0.0\n",
      "909 -36.75  0.351286  17.062752 -59.922253   9.913711  33.163526    0.0\n",
      "910 -37.37  0.351434  17.000000 -60.000000  10.000000  33.162424    0.0\n",
      "911 -35.70  0.351598  17.019352 -60.078883  10.086373  33.161234    0.0\n",
      "\n",
      "[448 rows x 7 columns]\n",
      "       BVP       EDA      ACC_x      ACC_y      ACC_z       TEMP  label\n",
      "480  51.18  0.342819  16.000000 -60.000000  13.000000  33.130000    0.0\n",
      "481  58.06  0.342365  15.797944 -58.703514  12.459332  33.132685    0.0\n",
      "482  63.57  0.341904  15.000000 -58.000000  12.000000  33.135256    0.0\n",
      "483  67.23  0.341449  14.509717 -57.983879  11.529808  33.137615    0.0\n",
      "484  68.94  0.341015  15.000000 -58.000000  11.000000  33.139673    0.0\n",
      "..     ...       ...        ...        ...        ...        ...    ...\n",
      "923  12.41  0.352669  15.758665 -60.082319  10.086846  33.154880    0.0\n",
      "924  10.36  0.352551  16.000000 -60.000000  10.000000  33.155658    0.0\n",
      "925   8.33  0.352398  16.613550 -59.917689   9.913078  33.156598    0.0\n",
      "926   6.78  0.352213  17.000000 -60.000000  10.000000  33.157663    0.0\n",
      "927   6.07  0.352003  17.021511 -60.082084  10.086998  33.158812    0.0\n",
      "\n",
      "[448 rows x 7 columns]\n",
      "       BVP       EDA      ACC_x      ACC_y      ACC_z       TEMP  label\n",
      "496  87.50  0.340260  16.000000 -60.000000   9.000000  33.130000    0.0\n",
      "497  86.09  0.340578  16.548051 -59.593531   8.021233  33.127394    0.0\n",
      "498  83.85  0.340923  17.000000 -59.000000   8.000000  33.124897    0.0\n",
      "499  81.01  0.341284  16.700554 -57.988196   8.814827  33.122604    0.0\n",
      "500  77.69  0.341651  16.000000 -57.000000   9.000000  33.120603    0.0\n",
      "..     ...       ...        ...        ...        ...        ...    ...\n",
      "939   7.28  0.349918  16.922395 -60.070639  10.087477  33.164832    0.0\n",
      "940   5.55  0.349953  17.000000 -60.000000  10.000000  33.164087    0.0\n",
      "941   3.30  0.350031  17.076105 -59.935595   9.912436  33.163193    0.0\n",
      "942   0.63  0.350150  17.000000 -60.000000  10.000000  33.162187    0.0\n",
      "943  -2.23  0.350305  16.926967 -60.054549  10.087653  33.161108    0.0\n",
      "\n",
      "[448 rows x 7 columns]\n",
      "       BVP       EDA      ACC_x      ACC_y      ACC_z       TEMP  label\n",
      "512  18.94  0.344098  17.000000 -60.000000  11.000000  33.130000    0.0\n",
      "513  23.27  0.344111  17.893291 -59.763880  11.416911  33.132545    0.0\n",
      "514  30.37  0.344115  18.000000 -60.000000  12.000000  33.134986    0.0\n",
      "515  39.09  0.344115  17.477292 -59.931801  12.265408  33.137229    0.0\n",
      "516  48.11  0.344119  17.000000 -59.000000  12.000000  33.139190    0.0\n",
      "..     ...       ...        ...        ...        ...        ...    ...\n",
      "955 -32.52  0.352912  17.091563 -60.372784  10.088274  33.155866    0.0\n",
      "956 -33.64  0.353010  17.000000 -60.000000  10.000000  33.156554    0.0\n",
      "957 -32.62  0.353072  16.482589 -59.698289   9.911605  33.157354    0.0\n",
      "958 -29.29  0.353099  16.000000 -60.000000  10.000000  33.158224    0.0\n",
      "959 -23.93  0.353091  16.248596 -60.286534  10.088524  33.159122    0.0\n",
      "\n",
      "[448 rows x 7 columns]\n",
      "       BVP       EDA      ACC_x      ACC_y      ACC_z       TEMP  label\n",
      "528  44.55  0.345377  18.000000 -61.000000  11.000000  33.130000    0.0\n",
      "529  43.23  0.345521  18.110664 -60.615976  10.615028  33.127494    0.0\n",
      "530  42.76  0.345646  18.000000 -61.000000  11.000000  33.125087    0.0\n",
      "531  42.58  0.345745  17.905604 -61.366756  11.335598  33.122871    0.0\n",
      "532  42.19  0.345813  18.000000 -61.000000  11.000000  33.120930    0.0\n",
      "..     ...       ...        ...        ...        ...        ...    ...\n",
      "971   8.79  0.351797  16.858580 -60.018060  10.089472  33.158272    0.0\n",
      "972   6.63  0.351738  17.000000 -60.000000  10.000000  33.156795    0.0\n",
      "973   5.59  0.351705  17.204050 -59.947238   9.910333  33.155180    0.0\n",
      "974   5.64  0.351700  17.000000 -60.000000  10.000000  33.153476    0.0\n",
      "975   6.44  0.351722  16.747885 -60.071977  10.089875  33.151732    0.0\n",
      "\n",
      "[448 rows x 7 columns]\n",
      "       BVP       EDA      ACC_x      ACC_y      ACC_z       TEMP  label\n",
      "544   6.13  0.344098  16.000000 -58.000000  10.000000  33.130000    0.0\n",
      "545   0.20  0.343886  16.476320 -57.656601   9.819523  33.132504    0.0\n",
      "546  -5.38  0.343699  17.000000 -58.000000  10.000000  33.134915    0.0\n",
      "547  -9.86  0.343546  17.110549 -58.372083  10.185237  33.137142    0.0\n",
      "548 -12.39  0.343433  17.000000 -58.000000  10.000000  33.139099    0.0\n",
      "..     ...       ...        ...        ...        ...        ...    ...\n",
      "987   0.33  0.353543  16.958831 -60.117082  10.091469  33.143643    0.0\n",
      "988  -2.79  0.353728  17.000000 -60.000000  10.000000  33.144631    0.0\n",
      "989  -5.89  0.353902  17.062370 -59.877685   9.908192  33.145808    0.0\n",
      "990  -8.65  0.354062  17.000000 -60.000000  10.000000  33.147130    0.0\n",
      "991 -10.88  0.354206  16.923230 -60.127843  10.092172  33.148545    0.0\n",
      "\n",
      "[448 rows x 7 columns]\n",
      "        BVP       EDA      ACC_x      ACC_y      ACC_z       TEMP  label\n",
      "560   41.64  0.345377  18.000000 -60.000000  10.000000  33.130000    0.0\n",
      "561   37.82  0.345657  18.205320 -59.358781   9.819068  33.127411    0.0\n",
      "562   33.18  0.345915  18.000000 -59.000000  10.000000  33.124899    0.0\n",
      "563   28.61  0.346143  17.863865 -59.037099  10.175960  33.122559    0.0\n",
      "564   24.94  0.346333  18.000000 -59.000000  10.000000  33.120479    0.0\n",
      "...     ...       ...        ...        ...        ...        ...    ...\n",
      "1003 -29.13  0.354139  16.834466 -60.197550  10.095074  33.155911    0.0\n",
      "1004 -23.96  0.353968  17.000000 -60.000000  10.000000  33.155013    0.0\n",
      "1005 -17.23  0.353772  17.232857 -59.763925   9.904285  33.153928    0.0\n",
      "1006  -9.64  0.353553  17.000000 -60.000000  10.000000  33.152699    0.0\n",
      "1007  -1.97  0.353312  16.393731 -60.323227  10.096415  33.151372    0.0\n",
      "\n",
      "[448 rows x 7 columns]\n",
      "        BVP       EDA      ACC_x      ACC_y      ACC_z       TEMP  label\n",
      "576   16.87  0.345377  17.000000 -60.000000  11.000000  33.130000    0.0\n",
      "577   14.88  0.345184  17.053321 -59.919146  10.719612  33.133063    0.0\n",
      "578   12.09  0.345013  17.000000 -60.000000  11.000000  33.136156    0.0\n",
      "579    8.45  0.344874  16.513242 -60.167269  11.254709  33.139191    0.0\n",
      "580    4.08  0.344772  16.000000 -60.000000  11.000000  33.142082    0.0\n",
      "...     ...       ...        ...        ...        ...        ...    ...\n",
      "1019   6.64  0.349856  17.152563 -60.059193  10.102382  33.144282    0.0\n",
      "1020   7.23  0.349651  17.000000 -60.000000  10.000000  33.145144    0.0\n",
      "1021   8.03  0.349480  16.489176 -59.923172   9.896199  33.146190    0.0\n",
      "1022   8.71  0.349349  16.000000 -60.000000  10.000000  33.147379    0.0\n",
      "1023   9.11  0.349260  15.886074 -60.091354  10.105398  33.148665    0.0\n",
      "\n",
      "[448 rows x 7 columns]\n",
      "        BVP       EDA      ACC_x      ACC_y      ACC_z       TEMP  label\n",
      "592   31.60  0.346656  17.000000 -60.000000  10.000000  33.150000    0.0\n",
      "593   37.05  0.346897  17.199834 -59.521524   9.588954  33.148724    0.0\n",
      "594   40.19  0.347108  17.000000 -59.000000  10.000000  33.147400    0.0\n",
      "595   40.93  0.347281  16.871774 -58.804171  10.358485  33.146102    0.0\n",
      "596   39.48  0.347408  17.000000 -59.000000  10.000000  33.144901    0.0\n",
      "...     ...       ...        ...        ...        ...        ...    ...\n",
      "1035  -7.36  0.351452  16.845061 -60.202301  10.121367  33.155628    0.0\n",
      "1036  -9.81  0.351796  17.000000 -60.000000  10.000000  33.154784    0.0\n",
      "1037 -11.97  0.352135  17.151047 -59.747222   9.874065  33.153757    0.0\n",
      "1038 -14.06  0.352462  17.000000 -60.000000  10.000000  33.152587    0.0\n",
      "1039 -16.34  0.352770  16.848539 -60.358368  10.131528  33.151318    0.0\n",
      "\n",
      "[448 rows x 7 columns]\n",
      "        BVP       EDA      ACC_x      ACC_y      ACC_z       TEMP  label\n",
      "608   15.52  0.345377  18.000000 -60.000000  10.000000  33.150000    0.0\n",
      "609   14.44  0.345108  17.769352 -59.858113   9.960103  33.151658    0.0\n",
      "610   13.23  0.344870  17.000000 -60.000000  10.000000  33.153271    0.0\n",
      "611   11.88  0.344674  16.673016 -60.144307  10.126938  33.154773    0.0\n",
      "612   10.27  0.344527  17.000000 -60.000000  10.000000  33.156103    0.0\n",
      "...     ...       ...        ...        ...        ...        ...    ...\n",
      "1051  -1.92  0.353698  16.279533 -59.448154  10.247290  33.144379    0.0\n",
      "1052   5.37  0.353572  16.000000 -59.000000  10.000000  33.145217    0.0\n",
      "1053  11.32  0.353438  16.444619 -58.803884   9.654515  33.146240    0.0\n",
      "1054  15.58  0.353302  17.000000 -59.000000  10.000000  33.147408    0.0\n",
      "1055  18.03  0.353171  17.133933 -59.528517  10.794711  33.148678    0.0\n",
      "\n",
      "[448 rows x 7 columns]\n",
      "        BVP       EDA      ACC_x      ACC_y      ACC_z       TEMP  label\n",
      "624   -9.21  0.346656  17.000000 -60.000000  10.000000  33.150000    0.0\n",
      "625   -2.22  0.346952  17.073478 -59.836347   9.658376  33.148257    0.0\n",
      "626    5.29  0.347215  17.000000 -60.000000  10.000000  33.146575    0.0\n",
      "627   12.62  0.347436  17.003829 -60.166871  10.449092  33.145022    0.0\n",
      "628   19.18  0.347606  17.000000 -60.000000  10.000000  33.143657    0.0\n",
      "...     ...       ...        ...        ...        ...        ...    ...\n",
      "1067   9.67  0.353496  17.072185 -60.006840  11.000976  33.155749    0.0\n",
      "1068  10.51  0.353672  17.000000 -60.000000  11.000000  33.154902    0.0\n",
      "1069  11.03  0.353851  16.572618 -59.994337  10.975035  33.153863    0.0\n",
      "1070  11.15  0.354025  16.000000 -60.000000  11.000000  33.152670    0.0\n",
      "1071  10.79  0.354187  15.782119 -59.993231  11.048917  33.151366    0.0\n",
      "\n",
      "[448 rows x 7 columns]\n",
      "        BVP       EDA      ACC_x      ACC_y      ACC_z       TEMP  label\n",
      "640   11.69  0.345377  16.000000 -60.000000   9.000000  33.150000    0.0\n",
      "641   11.82  0.345038  16.277760 -59.795488   9.231806  33.151762    0.0\n",
      "642   11.86  0.344726  16.000000 -60.000000   9.000000  33.153457    0.0\n",
      "643   11.58  0.344453  15.622464 -60.215648   8.720830  33.155019    0.0\n",
      "644   10.88  0.344226  16.000000 -60.000000   9.000000  33.156388    0.0\n",
      "...     ...       ...        ...        ...        ...        ...    ...\n",
      "1083 -15.68  0.353850  17.051841 -59.632503   9.975503  33.143699    0.0\n",
      "1084 -18.95  0.353665  17.000000 -60.000000  10.000000  33.144579    0.0\n",
      "1085 -22.56  0.353484  17.008484 -59.996581  10.009685  33.145685    0.0\n",
      "1086 -26.20  0.353316  17.000000 -60.000000  10.000000  33.146985    0.0\n",
      "1087 -29.31  0.353169  16.967186 -60.081670   9.999913  33.148438    0.0\n",
      "\n",
      "[448 rows x 7 columns]\n",
      "        BVP       EDA      ACC_x      ACC_y      ACC_z       TEMP  label\n",
      "656  -25.32  0.345377  17.000000 -60.000000  10.000000  33.150000    0.0\n",
      "657  -27.66  0.345573  17.009712 -60.024840   9.994321  33.148242    0.0\n",
      "658  -27.43  0.345728  17.000000 -60.000000  10.000000  33.146553    0.0\n",
      "659  -24.41  0.345832  16.974785 -60.069615   9.556005  33.144998    0.0\n",
      "660  -18.93  0.345874  17.000000 -60.000000   9.000000  33.143636    0.0\n",
      "...     ...       ...        ...        ...        ...        ...    ...\n",
      "1099  19.60  0.354922  16.483770 -59.917006  10.023538  33.162030    0.0\n",
      "1100  19.26  0.355329  16.000000 -60.000000  10.000000  33.161960    0.0\n",
      "1101  17.61  0.355741  15.874107 -60.043816   9.974737  33.161693    0.0\n",
      "1102  15.05  0.356147  16.000000 -60.000000  10.000000  33.161255    0.0\n",
      "1103  12.12  0.356534  16.073362 -59.978885  10.026686  33.160678    0.0\n",
      "\n",
      "[448 rows x 7 columns]\n",
      "        BVP       EDA      ACC_x      ACC_y      ACC_z       TEMP  label\n",
      "672   12.50  0.341540  17.000000 -60.000000  10.000000  33.150000    0.0\n",
      "673    9.68  0.341054  17.062648 -60.100187   9.739185  33.151745    0.0\n",
      "674    7.82  0.340619  17.000000 -60.000000  10.000000  33.153420    0.0\n",
      "675    6.92  0.340252  16.935486 -59.989271  10.266912  33.154962    0.0\n",
      "676    6.74  0.339965  17.000000 -60.000000  10.000000  33.156312    0.0\n",
      "...     ...       ...        ...        ...        ...        ...    ...\n",
      "1115  10.27  0.356611  16.919197 -60.031811  10.030799  33.156175    0.0\n",
      "1116   8.80  0.356193  17.000000 -60.000000  10.000000  33.156716    0.0\n",
      "1117   6.58  0.355742  17.053300 -59.963497   9.969091  33.157397    0.0\n",
      "1118   3.90  0.355272  17.000000 -60.000000  10.000000  33.158193    0.0\n",
      "1119   1.10  0.354796  16.965196 -60.040844  10.030872  33.159072    0.0\n",
      "\n",
      "[448 rows x 7 columns]\n",
      "        BVP       EDA      ACC_x      ACC_y      ACC_z       TEMP  label\n",
      "688   -7.07  0.344098  17.000000 -60.000000  10.000000  33.150000    0.0\n",
      "689  -10.98  0.344835  17.070140 -59.884689   9.606674  33.148271    0.0\n",
      "690  -15.65  0.345556  17.000000 -60.000000  10.000000  33.146611    0.0\n",
      "691  -20.63  0.346241  16.929918 -60.125943  10.494660  33.145083    0.0\n",
      "692  -25.21  0.346870  17.000000 -60.000000  10.000000  33.143746    0.0\n",
      "...     ...       ...        ...        ...        ...        ...    ...\n",
      "1131 -28.54  0.353215  15.847193 -60.065523  10.027379  33.164165    0.0\n",
      "1132 -27.07  0.353597  16.000000 -60.000000  10.000000  33.163551    0.0\n",
      "1133 -23.02  0.354041  16.078842 -59.929679   9.973775  33.162797    0.0\n",
      "1134 -16.78  0.354534  16.000000 -60.000000  10.000000  33.161931    0.0\n",
      "1135  -9.26  0.355063  15.962724 -60.075664  10.024969  33.160986    0.0\n",
      "\n",
      "[448 rows x 7 columns]\n",
      "        BVP       EDA      ACC_x      ACC_y      ACC_z       TEMP  label\n",
      "704   16.57  0.346656  17.000000 -61.000000   9.000000  33.150000    0.0\n",
      "705   16.96  0.346052  17.038452 -60.543299   8.683816  33.151714    0.0\n",
      "706   15.80  0.345417  17.000000 -60.000000   9.000000  33.153360    0.0\n",
      "707   13.43  0.344769  17.010041 -59.882508   9.759804  33.154876    0.0\n",
      "708   10.41  0.344126  17.000000 -60.000000  10.000000  33.156204    0.0\n",
      "...     ...       ...        ...        ...        ...        ...    ...\n",
      "1147   4.70  0.358718  16.194957 -60.147917  10.387259  33.155729    0.0\n",
      "1148   3.16  0.358502  17.000000 -60.000000  11.000000  33.156365    0.0\n",
      "1149   2.65  0.358200  17.353273 -59.812388  11.346538  33.157142    0.0\n",
      "1150   2.99  0.357824  17.000000 -60.000000  11.000000  33.158030    0.0\n",
      "1151   3.86  0.357382  16.747649 -60.276322  10.266448  33.158995    0.0\n",
      "\n",
      "[448 rows x 7 columns]\n",
      "        BVP       EDA      ACC_x      ACC_y      ACC_z       TEMP  label\n",
      "720    1.08  0.341540  17.000000 -60.000000   9.000000  33.150000    0.0\n",
      "721   -0.79  0.341862  17.060865 -59.935578   8.823515  33.148295    0.0\n",
      "722   -2.72  0.342238  17.000000 -60.000000   9.000000  33.146656    0.0\n",
      "723   -4.66  0.342656  16.935512 -60.069200   9.219475  33.145145    0.0\n",
      "724   -6.69  0.343102  17.000000 -60.000000   9.000000  33.143822    0.0\n",
      "...     ...       ...        ...        ...        ...        ...    ...\n",
      "1163  -6.60  0.352373  16.902438 -60.053906  10.132493  33.164301    0.0\n",
      "1164  -8.52  0.352350  17.000000 -60.000000  10.000000  33.163658    0.0\n",
      "1165 -10.37  0.352411  17.067263 -59.896437   9.881785  33.162875    0.0\n",
      "1166 -12.47  0.352554  17.000000 -60.000000  10.000000  33.161980    0.0\n",
      "1167 -15.12  0.352770  16.999250 -60.197745  10.108368  33.161010    0.0\n",
      "\n",
      "[448 rows x 7 columns]\n",
      "        BVP       EDA      ACC_x      ACC_y      ACC_z       TEMP  label\n",
      "736  -22.24  0.346656  17.000000 -60.000000   9.000000  33.150000    0.0\n",
      "737  -14.77  0.346658  17.067535 -59.908432   8.483034  33.151711    0.0\n",
      "738   -6.90  0.346627  17.000000 -60.000000   9.000000  33.153358    0.0\n",
      "739    0.32  0.346568  16.933087 -60.095390   9.842869  33.154879    0.0\n",
      "740    6.11  0.346493  17.000000 -60.000000  10.000000  33.156215    0.0\n",
      "...     ...       ...        ...        ...        ...        ...    ...\n",
      "1179  13.49  0.356920  15.855535 -59.940297  10.082767  33.155701    0.0\n",
      "1180  16.70  0.357043  16.000000 -60.000000  10.000000  33.156345    0.0\n",
      "1181  18.16  0.357100  16.135116 -60.044678   9.919254  33.157129    0.0\n",
      "1182  18.02  0.357091  16.000000 -60.000000  10.000000  33.158023    0.0\n",
      "1183  16.56  0.357019  15.873407 -59.966118  10.079005  33.158992    0.0\n",
      "\n",
      "[448 rows x 7 columns]\n",
      "       BVP       EDA      ACC_x      ACC_y      ACC_z       TEMP  label\n",
      "752   3.13  0.346656  17.000000 -59.000000  10.000000  33.150000    0.0\n",
      "753   4.30  0.346831  17.056827 -59.482002   9.696829  33.148243    0.0\n",
      "754   5.31  0.347018  17.000000 -60.000000   9.000000  33.146542    0.0\n",
      "755   5.76  0.347210  16.945973 -60.179194   8.777504  33.144961    0.0\n",
      "756   5.45  0.347401  17.000000 -60.000000   9.000000  33.143561    0.0\n",
      "...    ...       ...        ...        ...        ...        ...    ...\n",
      "1195  7.92  0.354316  16.355419 -59.997421  10.072036  33.164280    0.0\n",
      "1196  7.69  0.354222  17.000000 -60.000000  10.000000  33.163639    0.0\n",
      "1197  6.73  0.354178  17.283688 -59.999773   9.928780  33.162858    0.0\n",
      "1198  5.16  0.354183  17.000000 -60.000000  10.000000  33.161968    0.0\n",
      "1199  3.19  0.354235  16.772298 -60.002701  10.070461  33.161003    0.0\n",
      "\n",
      "[448 rows x 7 columns]\n",
      "        BVP       EDA      ACC_x      ACC_y      ACC_z       TEMP  label\n",
      "768  -21.64  0.347935  17.000000 -60.000000  10.000000  33.150000    0.0\n",
      "769  -25.32  0.347817  16.969967 -59.897757  10.104222  33.151996    0.0\n",
      "770  -28.93  0.347692  17.000000 -60.000000  10.000000  33.153989    0.0\n",
      "771  -31.80  0.347566  17.109622 -60.101949  10.006924  33.155918    0.0\n",
      "772  -33.19  0.347446  17.000000 -60.000000  10.000000  33.157724    0.0\n",
      "...     ...       ...        ...        ...        ...        ...    ...\n",
      "1211 -24.02  0.356034  15.960601 -60.013119  10.066648  33.155748    0.0\n",
      "1212 -21.20  0.356039  16.000000 -60.000000  10.000000  33.156386    0.0\n",
      "1213 -16.30  0.355997  16.057034 -59.985628   9.933928  33.157162    0.0\n",
      "1214  -9.85  0.355910  16.000000 -60.000000  10.000000  33.158046    0.0\n",
      "1215  -2.59  0.355779  15.936913 -60.015532  10.065496  33.159004    0.0\n",
      "\n",
      "[448 rows x 7 columns]\n",
      "        BVP       EDA      ACC_x      ACC_y      ACC_z       TEMP  label\n",
      "784   12.45  0.347935  16.000000 -60.000000   9.000000  33.160000    0.0\n",
      "785   10.61  0.348135  15.950594 -59.897381   8.865828  33.158898    0.0\n",
      "786    8.39  0.348340  16.000000 -60.000000   9.000000  33.157790    0.0\n",
      "787    6.35  0.348544  16.409599 -60.102852   9.129764  33.156730    0.0\n",
      "788    4.93  0.348741  17.000000 -60.000000   9.000000  33.155769    0.0\n",
      "...     ...       ...        ...        ...        ...        ...    ...\n",
      "1227   6.96  0.353579  16.013181 -60.021055  10.061643  33.164218    0.0\n",
      "1228   5.59  0.353609  16.000000 -60.000000  10.000000  33.163585    0.0\n",
      "1229   5.20  0.353701  15.902271 -59.978203   9.939167  33.162815    0.0\n",
      "1230   5.64  0.353853  16.000000 -60.000000  10.000000  33.161938    0.0\n",
      "1231   6.51  0.354065  16.521956 -60.022503  10.059927  33.160988    0.0\n",
      "\n",
      "[448 rows x 7 columns]\n",
      "        BVP       EDA      ACC_x      ACC_y      ACC_z       TEMP  label\n",
      "800    0.54  0.349215  17.000000 -60.000000  10.000000  33.160000    0.0\n",
      "801   -1.52  0.349109  17.107558 -59.895250   9.973802  33.161291    0.0\n",
      "802   -3.76  0.349000  17.000000 -60.000000  10.000000  33.162542    0.0\n",
      "803   -6.13  0.348894  16.896778 -60.105054  10.039028  33.163702    0.0\n",
      "804   -8.56  0.348796  17.000000 -60.000000  10.000000  33.164725    0.0\n",
      "...     ...       ...        ...        ...        ...        ...    ...\n",
      "1243  -7.13  0.358201  15.827830 -60.026125  10.049184  33.155819    0.0\n",
      "1244 -10.27  0.358348  16.000000 -60.000000  10.000000  33.156447    0.0\n",
      "1245 -14.11  0.358421  16.163088 -59.973348   9.955074  33.157210    0.0\n",
      "1246 -18.31  0.358416  16.000000 -60.000000  10.000000  33.158079    0.0\n",
      "1247 -22.23  0.358332  15.843635 -60.027163  10.038470  33.159021    0.0\n",
      "\n",
      "[448 rows x 7 columns]\n",
      "        BVP       EDA      ACC_x      ACC_y      ACC_z       TEMP  label\n",
      "816  -36.46  0.349215  17.000000 -60.000000  10.000000  33.160000    0.0\n",
      "817  -33.33  0.349337  17.074674 -59.892500   9.933074  33.158669    0.0\n",
      "818  -27.83  0.349450  17.000000 -60.000000  10.000000  33.157388    0.0\n",
      "819  -20.61  0.349546  16.932180 -60.107914  10.068564  33.156206    0.0\n",
      "820  -12.63  0.349620  17.000000 -60.000000  10.000000  33.155169    0.0\n",
      "...     ...       ...        ...        ...        ...        ...    ...\n",
      "1259  21.35  0.353275  15.863859 -60.029997   9.194305  33.164140    0.0\n",
      "1260  21.14  0.352848  16.000000 -60.000000   9.000000  33.163519    0.0\n",
      "1261  19.68  0.352476  16.134264 -59.969553   8.776960  33.162763    0.0\n",
      "1262  17.26  0.352168  16.000000 -60.000000   9.000000  33.161902    0.0\n",
      "1263  14.27  0.351932  15.867409 -60.030896   9.556460  33.160969    0.0\n",
      "\n",
      "[448 rows x 7 columns]\n",
      "       BVP       EDA      ACC_x      ACC_y      ACC_z       TEMP  label\n",
      "832   6.00  0.347935  16.000000 -60.000000  10.000000  33.160000    0.0\n",
      "833   6.12  0.347658  16.148220 -59.888371   9.923975  33.161335    0.0\n",
      "834   7.01  0.347391  16.000000 -60.000000  10.000000  33.162618    0.0\n",
      "835   8.32  0.347143  15.893658 -60.112331  10.076744  33.163800    0.0\n",
      "836   9.63  0.346922  16.000000 -60.000000  10.000000  33.164835    0.0\n",
      "...    ...       ...        ...        ...        ...        ...    ...\n",
      "1275  7.10  0.354629  15.874843 -60.033657   9.992051  33.155903    0.0\n",
      "1276  5.30  0.355117  16.000000 -60.000000  10.000000  33.156518    0.0\n",
      "1277  3.42  0.355597  16.124178 -59.965849   9.994518  33.157266    0.0\n",
      "1278  1.47  0.356059  16.000000 -60.000000  10.000000  33.158118    0.0\n",
      "1279 -0.66  0.356493  15.876759 -60.034661  10.007733  33.159041    0.0\n",
      "\n",
      "[448 rows x 7 columns]\n",
      "        BVP       EDA      ACC_x      ACC_y      ACC_z       TEMP  label\n",
      "848   -4.83  0.347935  16.000000 -60.000000  10.000000  33.160000    0.0\n",
      "849   -8.11  0.348296  15.989502 -59.880242   9.919504  33.158674    0.0\n",
      "850  -10.91  0.348672  16.000000 -60.000000  10.000000  33.157401    0.0\n",
      "851  -13.05  0.349055  16.350883 -60.121421  10.080896  33.156230    0.0\n",
      "852  -14.66  0.349436  17.000000 -60.000000  10.000000  33.155205    0.0\n",
      "...     ...       ...        ...        ...        ...        ...    ...\n",
      "1291 -10.21  0.357873  15.882002 -60.038305   9.406922  33.164052    0.0\n",
      "1292  -2.75  0.357699  16.000000 -60.000000   9.000000  33.163443    0.0\n",
      "1293   4.67  0.357506  16.117108 -59.960937   9.366431  33.162703    0.0\n",
      "1294  11.12  0.357302  16.000000 -60.000000  10.000000  33.161861    0.0\n",
      "1295  15.97  0.357094  15.883814 -60.039887   9.871551  33.160948    0.0\n",
      "\n",
      "[448 rows x 7 columns]\n",
      "        BVP       EDA      ACC_x      ACC_y      ACC_z       TEMP  label\n",
      "864  -29.08  0.351773  17.000000 -60.000000  10.000000  33.160000    0.0\n",
      "865  -21.75  0.351746  17.183828 -59.852936   9.916917  33.161309    0.0\n",
      "866  -13.33  0.351699  17.000000 -60.000000  10.000000  33.162566    0.0\n",
      "867   -4.87  0.351640  16.815532 -60.156003  10.083325  33.163722    0.0\n",
      "868    2.67  0.351575  17.000000 -60.000000  10.000000  33.164733    0.0\n",
      "...     ...       ...        ...        ...        ...        ...    ...\n",
      "1307  10.59  0.356210  15.891104 -60.047123  10.129065  33.155998    0.0\n",
      "1308  11.75  0.356319  16.000000 -60.000000  10.000000  33.156599    0.0\n",
      "1309  12.72  0.356447  16.107042 -59.951023   9.867736  33.157330    0.0\n",
      "1310  13.21  0.356588  16.000000 -60.000000  10.000000  33.158163    0.0\n",
      "1311  13.09  0.356737  15.895203 -60.051149  10.135881  33.159064    0.0\n",
      "\n",
      "[448 rows x 7 columns]\n",
      "        BVP       EDA      ACC_x      ACC_y      ACC_z       TEMP  label\n",
      "880    8.27  0.351773  17.000000 -60.000000  10.000000  33.160000    0.0\n",
      "881    9.33  0.351887  16.934654 -60.113845   9.915319  33.158712    0.0\n",
      "882   10.77  0.352003  17.000000 -60.000000  10.000000  33.157476    0.0\n",
      "883   12.20  0.352114  17.043088 -59.971067  10.084835  33.156339    0.0\n",
      "884   13.27  0.352216  17.000000 -60.000000  10.000000  33.155346    0.0\n",
      "...     ...       ...        ...        ...        ...        ...    ...\n",
      "1323 -10.57  0.357549  15.949901 -60.080913  10.240243  33.163947    0.0\n",
      "1324 -13.60  0.357458  16.000000 -60.000000  10.000000  33.163353    0.0\n",
      "1325 -16.66  0.357343  15.989646 -59.906330   9.661971  33.162632    0.0\n",
      "1326 -19.30  0.357208  16.000000 -60.000000  10.000000  33.161811    0.0\n",
      "1327 -20.87  0.357056  16.372946 -60.113766  10.789234  33.160923    0.0\n",
      "\n",
      "[448 rows x 7 columns]\n",
      "        BVP       EDA      ACC_x      ACC_y      ACC_z       TEMP  label\n",
      "896   -3.85  0.351773  17.000000 -60.000000  10.000000  33.160000    0.0\n",
      "897   -6.80  0.351624  16.393152 -59.934993   9.914280  33.161262    0.0\n",
      "898   -9.53  0.351478  16.000000 -60.000000  10.000000  33.162472    0.0\n",
      "899  -11.84  0.351340  16.318203 -60.068193  10.085824  33.163584    0.0\n",
      "900  -13.72  0.351215  17.000000 -60.000000  10.000000  33.164555    0.0\n",
      "...     ...       ...        ...        ...        ...        ...    ...\n",
      "1339  17.67  0.355413  16.828121 -59.894592  10.568418  33.156118    0.0\n",
      "1340  15.58  0.355400  17.000000 -60.000000  10.000000  33.156703    0.0\n",
      "1341  13.01  0.355414  17.179621 -60.069222   9.827103  33.157413    0.0\n",
      "1342  10.52  0.355455  17.000000 -60.000000  10.000000  33.158220    0.0\n",
      "1343   8.63  0.355521  16.800508 -59.950783  10.107232  33.159094    0.0\n",
      "\n",
      "[448 rows x 7 columns]\n",
      "        BVP       EDA      ACC_x      ACC_y      ACC_z       TEMP  label\n",
      "912  -31.72  0.351773  17.000000 -60.000000  10.000000  33.160000    0.0\n",
      "913  -25.85  0.351953  16.566825 -59.920156   9.913544  33.158771    0.0\n",
      "914  -18.78  0.352130  16.000000 -60.000000  10.000000  33.157595    0.0\n",
      "915  -11.29  0.352298  16.135288 -60.080645  10.086536  33.156515    0.0\n",
      "916   -4.07  0.352451  17.000000 -60.000000  10.000000  33.155574    0.0\n",
      "...     ...       ...        ...        ...        ...        ...    ...\n",
      "1355   6.76  0.356975  15.935352 -59.989640  10.066270  33.163798    0.0\n",
      "1356   5.25  0.357019  16.000000 -60.000000  10.000000  33.163224    0.0\n",
      "1357   3.30  0.357033  16.068098 -60.008050   9.933714  33.162529    0.0\n",
      "1358   1.17  0.357017  16.000000 -60.000000  10.000000  33.161739    0.0\n",
      "1359  -0.87  0.356969  15.931845 -59.993815  10.066555  33.160885    0.0\n",
      "\n",
      "[448 rows x 7 columns]\n",
      "        BVP       EDA      ACC_x      ACC_y      ACC_z       TEMP  label\n",
      "928    6.31  0.351773  17.000000 -60.000000  10.000000  33.160000    0.0\n",
      "929    7.39  0.351530  17.038628 -59.918412   9.912925  33.161181    0.0\n",
      "930    8.98  0.351281  17.000000 -60.000000  10.000000  33.162308    0.0\n",
      "931   10.61  0.351034  16.939432 -60.080751  10.087153  33.163339    0.0\n",
      "932   11.83  0.350796  17.000000 -60.000000  10.000000  33.164235    0.0\n",
      "...     ...       ...        ...        ...        ...        ...    ...\n",
      "1371 -21.17  0.354811  16.401807 -59.999359  10.070383  33.156326    0.0\n",
      "1372 -18.36  0.354646  17.000000 -60.000000  10.000000  33.156884    0.0\n",
      "1373 -13.74  0.354512  17.233735 -60.000346   9.928780  33.157559    0.0\n",
      "1374  -7.84  0.354412  17.000000 -60.000000  10.000000  33.158324    0.0\n",
      "1375  -1.49  0.354351  16.828833 -59.999812  10.072106  33.159148    0.0\n",
      "\n",
      "[448 rows x 7 columns]\n",
      "        BVP       EDA      ACC_x      ACC_y      ACC_z       TEMP  label\n",
      "944   -4.99  0.350494  17.000000 -60.000000  10.000000  33.160000    0.0\n",
      "945   -7.46  0.350710  17.068074 -59.962225   9.912254  33.158908    0.0\n",
      "946   -9.58  0.350946  17.000000 -60.000000  10.000000  33.157874    0.0\n",
      "947  -11.42  0.351197  16.939515 -60.005403  10.087842  33.156940    0.0\n",
      "948  -13.12  0.351455  17.000000 -60.000000  10.000000  33.156140    0.0\n",
      "...     ...       ...        ...        ...        ...        ...    ...\n",
      "1387   2.71  0.356674  16.918009 -59.997918  10.078775  33.163445    0.0\n",
      "1388   2.87  0.357007  17.000000 -60.000000  10.000000  33.162911    0.0\n",
      "1389   3.59  0.357331  17.057367 -60.002941   9.919783  33.162272    0.0\n",
      "1390   4.62  0.357637  17.000000 -60.000000  10.000000  33.161554    0.0\n",
      "1391   5.67  0.357918  17.001569 -59.995995  10.081803  33.160786    0.0\n",
      "\n",
      "[448 rows x 7 columns]\n",
      "        BVP       EDA      ACC_x      ACC_y      ACC_z       TEMP  label\n",
      "960  -17.16  0.353052  17.000000 -60.000000  10.000000  33.160000    0.0\n",
      "961   -9.74  0.352984  17.314294 -59.696259   9.911340  33.160813    0.0\n",
      "962   -2.41  0.352891  17.000000 -60.000000  10.000000  33.161515    0.0\n",
      "963    4.29  0.352778  16.814868 -60.376857  10.088803  33.162065    0.0\n",
      "964    9.92  0.352651  17.000000 -60.000000  10.000000  33.162427    0.0\n",
      "...     ...       ...        ...        ...        ...        ...    ...\n",
      "1403  -5.05  0.358083  16.248078 -59.982080  10.097468  33.157182    0.0\n",
      "1404  -6.54  0.357856  17.000000 -60.000000  10.000000  33.157669    0.0\n",
      "1405  -7.65  0.357616  17.333971 -60.022720   9.897512  33.158226    0.0\n",
      "1406  -8.55  0.357370  17.000000 -60.000000  10.000000  33.158823    0.0\n",
      "1407  -9.55  0.357125  16.747988 -59.970927  10.109471  33.159426    0.0\n",
      "\n",
      "[448 rows x 7 columns]\n",
      "        BVP       EDA      ACC_x      ACC_y      ACC_z       TEMP  label\n",
      "976    7.46  0.351773  17.000000 -60.000000  10.000000  33.150000    0.0\n",
      "977    8.28  0.351851  17.340999 -59.915587   9.909902  33.148334    0.0\n",
      "978    8.70  0.351954  17.000000 -60.000000  10.000000  33.146784    0.0\n",
      "979    8.78  0.352081  16.233124 -60.093395  10.090335  33.145399    0.0\n",
      "980    8.66  0.352228  16.000000 -60.000000  10.000000  33.144222    0.0\n",
      "...     ...       ...        ...        ...        ...        ...    ...\n",
      "1419   4.81  0.356201  16.856340 -59.384057  10.557600  33.157047    0.0\n",
      "1420   9.30  0.356323  17.000000 -59.000000  10.000000  33.155758    0.0\n",
      "1421  12.23  0.356459  17.118840 -59.342613   9.767642  33.154371    0.0\n",
      "1422  13.44  0.356604  17.000000 -60.000000  10.000000  33.152922    0.0\n",
      "1423  13.11  0.356750  16.941934 -60.233054  10.205643  33.151451    0.0\n",
      "\n",
      "[448 rows x 7 columns]\n",
      "        BVP       EDA      ACC_x      ACC_y      ACC_z       TEMP  label\n",
      "992  -12.61  0.354331  17.000000 -60.000000  10.000000  33.150000    0.0\n",
      "993  -14.09  0.354436  17.087986 -59.866050   9.907435  33.151440    0.0\n",
      "994  -15.69  0.354519  17.000000 -60.000000  10.000000  33.152811    0.0\n",
      "995  -17.75  0.354579  16.902046 -60.141000  10.092989  33.154063    0.0\n",
      "996  -20.43  0.354615  17.000000 -60.000000  10.000000  33.155150    0.0\n",
      "...     ...       ...        ...        ...        ...        ...    ...\n",
      "1435   5.18  0.356679  15.732216 -60.063595   9.970006  33.144736    0.0\n",
      "1436   5.65  0.356479  16.000000 -60.000000  10.000000  33.145551    0.0\n",
      "1437   5.74  0.356265  16.291428 -59.941374   9.990112  33.146524    0.0\n",
      "1438   5.35  0.356044  16.000000 -60.000000  10.000000  33.147618    0.0\n",
      "1439   4.44  0.355823  15.644261 -60.054703  10.034802  33.148791    0.0\n",
      "\n",
      "[448 rows x 7 columns]\n",
      "        BVP       EDA      ACC_x      ACC_y      ACC_z       TEMP  label\n",
      "1008   5.02  0.353052  16.000000 -60.000000  10.000000  33.150000    0.0\n",
      "1009  10.73  0.352775  15.989585 -59.249930   9.902818  33.148634    0.0\n",
      "1010  14.74  0.352483  16.000000 -59.000000  10.000000  33.147326    0.0\n",
      "1011  16.91  0.352180  15.894278 -59.479466  10.098024  33.146126    0.0\n",
      "1012  17.29  0.351869  16.000000 -60.000000  10.000000  33.145079    0.0\n",
      "...     ...       ...        ...        ...        ...        ...    ...\n",
      "1451 -12.51  0.355498  16.189812 -60.041712  10.240522  33.155056    0.0\n",
      "1452 -15.06  0.355737  16.000000 -60.000000  10.000000  33.154304    0.0\n",
      "1453 -17.68  0.356004  16.600295 -59.959556   9.335721  33.153387    0.0\n",
      "1454 -19.88  0.356291  17.000000 -60.000000   9.000000  33.152337    0.0\n",
      "1455 -21.06  0.356589  16.611096 -60.039313   9.387295  33.151194    0.0\n",
      "\n",
      "[448 rows x 7 columns]\n",
      "       BVP       EDA      ACC_x      ACC_y      ACC_z       TEMP  label\n",
      "1024  9.17  0.349215  16.000000 -60.000000  10.000000  33.150000    0.0\n",
      "1025  8.99  0.349217  16.000864 -59.895363   9.892796  33.151331    0.0\n",
      "1026  8.66  0.349266  16.000000 -60.000000  10.000000  33.152609    0.0\n",
      "1027  8.22  0.349362  16.379053 -60.117939  10.109263  33.153784    0.0\n",
      "1028  7.65  0.349504  17.000000 -60.000000  10.000000  33.154811    0.0\n",
      "...    ...       ...        ...        ...        ...        ...    ...\n",
      "1467  9.82  0.358113  15.980266 -60.034385  10.455762  33.144500    0.0\n",
      "1468  7.97  0.357934  16.000000 -60.000000  10.000000  33.145264    0.0\n",
      "1469  5.95  0.357715  16.023255 -59.966234   9.191433  33.146226    0.0\n",
      "1470  4.18  0.357462  16.000000 -60.000000   9.000000  33.147359    0.0\n",
      "1471  2.96  0.357184  15.976709 -60.033186   9.512036  33.148629    0.0\n",
      "\n",
      "[448 rows x 7 columns]\n",
      "        BVP       EDA      ACC_x      ACC_y      ACC_z       TEMP  label\n",
      "1040 -19.02  0.353052  17.000000 -60.000000  10.000000  33.150000    0.0\n",
      "1041 -22.18  0.353303  17.155834 -59.181385   9.861468  33.148683    0.0\n",
      "1042 -25.64  0.353519  17.000000 -59.000000  10.000000  33.147416    0.0\n",
      "1043 -29.00  0.353695  16.834876 -59.627962  10.147558  33.146249    0.0\n",
      "1044 -31.69  0.353830  17.000000 -60.000000  10.000000  33.145227    0.0\n",
      "...     ...       ...        ...        ...        ...        ...    ...\n",
      "1483   2.32  0.355397  16.167982 -60.030263  10.270588  33.161192    0.0\n",
      "1484   0.40  0.355589  16.000000 -60.000000  10.000000  33.161246    0.0\n",
      "1485  -1.92  0.355840  15.377754 -59.970161   9.274484  33.161131    0.0\n",
      "1486  -4.41  0.356146  15.000000 -60.000000   9.000000  33.160868    0.0\n",
      "1487  -6.83  0.356498  15.426250 -60.029428   9.519052  33.160481    0.0\n",
      "\n",
      "[448 rows x 7 columns]\n",
      "        BVP       EDA      ACC_x      ACC_y      ACC_z       TEMP  label\n",
      "1056  18.75  0.353052  17.000000 -60.000000  11.000000  33.150000    0.0\n",
      "1057  17.96  0.352951  16.947321 -60.111787  10.416300  33.151325    0.0\n",
      "1058  16.04  0.352874  17.000000 -60.000000  10.000000  33.152602    0.0\n",
      "1059  13.46  0.352824  17.021110 -59.951157  10.373001  33.153782    0.0\n",
      "1060  10.76  0.352804  17.000000 -60.000000  11.000000  33.154821    0.0\n",
      "...     ...       ...        ...        ...        ...        ...    ...\n",
      "1499 -24.68  0.360836  15.203220 -60.027100   8.974292  33.157019    0.0\n",
      "1500 -23.42  0.360934  15.000000 -60.000000   9.000000  33.157433    0.0\n",
      "1501 -20.13  0.360970  15.174875 -59.973281   9.003936  33.157961    0.0\n",
      "1502 -15.11  0.360945  15.000000 -60.000000   9.000000  33.158581    0.0\n",
      "1503  -9.07  0.360862  14.696200 -60.026337   9.018671  33.159270    0.0\n",
      "\n",
      "[448 rows x 7 columns]\n",
      "       BVP       EDA      ACC_x      ACC_y      ACC_z       TEMP  label\n",
      "1072  9.89  0.354331  16.000000 -60.000000  11.000000  33.150000    0.0\n",
      "1073  8.41  0.354451  16.167307 -60.055356  10.918810  33.148623    0.0\n",
      "1074  6.42  0.354541  16.000000 -60.000000  11.000000  33.147286    0.0\n",
      "1075  4.08  0.354598  15.841713 -59.596132  11.148667  33.146041    0.0\n",
      "1076  1.57  0.354618  16.000000 -59.000000  11.000000  33.144933    0.0\n",
      "...    ...       ...        ...        ...        ...        ...    ...\n",
      "1515  2.86  0.358209  15.048227 -60.023874   8.765994  33.163331    0.0\n",
      "1516  2.61  0.358110  15.000000 -60.000000   9.000000  33.162843    0.0\n",
      "1517  3.21  0.358056  14.879173 -59.976588   9.146306  33.162241    0.0\n",
      "1518  4.24  0.358049  15.000000 -60.000000   9.000000  33.161548    0.0\n",
      "1519  5.20  0.358088  15.536947 -60.022927   8.892566  33.160792    0.0\n",
      "\n",
      "[448 rows x 7 columns]\n",
      "        BVP       EDA      ACC_x      ACC_y      ACC_z       TEMP  label\n",
      "1088 -31.13  0.353052  17.000000 -60.000000  10.000000  33.150000    0.0\n",
      "1089 -30.95  0.352973  17.047336 -59.859779   9.993294  33.151624    0.0\n",
      "1090 -28.34  0.352938  17.000000 -60.000000  10.000000  33.153261    0.0\n",
      "1091 -23.34  0.352953  16.940593 -60.236760  10.011791  33.154862    0.0\n",
      "1092 -16.52  0.353022  17.000000 -60.000000  10.000000  33.156383    0.0\n",
      "...     ...       ...        ...        ...        ...        ...    ...\n",
      "1531  -5.00  0.359890  14.822095 -60.019222   8.960617  33.156543    0.0\n",
      "1532  -7.27  0.359907  15.000000 -60.000000   9.000000  33.157056    0.0\n",
      "1533  -8.77  0.359874  15.170474 -59.981595   9.034890  33.157684    0.0\n",
      "1534  -9.52  0.359786  15.000000 -60.000000   9.000000  33.158402    0.0\n",
      "1535  -9.87  0.359644  14.834821 -60.017505   8.968965  33.159185    0.0\n",
      "\n",
      "[448 rows x 7 columns]\n",
      "        BVP       EDA      ACC_x      ACC_y      ACC_z       TEMP  label\n",
      "1104   9.44  0.356890  16.000000 -60.000000  10.000000  33.160000    0.0\n",
      "1105   7.50  0.357204  15.936670 -60.005971   9.972147  33.159260    0.0\n",
      "1106   6.51  0.357464  16.000000 -60.000000  10.000000  33.158499    0.0\n",
      "1107   6.40  0.357663  16.076418 -60.005079  10.028800  33.157758    0.0\n",
      "1108   6.92  0.357792  16.000000 -60.000000  10.000000  33.157076    0.0\n",
      "...     ...       ...        ...        ...        ...        ...    ...\n",
      "1547  -7.52  0.355415  14.849487 -60.011630   8.984669  33.163514    0.0\n",
      "1548  -1.20  0.355098  15.000000 -60.000000   9.000000  33.162991    0.0\n",
      "1549   4.45  0.354826  15.149179 -59.986889   9.013398  33.162351    0.0\n",
      "1550   8.74  0.354604  15.000000 -60.000000   9.000000  33.161621    0.0\n",
      "1551  11.42  0.354438  14.852060 -60.021113   8.988438  33.160827    0.0\n",
      "\n",
      "[448 rows x 7 columns]\n",
      "       BVP       EDA      ACC_x      ACC_y      ACC_z       TEMP  label\n",
      "1120 -1.49  0.354331  17.000000 -60.000000  10.000000  33.160000    0.0\n",
      "1121 -3.76  0.353891  17.017824 -59.955039   9.969313  33.160939    0.0\n",
      "1122 -5.76  0.353490  17.000000 -60.000000  10.000000  33.161853    0.0\n",
      "1123 -7.69  0.353142  17.002369 -60.048955  10.030352  33.162704    0.0\n",
      "1124 -9.76  0.352858  17.000000 -60.000000  10.000000  33.163457    0.0\n",
      "...    ...       ...        ...        ...        ...        ...    ...\n",
      "1563  3.53  0.356508  14.860579 -60.722265   8.998970  33.156456    0.0\n",
      "1564  4.69  0.356866  15.000000 -60.000000   9.000000  33.156985    0.0\n",
      "1565  5.75  0.357218  15.137002 -59.716674   8.999031  33.157630    0.0\n",
      "1566  6.46  0.357557  15.000000 -60.000000   9.000000  33.158367    0.0\n",
      "1567  6.74  0.357876  14.866222 -60.192959   9.003193  33.159167    0.0\n",
      "\n",
      "[448 rows x 7 columns]\n",
      "        BVP       EDA      ACC_x      ACC_y      ACC_z       TEMP  label\n",
      "1136  -1.61  0.355610  16.000000 -60.000000  10.000000  33.160000    0.0\n",
      "1137   5.16  0.356160  15.998265 -59.918220   9.976230  33.159010    0.0\n",
      "1138  10.48  0.356697  16.000000 -60.000000  10.000000  33.158055    0.0\n",
      "1139  14.18  0.357203  16.054573 -60.089003  10.023076  33.157172    0.0\n",
      "1140  16.39  0.357665  16.000000 -60.000000  10.000000  33.156396    0.0\n",
      "...     ...       ...        ...        ...        ...        ...    ...\n",
      "1579  -7.53  0.358965  15.333637 -60.111924   9.045301  33.163563    0.0\n",
      "1580  -7.96  0.358836  16.000000 -60.000000   9.000000  33.163031    0.0\n",
      "1581  -8.42  0.358687  16.304897 -59.886947   8.905245  33.162382    0.0\n",
      "1582  -9.23  0.358523  16.000000 -60.000000   9.000000  33.161641    0.0\n",
      "1583 -10.65  0.358349  15.753761 -60.116250   9.433312  33.160837    0.0\n",
      "\n",
      "[448 rows x 7 columns]\n",
      "        BVP       EDA      ACC_x      ACC_y      ACC_z       TEMP  label\n",
      "1152   4.86  0.356890  17.000000 -60.000000  10.000000  33.160000    0.0\n",
      "1153   5.72  0.356361  17.204573 -59.294727  10.497295  33.161006    0.0\n",
      "1154   6.27  0.355812  17.000000 -59.000000  11.000000  33.161974    0.0\n",
      "1155   6.44  0.355258  16.824985 -59.437586  10.727625  33.162868    0.0\n",
      "1156   6.17  0.354716  17.000000 -60.000000  10.000000  33.163651    0.0\n",
      "...     ...       ...        ...        ...        ...        ...    ...\n",
      "1595   5.28  0.356781  15.752106 -60.237060   9.542209  33.156420    0.0\n",
      "1596   8.75  0.356762  16.000000 -60.000000  10.000000  33.156955    0.0\n",
      "1597  10.93  0.356764  16.307100 -59.658154   9.687229  33.157607    0.0\n",
      "1598  11.86  0.356786  16.000000 -60.000000   9.000000  33.158351    0.0\n",
      "1599  11.70  0.356829  15.330890 -60.802672   8.750115  33.159159    0.0\n",
      "\n",
      "[448 rows x 7 columns]\n",
      "        BVP       EDA      ACC_x      ACC_y      ACC_z       TEMP  label\n",
      "1168 -18.37  0.353052  17.000000 -60.000000  10.000000  33.160000    0.0\n",
      "1169 -21.91  0.353389  16.632582 -59.370937   9.898815  33.158990    0.0\n",
      "1170 -25.03  0.353768  16.000000 -59.000000  10.000000  33.158020    0.0\n",
      "1171 -26.86  0.354176  15.735097 -59.361172  10.095724  33.157125    0.0\n",
      "1172 -26.62  0.354600  16.000000 -60.000000  10.000000  33.156341    0.0\n",
      "...     ...       ...        ...        ...        ...        ...    ...\n",
      "1611   5.03  0.358494  14.860396 -59.900831   8.923986  33.163598    0.0\n",
      "1612   5.78  0.358688  15.000000 -60.000000   9.000000  33.163061    0.0\n",
      "1613   6.09  0.358881  15.143274 -60.064947   9.072463  33.162406    0.0\n",
      "1614   5.89  0.359074  15.000000 -60.000000   9.000000  33.161658    0.0\n",
      "1615   5.15  0.359263  14.853901 -59.961533   8.930389  33.160846    0.0\n",
      "\n",
      "[448 rows x 7 columns]\n",
      "        BVP       EDA      ACC_x      ACC_y      ACC_z       TEMP  label\n",
      "1184  14.13  0.356890  16.000000 -60.000000  10.000000  33.160000    0.0\n",
      "1185  11.20  0.356710  16.117830 -60.025683   9.922513  33.161007    0.0\n",
      "1186   8.24  0.356489  16.000000 -60.000000  10.000000  33.161975    0.0\n",
      "1187   5.67  0.356235  15.892495 -59.980798  10.076150  33.162867    0.0\n",
      "1188   3.83  0.355959  16.000000 -60.000000  10.000000  33.163648    0.0\n",
      "...     ...       ...        ...        ...        ...        ...    ...\n",
      "1627 -13.06  0.360737  14.845193 -60.638372   9.175747  33.156376    0.0\n",
      "1628 -15.54  0.360764  15.000000 -61.000000   9.000000  33.156916    0.0\n",
      "1629 -18.20  0.360776  15.155093 -60.593058   9.594811  33.157576    0.0\n",
      "1630 -20.57  0.360773  15.000000 -60.000000  10.000000  33.158329    0.0\n",
      "1631 -22.05  0.360756  14.845273 -59.941942   9.613529  33.159148    0.0\n",
      "\n",
      "[448 rows x 7 columns]\n",
      "        BVP       EDA      ACC_x      ACC_y      ACC_z       TEMP  label\n",
      "1200   1.04  0.354331  17.000000 -60.000000  10.000000  33.160000    0.0\n",
      "1201  -1.12  0.354464  17.213753 -59.995097   9.930249  33.158998    0.0\n",
      "1202  -3.27  0.354628  17.000000 -60.000000  10.000000  33.158035    0.0\n",
      "1203  -5.46  0.354815  16.777599 -60.006878  10.069079  33.157149    0.0\n",
      "1204  -7.87  0.355015  17.000000 -60.000000  10.000000  33.156373    0.0\n",
      "...     ...       ...        ...        ...        ...        ...    ...\n",
      "1643  13.16  0.359917  15.287838 -60.622932   6.969875  33.163664    0.0\n",
      "1644  10.77  0.359825  16.000000 -61.000000   7.000000  33.163119    0.0\n",
      "1645   7.92  0.359732  16.354452 -60.680810   6.964959  33.162453    0.0\n",
      "1646   5.07  0.359638  16.000000 -60.000000   7.000000  33.161691    0.0\n",
      "1647   2.66  0.359543  15.715104 -60.191782   7.098092  33.160863    0.0\n",
      "\n",
      "[448 rows x 7 columns]\n",
      "        BVP       EDA      ACC_x      ACC_y      ACC_z       TEMP  label\n",
      "1216   4.57  0.355610  16.000000 -60.000000  10.000000  33.160000    0.0\n",
      "1217  10.86  0.355408  16.063608 -59.983390   9.935085  33.160995    0.0\n",
      "1218  15.74  0.355181  16.000000 -60.000000  10.000000  33.161950    0.0\n",
      "1219  18.97  0.354938  15.939625 -60.017615  10.064322  33.162830    0.0\n",
      "1220  20.57  0.354688  16.000000 -60.000000  10.000000  33.163600    0.0\n",
      "...     ...       ...        ...        ...        ...        ...    ...\n",
      "1659   2.67  0.358423  14.679788 -63.301520   2.252478  33.156271    0.0\n",
      "1660   0.88  0.358351  15.000000 -63.000000   2.000000  33.156825    0.0\n",
      "1661  -0.97  0.358288  15.808630 -63.075261   2.103769  33.157502    0.0\n",
      "1662  -2.88  0.358236  16.000000 -63.000000   2.000000  33.158276    0.0\n",
      "1663  -4.85  0.358196  15.413768 -62.831320   1.492159  33.159120    0.0\n",
      "\n",
      "[448 rows x 7 columns]\n",
      "        BVP       EDA      ACC_x      ACC_y         ACC_z       TEMP  label\n",
      "1232   7.33  0.354331  17.000000 -60.000000  1.000000e+01  33.160000    0.0\n",
      "1233   7.69  0.354646  16.751363 -59.976826  9.941106e+00  33.159014    0.0\n",
      "1234   7.38  0.355001  16.000000 -60.000000  1.000000e+01  33.158066    0.0\n",
      "1235   6.39  0.355387  15.673049 -60.023814  1.005769e+01  33.157194    0.0\n",
      "1236   4.93  0.355794  16.000000 -60.000000  1.000000e+01  33.156430    0.0\n",
      "...     ...       ...        ...        ...           ...        ...    ...\n",
      "1675 -21.36  0.358846  15.094379 -61.867753 -7.184069e-02  33.163837    0.0\n",
      "1676 -15.49  0.358970  15.000000 -62.000000 -7.943185e-15  33.163271    0.0\n",
      "1677  -8.42  0.359095  14.627722 -62.253977 -3.220309e-01  33.162576    0.0\n",
      "1678  -1.24  0.359219  14.000000 -62.000000 -1.000000e+00  33.161779    0.0\n",
      "1679   5.13  0.359337  13.356467 -61.335963 -1.616166e+00  33.160909    0.0\n",
      "\n",
      "[448 rows x 7 columns]\n",
      "        BVP       EDA      ACC_x      ACC_y      ACC_z       TEMP  label\n",
      "1248 -25.02  0.358169  16.000000 -60.000000  10.000000  33.160000    0.0\n",
      "1249 -25.84  0.357930  16.151166 -59.972340   9.972391  33.160977    0.0\n",
      "1250 -24.15  0.357620  16.000000 -60.000000  10.000000  33.161916    0.0\n",
      "1251 -19.90  0.357245  15.852992 -60.028144  10.006099  33.162780    0.0\n",
      "1252 -13.61  0.356816  16.000000 -60.000000  10.000000  33.163536    0.0\n",
      "...     ...       ...        ...        ...        ...        ...    ...\n",
      "1691   3.87  0.359733  13.497059 -60.552080   0.564791  33.155964    0.0\n",
      "1692   4.53  0.359680  13.000000 -61.000000   1.000000  33.156553    0.0\n",
      "1693   5.75  0.359622  12.350260 -61.948668   1.762021  33.157279    0.0\n",
      "1694   7.17  0.359562  12.000000 -63.000000   2.000000  33.158117    0.0\n",
      "1695   8.40  0.359503  12.402013 -63.345423   1.856917  33.159035    0.0\n",
      "\n",
      "[448 rows x 7 columns]\n",
      "        BVP       EDA      ACC_x      ACC_y      ACC_z       TEMP  label\n",
      "1264  11.26  0.351773  16.000000 -60.000000  10.000000  33.160000    0.0\n",
      "1265   8.74  0.351694  16.131083 -59.968656  10.137815  33.159032    0.0\n",
      "1266   7.10  0.351697  16.000000 -60.000000  10.000000  33.158103    0.0\n",
      "1267   6.50  0.351780  15.870290 -60.031794   9.576780  33.157248    0.0\n",
      "1268   6.84  0.351941  16.000000 -60.000000   9.000000  33.156499    0.0\n",
      "...     ...       ...        ...        ...        ...        ...    ...\n",
      "1707  -6.21  0.359443  12.223705 -59.885917   7.798592  33.164459    0.0\n",
      "1708  -8.54  0.359471  13.000000 -59.000000   9.000000  33.163828    0.0\n",
      "1709 -11.04  0.359490  13.426396 -58.227820   9.872280  33.163037    0.0\n",
      "1710 -13.78  0.359495  13.000000 -57.000000  10.000000  33.162114    0.0\n",
      "1711 -16.71  0.359482  12.585352 -55.587149  10.135166  33.161089    0.0\n",
      "\n",
      "[448 rows x 7 columns]\n",
      "        BVP       EDA      ACC_x      ACC_y      ACC_z       TEMP  label\n",
      "1280  -3.07  0.356890  16.000000 -60.000000  10.000000  33.160000    0.0\n",
      "1281  -5.83  0.357244  16.122336 -59.964809   9.996457  33.160957    0.0\n",
      "1282  -8.95  0.357548  16.000000 -60.000000  10.000000  33.161877    0.0\n",
      "1283 -12.37  0.357798  15.878546 -60.035746   9.993102  33.162723    0.0\n",
      "1284 -15.92  0.357992  16.000000 -60.000000  10.000000  33.163463    0.0\n",
      "...     ...       ...        ...        ...        ...        ...    ...\n",
      "1723  17.28  0.357157  18.181022 -57.925558  13.698352  33.154296    0.0\n",
      "1724  19.20  0.356825  19.000000 -58.000000  14.000000  33.155017    0.0\n",
      "1725  19.69  0.356496  19.526268 -58.532772  14.786774  33.155969    0.0\n",
      "1726  18.68  0.356178  19.000000 -59.000000  15.000000  33.157134    0.0\n",
      "1727  16.25  0.355880  18.164162 -59.184751  14.432595  33.158487    0.0\n",
      "\n",
      "[448 rows x 7 columns]\n",
      "        BVP       EDA      ACC_x      ACC_y      ACC_z       TEMP  label\n",
      "1296  18.97  0.356890  16.000000 -60.000000   9.000000  33.160000    0.0\n",
      "1297  20.25  0.356696  16.115218 -59.959212   8.513674  33.159054    0.0\n",
      "1298  20.09  0.356520  16.000000 -60.000000   9.000000  33.158145    0.0\n",
      "1299  18.87  0.356365  15.885812 -60.041780   9.754443  33.157309    0.0\n",
      "1300  16.97  0.356236  16.000000 -60.000000  10.000000  33.156578    0.0\n",
      "...     ...       ...        ...        ...        ...        ...    ...\n",
      "1739  10.42  0.356057  17.507316 -63.444458  14.848658  33.177278    0.0\n",
      "1740  10.27  0.356430  18.000000 -61.000000  14.000000  33.178158    0.0\n",
      "1741   9.58  0.356837  17.933201 -59.774763  12.597074  33.178863    0.0\n",
      "1742   8.47  0.357270  17.000000 -60.000000  11.000000  33.179397    0.0\n",
      "1743   7.06  0.357717  15.512112 -59.683265   9.325279  33.179771    0.0\n",
      "\n",
      "[448 rows x 7 columns]\n",
      "        BVP       EDA      ACC_x      ACC_y      ACC_z       TEMP  label\n",
      "1312  12.36  0.356890  16.000000 -60.000000  10.000000  33.160000    0.0\n",
      "1313  11.13  0.357041  16.101984 -59.946264   9.859255  33.160934    0.0\n",
      "1314   9.54  0.357184  16.000000 -60.000000  10.000000  33.161831    0.0\n",
      "1315   7.69  0.357316  15.901691 -60.056868  10.147630  33.162656    0.0\n",
      "1316   5.67  0.357431  16.000000 -60.000000  10.000000  33.163378    0.0\n",
      "...     ...       ...        ...        ...        ...        ...    ...\n",
      "1755 -16.65  0.360638  12.561415 -57.972929   9.195810  33.179036    0.0\n",
      "1756 -14.00  0.360497  13.000000 -58.000000   9.000000  33.179113    0.0\n",
      "1757  -9.40  0.360300  13.750670 -57.987599   8.852478  33.179255    0.0\n",
      "1758  -3.28  0.360053  14.000000 -58.000000   9.000000  33.179456    0.0\n",
      "1759   3.58  0.359765  13.900109 -57.716346   9.110462  33.179709    0.0\n",
      "\n",
      "[448 rows x 7 columns]\n",
      "        BVP       EDA      ACC_x      ACC_y      ACC_z       TEMP  label\n",
      "1328 -20.77  0.356890  17.000000 -60.000000  11.000000  33.160000    0.0\n",
      "1329 -18.64  0.356715  17.264746 -59.849979  10.412580  33.159079    0.0\n",
      "1330 -14.52  0.356536  17.000000 -60.000000  10.000000  33.158196    0.0\n",
      "1331  -8.86  0.356357  16.794821 -60.234769  10.415518  33.157384    0.0\n",
      "1332  -2.44  0.356182  17.000000 -60.000000  11.000000  33.156673    0.0\n",
      "...     ...       ...        ...        ...        ...        ...    ...\n",
      "1771   6.39  0.357111  14.960658 -59.571387  10.157872  33.181716    0.0\n",
      "1772   4.86  0.357212  15.000000 -60.000000  10.000000  33.181480    0.0\n",
      "1773   4.25  0.357375  15.109225 -60.003244   9.857457  33.181179    0.0\n",
      "1774   4.44  0.357593  15.000000 -60.000000  10.000000  33.180822    0.0\n",
      "1775   5.23  0.357861  14.855502 -60.139370  10.133575  33.180424    0.0\n",
      "\n",
      "[448 rows x 7 columns]\n",
      "        BVP       EDA      ACC_x      ACC_y      ACC_z       TEMP  label\n",
      "1344   7.60  0.355610  17.000000 -60.000000  10.000000  33.160000    0.0\n",
      "1345   7.43  0.355719  17.257025 -60.036576   9.915378  33.160904    0.0\n",
      "1346   7.82  0.355844  17.000000 -60.000000  10.000000  33.161771    0.0\n",
      "1347   8.40  0.355981  16.382830 -59.972094  10.074798  33.162568    0.0\n",
      "1348   8.86  0.356127  16.000000 -60.000000  10.000000  33.163264    0.0\n",
      "...     ...       ...        ...        ...        ...        ...    ...\n",
      "1787   2.93  0.360795  13.555693 -62.764714  10.236426  33.178031    0.0\n",
      "1788  -0.22  0.360686  13.000000 -64.000000  10.000000  33.178319    0.0\n",
      "1789  -4.26  0.360494  12.476923 -65.189250   9.381596  33.178674    0.0\n",
      "1790  -8.99  0.360220  12.000000 -66.000000   9.000000  33.179084    0.0\n",
      "1791 -13.95  0.359870  11.800361 -66.322787   9.037865  33.179532    0.0\n",
      "\n",
      "[448 rows x 7 columns]\n",
      "       BVP       EDA      ACC_x      ACC_y      ACC_z       TEMP  label\n",
      "1360 -2.59  0.356890  16.000000 -60.000000  10.000000  33.160000    0.0\n",
      "1361 -3.99  0.356780  16.065304 -60.004673   9.933011  33.159118    0.0\n",
      "1362 -5.22  0.356641  16.000000 -60.000000  10.000000  33.158274    0.0\n",
      "1363 -6.57  0.356477  15.940996 -59.996552  10.067535  33.157499    0.0\n",
      "1364 -8.30  0.356291  16.000000 -60.000000  10.000000  33.156823    0.0\n",
      "...    ...       ...        ...        ...        ...        ...    ...\n",
      "1803  9.34  0.353579  13.352495 -56.809151   7.972253  33.182021    0.0\n",
      "1804  9.16  0.353288  14.000000 -58.000000   8.000000  33.181717    0.0\n",
      "1805  8.07  0.353086  14.568863 -58.751057   7.989041  33.181348    0.0\n",
      "1806  6.06  0.352978  15.000000 -59.000000   8.000000  33.180927    0.0\n",
      "1807  3.25  0.352967  15.777197 -59.451278   8.312235  33.180472    0.0\n",
      "\n",
      "[448 rows x 7 columns]\n",
      "        BVP       EDA      ACC_x      ACC_y      ACC_z       TEMP  label\n",
      "1376   4.41  0.354331  17.000000 -60.000000  10.000000  33.160000    0.0\n",
      "1377   9.10  0.354355  17.145236 -60.000163   9.926957  33.160846    0.0\n",
      "1378  12.16  0.354425  17.000000 -60.000000  10.000000  33.161654    0.0\n",
      "1379  13.53  0.354539  16.870074 -59.999732  10.074038  33.162392    0.0\n",
      "1380  13.43  0.354696  17.000000 -60.000000  10.000000  33.163033    0.0\n",
      "...     ...       ...        ...        ...        ...        ...    ...\n",
      "1819  24.51  0.358341  17.995512 -65.149862   8.136818  33.178085    0.0\n",
      "1820  24.70  0.358914  18.000000 -67.000000   8.000000  33.178383    0.0\n",
      "1821  22.59  0.359448  18.717393 -68.767794   8.595609  33.178739    0.0\n",
      "1822  18.43  0.359934  19.000000 -69.000000   9.000000  33.179138    0.0\n",
      "1823  12.89  0.360362  18.524952 -67.646171   8.631333  33.179564    0.0\n",
      "\n",
      "[448 rows x 7 columns]\n",
      "        BVP       EDA      ACC_x      ACC_y      ACC_z       TEMP  label\n",
      "1392   6.46  0.358169  17.000000 -60.000000  10.000000  33.160000    0.0\n",
      "1393   6.85  0.358383  16.644790 -60.005308   9.916433  33.159227    0.0\n",
      "1394   6.84  0.358555  16.000000 -60.000000  10.000000  33.158499    0.0\n",
      "1395   6.53  0.358683  15.678820 -59.993102  10.085550  33.157844    0.0\n",
      "1396   5.99  0.358763  16.000000 -60.000000  10.000000  33.157287    0.0\n",
      "...     ...       ...        ...        ...        ...        ...    ...\n",
      "1835   5.12  0.360621  13.123322 -59.297250   2.419173  33.181549    0.0\n",
      "1836  10.12  0.360378  13.000000 -59.000000   2.000000  33.181285    0.0\n",
      "1837  14.35  0.360131  13.497222 -59.328819   1.603460  33.180982    0.0\n",
      "1838  17.62  0.359889  14.000000 -60.000000   1.000000  33.180656    0.0\n",
      "1839  19.85  0.359659  14.186350 -60.873118   0.354755  33.180323    0.0\n",
      "\n",
      "[448 rows x 7 columns]\n",
      "        BVP       EDA      ACC_x      ACC_y      ACC_z       TEMP  label\n",
      "1408 -10.90  0.356890  17.000000 -60.000000  10.000000  33.160000    0.0\n",
      "1409 -12.77  0.356671  17.216721 -60.037815   9.879676  33.160511    0.0\n",
      "1410 -15.09  0.356474  17.000000 -60.000000  10.000000  33.160926    0.0\n",
      "1411 -17.50  0.356305  16.803662 -59.949472  10.140616  33.161214    0.0\n",
      "1412 -19.46  0.356167  17.000000 -60.000000  10.000000  33.161348    0.0\n",
      "...     ...       ...        ...        ...        ...        ...    ...\n",
      "1851   9.60  0.358995  15.600091 -69.529455   4.159005  33.179656    0.0\n",
      "1852   9.52  0.359085  16.000000 -73.000000   4.000000  33.179838    0.0\n",
      "1853   8.84  0.359179  15.939677 -76.598591   4.710201  33.179987    0.0\n",
      "1854   7.59  0.359274  15.000000 -76.000000   7.000000  33.180080    0.0\n",
      "1855   5.99  0.359365  14.785285 -70.137375  10.756283  33.180092    0.0\n",
      "\n",
      "[448 rows x 7 columns]\n",
      "        BVP       EDA      ACC_x      ACC_y      ACC_z       TEMP  label\n",
      "1424  11.59  0.356890  17.000000 -60.000000  10.000000  33.150000    0.0\n",
      "1425   9.39  0.357017  16.696160 -59.851757   9.772387  33.148611    0.0\n",
      "1426   7.04  0.357125  16.000000 -60.000000  10.000000  33.147325    0.0\n",
      "1427   4.95  0.357208  15.664406 -60.111927  10.307124  33.146179    0.0\n",
      "1428   3.41  0.357262  16.000000 -60.000000  10.000000  33.145207    0.0\n",
      "...     ...       ...        ...        ...        ...        ...    ...\n",
      "1867 -21.23  0.359566   1.776823 -60.718672  18.059730  33.168799    0.0\n",
      "1868 -22.61  0.359533   3.000000 -61.000000  18.000000  33.167011    0.0\n",
      "1869 -21.75  0.359502   4.751989 -61.896534  18.333593  33.165200    0.0\n",
      "1870 -18.60  0.359477   6.000000 -63.000000  19.000000  33.163402    0.0\n",
      "1871 -13.66  0.359458   6.409369 -63.291643  19.086932  33.161656    0.0\n",
      "\n",
      "[448 rows x 7 columns]\n",
      "        BVP       EDA      ACC_x      ACC_y      ACC_z       TEMP  label\n",
      "1440   3.08  0.355610  16.000000 -60.000000  10.000000  33.150000    0.0\n",
      "1441   1.40  0.355413  16.726341 -59.948477   9.946038  33.151200    0.0\n",
      "1442  -0.39  0.355240  17.000000 -60.000000  10.000000  33.152347    0.0\n",
      "1443  -2.11  0.355097  16.897554 -60.048893  10.071512  33.153398    0.0\n",
      "1444  -3.60  0.354991  17.000000 -60.000000  10.000000  33.154316    0.0\n",
      "...     ...       ...        ...        ...        ...        ...    ...\n",
      "1883   7.81  0.359678   9.404749 -55.749632  17.910555  33.154862    0.0\n",
      "1884   7.61  0.359670  10.000000 -56.000000  17.000000  33.155696    0.0\n",
      "1885   8.43  0.359645  11.001950 -56.000973  16.146528  33.156666    0.0\n",
      "1886  10.13  0.359601  12.000000 -56.000000  16.000000  33.157733    0.0\n",
      "1887  12.26  0.359535  12.607447 -55.890736  16.083114  33.158858    0.0\n",
      "\n",
      "[448 rows x 7 columns]\n",
      "        BVP       EDA      ACC_x      ACC_y      ACC_z       TEMP  label\n",
      "1456 -20.72  0.356890  16.000000 -60.000000  10.000000  33.150000    0.0\n",
      "1457 -18.63  0.357183  15.836955 -59.961704  10.197899  33.148798    0.0\n",
      "1458 -14.89  0.357461  16.000000 -60.000000  10.000000  33.147633    0.0\n",
      "1459  -9.98  0.357713  16.066648 -60.037374   9.863651  33.146549    0.0\n",
      "1460  -4.55  0.357931  16.000000 -60.000000  10.000000  33.145585    0.0\n",
      "...     ...       ...        ...        ...        ...        ...    ...\n",
      "1899  -2.72  0.357506  14.414927 -58.145748  19.765583  33.164411    0.0\n",
      "1900  -5.26  0.357334  15.000000 -58.000000  20.000000  33.163731    0.0\n",
      "1901  -7.57  0.357183  15.264058 -57.570998  19.569054  33.162917    0.0\n",
      "1902  -9.73  0.357056  15.000000 -57.000000  19.000000  33.162000    0.0\n",
      "1903 -11.93  0.356958  14.761096 -56.667154  18.530240  33.161015    0.0\n",
      "\n",
      "[448 rows x 7 columns]\n",
      "       BVP       EDA      ACC_x      ACC_y      ACC_z       TEMP  label\n",
      "1472  2.38  0.356890  16.000000 -60.000000  10.000000  33.150000    0.0\n",
      "1473  2.37  0.356591  16.019814 -59.967362  10.069751  33.151431    0.0\n",
      "1474  2.71  0.356298  16.000000 -60.000000  10.000000  33.152882    0.0\n",
      "1475  3.19  0.356021  15.987878 -60.032119  10.018547  33.154311    0.0\n",
      "1476  3.66  0.355769  16.000000 -60.000000  10.000000  33.155679    0.0\n",
      "...    ...       ...        ...        ...        ...        ...    ...\n",
      "1915  5.47  0.358221  14.513470 -75.934280  14.403508  33.155813    0.0\n",
      "1916  6.91  0.358469  13.000000 -73.000000  14.000000  33.156445    0.0\n",
      "1917  7.69  0.358720  12.394525 -69.947345  13.782348  33.157210    0.0\n",
      "1918  7.81  0.358969  12.000000 -67.000000  13.000000  33.158080    0.0\n",
      "1919  7.34  0.359214  11.060886 -62.381661  11.144349  33.159022    0.0\n",
      "\n",
      "[448 rows x 7 columns]\n",
      "        BVP       EDA      ACC_x      ACC_y      ACC_z       TEMP  label\n",
      "1488  -8.97  0.356890  16.000000 -60.000000  10.000000  33.160000    0.0\n",
      "1489 -10.71  0.357311  15.734425 -59.970974   9.687880  33.159458    0.0\n",
      "1490 -12.04  0.357751  15.000000 -60.000000   9.000000  33.158887    0.0\n",
      "1491 -13.06  0.358199  15.064504 -60.028632   8.765513  33.158322    0.0\n",
      "1492 -13.92  0.358643  16.000000 -60.000000   9.000000  33.157793    0.0\n",
      "...     ...       ...        ...        ...        ...        ...    ...\n",
      "1931  19.18  0.360787  13.912664 -57.335119   5.233190  33.164172    0.0\n",
      "1932  20.01  0.360794  13.000000 -57.000000   4.000000  33.163551    0.0\n",
      "1933  20.82  0.360789  12.108508 -57.684724   2.676285  33.162794    0.0\n",
      "1934  21.18  0.360774  12.000000 -60.000000   2.000000  33.161927    0.0\n",
      "1935  20.54  0.360753  12.517773 -62.641009   1.937049  33.160984    0.0\n",
      "\n",
      "[448 rows x 7 columns]\n",
      "        BVP       EDA      ACC_x      ACC_y     ACC_z       TEMP  label\n",
      "1504  -2.89  0.360727  15.000000 -60.000000  9.000000  33.160000    0.0\n",
      "1505   2.69  0.360546  15.737387 -59.974050  8.953453  33.160742    0.0\n",
      "1506   7.22  0.360328  16.000000 -60.000000  9.000000  33.161466    0.0\n",
      "1507  10.50  0.360081  15.537304 -60.025556  9.089130  33.162142    0.0\n",
      "1508  12.50  0.359815  15.000000 -60.000000  9.000000  33.162743    0.0\n",
      "...     ...       ...        ...        ...       ...        ...    ...\n",
      "1947  -2.16  0.360609  14.939922 -58.570207  2.888859  33.155671    0.0\n",
      "1948   5.67  0.360628  15.000000 -58.000000  3.000000  33.156304    0.0\n",
      "1949  12.60  0.360651  15.444414 -58.053121  2.754251  33.157084    0.0\n",
      "1950  17.82  0.360675  16.000000 -59.000000  3.000000  33.157983    0.0\n",
      "1951  20.97  0.360701  16.210350 -59.276360  3.641723  33.158967    0.0\n",
      "\n",
      "[448 rows x 7 columns]\n",
      "       BVP       EDA      ACC_x      ACC_y     ACC_z       TEMP  label\n",
      "1520  5.70  0.358169  16.000000 -60.000000  9.000000  33.160000    0.0\n",
      "1521  5.61  0.358288  15.742218 -59.977586  9.084999  33.159204    0.0\n",
      "1522  5.08  0.358440  15.000000 -60.000000  9.000000  33.158435    0.0\n",
      "1523  4.41  0.358616  14.677780 -60.021868  8.929864  33.157723    0.0\n",
      "1524  3.90  0.358810  15.000000 -60.000000  9.000000  33.157096    0.0\n",
      "...    ...       ...        ...        ...       ...        ...    ...\n",
      "1963 -3.81  0.360840  17.885232 -64.721926  4.041916  33.164768    0.0\n",
      "1964 -3.56  0.360826  19.000000 -65.000000  4.000000  33.164093    0.0\n",
      "1965 -3.02  0.360808  19.660534 -64.836451  4.314580  33.163247    0.0\n",
      "1966 -2.40  0.360786  20.000000 -65.000000  5.000000  33.162260    0.0\n",
      "1967 -1.91  0.360759  20.526424 -65.311867  5.305724  33.161165    0.0\n",
      "\n",
      "[448 rows x 7 columns]\n",
      "        BVP       EDA      ACC_x      ACC_y     ACC_z       TEMP  label\n",
      "1536 -10.31  0.359448  15.000000 -60.000000  9.000000  33.160000    0.0\n",
      "1537 -11.24  0.359201  15.161228 -59.983483  9.027672  33.160817    0.0\n",
      "1538 -12.85  0.358908  15.000000 -60.000000  9.000000  33.161605    0.0\n",
      "1539 -15.09  0.358574  14.841833 -60.015437  8.975303  33.162332    0.0\n",
      "1540 -17.66  0.358205  15.000000 -60.000000  9.000000  33.162972    0.0\n",
      "...     ...       ...        ...        ...       ...        ...    ...\n",
      "1979 -25.87  0.359992  17.609274 -63.180217  6.459552  33.153915    0.0\n",
      "1980 -29.89  0.359888  19.000000 -65.000000  8.000000  33.154687    0.0\n",
      "1981 -33.64  0.359781  19.687502 -66.246023  8.389241  33.155705    0.0\n",
      "1982 -36.49  0.359670  19.000000 -68.000000  8.000000  33.156948    0.0\n",
      "1983 -37.75  0.359559  18.134565 -70.057710  8.071867  33.158391    0.0\n",
      "\n",
      "[448 rows x 7 columns]\n",
      "        BVP       EDA      ACC_x      ACC_y      ACC_z       TEMP  label\n",
      "1552  12.63  0.354331  15.000000 -60.000000   9.000000  33.160000    0.0\n",
      "1553  12.71  0.354284  15.146746 -59.942422   9.009796  33.159172    0.0\n",
      "1554  12.02  0.354297  15.000000 -60.000000   9.000000  33.158376    0.0\n",
      "1555  10.82  0.354370  14.854452 -60.377816   8.991926  33.157640    0.0\n",
      "1556   9.26  0.354498  15.000000 -61.000000   9.000000  33.156995    0.0\n",
      "...     ...       ...        ...        ...        ...        ...    ...\n",
      "1995   9.53  0.358903  16.796290 -57.739004  18.839136  33.177810    0.0\n",
      "1996   8.21  0.358967  16.000000 -61.000000  19.000000  33.178622    0.0\n",
      "1997   5.56  0.359054  15.695843 -62.056072  18.708282  33.179236    0.0\n",
      "1998   1.70  0.359164  14.000000 -62.000000  18.000000  33.179661    0.0\n",
      "1999  -3.05  0.359296  10.452485 -62.660728  16.702699  33.179909    0.0\n",
      "\n",
      "[448 rows x 7 columns]\n",
      "       BVP       EDA      ACC_x      ACC_y      ACC_z       TEMP  label\n",
      "1568  6.62  0.358169  15.000000 -60.000000   9.000000  33.160000    0.0\n",
      "1569  6.22  0.358431  15.129219 -59.845251   8.994240  33.160833    0.0\n",
      "1570  5.59  0.358658  15.000000 -60.000000   9.000000  33.161635    0.0\n",
      "1571  4.70  0.358848  14.877708 -60.134603   9.008871  33.162375    0.0\n",
      "1572  3.49  0.358997  15.000000 -60.000000   9.000000  33.163024    0.0\n",
      "...    ...       ...        ...        ...        ...        ...    ...\n",
      "2011  4.81  0.361566   6.607877 -58.693233  16.187062  33.178212    0.0\n",
      "2012  4.53  0.361703   6.000000 -58.000000  16.000000  33.178391    0.0\n",
      "2013  3.35  0.361817   5.370117 -56.392513  15.813068  33.178670    0.0\n",
      "2014  1.73  0.361907   5.000000 -54.000000  16.000000  33.179040    0.0\n",
      "2015  0.07  0.361970   4.936473 -52.360093  16.218043  33.179489    0.0\n",
      "\n",
      "[448 rows x 7 columns]\n",
      "        BVP       EDA      ACC_x      ACC_y      ACC_z       TEMP  label\n",
      "1584 -12.81  0.358169  16.000000 -60.000000  10.000000  33.160000    0.0\n",
      "1585 -15.57  0.357987  16.225408 -59.878264  10.271828  33.159162    0.0\n",
      "1586 -18.55  0.357808  16.000000 -60.000000  10.000000  33.158357    0.0\n",
      "1587 -21.11  0.357635  15.783157 -60.130051   9.389886  33.157614    0.0\n",
      "1588 -22.56  0.357472  16.000000 -60.000000   9.000000  33.156962    0.0\n",
      "...     ...       ...        ...        ...        ...        ...    ...\n",
      "2027 -21.25  0.361136  10.620791 -62.241485  15.210955  33.183168    0.0\n",
      "2028 -18.16  0.361026  11.000000 -63.000000  15.000000  33.182768    0.0\n",
      "2029 -13.23  0.360927  11.129430 -63.297033  13.752133  33.182234    0.0\n",
      "2030  -7.07  0.360842  11.000000 -63.000000  13.000000  33.181581    0.0\n",
      "2031  -0.53  0.360775  10.865683 -62.417610  13.058325  33.180829    0.0\n",
      "\n",
      "[448 rows x 7 columns]\n",
      "        BVP       EDA      ACC_x      ACC_y      ACC_z       TEMP  label\n",
      "1600  10.62  0.356890  15.000000 -61.000000   9.000000  33.160000    0.0\n",
      "1601   8.85  0.356970  15.031461 -60.385278   9.160182  33.160841    0.0\n",
      "1602   6.71  0.357066  15.000000 -60.000000   9.000000  33.161651    0.0\n",
      "1603   4.54  0.357179  14.908273 -60.464377   8.877965  33.162398    0.0\n",
      "1604   2.69  0.357306  15.000000 -61.000000   9.000000  33.163053    0.0\n",
      "...     ...       ...        ...        ...        ...        ...    ...\n",
      "2043   9.64  0.361452  15.274957 -58.711857  16.093018  33.174724    0.0\n",
      "2044  10.30  0.361579  15.000000 -58.000000  16.000000  33.175309    0.0\n",
      "2045  11.64  0.361701  15.086019 -58.004402  15.474694  33.176136    0.0\n",
      "2046  13.22  0.361815  15.000000 -58.000000  15.000000  33.177201    0.0\n",
      "2047  14.51  0.361918  14.831613 -57.781391  14.976715  33.178494    0.0\n",
      "\n",
      "[448 rows x 7 columns]\n",
      "       BVP       EDA      ACC_x      ACC_y      ACC_z       TEMP  label\n",
      "1616  3.92  0.359448  15.000000 -60.000000   9.000000  33.160000    0.0\n",
      "1617  2.30  0.359626  15.148363 -60.014486   9.065850  33.159154    0.0\n",
      "1618  0.45  0.359796  15.000000 -60.000000   9.000000  33.158339    0.0\n",
      "1619 -1.45  0.359956  14.849773 -60.010925   8.943557  33.157588    0.0\n",
      "1620 -3.23  0.360104  15.000000 -60.000000   9.000000  33.156929    0.0\n",
      "...    ...       ...        ...        ...        ...        ...    ...\n",
      "2059 -2.71  0.361579  14.426185 -64.359401  13.747996  33.202665    0.0\n",
      "2060 -3.72  0.361424  14.000000 -63.000000  14.000000  33.204468    0.0\n",
      "2061 -4.30  0.361258  12.934399 -62.449021  13.242041  33.206115    0.0\n",
      "2062 -4.44  0.361084  12.000000 -63.000000  12.000000  33.207592    0.0\n",
      "2063 -4.28  0.360906  11.761586 -63.650197  11.144178  33.208889    0.0\n",
      "\n",
      "[448 rows x 7 columns]\n",
      "        BVP       EDA      ACC_x      ACC_y      ACC_z       TEMP  label\n",
      "1632 -22.06  0.360727  15.000000 -60.000000   9.000000  33.160000    0.0\n",
      "1633 -20.18  0.360686  15.153258 -59.270119   8.877927  33.160853    0.0\n",
      "1634 -16.36  0.360635  15.000000 -58.000000   9.000000  33.161675    0.0\n",
      "1635 -10.94  0.360576  14.850261 -57.430483   8.681830  33.162434    0.0\n",
      "1636  -4.62  0.360508  15.000000 -58.000000   8.000000  33.163100    0.0\n",
      "...     ...       ...        ...        ...        ...        ...    ...\n",
      "2075 -14.92  0.359408  11.228776 -54.147101   9.875786  33.211972    0.0\n",
      "2076 -16.66  0.359385  12.000000 -53.000000  10.000000  33.211593    0.0\n",
      "2077 -19.18  0.359378  12.424785 -52.108721  10.195547  33.211193    0.0\n",
      "2078 -22.17  0.359387  12.000000 -52.000000  10.000000  33.210786    0.0\n",
      "2079 -25.03  0.359411  11.574269 -53.660355   9.132946  33.210384    0.0\n",
      "\n",
      "[448 rows x 7 columns]\n",
      "        BVP       EDA      ACC_x      ACC_y     ACC_z       TEMP  label\n",
      "1648   1.06  0.359448  16.000000 -62.000000  7.000000  33.160000    0.0\n",
      "1649   0.48  0.359352  16.024202 -64.711530  6.570588  33.159135    0.0\n",
      "1650   0.89  0.359255  15.000000 -67.000000  6.000000  33.158302    0.0\n",
      "1651   2.07  0.359158  13.623923 -68.135661  5.493946  33.157533    0.0\n",
      "1652   3.62  0.359061  13.000000 -68.000000  5.000000  33.156856    0.0\n",
      "...     ...       ...        ...        ...       ...        ...    ...\n",
      "2091  19.94  0.360310  16.055858 -67.388933  6.305180  33.208636    0.0\n",
      "2092  19.65  0.360397  18.000000 -69.000000  7.000000  33.208825    0.0\n",
      "2093  18.34  0.360483  18.741954 -69.160413  6.660349  33.209060    0.0\n",
      "2094  16.28  0.360566  18.000000 -68.000000  6.000000  33.209339    0.0\n",
      "2095  13.97  0.360647  16.773029 -66.321264  5.566623  33.209654    0.0\n",
      "\n",
      "[448 rows x 7 columns]\n",
      "        BVP       EDA      ACC_x      ACC_y         ACC_z       TEMP  label\n",
      "1664  -6.88  0.358169  15.000000 -63.000000  1.000000e+00  33.160000    0.0\n",
      "1665  -8.93  0.358157  15.101337 -63.288382  9.170641e-01  33.160883    0.0\n",
      "1666 -10.98  0.358160  15.000000 -63.000000  1.000000e+00  33.161735    0.0\n",
      "1667 -13.07  0.358179  14.387661 -62.039298  6.964232e-01  33.162523    0.0\n",
      "1668 -15.32  0.358214  14.000000 -61.000000 -5.295457e-15  33.163217    0.0\n",
      "...     ...       ...        ...        ...           ...        ...    ...\n",
      "2107  16.17  0.361586  15.726796 -64.859473  1.355858e+00  33.212727    0.0\n",
      "2108  15.46  0.361670  16.000000 -65.000000  2.000000e+00  33.212499    0.0\n",
      "2109  14.24  0.361754  16.923121 -64.099321  3.486787e+00  33.212124    0.0\n",
      "2110  12.49  0.361839  18.000000 -62.000000  5.000000e+00  33.211589    0.0\n",
      "2111  10.23  0.361923  19.033310 -59.213128  6.170513e+00  33.210884    0.0\n",
      "\n",
      "[448 rows x 7 columns]\n",
      "        BVP       EDA      ACC_x      ACC_y     ACC_z       TEMP  label\n",
      "1680  10.14  0.359448  13.000000 -61.000000 -2.000000  33.160000    0.0\n",
      "1681  13.61  0.359549  12.959987 -61.103134 -2.174715  33.159086    0.0\n",
      "1682  15.62  0.359637  13.000000 -61.000000 -2.000000  33.158201    0.0\n",
      "1683  16.34  0.359711  12.971453 -60.476479 -1.452266  33.157380    0.0\n",
      "1684  15.93  0.359769  13.000000 -60.000000 -1.000000  33.156655    0.0\n",
      "...     ...       ...        ...        ...       ...        ...    ...\n",
      "2123 -24.67  0.362419  12.764062 -75.583055  6.267511  33.190158    0.0\n",
      "2124 -29.28  0.362374  13.000000 -73.000000  7.000000  33.187938    0.0\n",
      "2125 -34.17  0.362310  12.835086 -68.432274  7.271936  33.185779    0.0\n",
      "2126 -39.03  0.362227  12.000000 -65.000000  7.000000  33.183715    0.0\n",
      "2127 -43.36  0.362126  11.736690 -63.616430  7.067171  33.181778    0.0\n",
      "\n",
      "[448 rows x 7 columns]\n",
      "       BVP       EDA      ACC_x      ACC_y      ACC_z       TEMP  label\n",
      "1696  9.22  0.359448  13.000000 -63.000000   2.000000  33.160000    0.0\n",
      "1697  9.50  0.359399  12.820628 -62.723076   2.505903  33.160975    0.0\n",
      "1698  9.29  0.359359  12.000000 -63.000000   3.000000  33.161923    0.0\n",
      "1699  8.66  0.359330  11.624926 -63.611295   3.436791  33.162809    0.0\n",
      "1700  7.68  0.359311  12.000000 -64.000000   4.000000  33.163597    0.0\n",
      "...    ...       ...        ...        ...        ...        ...    ...\n",
      "2139  3.28  0.360027   5.848467 -57.432036  11.219743  33.175249    0.0\n",
      "2140  4.60  0.359867   4.000000 -57.000000  11.000000  33.176056    0.0\n",
      "2141  4.78  0.359725   4.244017 -57.267701  11.422130  33.176971    0.0\n",
      "2142  4.04  0.359606   6.000000 -58.000000  12.000000  33.177957    0.0\n",
      "2143  2.79  0.359513   7.411804 -58.318110  12.250469  33.178979    0.0\n",
      "\n",
      "[448 rows x 7 columns]\n",
      "        BVP       EDA      ACC_x      ACC_y      ACC_z       TEMP  label\n",
      "1712 -19.56  0.359448  13.000000 -55.000000  11.000000  33.160000    0.0\n",
      "1713 -21.86  0.359388  13.724591 -55.432457  11.948890  33.158884    0.0\n",
      "1714 -23.01  0.359299  14.000000 -56.000000  12.000000  33.157782    0.0\n",
      "1715 -22.42  0.359179  14.193037 -56.310304  11.604194  33.156735    0.0\n",
      "1716 -19.78  0.359027  15.000000 -57.000000  12.000000  33.155782    0.0\n",
      "...     ...       ...        ...        ...        ...        ...    ...\n",
      "2155   9.94  0.360748  12.280544 -63.397442   7.317130  33.183663    0.0\n",
      "2156   9.24  0.361000  13.000000 -63.000000   7.000000  33.183084    0.0\n",
      "2157   7.83  0.361258  13.519083 -62.728682   7.355017  33.182400    0.0\n",
      "2158   5.97  0.361515  15.000000 -64.000000   8.000000  33.181638    0.0\n",
      "2159   3.98  0.361766  17.363485 -66.136119   8.567083  33.180828    0.0\n",
      "\n",
      "[448 rows x 7 columns]\n",
      "        BVP       EDA      ACC_x      ACC_y      ACC_z       TEMP  label\n",
      "1728  12.81  0.355610  18.000000 -60.000000  14.000000  33.160000    0.0\n",
      "1729   9.05  0.355376  17.976676 -61.978495  13.843759  33.161640    0.0\n",
      "1730   5.77  0.355185  17.000000 -64.000000  13.000000  33.163371    0.0\n",
      "1731   3.59  0.355044  15.496718 -64.843883  11.694302  33.165156    0.0\n",
      "1732   2.78  0.354958  15.000000 -65.000000  12.000000  33.166957    0.0\n",
      "...     ...       ...        ...        ...        ...        ...    ...\n",
      "2171 -19.18  0.362831  19.710808 -56.161705   8.014041  33.176746    0.0\n",
      "2172 -21.22  0.362709  20.000000 -56.000000   8.000000  33.177247    0.0\n",
      "2173 -23.31  0.362560  19.898579 -55.699845   7.997789  33.177847    0.0\n",
      "2174 -25.23  0.362391  20.000000 -55.000000   8.000000  33.178524    0.0\n",
      "2175 -26.56  0.362204  20.859330 -54.631109   7.969462  33.179251    0.0\n",
      "\n",
      "[448 rows x 7 columns]\n",
      "        BVP       EDA      ACC_x      ACC_y      ACC_z       TEMP  label\n",
      "1744   5.44  0.358169  14.000000 -58.000000   8.000000  33.180000    0.0\n",
      "1745   3.62  0.358613  12.742894 -56.655319   7.602347  33.180102    0.0\n",
      "1746   1.53  0.359039  12.000000 -57.000000   8.000000  33.180099    0.0\n",
      "1747  -0.85  0.359435  12.133250 -57.943350   8.533200  33.180014    0.0\n",
      "1748  -3.52  0.359792  13.000000 -58.000000   9.000000  33.179871    0.0\n",
      "...     ...       ...        ...        ...        ...        ...    ...\n",
      "2187  10.24  0.360463  17.535291 -57.728707  12.608115  33.183060    0.0\n",
      "2188  12.36  0.360466  18.000000 -57.000000  13.000000  33.182596    0.0\n",
      "2189  14.57  0.360497  18.155360 -57.519948  12.995587  33.182034    0.0\n",
      "2190  16.46  0.360552  17.000000 -59.000000  13.000000  33.181398    0.0\n",
      "2191  17.67  0.360630  15.484711 -60.670168  13.430936  33.180711    0.0\n",
      "\n",
      "[448 rows x 7 columns]\n",
      "        BVP       EDA      ACC_x      ACC_y      ACC_z       TEMP  label\n",
      "1760  10.30  0.359448  14.000000 -57.000000   9.000000  33.180000    0.0\n",
      "1761  16.13  0.359112  14.160084 -56.551057   8.930243  33.180317    0.0\n",
      "1762  20.56  0.358768  14.000000 -57.000000   9.000000  33.180645    0.0\n",
      "1763  23.35  0.358430  13.807299 -57.794526   8.996303  33.180966    0.0\n",
      "1764  24.46  0.358108  14.000000 -58.000000   9.000000  33.181266    0.0\n",
      "...     ...       ...        ...        ...        ...        ...    ...\n",
      "2203   6.65  0.361951  13.489896 -61.154338  11.206020  33.177040    0.0\n",
      "2204   6.79  0.361994  14.000000 -62.000000  11.000000  33.177486    0.0\n",
      "2205   6.26  0.362020  14.235001 -62.677959  11.060045  33.178028    0.0\n",
      "2206   4.84  0.362029  14.000000 -63.000000  11.000000  33.178643    0.0\n",
      "2207   2.68  0.362024  13.522379 -62.424984  10.987596  33.179309    0.0\n",
      "\n",
      "[448 rows x 7 columns]\n",
      "        BVP       EDA      ACC_x      ACC_y      ACC_z       TEMP  label\n",
      "1776   6.39  0.358169  15.000000 -60.000000  10.000000  33.180000    0.0\n",
      "1777   7.63  0.358506  15.173755 -59.652339   9.871083  33.179567    0.0\n",
      "1778   8.72  0.358861  15.000000 -60.000000  10.000000  33.179144    0.0\n",
      "1779   9.45  0.359221  14.789415 -61.440667  10.128150  33.178747    0.0\n",
      "1780   9.76  0.359573  15.000000 -63.000000  10.000000  33.178392    0.0\n",
      "...     ...       ...        ...        ...        ...        ...    ...\n",
      "2219 -20.39  0.361768  13.177834 -61.848322   7.837138  33.182909    0.0\n",
      "2220 -25.49  0.361799  14.000000 -59.000000   8.000000  33.182472    0.0\n",
      "2221 -29.73  0.361840  14.763375 -56.889564   8.585204  33.181941    0.0\n",
      "2222 -32.20  0.361890  15.000000 -56.000000   9.000000  33.181336    0.0\n",
      "2223 -32.12  0.361946  15.268070 -55.783392   8.968881  33.180681    0.0\n",
      "\n",
      "[448 rows x 7 columns]\n",
      "        BVP       EDA      ACC_x      ACC_y     ACC_z       TEMP  label\n",
      "1792 -18.42  0.359448  12.000000 -66.000000  9.000000  33.180000    0.0\n",
      "1793 -21.55  0.358964  12.192549 -65.066501  8.542396  33.180471    0.0\n",
      "1794 -22.61  0.358430  12.000000 -64.000000  8.000000  33.180925    0.0\n",
      "1795 -21.22  0.357856  11.756268 -63.121099  7.840478  33.181346    0.0\n",
      "1796 -17.54  0.357256  12.000000 -62.000000  8.000000  33.181715    0.0\n",
      "...     ...       ...        ...        ...       ...        ...    ...\n",
      "2235  25.61  0.361822  15.823601 -63.148382  9.185632  33.177110    0.0\n",
      "2236  24.44  0.361655  17.000000 -63.000000  9.000000  33.177542    0.0\n",
      "2237  22.94  0.361459  17.439150 -62.765569  8.767693  33.178069    0.0\n",
      "2238  21.40  0.361237  17.000000 -63.000000  9.000000  33.178670    0.0\n",
      "2239  20.10  0.360991  16.997302 -63.338553  9.630327  33.179322    0.0\n",
      "\n",
      "[448 rows x 7 columns]\n",
      "        BVP       EDA      ACC_x      ACC_y      ACC_z       TEMP  label\n",
      "1808  -0.03  0.353052  17.000000 -60.000000   9.000000  33.180000    0.0\n",
      "1809  -3.16  0.353232  17.918078 -59.546542   9.690712  33.179530    0.0\n",
      "1810  -5.42  0.353502  18.000000 -58.000000  10.000000  33.179081    0.0\n",
      "1811  -6.17  0.353854  17.783731 -57.059446  10.002968  33.178670    0.0\n",
      "1812  -5.05  0.354282  18.000000 -58.000000  10.000000  33.178314    0.0\n",
      "...     ...       ...        ...        ...        ...        ...    ...\n",
      "2251  -3.73  0.358101  17.517386 -65.054601   6.776981  33.182896    0.0\n",
      "2252  -5.68  0.358028  18.000000 -68.000000   7.000000  33.182464    0.0\n",
      "2253  -7.45  0.357998  17.607902 -68.725378   7.001966  33.181937    0.0\n",
      "2254  -9.13  0.358011  16.000000 -67.000000   6.000000  33.181335    0.0\n",
      "2255 -10.79  0.358069  14.408211 -64.546387   4.286065  33.180681    0.0\n",
      "\n",
      "[448 rows x 7 columns]\n",
      "        BVP       EDA      ACC_x      ACC_y     ACC_z       TEMP  label\n",
      "1824   6.85  0.360727  18.000000 -66.000000  8.000000  33.180000    0.0\n",
      "1825   1.11  0.361024  17.920463 -64.640103  7.831882  33.180427    0.0\n",
      "1826  -3.85  0.361251  18.000000 -63.000000  8.000000  33.180829    0.0\n",
      "1827  -7.80  0.361408  17.753099 -61.087379  7.813952  33.181189    0.0\n",
      "1828 -10.71  0.361495  17.000000 -60.000000  7.000000  33.181494    0.0\n",
      "...     ...       ...        ...        ...       ...        ...    ...\n",
      "2267 -42.18  0.360920  11.523993 -55.467148  5.750089  33.177073    0.0\n",
      "2268 -44.25  0.361182  11.000000 -56.000000  5.000000  33.177508    0.0\n",
      "2269 -44.40  0.361425  11.332058 -58.248722  4.680671  33.178040    0.0\n",
      "2270 -42.00  0.361645  12.000000 -60.000000  6.000000  33.178649    0.0\n",
      "2271 -36.86  0.361839  13.543301 -60.704889  8.967668  33.179310    0.0\n",
      "\n",
      "[448 rows x 7 columns]\n",
      "        BVP       EDA      ACC_x      ACC_y         ACC_z       TEMP  label\n",
      "1840  21.02  0.359448  14.000000 -62.000000  3.706820e-14  33.180000    0.0\n",
      "1841  21.12  0.359261  13.487395 -62.948991 -2.618702e-01  33.179702    0.0\n",
      "1842  20.14  0.359101  13.000000 -63.000000 -1.000000e+00  33.179444    0.0\n",
      "1843  18.22  0.358973  12.915744 -62.127933 -2.181509e+00  33.179236    0.0\n",
      "1844  15.70  0.358877  13.000000 -61.000000 -3.000000e+00  33.179088    0.0\n",
      "...     ...       ...        ...        ...           ...        ...    ...\n",
      "2283  12.11  0.362267  13.766552 -56.725854  1.456486e+01  33.182987    0.0\n",
      "2284  11.61  0.362211  14.000000 -58.000000  1.400000e+01  33.182545    0.0\n",
      "2285  11.72  0.362155  14.244959 -59.552809  1.276029e+01  33.182003    0.0\n",
      "2286  12.31  0.362100  14.000000 -61.000000  1.200000e+01  33.181382    0.0\n",
      "2287  13.16  0.362050  13.237524 -61.418373  1.222528e+01  33.180706    0.0\n",
      "\n",
      "[448 rows x 7 columns]\n",
      "        BVP       EDA      ACC_x      ACC_y      ACC_z       TEMP  label\n",
      "1856   4.32  0.359448  16.000000 -63.000000  15.000000  33.180000    0.0\n",
      "1857   2.84  0.359521  16.621723 -58.451629  18.118501  33.179782    0.0\n",
      "1858   1.63  0.359582  15.000000 -56.000000  19.000000  33.179419    0.0\n",
      "1859   0.62  0.359629  12.737535 -53.430016  18.168870  33.178895    0.0\n",
      "1860  -0.40  0.359661  12.000000 -51.000000  17.000000  33.178201    0.0\n",
      "...     ...       ...        ...        ...        ...        ...    ...\n",
      "2299  14.22  0.361952  10.301177 -61.992709   9.776405  33.176910    0.0\n",
      "2300  11.46  0.361967  11.000000 -62.000000   9.000000  33.177365    0.0\n",
      "2301   8.12  0.361980  11.747223 -62.586723   7.794711  33.177924    0.0\n",
      "2302   4.48  0.361991  12.000000 -63.000000   7.000000  33.178566    0.0\n",
      "2303   0.85  0.362000  11.610942 -62.410286   6.786519  33.179267    0.0\n",
      "\n",
      "[448 rows x 7 columns]\n",
      "        BVP       EDA      ACC_x      ACC_y      ACC_z       TEMP  label\n",
      "1872  -7.80  0.359448   7.000000 -63.000000  19.000000  33.160000    0.0\n",
      "1873  -1.98  0.359447   8.207985 -62.792101  19.801301  33.158470    0.0\n",
      "1874   3.03  0.359455   9.000000 -62.000000  21.000000  33.157099    0.0\n",
      "1875   6.87  0.359471   8.670682 -59.719058  21.085505  33.155917    0.0\n",
      "1876   9.51  0.359496   8.000000 -57.000000  20.000000  33.154949    0.0\n",
      "...     ...       ...        ...        ...        ...        ...    ...\n",
      "2315 -26.20  0.361996  18.072265 -61.371018  -3.186325  33.183262    0.0\n",
      "2316 -19.73  0.361999  19.000000 -59.000000  -2.000000  33.182787    0.0\n",
      "2317 -11.76  0.362002  20.980966 -55.473975   0.347170  33.182199    0.0\n",
      "2318  -3.40  0.362005  22.000000 -53.000000   2.000000  33.181522    0.0\n",
      "2319   4.40  0.362007  22.115305 -52.234371   2.157624  33.180780    0.0\n",
      "\n",
      "[448 rows x 7 columns]\n",
      "        BVP       EDA      ACC_x      ACC_y      ACC_z       TEMP  label\n",
      "1888  14.18  0.359448  13.000000 -56.000000  16.000000  33.160000    0.0\n",
      "1889  15.32  0.359339  13.469099 -56.849960  16.219864  33.161117    0.0\n",
      "1890  15.40  0.359208  14.000000 -58.000000  17.000000  33.162169    0.0\n",
      "1891  14.50  0.359057  14.515680 -58.403338  17.724076  33.163119    0.0\n",
      "1892  12.94  0.358888  15.000000 -58.000000  18.000000  33.163935    0.0\n",
      "...     ...       ...        ...        ...        ...        ...    ...\n",
      "2331   7.78  0.361414  20.896400 -62.682856   3.727030  33.176427    0.0\n",
      "2332   9.32  0.361290  19.000000 -64.000000   3.000000  33.176938    0.0\n",
      "2333  11.27  0.361156  18.228101 -63.931620   2.615628  33.177575    0.0\n",
      "2334  13.10  0.361016  18.000000 -63.000000   3.000000  33.178316    0.0\n",
      "2335  14.44  0.360872  17.742921 -62.268029   3.642385  33.179134    0.0\n",
      "\n",
      "[448 rows x 7 columns]\n",
      "        BVP       EDA      ACC_x      ACC_y      ACC_z       TEMP  label\n",
      "1904 -14.28  0.356890  15.000000 -57.000000  18.000000  33.160000    0.0\n",
      "1905 -16.59  0.356855  15.253290 -57.697173  17.410328  33.158993    0.0\n",
      "1906 -18.39  0.356855  15.000000 -58.000000  17.000000  33.158031    0.0\n",
      "1907 -19.08  0.356890  14.710844 -58.278567  16.893623  33.157151    0.0\n",
      "1908 -18.19  0.356959  15.000000 -60.000000  17.000000  33.156384    0.0\n",
      "...     ...       ...        ...        ...        ...        ...    ...\n",
      "2347   2.33  0.360068  18.592865 -59.384632   5.420464  33.184223    0.0\n",
      "2348   0.82  0.360154  18.000000 -59.000000   6.000000  33.183645    0.0\n",
      "2349  -0.12  0.360266  17.396862 -58.746479   6.365935  33.182909    0.0\n",
      "2350  -0.82  0.360401  17.000000 -59.000000   6.000000  33.182037    0.0\n",
      "2351  -1.71  0.360556  16.929829 -59.915087   4.939958  33.181056    0.0\n",
      "\n",
      "[448 rows x 7 columns]\n",
      "        BVP       EDA      ACC_x      ACC_y     ACC_z       TEMP  label\n",
      "1920   6.56  0.359448  10.000000 -57.000000  9.000000  33.160000    0.0\n",
      "1921   5.93  0.359669   9.392261 -54.470537  7.685100  33.160976    0.0\n",
      "1922   5.89  0.359874   9.000000 -56.000000  7.000000  33.161914    0.0\n",
      "1923   6.76  0.360061   8.655855 -58.906345  6.005685  33.162779    0.0\n",
      "1924   8.51  0.360226   9.000000 -61.000000  5.000000  33.163536    0.0\n",
      "...     ...       ...        ...        ...       ...        ...    ...\n",
      "2363  19.94  0.362269  16.277944 -60.669655  6.652310  33.173894    0.0\n",
      "2364  25.26  0.362272  16.000000 -61.000000  7.000000  33.174608    0.0\n",
      "2365  28.49  0.362245  16.177707 -60.978572  7.424174  33.175589    0.0\n",
      "2366  29.79  0.362190  16.000000 -61.000000  8.000000  33.176827    0.0\n",
      "2367  29.47  0.362109  15.363192 -61.109821  8.248182  33.178304    0.0\n",
      "\n",
      "[448 rows x 7 columns]\n",
      "        BVP       EDA      ACC_x      ACC_y     ACC_z       TEMP  label\n",
      "1936  18.40  0.360727  13.000000 -64.000000  2.000000  33.160000    0.0\n",
      "1937  14.48  0.360699  13.103966 -64.179898  2.036634  33.159013    0.0\n",
      "1938   8.87  0.360671  13.000000 -64.000000  2.000000  33.158059    0.0\n",
      "1939   2.00  0.360644  12.959502 -63.548129  1.627175  33.157176    0.0\n",
      "1940  -5.32  0.360621  13.000000 -63.000000  1.000000  33.156398    0.0\n",
      "...     ...       ...        ...        ...       ...        ...    ...\n",
      "2379   5.77  0.361125  12.487568 -59.343566  7.718217  33.203486    0.0\n",
      "2380   4.27  0.361217  13.000000 -60.000000  8.000000  33.205171    0.0\n",
      "2381   2.54  0.361353  13.593038 -60.625697  7.956064  33.206671    0.0\n",
      "2382   0.76  0.361531  14.000000 -61.000000  8.000000  33.207978    0.0\n",
      "2383  -0.88  0.361750  14.067235 -61.111269  8.096721  33.209087    0.0\n",
      "\n",
      "[448 rows x 7 columns]\n",
      "        BVP       EDA      ACC_x      ACC_y      ACC_z       TEMP  label\n",
      "1952  22.05  0.360727  16.000000 -58.000000   4.000000  33.160000    0.0\n",
      "1953  21.34  0.360752  15.785657 -56.963414   3.987334  33.161044    0.0\n",
      "1954  19.24  0.360776  16.000000 -58.000000   4.000000  33.162058    0.0\n",
      "1955  16.16  0.360798  16.565634 -60.036252   4.074769  33.163005    0.0\n",
      "1956  12.51  0.360817  17.000000 -61.000000   4.000000  33.163848    0.0\n",
      "...     ...       ...        ...        ...        ...        ...    ...\n",
      "2395 -16.37  0.365039  13.417480 -60.013046  10.535668  33.210966    0.0\n",
      "2396 -21.62  0.365094  13.000000 -61.000000  10.000000  33.210720    0.0\n",
      "2397 -27.06  0.365078  12.941102 -61.217865   9.767418  33.210493    0.0\n",
      "2398 -31.83  0.364985  13.000000 -61.000000  10.000000  33.210293    0.0\n",
      "2399 -34.86  0.364814  13.279393 -60.978241  10.490985  33.210127    0.0\n",
      "\n",
      "[448 rows x 7 columns]\n",
      "        BVP       EDA      ACC_x      ACC_y      ACC_z       TEMP  label\n",
      "1968  -1.72  0.360727  21.000000 -65.000000   5.000000  33.160000    0.0\n",
      "1969  -1.93  0.360690  20.769575 -64.309258   5.042788  33.158807    0.0\n",
      "1970  -2.62  0.360648  20.000000 -64.000000   6.000000  33.157629    0.0\n",
      "1971  -3.79  0.360601  19.422141 -63.786681   6.738583  33.156509    0.0\n",
      "1972  -5.42  0.360547  19.000000 -63.000000   6.000000  33.155491    0.0\n",
      "...     ...       ...        ...        ...        ...        ...    ...\n",
      "2411  10.52  0.358242  13.382433 -57.934243  13.000140  33.210184    0.0\n",
      "2412   5.72  0.357608  14.000000 -58.000000  13.000000  33.210189    0.0\n",
      "2413   0.98  0.357017  14.646417 -58.297067  13.152011  33.210173    0.0\n",
      "2414  -3.15  0.356481  13.000000 -59.000000  14.000000  33.210135    0.0\n",
      "2415  -6.15  0.356009   9.883439 -60.300057  15.815543  33.210076    0.0\n",
      "\n",
      "[448 rows x 7 columns]\n",
      "        BVP       EDA      ACC_x      ACC_y      ACC_z       TEMP  label\n",
      "1984 -36.88  0.359448  18.000000 -71.000000   9.000000  33.160000    0.0\n",
      "1985 -33.71  0.359340  17.819396 -70.657010  10.162411  33.161740    0.0\n",
      "1986 -28.50  0.359236  17.000000 -70.000000  11.000000  33.163572    0.0\n",
      "1987 -21.93  0.359140  16.522672 -68.623137  11.538120  33.165453    0.0\n",
      "1988 -14.85  0.359053  17.000000 -65.000000  12.000000  33.167343    0.0\n",
      "...     ...       ...        ...        ...        ...        ...    ...\n",
      "2427  17.51  0.356720  14.033276 -55.567404  13.766594  33.209412    0.0\n",
      "2428  15.20  0.357226  13.000000 -56.000000  13.000000  33.209489    0.0\n",
      "2429  12.08  0.357762  13.015468 -56.631911  13.250519  33.209590    0.0\n",
      "2430   8.59  0.358319  14.000000 -57.000000  14.000000  33.209712    0.0\n",
      "2431   5.08  0.358884  14.570828 -57.372356  14.318837  33.209851    0.0\n",
      "\n",
      "[448 rows x 7 columns]\n",
      "        BVP       EDA      ACC_x      ACC_y      ACC_z       TEMP  label\n",
      "2000  -8.09  0.359448   7.000000 -64.000000  15.000000  33.180000    0.0\n",
      "2001 -12.66  0.359618   5.079217 -65.080097  13.581019  33.179957    0.0\n",
      "2002 -16.03  0.359803   4.000000 -66.000000  13.000000  33.179806    0.0\n",
      "2003 -17.60  0.360000   3.025229 -67.180485  13.232099  33.179577    0.0\n",
      "2004 -17.15  0.360206   3.000000 -68.000000  14.000000  33.179300    0.0\n",
      "...     ...       ...        ...        ...        ...        ...    ...\n",
      "2443 -14.41  0.363373  11.991721 -58.080135  13.426881  33.210695    0.0\n",
      "2444  -7.33  0.363435  12.000000 -58.000000  13.000000  33.210590    0.0\n",
      "2445   1.40  0.363453  12.016800 -58.308857  12.925344  33.210463    0.0\n",
      "2446  10.65  0.363430  12.000000 -58.000000  13.000000  33.210318    0.0\n",
      "2447  19.21  0.363373  11.988883 -57.244022  13.017044  33.210161    0.0\n",
      "\n",
      "[448 rows x 7 columns]\n",
      "        BVP       EDA      ACC_x      ACC_y      ACC_z       TEMP  label\n",
      "2016  -1.42  0.362006   5.000000 -52.000000  16.000000  33.180000    0.0\n",
      "2017  -2.77  0.362016   4.998242 -52.034396  15.485628  33.180552    0.0\n",
      "2018  -4.18  0.362000   5.000000 -52.000000  15.000000  33.181121    0.0\n",
      "2019  -5.88  0.361961   5.310908 -52.342396  14.500650  33.181682    0.0\n",
      "2020  -8.02  0.361899   6.000000 -53.000000  14.000000  33.182210    0.0\n",
      "...     ...       ...        ...        ...        ...        ...    ...\n",
      "2459  10.15  0.361992  13.930306 -62.365593  14.130579  33.209429    0.0\n",
      "2460   9.89  0.361953  14.000000 -63.000000  14.000000  33.209529    0.0\n",
      "2461  10.65  0.361935  14.204160 -63.978433  13.965576  33.209642    0.0\n",
      "2462  12.01  0.361938  14.000000 -65.000000  14.000000  33.209763    0.0\n",
      "2463  13.54  0.361963  13.362745 -65.425970  13.712989  33.209884    0.0\n",
      "\n",
      "[448 rows x 7 columns]\n",
      "        BVP       EDA      ACC_x      ACC_y      ACC_z       TEMP  label\n",
      "2032   5.53  0.360727  11.000000 -62.000000  13.000000  33.180000    0.0\n",
      "2033  10.48  0.360700  11.393501 -61.860713  12.675593  33.179123    0.0\n",
      "2034  14.02  0.360694  12.000000 -62.000000  13.000000  33.178229    0.0\n",
      "2035  16.15  0.360711  12.919805 -62.481944  14.130750  33.177351    0.0\n",
      "2036  17.04  0.360749  14.000000 -63.000000  15.000000  33.176523    0.0\n",
      "...     ...       ...        ...        ...        ...        ...    ...\n",
      "2475  -9.15  0.363049  12.002637 -55.858390   6.739745  33.210072    0.0\n",
      "2476 -12.76  0.363125  13.000000 -56.000000   7.000000  33.210015    0.0\n",
      "2477 -16.62  0.363188  14.238832 -56.786125   7.514752  33.209973    0.0\n",
      "2478 -20.95  0.363236  15.000000 -58.000000   8.000000  33.209952    0.0\n",
      "2479 -25.61  0.363269  15.697343 -58.725173   8.208291  33.209960    0.0\n",
      "\n",
      "[448 rows x 7 columns]\n",
      "        BVP       EDA      ACC_x      ACC_y      ACC_z       TEMP  label\n",
      "2048  15.06  0.362006  15.000000 -58.000000  15.000000  33.180000    0.0\n",
      "2049  14.65  0.362076  15.260229 -58.950184  14.582428  33.181698    0.0\n",
      "2050  13.31  0.362127  15.000000 -60.000000  14.000000  33.183563    0.0\n",
      "2051  11.32  0.362156  14.341822 -60.598576  13.809638  33.185567    0.0\n",
      "2052   9.09  0.362162  14.000000 -61.000000  14.000000  33.187678    0.0\n",
      "...     ...       ...        ...        ...        ...        ...    ...\n",
      "2491  15.30  0.362520  18.628850 -62.220315   1.802198  33.211664    0.0\n",
      "2492  15.03  0.362405  20.000000 -61.000000   2.000000  33.211605    0.0\n",
      "2493  14.00  0.362294  21.402620 -59.121110   2.114618  33.211429    0.0\n",
      "2494  13.04  0.362188  22.000000 -58.000000   2.000000  33.211115    0.0\n",
      "2495  12.73  0.362091  21.938467 -57.580475   2.193138  33.210644    0.0\n",
      "\n",
      "[448 rows x 7 columns]\n",
      "        BVP       EDA      ACC_x      ACC_y      ACC_z       TEMP  label\n",
      "2064  -4.09  0.360727  12.000000 -64.000000  11.000000  33.210000    0.0\n",
      "2065  -4.20  0.360550  12.117153 -64.758277  11.388558  33.210925    0.0\n",
      "2066  -4.89  0.360378  12.000000 -66.000000  12.000000  33.211666    0.0\n",
      "2067  -6.23  0.360214  11.976988 -66.379965  12.370176  33.212230    0.0\n",
      "2068  -8.07  0.360060  12.000000 -65.000000  12.000000  33.212627    0.0\n",
      "...     ...       ...        ...        ...        ...        ...    ...\n",
      "2507  25.35  0.362384  23.726920 -56.603670   9.045312  33.191138    0.0\n",
      "2508  24.45  0.362545  24.000000 -56.000000   9.000000  33.188773    0.0\n",
      "2509  23.00  0.362719  24.352452 -55.112381   8.671017  33.186437    0.0\n",
      "2510  20.85  0.362904  24.000000 -55.000000   8.000000  33.184169    0.0\n",
      "2511  17.89  0.363094  23.452522 -55.207989   7.592982  33.182011    0.0\n",
      "\n",
      "[448 rows x 7 columns]\n",
      "        BVP       EDA      ACC_x      ACC_y     ACC_z       TEMP  label\n",
      "2080 -26.91  0.359448  12.000000 -57.000000  8.000000  33.210000    0.0\n",
      "2081 -26.98  0.359497  12.774103 -60.589779  7.512156  33.209642    0.0\n",
      "2082 -24.64  0.359556  13.000000 -63.000000  8.000000  33.209319    0.0\n",
      "2083 -19.80  0.359625  12.852025 -63.944155  8.547356  33.209037    0.0\n",
      "2084 -13.00  0.359700  13.000000 -64.000000  8.000000  33.208801    0.0\n",
      "...     ...       ...        ...        ...       ...        ...    ...\n",
      "2523 -27.76  0.364183  27.724671 -57.413528  9.442366  33.174128    0.0\n",
      "2524 -26.52  0.364070  26.000000 -59.000000  8.000000  33.175087    0.0\n",
      "2525 -22.66  0.363921  24.709949 -59.954633  7.104848  33.176196    0.0\n",
      "2526 -16.50  0.363738  24.000000 -62.000000  7.000000  33.177414    0.0\n",
      "2527  -8.77  0.363525  23.218745 -64.654803  6.785095  33.178697    0.0\n",
      "\n",
      "[448 rows x 7 columns]\n",
      "        BVP       EDA      ACC_x      ACC_y      ACC_z       TEMP  label\n",
      "2096  12.05  0.360727  16.000000 -65.000000   5.000000  33.210000    0.0\n",
      "2097  11.02  0.360805  15.510557 -64.338617   4.186838  33.210369    0.0\n",
      "2098  11.08  0.360882  15.000000 -64.000000   4.000000  33.210752    0.0\n",
      "2099  12.06  0.360958  15.029806 -63.569520   4.943539  33.211140    0.0\n",
      "2100  13.47  0.361034  16.000000 -63.000000   6.000000  33.211519    0.0\n",
      "...     ...       ...        ...        ...        ...        ...    ...\n",
      "2539   8.88  0.360660  17.045918 -54.435885  13.391263  33.185299    0.0\n",
      "2540   6.26  0.360581  17.000000 -55.000000  13.000000  33.184522    0.0\n",
      "2541   3.94  0.360547  16.767714 -55.931250  12.816894  33.183569    0.0\n",
      "2542   1.93  0.360561  15.000000 -57.000000  13.000000  33.182473    0.0\n",
      "2543   0.34  0.360621  12.213072 -58.944809  12.822596  33.181269    0.0\n",
      "\n",
      "[448 rows x 7 columns]\n",
      "        BVP       EDA      ACC_x      ACC_y      ACC_z       TEMP  label\n",
      "2112   7.58  0.362006  20.000000 -57.000000   7.000000  33.210000    0.0\n",
      "2113   4.69  0.362086  20.435819 -56.343318   7.576664  33.208934    0.0\n",
      "2114   1.72  0.362162  20.000000 -57.000000   8.000000  33.207685    0.0\n",
      "2115  -1.16  0.362232  19.277818 -58.038291   8.216245  33.206257    0.0\n",
      "2116  -3.83  0.362296  19.000000 -59.000000   8.000000  33.204657    0.0\n",
      "...     ...       ...        ...        ...        ...        ...    ...\n",
      "2555 -19.79  0.363615  10.869053 -57.143136  20.507994  33.173362    0.0\n",
      "2556 -22.53  0.363869   8.000000 -57.000000  21.000000  33.174177    0.0\n",
      "2557 -24.92  0.364094   4.125413 -55.958153  20.400568  33.175267    0.0\n",
      "2558 -27.06  0.364287   1.000000 -55.000000  19.000000  33.176616    0.0\n",
      "2559 -29.10  0.364445   0.206524 -54.955989  17.577320  33.178202    0.0\n",
      "\n",
      "[448 rows x 7 columns]\n",
      "        BVP       EDA      ACC_x      ACC_y      ACC_z       TEMP  label\n",
      "2128 -46.45  0.362006  13.000000 -63.000000   8.000000  33.180000    0.0\n",
      "2129 -47.53  0.361869  14.634026 -62.034668   9.444273  33.178408    0.0\n",
      "2130 -46.12  0.361716  15.000000 -61.000000  11.000000  33.177025    0.0\n",
      "2131 -42.15  0.361548  14.594195 -60.647211  12.621717  33.175871    0.0\n",
      "2132 -36.09  0.361369  15.000000 -61.000000  14.000000  33.174959    0.0\n",
      "...     ...       ...        ...        ...        ...        ...    ...\n",
      "2571  16.66  0.363859  24.137413 -57.962817  13.976660  33.203655    0.0\n",
      "2572  21.01  0.363719  23.000000 -56.000000  13.000000  33.205296    0.0\n",
      "2573  23.86  0.363588  21.924755 -53.469332  12.489638  33.206756    0.0\n",
      "2574  25.12  0.363470  21.000000 -50.000000  13.000000  33.208026    0.0\n",
      "2575  24.75  0.363368  20.403314 -47.746771  13.719475  33.209107    0.0\n",
      "\n",
      "[448 rows x 7 columns]\n",
      "       BVP       EDA      ACC_x      ACC_y      ACC_z       TEMP  label\n",
      "2144  1.51  0.359448   8.000000 -58.000000  12.000000  33.180000    0.0\n",
      "2145  0.59  0.359413   8.520787 -57.749771  11.428773  33.180984    0.0\n",
      "2146  0.27  0.359411   9.000000 -58.000000  11.000000  33.181897    0.0\n",
      "2147  0.57  0.359441   8.738588 -58.435108  10.995809  33.182711    0.0\n",
      "2148  1.40  0.359505   8.000000 -59.000000  11.000000  33.183398    0.0\n",
      "...    ...       ...        ...        ...        ...        ...    ...\n",
      "2587  7.93  0.363394  14.744765 -56.720247  10.523838  33.211170    0.0\n",
      "2588  5.39  0.363412  16.000000 -56.000000  10.000000  33.210917    0.0\n",
      "2589  2.66  0.363413  17.040737 -56.120471  10.322050  33.210667    0.0\n",
      "2590 -0.02  0.363394  18.000000 -57.000000  12.000000  33.210427    0.0\n",
      "2591 -2.49  0.363352  19.530015 -58.658923  14.340113  33.210203    0.0\n",
      "\n",
      "[448 rows x 7 columns]\n",
      "        BVP       EDA      ACC_x      ACC_y      ACC_z       TEMP  label\n",
      "2160   2.04  0.362006  19.000000 -67.000000   9.000000  33.180000    0.0\n",
      "2161   0.20  0.362230  18.899311 -66.082869   9.209047  33.179186    0.0\n",
      "2162  -1.64  0.362432  18.000000 -65.000000   9.000000  33.178416    0.0\n",
      "2163  -3.59  0.362610  17.718773 -64.672851   8.457980  33.177717    0.0\n",
      "2164  -5.68  0.362758  18.000000 -64.000000   8.000000  33.177114    0.0\n",
      "...     ...       ...        ...        ...        ...        ...    ...\n",
      "2603 -24.43  0.361350  14.056580 -59.224764  11.533453  33.209362    0.0\n",
      "2604 -22.46  0.361171  15.000000 -59.000000  11.000000  33.209441    0.0\n",
      "2605 -18.09  0.361015  15.263312 -59.111641  10.653140  33.209544    0.0\n",
      "2606 -11.31  0.360887  14.000000 -60.000000  10.000000  33.209671    0.0\n",
      "2607  -2.61  0.360789  13.114885 -62.484139   8.890124  33.209823    0.0\n",
      "\n",
      "[448 rows x 7 columns]\n",
      "        BVP       EDA      ACC_x      ACC_y         ACC_z       TEMP  label\n",
      "2176 -26.79  0.362006  22.000000 -55.000000  8.000000e+00  33.180000    0.0\n",
      "2177 -25.42  0.361802  22.414960 -55.584280  8.322445e+00  33.180743    0.0\n",
      "2178 -22.23  0.361597  22.000000 -56.000000  9.000000e+00  33.181451    0.0\n",
      "2179 -17.43  0.361396  21.477326 -56.689291  9.699041e+00  33.182099    0.0\n",
      "2180 -11.67  0.361206  21.000000 -58.000000  1.000000e+01  33.182661    0.0\n",
      "...     ...       ...        ...        ...           ...        ...    ...\n",
      "2619  20.99  0.362210  13.570336 -66.295245  6.424114e-01  33.211987    0.0\n",
      "2620  17.70  0.362448  14.000000 -66.000000  1.059091e-14  33.211866    0.0\n",
      "2621  15.41  0.362681  14.211424 -64.963035 -6.799783e-01  33.211624    0.0\n",
      "2622  14.00  0.362901  13.000000 -63.000000 -1.000000e+00  33.211242    0.0\n",
      "2623  13.23  0.363104  11.693430 -60.420729 -1.013517e+00  33.210706    0.0\n",
      "\n",
      "[448 rows x 7 columns]\n",
      "        BVP       EDA      ACC_x      ACC_y         ACC_z       TEMP  label\n",
      "2192  18.06  0.360727  15.000000 -62.000000  1.400000e+01  33.180000    0.0\n",
      "2193  17.69  0.360840  15.257721 -62.776677  1.416139e+01  33.179293    0.0\n",
      "2194  16.72  0.360964  15.000000 -63.000000  1.400000e+01  33.178615    0.0\n",
      "2195  15.32  0.361095  13.989895 -62.963571  1.397428e+01  33.177994    0.0\n",
      "2196  13.59  0.361230  13.000000 -63.000000  1.400000e+01  33.177452    0.0\n",
      "...     ...       ...        ...        ...           ...        ...    ...\n",
      "2635  18.40  0.363575  14.055309 -64.621676 -2.791014e+00  33.191013    0.0\n",
      "2636  13.55  0.363503  16.000000 -65.000000 -2.000000e+00  33.188675    0.0\n",
      "2637   7.08  0.363433  18.742651 -65.279239 -8.798896e-01  33.186366    0.0\n",
      "2638  -0.47  0.363371  20.000000 -65.000000  1.323864e-15  33.184125    0.0\n",
      "2639  -8.53  0.363321  20.134576 -64.061674  4.167555e-01  33.181990    0.0\n",
      "\n",
      "[448 rows x 7 columns]\n",
      "        BVP       EDA      ACC_x      ACC_y      ACC_z       TEMP  label\n",
      "2208   0.21  0.362006  13.000000 -61.000000  11.000000  33.180000    0.0\n",
      "2209  -2.03  0.361978  12.404899 -59.596563  10.392411  33.180689    0.0\n",
      "2210  -3.61  0.361942  12.000000 -59.000000   9.000000  33.181350    0.0\n",
      "2211  -4.36  0.361903  12.268332 -59.253892   7.878894  33.181958    0.0\n",
      "2212  -4.45  0.361862  13.000000 -60.000000   8.000000  33.182489    0.0\n",
      "...     ...       ...        ...        ...        ...        ...    ...\n",
      "2651  16.07  0.364126  14.518928 -62.809503   5.592503  33.174122    0.0\n",
      "2652  16.33  0.364249  14.000000 -63.000000   6.000000  33.175075    0.0\n",
      "2653  13.78  0.364359  14.213050 -62.822112   6.017876  33.176182    0.0\n",
      "2654   9.17  0.364452  14.000000 -62.000000   6.000000  33.177401    0.0\n",
      "2655   3.33  0.364522  13.893993 -61.199370   6.291028  33.178689    0.0\n",
      "\n",
      "[448 rows x 7 columns]\n",
      "        BVP       EDA      ACC_x      ACC_y      ACC_z       TEMP  label\n",
      "2224 -29.11  0.362006  16.000000 -56.000000   9.000000  33.180000    0.0\n",
      "2225 -23.31  0.362065  16.697757 -57.085591   9.474276  33.179320    0.0\n",
      "2226 -15.39  0.362121  17.000000 -59.000000  10.000000  33.178666    0.0\n",
      "2227  -6.42  0.362168  17.380797 -60.826481  10.113175  33.178065    0.0\n",
      "2228   2.50  0.362203  18.000000 -62.000000  10.000000  33.177538    0.0\n",
      "...     ...       ...        ...        ...        ...        ...    ...\n",
      "2667  -9.87  0.363070  14.834124 -62.071880  11.350621  33.185418    0.0\n",
      "2668  -9.03  0.362830  13.000000 -62.000000  12.000000  33.184629    0.0\n",
      "2669  -7.88  0.362597  10.496214 -61.937172  11.466249  33.183658    0.0\n",
      "2670  -6.26  0.362378   7.000000 -62.000000  10.000000  33.182537    0.0\n",
      "2671  -4.38  0.362179   4.388523 -62.386627   7.987760  33.181304    0.0\n",
      "\n",
      "[448 rows x 7 columns]\n",
      "        BVP       EDA      ACC_x      ACC_y      ACC_z       TEMP  label\n",
      "2240  19.15  0.360727  18.000000 -63.000000  10.000000  33.180000    0.0\n",
      "2241  18.46  0.360448  18.677405 -62.237630   9.666321  33.180678    0.0\n",
      "2242  17.77  0.360159  18.000000 -62.000000   9.000000  33.181330    0.0\n",
      "2243  16.75  0.359867  17.010353 -62.261404   8.730324  33.181931    0.0\n",
      "2244  15.12  0.359577  17.000000 -62.000000   9.000000  33.182458    0.0\n",
      "...     ...       ...        ...        ...        ...        ...    ...\n",
      "2683 -37.79  0.362387   9.380319 -62.445358   7.474937  33.173118    0.0\n",
      "2684 -33.01  0.362577  10.000000 -62.000000   7.000000  33.173963    0.0\n",
      "2685 -25.94  0.362769  11.751700 -61.622632   6.107808  33.175092    0.0\n",
      "2686 -17.51  0.362955  11.000000 -61.000000   6.000000  33.176491    0.0\n",
      "2687  -8.75  0.363130   6.956034 -60.617585   6.484980  33.178137    0.0\n",
      "\n",
      "[448 rows x 7 columns]\n",
      "        BVP       EDA      ACC_x      ACC_y      ACC_z       TEMP  label\n",
      "2256 -12.48  0.358169  14.000000 -63.000000   3.000000  33.180000    0.0\n",
      "2257 -14.26  0.358309  14.202055 -62.654144   2.721208  33.179318    0.0\n",
      "2258 -16.15  0.358486  14.000000 -63.000000   3.000000  33.178662    0.0\n",
      "2259 -18.17  0.358696  13.713410 -63.543724   3.366222  33.178057    0.0\n",
      "2260 -20.35  0.358934  14.000000 -64.000000   4.000000  33.177525    0.0\n",
      "...     ...       ...        ...        ...        ...        ...    ...\n",
      "2699   6.71  0.362897  14.729765 -59.914118  15.666547  33.204071    0.0\n",
      "2700   7.08  0.362707  16.000000 -61.000000  15.000000  33.205661    0.0\n",
      "2701   7.67  0.362515  20.298788 -61.915432  14.188637  33.207052    0.0\n",
      "2702   8.13  0.362329  23.000000 -62.000000  12.000000  33.208237    0.0\n",
      "2703   8.10  0.362156  24.265235 -61.373409   9.799659  33.209218    0.0\n",
      "\n",
      "[448 rows x 7 columns]\n",
      "        BVP       EDA      ACC_x      ACC_y         ACC_z       TEMP  label\n",
      "2272 -29.32  0.362006  16.000000 -61.000000  1.200000e+01  33.180000    0.0\n",
      "2273 -20.19  0.362145  17.349343 -60.707894  1.335117e+01  33.180691    0.0\n",
      "2274 -10.61  0.362255  16.000000 -59.000000  1.300000e+01  33.181357    0.0\n",
      "2275  -1.70  0.362338  13.648496 -56.249615  1.272748e+01  33.181973    0.0\n",
      "2276   5.66  0.362395  13.000000 -54.000000  1.400000e+01  33.182515    0.0\n",
      "...     ...       ...        ...        ...           ...        ...    ...\n",
      "2715 -17.06  0.362989  25.560073 -51.049133  5.875954e+00  33.210466    0.0\n",
      "2716 -18.50  0.363299  24.000000 -54.000000  6.000000e+00  33.210297    0.0\n",
      "2717 -19.56  0.363621  29.827293 -57.721155  2.976060e+00  33.210162    0.0\n",
      "2718 -19.92  0.363946  36.000000 -58.000000 -2.647728e-15  33.210066    0.0\n",
      "2719 -19.17  0.364264  32.617328 -55.096452  7.644228e-01  33.210012    0.0\n",
      "\n",
      "[448 rows x 7 columns]\n",
      "        BVP       EDA      ACC_x      ACC_y      ACC_z       TEMP  label\n",
      "2288  14.02  0.362006  13.000000 -61.000000  13.000000  33.180000    0.0\n",
      "2289  14.80  0.361969  13.612217 -60.769476  13.671943  33.179291    0.0\n",
      "2290  15.48  0.361939  14.000000 -61.000000  14.000000  33.178607    0.0\n",
      "2291  16.11  0.361917  13.533544 -61.133673  14.085017  33.177974    0.0\n",
      "2292  16.73  0.361903  13.000000 -61.000000  14.000000  33.177416    0.0\n",
      "...     ...       ...        ...        ...        ...        ...    ...\n",
      "2731   9.30  0.364883  43.634275 -42.503708  -7.503354  33.210667    0.0\n",
      "2732   5.73  0.364606  42.000000 -45.000000  -5.000000  33.210601    0.0\n",
      "2733   2.25  0.364297  30.976143 -52.484949   2.446285  33.210497    0.0\n",
      "2734  -0.64  0.363967  20.000000 -59.000000   8.000000  33.210359    0.0\n",
      "2735  -2.64  0.363626  18.397939 -60.228437   9.585578  33.210191    0.0\n",
      "\n",
      "[448 rows x 7 columns]\n",
      "        BVP       EDA      ACC_x      ACC_y      ACC_z       TEMP  label\n",
      "2304  -2.50  0.362006  11.000000 -62.000000   6.000000  33.180000    0.0\n",
      "2305  -5.43  0.362009  10.866875 -63.709377   3.901486  33.180738    0.0\n",
      "2306  -8.03  0.362010  12.000000 -67.000000   2.000000  33.181452    0.0\n",
      "2307 -10.61  0.362009  14.724815 -69.140105   2.524858  33.182114    0.0\n",
      "2308 -13.57  0.362007  18.000000 -69.000000   5.000000  33.182700    0.0\n",
      "...     ...       ...        ...        ...        ...        ...    ...\n",
      "2747   6.66  0.362028  25.569826 -53.439533  24.215867  33.208885    0.0\n",
      "2748   2.97  0.362227  25.000000 -54.000000  24.000000  33.209036    0.0\n",
      "2749  -2.53  0.362463  25.745160 -53.949231  23.377876  33.209231    0.0\n",
      "2750  -9.28  0.362726  28.000000 -55.000000  23.000000  33.209462    0.0\n",
      "2751 -16.41  0.363005  30.210803 -55.913053  22.226898  33.209722    0.0\n",
      "\n",
      "[448 rows x 7 columns]\n",
      "        BVP       EDA      ACC_x      ACC_y      ACC_z       TEMP  label\n",
      "2320  11.00  0.362006  23.000000 -52.000000   2.000000  33.180000    0.0\n",
      "2321  16.03  0.362001  24.791012 -51.518218   2.465580  33.179212    0.0\n",
      "2322  19.34  0.361990  26.000000 -51.000000   3.000000  33.178447    0.0\n",
      "2323  20.85  0.361971  26.336689 -50.489119   3.223149  33.177733    0.0\n",
      "2324  20.62  0.361944  27.000000 -50.000000   4.000000  33.177098    0.0\n",
      "...     ...       ...        ...        ...        ...        ...    ...\n",
      "2763  -7.52  0.363344  25.306780 -51.121948  25.244262  33.211343    0.0\n",
      "2764  -3.45  0.362919  27.000000 -50.000000  27.000000  33.211151    0.0\n",
      "2765   0.25  0.362431  28.355649 -49.147181  27.014205  33.210911    0.0\n",
      "2766   4.25  0.361894  26.000000 -49.000000  26.000000  33.210632    0.0\n",
      "2767   8.93  0.361320  23.964007 -48.598974  25.495053  33.210325    0.0\n",
      "\n",
      "[448 rows x 7 columns]\n",
      "        BVP       EDA      ACC_x      ACC_y      ACC_z       TEMP  label\n",
      "2336  15.26  0.360727  18.000000 -62.000000   4.000000  33.180000    0.0\n",
      "2337  15.74  0.360585  19.062608 -61.940822   4.067088  33.180882    0.0\n",
      "2338  16.10  0.360450  20.000000 -62.000000   4.000000  33.181746    0.0\n",
      "2339  16.44  0.360325  20.095657 -62.089074   3.900681  33.182560    0.0\n",
      "2340  16.60  0.360214  20.000000 -62.000000   4.000000  33.183292    0.0\n",
      "...     ...       ...        ...        ...        ...        ...    ...\n",
      "2779  11.71  0.358099  17.235835 -35.856266  30.410903  33.208522    0.0\n",
      "2780  16.76  0.358596  13.000000 -39.000000  28.000000  33.208738    0.0\n",
      "2781  23.28  0.359243  14.878078 -40.680746  28.569362  33.209004    0.0\n",
      "2782  30.67  0.360034  16.000000 -42.000000  29.000000  33.209311    0.0\n",
      "2783  37.93  0.360959  10.804143 -46.008621  27.844387  33.209647    0.0\n",
      "\n",
      "[448 rows x 7 columns]\n",
      "        BVP       EDA      ACC_x      ACC_y      ACC_z       TEMP  label\n",
      "2352  -3.22  0.360727  17.000000 -61.000000   4.000000  33.180000    0.0\n",
      "2353  -5.63  0.360909  16.721132 -61.726902   3.801600  33.178903    0.0\n",
      "2354  -8.85  0.361098  16.000000 -62.000000   4.000000  33.177805    0.0\n",
      "2355 -12.36  0.361288  15.562038 -61.798055   4.011218  33.176745    0.0\n",
      "2356 -15.23  0.361474  16.000000 -61.000000   4.000000  33.175762    0.0\n",
      "...     ...       ...        ...        ...        ...        ...    ...\n",
      "2795  15.38  0.375360  19.794047 -49.314541  18.290764  33.211565    0.0\n",
      "2796  14.23  0.376110  21.000000 -50.000000  19.000000  33.211335    0.0\n",
      "2797  16.03  0.376694  25.367828 -52.122136  21.162395  33.211051    0.0\n",
      "2798  21.19  0.377100  32.000000 -55.000000  23.000000  33.210726    0.0\n",
      "2799  28.89  0.377322  36.533928 -57.809745  24.285017  33.210371    0.0\n",
      "\n",
      "[448 rows x 7 columns]\n",
      "        BVP       EDA      ACC_x      ACC_y      ACC_z       TEMP  label\n",
      "2368  27.85  0.362006  15.000000 -61.000000   8.000000  33.180000    0.0\n",
      "2369  25.21  0.361886  15.070824 -60.978891   7.770104  33.181887    0.0\n",
      "2370  21.88  0.361755  15.000000 -62.000000   8.000000  33.183933    0.0\n",
      "2371  18.27  0.361619  14.777047 -64.168122   8.527149  33.186103    0.0\n",
      "2372  14.83  0.361484  15.000000 -66.000000   9.000000  33.188361    0.0\n",
      "...     ...       ...        ...        ...        ...        ...    ...\n",
      "2811  -7.17  0.368356  23.458936 -53.438917  16.417296  33.208375    0.0\n",
      "2812 -10.00  0.367205  23.000000 -53.000000  17.000000  33.208616    0.0\n",
      "2813 -16.07  0.366102  23.156051 -52.870029  18.855412  33.208910    0.0\n",
      "2814 -28.15  0.365069  26.000000 -53.000000  22.000000  33.209248    0.0\n",
      "2815 -47.99  0.364125  27.955076 -53.331262  23.890384  33.209616    0.0\n",
      "\n",
      "[448 rows x 7 columns]\n",
      "        BVP       EDA      ACC_x      ACC_y      ACC_z       TEMP  label\n",
      "2384  -2.26  0.362006  14.000000 -61.000000   8.000000  33.210000    0.0\n",
      "2385  -3.28  0.362293  13.960986 -60.652611   7.849072  33.210722    0.0\n",
      "2386  -3.87  0.362605  14.000000 -60.000000   8.000000  33.211264    0.0\n",
      "2387  -4.07  0.362933  14.333378 -59.020576   8.473033  33.211639    0.0\n",
      "2388  -3.99  0.363271  15.000000 -58.000000   9.000000  33.211864    0.0\n",
      "...     ...       ...        ...        ...        ...        ...    ...\n",
      "2827 -45.60  0.362197  21.565168 -56.116319  12.734829  33.211668    0.0\n",
      "2828 -39.50  0.362653  21.000000 -56.000000  13.000000  33.211421    0.0\n",
      "2829 -39.00  0.363137  20.838596 -55.856046  13.656003  33.211118    0.0\n",
      "2830 -43.75  0.363628  22.000000 -56.000000  14.000000  33.210771    0.0\n",
      "2831 -52.52  0.364110  22.721580 -56.481939  13.851613  33.210394    0.0\n",
      "\n",
      "[448 rows x 7 columns]\n",
      "         BVP       EDA      ACC_x      ACC_y      ACC_z       TEMP  label\n",
      "2400  -35.11  0.364565  14.000000 -61.000000  11.000000  33.210000    0.0\n",
      "2401  -31.94  0.364238  14.754129 -60.594097  11.514100  33.209912    0.0\n",
      "2402  -25.37  0.363837  15.000000 -60.000000  12.000000  33.209861    0.0\n",
      "2403  -16.22  0.363368  14.954471 -59.835466  12.200039  33.209845    0.0\n",
      "2404   -5.93  0.362836  15.000000 -60.000000  12.000000  33.209858    0.0\n",
      "...      ...       ...        ...        ...        ...        ...    ...\n",
      "2843   89.28  0.365197  22.603418 -55.951053  15.029501  33.208299    0.0\n",
      "2844  106.67  0.364853  22.000000 -56.000000  15.000000  33.208552    0.0\n",
      "2845  120.88  0.364477  21.345367 -56.156405  15.385978  33.208861    0.0\n",
      "2846  131.35  0.364081  22.000000 -56.000000  16.000000  33.209215    0.0\n",
      "2847  137.91  0.363680  23.006733 -55.407165  16.207344  33.209599    0.0\n",
      "\n",
      "[448 rows x 7 columns]\n",
      "         BVP       EDA      ACC_x      ACC_y      ACC_z       TEMP  label\n",
      "2416   -7.70  0.355610   9.000000 -62.000000  18.000000  33.210000    0.0\n",
      "2417   -7.65  0.355291  11.716594 -63.445492  19.543883  33.209910    0.0\n",
      "2418   -6.09  0.355057  15.000000 -64.000000  20.000000  33.209811    0.0\n",
      "2419   -3.26  0.354911  15.817103 -63.443079  19.681989  33.209709    0.0\n",
      "2420    0.50  0.354855  15.000000 -62.000000  19.000000  33.209609    0.0\n",
      "...      ...       ...        ...        ...        ...        ...    ...\n",
      "2859  162.39  0.361974  23.427569 -56.072021  16.597066  33.211726    0.0\n",
      "2860  150.82  0.362187  23.000000 -56.000000  16.000000  33.211469    0.0\n",
      "2861  140.79  0.362435  22.572652 -55.940356  15.858810  33.211155    0.0\n",
      "2862  135.05  0.362708  23.000000 -56.000000  16.000000  33.210796    0.0\n",
      "2863  135.32  0.362995  23.428637 -56.050773  15.663990  33.210406    0.0\n",
      "\n",
      "[448 rows x 7 columns]\n",
      "        BVP       EDA      ACC_x      ACC_y      ACC_z       TEMP  label\n",
      "2432   1.75  0.359448  14.000000 -58.000000  14.000000  33.210000    0.0\n",
      "2433  -1.36  0.360000  13.121338 -58.609138  13.698520  33.210154    0.0\n",
      "2434  -4.31  0.360531  13.000000 -59.000000  14.000000  33.210305    0.0\n",
      "2435  -7.24  0.361032  13.576413 -59.436790  14.676191  33.210447    0.0\n",
      "2436 -10.26  0.361497  14.000000 -60.000000  15.000000  33.210575    0.0\n",
      "...     ...       ...        ...        ...        ...        ...    ...\n",
      "2875  11.44  0.364361  22.275445 -57.082699  12.350691  33.208253    0.0\n",
      "2876  -7.69  0.364189  22.000000 -57.000000  12.000000  33.208513    0.0\n",
      "2877 -23.46  0.363987  21.616809 -57.491338  11.614482  33.208831    0.0\n",
      "2878 -36.44  0.363762  22.000000 -58.000000  12.000000  33.209194    0.0\n",
      "2879 -47.01  0.363525  22.731810 -57.428909  13.739384  33.209589    0.0\n",
      "\n",
      "[448 rows x 7 columns]\n",
      "         BVP       EDA      ACC_x      ACC_y      ACC_z       TEMP  label\n",
      "2448   26.11  0.363286  12.000000 -57.000000  13.000000  33.210000    0.0\n",
      "2449   30.81  0.363176  11.969756 -57.228299  13.009142  33.209841    0.0\n",
      "2450   33.25  0.363049  12.000000 -57.000000  13.000000  33.209691    0.0\n",
      "2451   33.68  0.362910  12.368865 -56.281280  12.969184  33.209556    0.0\n",
      "2452   32.46  0.362766  13.000000 -56.000000  13.000000  33.209441    0.0\n",
      "...      ...       ...        ...        ...        ...        ...    ...\n",
      "2891  -97.99  0.362891  22.923215 -57.804420  12.721728  33.211764    0.0\n",
      "2892 -102.85  0.363160  23.000000 -57.000000  14.000000  33.211501    0.0\n",
      "2893 -109.94  0.363471  22.707276 -55.773117  15.741412  33.211180    0.0\n",
      "2894 -118.90  0.363814  23.000000 -55.000000  17.000000  33.210813    0.0\n",
      "2895 -128.80  0.364183  23.424722 -54.938727  16.939627  33.210415    0.0\n",
      "\n",
      "[448 rows x 7 columns]\n",
      "        BVP       EDA      ACC_x      ACC_y      ACC_z       TEMP  label\n",
      "2464  14.96  0.362006  13.000000 -66.000000  13.000000  33.210000    0.0\n",
      "2465  16.08  0.362067  13.349132 -67.749818  12.288446  33.210105    0.0\n",
      "2466  16.76  0.362142  14.000000 -70.000000  12.000000  33.210193    0.0\n",
      "2467  16.82  0.362231  14.287246 -71.188710  12.040864  33.210261    0.0\n",
      "2468  16.01  0.362329  14.000000 -71.000000  12.000000  33.210306    0.0\n",
      "...     ...       ...        ...        ...        ...        ...    ...\n",
      "2907 -87.76  0.366925  21.844508 -56.106343  15.619251  33.208220    0.0\n",
      "2908 -80.05  0.366810  22.000000 -56.000000  15.000000  33.208486    0.0\n",
      "2909 -71.33  0.366638  22.500803 -55.796651  14.773262  33.208810    0.0\n",
      "2910 -61.32  0.366415  23.000000 -56.000000  15.000000  33.209180    0.0\n",
      "2911 -50.11  0.366147  22.812063 -56.636788  15.132571  33.209582    0.0\n",
      "\n",
      "[448 rows x 7 columns]\n",
      "        BVP       EDA      ACC_x      ACC_y      ACC_z       TEMP  label\n",
      "2480 -30.03  0.363286  17.000000 -59.000000   8.000000  33.210000    0.0\n",
      "2481 -33.29  0.363286  18.452158 -59.784564   7.496564  33.210076    0.0\n",
      "2482 -34.41  0.363269  19.000000 -61.000000   7.000000  33.210189    0.0\n",
      "2483 -32.66  0.363235  18.550940 -61.440622   6.594983  33.210337    0.0\n",
      "2484 -27.87  0.363186  18.000000 -61.000000   6.000000  33.210516    0.0\n",
      "...     ...       ...        ...        ...        ...        ...    ...\n",
      "2923  10.75  0.362947  22.885089 -55.992154  16.304957  33.211794    0.0\n",
      "2924   9.04  0.362920  23.000000 -56.000000  16.000000  33.211526    0.0\n",
      "2925   8.12  0.362946  22.382738 -55.979623  15.387399  33.211200    0.0\n",
      "2926   8.06  0.363019  22.000000 -56.000000  15.000000  33.210827    0.0\n",
      "2927   8.61  0.363135  22.052430 -56.061844  14.947864  33.210422    0.0\n",
      "\n",
      "[448 rows x 7 columns]\n",
      "        BVP       EDA      ACC_x      ACC_y      ACC_z       TEMP  label\n",
      "2496  13.32  0.362006  22.000000 -57.000000   3.000000  33.210000    0.0\n",
      "2497  14.71  0.361935  22.454250 -56.286266   3.827831  33.209170    0.0\n",
      "2498  16.58  0.361882  23.000000 -56.000000   4.000000  33.208145    0.0\n",
      "2499  18.58  0.361848  23.506648 -56.038233   3.787454  33.206921    0.0\n",
      "2500  20.46  0.361834  24.000000 -56.000000   4.000000  33.205498    0.0\n",
      "...     ...       ...        ...        ...        ...        ...    ...\n",
      "2939  -2.52  0.364595  21.959764 -55.834141  14.428901  33.208192    0.0\n",
      "2940  -4.92  0.364455  22.000000 -56.000000  14.000000  33.208462    0.0\n",
      "2941  -7.75  0.364252  21.932202 -56.156842  14.299129  33.208791    0.0\n",
      "2942 -11.11  0.363987  22.000000 -56.000000  15.000000  33.209167    0.0\n",
      "2943 -14.97  0.363663  22.143528 -55.837219  15.274907  33.209575    0.0\n",
      "\n",
      "[448 rows x 7 columns]\n",
      "        BVP       EDA      ACC_x      ACC_y      ACC_z       TEMP  label\n",
      "2512  14.21  0.363286  24.000000 -55.000000   8.000000  33.180000    0.0\n",
      "2513  10.07  0.363474  25.658473 -54.799277   8.753230  33.178172    0.0\n",
      "2514   5.84  0.363654  27.000000 -55.000000   9.000000  33.176560    0.0\n",
      "2515   1.79  0.363821  27.200184 -54.835825   8.841091  33.175190    0.0\n",
      "2516  -2.03  0.363969  27.000000 -54.000000   9.000000  33.174085    0.0\n",
      "...     ...       ...        ...        ...        ...        ...    ...\n",
      "2955  15.72  0.358446  22.282720 -56.090664  15.091980  33.211822    0.0\n",
      "2956  15.85  0.358232  22.000000 -56.000000  15.000000  33.211550    0.0\n",
      "2957  14.64  0.358095  22.396907 -55.943052  14.916389  33.211219    0.0\n",
      "2958  12.33  0.358038  23.000000 -56.000000  15.000000  33.210840    0.0\n",
      "2959   9.21  0.358063  23.206579 -56.038997  15.075336  33.210428    0.0\n",
      "\n",
      "[448 rows x 7 columns]\n",
      "        BVP       EDA      ACC_x      ACC_y      ACC_z       TEMP  label\n",
      "2528  -0.43  0.363286  22.000000 -66.000000   6.000000  33.180000    0.0\n",
      "2529   7.57  0.363026  20.971457 -66.649962   5.173631  33.181278    0.0\n",
      "2530  14.40  0.362751  21.000000 -69.000000   5.000000  33.182486    0.0\n",
      "2531  19.52  0.362466  21.818719 -72.372973   5.694862  33.183586    0.0\n",
      "2532  22.63  0.362179  22.000000 -73.000000   7.000000  33.184539    0.0\n",
      "...     ...       ...        ...        ...        ...        ...    ...\n",
      "2971  -2.29  0.362775  23.101281 -56.006901  16.319160  33.208163    0.0\n",
      "2972  -2.72  0.363233  23.000000 -56.000000  16.000000  33.208437    0.0\n",
      "2973  -3.15  0.363648  22.897913 -55.994911  15.397343  33.208771    0.0\n",
      "2974  -3.75  0.364013  23.000000 -56.000000  15.000000  33.209153    0.0\n",
      "2975  -4.64  0.364320  23.103815 -56.003592  14.891101  33.209568    0.0\n",
      "\n",
      "[448 rows x 7 columns]\n",
      "        BVP       EDA      ACC_x      ACC_y      ACC_z       TEMP  label\n",
      "2544  -0.68  0.360727  10.000000 -61.000000  12.000000  33.180000    0.0\n",
      "2545  -1.09  0.360876   8.841043 -61.625682  11.175512  33.178708    0.0\n",
      "2546  -1.01  0.361066   8.000000 -61.000000  11.000000  33.177438    0.0\n",
      "2547  -0.82  0.361291   7.184483 -60.632656  11.415731  33.176234    0.0\n",
      "2548  -0.97  0.361545   7.000000 -61.000000  12.000000  33.175139    0.0\n",
      "...     ...       ...        ...        ...        ...        ...    ...\n",
      "2987 -14.23  0.363378  23.155114 -55.997932  15.019908  33.211855    0.0\n",
      "2988  -7.82  0.363075  23.000000 -56.000000  15.000000  33.211579    0.0\n",
      "2989  -0.40  0.362777  22.809201 -56.002735  14.974886  33.211241    0.0\n",
      "2990   7.01  0.362495  23.000000 -56.000000  15.000000  33.210855    0.0\n",
      "2991  13.45  0.362235  23.275215 -55.996634  15.026206  33.210436    0.0\n",
      "\n",
      "[448 rows x 7 columns]\n",
      "        BVP       EDA      ACC_x      ACC_y      ACC_z       TEMP  label\n",
      "2560 -31.07  0.364565   2.000000 -55.000000  17.000000  33.180000    0.0\n",
      "2561 -32.82  0.364646   5.556012 -54.341080  17.204984  33.181978    0.0\n",
      "2562 -33.89  0.364689  10.000000 -54.000000  17.000000  33.184100    0.0\n",
      "2563 -33.64  0.364696  14.535077 -55.144539  15.433114  33.186332    0.0\n",
      "2564 -31.44  0.364667  18.000000 -57.000000  13.000000  33.188633    0.0\n",
      "...     ...       ...        ...        ...        ...        ...    ...\n",
      "3003  -7.19  0.362210  23.060734 -55.993230  14.978113  33.208124    0.0\n",
      "3004  -6.05  0.362422  23.000000 -56.000000  15.000000  33.208403    0.0\n",
      "3005  -4.32  0.362643  22.589370 -56.007315  15.056989  33.208744    0.0\n",
      "3006  -2.63  0.362865  22.000000 -56.000000  15.000000  33.209134    0.0\n",
      "3007  -1.50  0.363081  21.719116 -55.992137  14.859585  33.209558    0.0\n",
      "\n",
      "[448 rows x 7 columns]\n",
      "        BVP       EDA      ACC_x      ACC_y      ACC_z       TEMP  label\n",
      "2576  22.94  0.363286  20.000000 -48.000000  14.000000  33.210000    0.0\n",
      "2577  20.16  0.363224  19.461755 -49.255707  14.280539  33.210713    0.0\n",
      "2578  17.06  0.363182  19.000000 -50.000000  15.000000  33.211256    0.0\n",
      "2579  14.35  0.363161  19.020088 -51.139236  15.538407  33.211643    0.0\n",
      "2580  12.51  0.363159  19.000000 -54.000000  15.000000  33.211889    0.0\n",
      "...     ...       ...        ...        ...        ...        ...    ...\n",
      "3019 -16.14  0.363819  22.995859 -55.988701  15.160025  33.211903    0.0\n",
      "3020 -19.05  0.363720  23.000000 -56.000000  15.000000  33.211620    0.0\n",
      "3021 -21.70  0.363611  23.014451 -56.011911  14.846926  33.211274    0.0\n",
      "3022 -23.47  0.363499  23.000000 -56.000000  15.000000  33.210878    0.0\n",
      "3023 -23.68  0.363389  22.971856 -55.987460  15.151901  33.210448    0.0\n",
      "\n",
      "[448 rows x 7 columns]\n",
      "        BVP       EDA      ACC_x      ACC_y      ACC_z       TEMP  label\n",
      "2592  -4.71  0.363286  21.000000 -61.000000  16.000000  33.210000    0.0\n",
      "2593  -6.75  0.363194  21.051566 -63.385827  16.370068  33.209821    0.0\n",
      "2594  -8.71  0.363077  20.000000 -65.000000  16.000000  33.209667    0.0\n",
      "2595 -10.65  0.362935  19.381868 -65.486403  15.584596  33.209539    0.0\n",
      "2596 -12.63  0.362771  19.000000 -65.000000  15.000000  33.209437    0.0\n",
      "...     ...       ...        ...        ...        ...        ...    ...\n",
      "3035  12.53  0.363614  23.252223 -55.983289  15.736355  33.208062    0.0\n",
      "3036   7.79  0.363788  23.000000 -56.000000  16.000000  33.208350    0.0\n",
      "3037   2.82  0.363976  22.833107 -56.017487  15.530158  33.208702    0.0\n",
      "3038  -1.71  0.364171  23.000000 -56.000000  15.000000  33.209104    0.0\n",
      "3039  -5.17  0.364369  23.130033 -55.981709  14.905299  33.209543    0.0\n",
      "\n",
      "[448 rows x 7 columns]\n",
      "        BVP       EDA      ACC_x      ACC_y      ACC_z       TEMP  label\n",
      "2608   7.15  0.360727  14.000000 -66.000000   8.000000  33.210000    0.0\n",
      "2609  16.98  0.360701  14.916845 -68.342878   7.656197  33.210200    0.0\n",
      "2610  25.89  0.360714  14.000000 -68.000000   7.000000  33.210420    0.0\n",
      "2611  33.09  0.360764  12.402941 -65.886482   5.210769  33.210657    0.0\n",
      "2612  38.03  0.360851  12.000000 -64.000000   3.000000  33.210904    0.0\n",
      "...     ...       ...        ...        ...        ...        ...    ...\n",
      "3051  -2.81  0.365323  23.068923 -55.976175  14.783097  33.211987    0.0\n",
      "3052  -4.23  0.365214  23.000000 -56.000000  15.000000  33.211692    0.0\n",
      "3053  -5.99  0.365080  22.935019 -56.024892  15.136158  33.211332    0.0\n",
      "3054  -8.12  0.364925  23.000000 -56.000000  15.000000  33.210919    0.0\n",
      "3055 -10.67  0.364751  23.061548 -55.973990  14.867156  33.210470    0.0\n",
      "\n",
      "[448 rows x 7 columns]\n",
      "        BVP       EDA      ACC_x      ACC_y      ACC_z       TEMP  label\n",
      "2624  12.80  0.363286  12.000000 -58.000000  -1.000000  33.210000    0.0\n",
      "2625  12.52  0.363443  13.002699 -56.435946  -1.016944  33.209115    0.0\n",
      "2626  12.34  0.363572  13.000000 -56.000000  -1.000000  33.208042    0.0\n",
      "2627  12.41  0.363672  12.562520 -56.434020  -0.988308  33.206780    0.0\n",
      "2628  13.00  0.363742  13.000000 -57.000000  -1.000000  33.205328    0.0\n",
      "...     ...       ...        ...        ...        ...        ...    ...\n",
      "3067  15.20  0.363036  23.046091 -55.965838  15.139182  33.207943    0.0\n",
      "3068  19.03  0.363034  23.000000 -56.000000  16.000000  33.208246    0.0\n",
      "3069  20.77  0.363060  22.956151 -56.035856  16.421488  33.208618    0.0\n",
      "3070  20.42  0.363112  23.000000 -56.000000  16.000000  33.209045    0.0\n",
      "3071  18.04  0.363189  23.041605 -55.962308  15.649501  33.209512    0.0\n",
      "\n",
      "[448 rows x 7 columns]\n",
      "        BVP       EDA      ACC_x      ACC_y      ACC_z       TEMP  label\n",
      "2640 -16.55  0.363286  21.000000 -63.000000   1.000000  33.180000    0.0\n",
      "2641 -23.89  0.363270  22.217505 -62.306550   2.386089  33.178189    0.0\n",
      "2642 -29.74  0.363275  22.000000 -62.000000   4.000000  33.176589    0.0\n",
      "2643 -33.14  0.363301  20.667927 -61.909082   4.583235  33.175227    0.0\n",
      "2644 -33.23  0.363350  20.000000 -62.000000   4.000000  33.174125    0.0\n",
      "...     ...       ...        ...        ...        ...        ...    ...\n",
      "3083  -1.89  0.364592  23.026681 -55.945149  15.983477  33.212169    0.0\n",
      "3084  -1.94  0.364633  23.000000 -56.000000  16.000000  33.211852    0.0\n",
      "3085  -2.46  0.364651  22.976029 -56.060257  16.148184  33.211462    0.0\n",
      "3086  -3.32  0.364645  23.000000 -56.000000  16.000000  33.211011    0.0\n",
      "3087  -4.43  0.364616  23.021621 -55.932161  15.451695  33.210518    0.0\n",
      "\n",
      "[448 rows x 7 columns]\n",
      "        BVP       EDA      ACC_x      ACC_y      ACC_z       TEMP  label\n",
      "2656  -2.89  0.364565  15.000000 -61.000000   7.000000  33.180000    0.0\n",
      "2657  -8.75  0.364578  16.276579 -61.097060   8.043234  33.181289    0.0\n",
      "2658 -13.61  0.364559  16.000000 -61.000000   9.000000  33.182512    0.0\n",
      "2659 -17.01  0.364505  14.946914 -60.861694   9.308966  33.183628    0.0\n",
      "2660 -18.75  0.364418  15.000000 -61.000000   9.000000  33.184598    0.0\n",
      "...     ...       ...        ...        ...        ...        ...    ...\n",
      "3099 -21.50  0.363427  25.004401 -55.087454  16.130045  33.207634    0.0\n",
      "3100 -15.36  0.363362  25.000000 -55.000000  16.000000  33.207974    0.0\n",
      "3101  -7.50  0.363315  25.066462 -54.878427  15.536796  33.208396    0.0\n",
      "3102   1.05  0.363286  25.000000 -55.000000  15.000000  33.208887    0.0\n",
      "3103   9.19  0.363277  24.864293 -55.469214  14.796398  33.209428    0.0\n",
      "\n",
      "[448 rows x 7 columns]\n",
      "        BVP       EDA      ACC_x      ACC_y      ACC_z       TEMP  label\n",
      "2672  -2.78  0.362006   5.000000 -63.000000   6.000000  33.180000    0.0\n",
      "2673  -2.15  0.361863   7.865661 -63.303553   4.893512  33.178670    0.0\n",
      "2674  -3.09  0.361755  10.000000 -63.000000   5.000000  33.177359    0.0\n",
      "2675  -5.88  0.361684  10.828177 -62.447398   5.612706  33.176115    0.0\n",
      "2676 -10.43  0.361652  12.000000 -62.000000   6.000000  33.174982    0.0\n",
      "...     ...       ...        ...        ...        ...        ...    ...\n",
      "3115  -4.85  0.363754  24.467241 -55.905539  15.534286  33.212776    0.0\n",
      "3116  -4.46  0.363723  23.000000 -56.000000  15.000000  33.212395    0.0\n",
      "3117  -3.33  0.363662  22.209942 -56.083228  14.551070  33.211911    0.0\n",
      "3118  -1.95  0.363570  23.000000 -56.000000  14.000000  33.211337    0.0\n",
      "3119  -0.76  0.363444  24.114641 -55.958790  13.362818  33.210693    0.0\n",
      "\n",
      "[448 rows x 7 columns]\n",
      "        BVP       EDA      ACC_x      ACC_y      ACC_z       TEMP  label\n",
      "2688  -0.58  0.363286   3.000000 -61.000000   7.000000  33.180000    0.0\n",
      "2689   6.27  0.363417   2.515129 -61.280434   8.952996  33.182048    0.0\n",
      "2690  11.37  0.363519   6.000000 -60.000000  14.000000  33.184243    0.0\n",
      "2691  14.49  0.363588  11.779724 -57.300322  19.961584  33.186546    0.0\n",
      "2692  15.67  0.363620  17.000000 -55.000000  22.000000  33.188915    0.0\n",
      "...     ...       ...        ...        ...        ...        ...    ...\n",
      "3131 -18.80  0.360247  22.019688 -55.825511  17.605626  33.206009    0.0\n",
      "3132 -22.62  0.360003  22.000000 -56.000000  18.000000  33.206476    0.0\n",
      "3133 -26.08  0.359795  21.918811 -56.177565  18.469444  33.207117    0.0\n",
      "3134 -28.35  0.359630  22.000000 -56.000000  19.000000  33.207926    0.0\n",
      "3135 -28.56  0.359513  22.137338 -56.072692  19.518948  33.208892    0.0\n",
      "\n",
      "[448 rows x 7 columns]\n",
      "        BVP       EDA      ACC_x      ACC_y      ACC_z       TEMP  label\n",
      "2704   7.33  0.362006  27.000000 -61.000000   9.000000  33.210000    0.0\n",
      "2705   5.74  0.361884  29.503776 -61.403469   9.053979  33.210595    0.0\n",
      "2706   3.42  0.361798  28.000000 -62.000000   9.000000  33.211016    0.0\n",
      "2707   0.62  0.361752  24.744690 -61.926410   9.124534  33.211283    0.0\n",
      "2708  -2.32  0.361750  25.000000 -61.000000  10.000000  33.211416    0.0\n",
      "...     ...       ...        ...        ...        ...        ...    ...\n",
      "3147  17.74  0.362285  22.624356 -61.613034  25.003073  33.225503    0.0\n",
      "3148  12.57  0.362757  20.000000 -62.000000  27.000000  33.226644    0.0\n",
      "3149   7.38  0.363230  16.712033 -61.995643  31.080090  33.227669    0.0\n",
      "3150   2.93  0.363695  16.000000 -59.000000  34.000000  33.228572    0.0\n",
      "3151  -0.23  0.364143  17.729188 -52.874523  31.932160  33.229349    0.0\n",
      "\n",
      "[448 rows x 7 columns]\n",
      "        BVP       EDA      ACC_x      ACC_y      ACC_z       TEMP  label\n",
      "2720 -16.99  0.364565  23.000000 -53.000000   4.000000  33.210000    0.0\n",
      "2721 -13.28  0.364840  19.132710 -53.297225   5.374455  33.210026    0.0\n",
      "2722  -8.29  0.365080  25.000000 -53.000000   4.000000  33.210084    0.0\n",
      "2723  -2.54  0.365277  33.722937 -49.364277   2.900901  33.210168    0.0\n",
      "2724   3.26  0.365425  39.000000 -44.000000   3.000000  33.210269    0.0\n",
      "...     ...       ...        ...        ...        ...        ...    ...\n",
      "3163  -5.46  0.365876  15.372354 -56.410473  22.799234  33.230948    0.0\n",
      "3164  -7.32  0.365671  15.000000 -57.000000  23.000000  33.230750    0.0\n",
      "3165  -9.30  0.365429  13.730328 -58.708500  23.168938  33.230550    0.0\n",
      "3166 -11.53  0.365158  13.000000 -61.000000  24.000000  33.230355    0.0\n",
      "3167 -14.16  0.364867  13.273456 -61.820588  24.670897  33.230170    0.0\n",
      "\n",
      "[448 rows x 7 columns]\n",
      "        BVP       EDA      ACC_x      ACC_y      ACC_z       TEMP  label\n",
      "2736  -3.63  0.363286  26.000000 -59.000000  12.000000  33.210000    0.0\n",
      "2737  -3.71  0.362957  33.628378 -59.983523  17.500254  33.209794    0.0\n",
      "2738  -3.08  0.362649  33.000000 -62.000000  21.000000  33.209583    0.0\n",
      "2739  -1.91  0.362374  25.362682 -60.363567  18.128293  33.209377    0.0\n",
      "2740  -0.36  0.362139  19.000000 -55.000000  13.000000  33.209184    0.0\n",
      "...     ...       ...        ...        ...        ...        ...    ...\n",
      "3179   9.16  0.362648  25.546081 -60.931977  26.583280  33.229471    0.0\n",
      "3180  16.09  0.362710  33.000000 -60.000000  27.000000  33.229541    0.0\n",
      "3181  20.59  0.362809  30.034694 -60.609467  26.472466  33.229630    0.0\n",
      "3182  22.38  0.362942  21.000000 -63.000000  26.000000  33.229737    0.0\n",
      "3183  21.53  0.363103  16.591989 -64.188156  25.082554  33.229861    0.0\n",
      "\n",
      "[448 rows x 7 columns]\n",
      "        BVP       EDA      ACC_x      ACC_y      ACC_z       TEMP  label\n",
      "2752 -23.02  0.363286  31.000000 -55.000000  20.000000  33.210000    0.0\n",
      "2753 -28.45  0.363557  30.743669 -53.620147  16.940692  33.210285    0.0\n",
      "2754 -32.40  0.363805  31.000000 -54.000000  15.000000  33.210567    0.0\n",
      "2755 -34.83  0.364018  32.328225 -55.295379  15.231198  33.210832    0.0\n",
      "2756 -35.79  0.364182  33.000000 -55.000000  17.000000  33.211071    0.0\n",
      "...     ...       ...        ...        ...        ...        ...    ...\n",
      "3195  10.82  0.364871  37.762413 -48.919534  14.166957  33.231386    0.0\n",
      "3196  13.20  0.364861  37.000000 -48.000000  13.000000  33.231295    0.0\n",
      "3197  14.95  0.364822  37.548776 -46.630125  12.103199  33.231121    0.0\n",
      "3198  16.19  0.364757  37.000000 -46.000000  11.000000  33.230854    0.0\n",
      "3199  17.12  0.364670  35.564658 -46.684966  10.371298  33.230483    0.0\n",
      "\n",
      "[448 rows x 7 columns]\n",
      "        BVP       EDA      ACC_x      ACC_y      ACC_z       TEMP  label\n",
      "2768  14.08  0.360727  27.000000 -47.000000  26.000000  33.210000    0.0\n",
      "2769  18.86  0.360132  31.139855 -45.497021  27.196368  33.209671    0.0\n",
      "2770  22.22  0.359554  30.000000 -46.000000  29.000000  33.209351    0.0\n",
      "2771  23.33  0.359012  27.292611 -47.509004  30.872167  33.209052    0.0\n",
      "2772  22.01  0.358526  32.000000 -47.000000  31.000000  33.208787    0.0\n",
      "...     ...       ...        ...        ...        ...        ...    ...\n",
      "3211  14.63  0.363887  31.769576 -53.476977   7.693604  33.217309    0.0\n",
      "3212  17.87  0.363974  31.000000 -54.000000   7.000000  33.215757    0.0\n",
      "3213  23.27  0.364089  31.539677 -54.241038   6.916225  33.214224    0.0\n",
      "3214  30.63  0.364229  32.000000 -54.000000   7.000000  33.212737    0.0\n",
      "3215  39.33  0.364390  31.528413 -53.746561   7.268173  33.211320    0.0\n",
      "\n",
      "[448 rows x 7 columns]\n",
      "        BVP       EDA      ACC_x      ACC_y      ACC_z       TEMP  label\n",
      "2784  43.83  0.362006   5.000000 -52.000000  27.000000  33.210000    0.0\n",
      "2785  47.19  0.363158   4.603504 -55.426658  27.847022  33.210355    0.0\n",
      "2786  47.41  0.364395   5.000000 -54.000000  29.000000  33.210700    0.0\n",
      "2787  44.74  0.365695   2.083917 -50.789169  28.861566  33.211020    0.0\n",
      "2788  40.24  0.367036   5.000000 -50.000000  28.000000  33.211302    0.0\n",
      "...     ...       ...        ...        ...        ...        ...    ...\n",
      "3227 -14.79  0.365599  22.978816 -62.559784  10.298367  33.206094    0.0\n",
      "3228 -31.77  0.365475  23.000000 -64.000000  10.000000  33.206727    0.0\n",
      "3229 -45.15  0.365305  24.143242 -66.207222   9.834811  33.207462    0.0\n",
      "3230 -54.55  0.365094  25.000000 -68.000000  10.000000  33.208272    0.0\n",
      "3231 -60.04  0.364845  24.749001 -67.778052  10.125745  33.209128    0.0\n",
      "\n",
      "[448 rows x 7 columns]\n",
      "        BVP       EDA      ACC_x      ACC_y      ACC_z       TEMP  label\n",
      "2800  37.16  0.377356  37.000000 -60.000000  26.000000  33.210000    0.0\n",
      "2801  43.61  0.377204  36.051005 -61.331565  27.811681  33.209627    0.0\n",
      "2802  46.29  0.376872  35.000000 -62.000000  28.000000  33.209266    0.0\n",
      "2803  44.36  0.376369  31.881749 -62.521548  26.207615  33.208933    0.0\n",
      "2804  38.28  0.375708  27.000000 -63.000000  24.000000  33.208638    0.0\n",
      "...     ...       ...        ...        ...        ...        ...    ...\n",
      "3243 -34.41  0.361666  21.276666 -56.340976   4.420997  33.213612    0.0\n",
      "3244 -39.26  0.361621  22.000000 -55.000000   6.000000  33.213087    0.0\n",
      "3245 -44.94  0.361633  24.037327 -53.361036   8.053670  33.212440    0.0\n",
      "3246 -50.58  0.361703  26.000000 -53.000000  10.000000  33.211693    0.0\n",
      "3247 -55.02  0.361828  26.124414 -53.577445  10.617775  33.210870    0.0\n",
      "\n",
      "[448 rows x 7 columns]\n",
      "         BVP       EDA      ACC_x      ACC_y      ACC_z       TEMP  label\n",
      "2816  -75.13  0.363286  26.000000 -54.000000  23.000000  33.210000    0.0\n",
      "2817 -106.13  0.362565  22.779323 -55.006704  20.678253  33.210385    0.0\n",
      "2818 -135.29  0.361972  22.000000 -56.000000  19.000000  33.210757    0.0\n",
      "2819 -156.38  0.361512  23.143097 -56.655110  18.394614  33.211101    0.0\n",
      "2820 -164.92  0.361188  24.000000 -57.000000  18.000000  33.211404    0.0\n",
      "...      ...       ...        ...        ...        ...        ...    ...\n",
      "3259    5.71  0.365341  28.905271 -54.990858  16.629835  33.205403    0.0\n",
      "3260   -2.05  0.365543  29.000000 -55.000000  17.000000  33.205968    0.0\n",
      "3261  -11.73  0.365697  28.429489 -54.946815  16.660978  33.206722    0.0\n",
      "3262  -22.33  0.365799  28.000000 -55.000000  16.000000  33.207657    0.0\n",
      "3263  -32.51  0.365848  27.734303 -55.076767  15.226106  33.208755    0.0\n",
      "\n",
      "[448 rows x 7 columns]\n",
      "        BVP       EDA      ACC_x      ACC_y      ACC_z       TEMP  label\n",
      "2832 -62.96  0.364565  22.000000 -57.000000  14.000000  33.210000    0.0\n",
      "2833 -71.86  0.364978  21.703162 -57.181052  14.955292  33.209605    0.0\n",
      "2834 -76.02  0.365336  23.000000 -57.000000  16.000000  33.209225    0.0\n",
      "2835 -73.26  0.365629  23.950469 -56.843344  16.259572  33.208874    0.0\n",
      "2836 -62.96  0.365847  23.000000 -57.000000  16.000000  33.208565    0.0\n",
      "...     ...       ...        ...        ...        ...        ...    ...\n",
      "3275   2.84  0.363745  28.015961 -55.124116  13.192950  33.226059    0.0\n",
      "3276   3.99  0.363572  29.000000 -55.000000  14.000000  33.227118    0.0\n",
      "3277   4.04  0.363435  29.288429 -54.630214  14.005544  33.228043    0.0\n",
      "3278   3.02  0.363339  29.000000 -54.000000  14.000000  33.228830    0.0\n",
      "3279   0.95  0.363289  28.828874 -52.997394  14.589868  33.229481    0.0\n",
      "\n",
      "[448 rows x 7 columns]\n",
      "         BVP       EDA      ACC_x      ACC_y      ACC_z       TEMP  label\n",
      "2848  141.08  0.363286  23.000000 -55.000000  16.000000  33.210000    0.0\n",
      "2849  142.17  0.362912  22.641082 -55.327316  15.903117  33.210401    0.0\n",
      "2850  143.05  0.362570  23.000000 -56.000000  16.000000  33.210788    0.0\n",
      "2851  145.52  0.362270  23.409423 -56.242606  15.987153  33.211145    0.0\n",
      "2852  150.68  0.362020  23.000000 -56.000000  16.000000  33.211459    0.0\n",
      "...      ...       ...        ...        ...        ...        ...    ...\n",
      "3291   17.07  0.365352  28.550745 -52.186171  14.621261  33.230298    0.0\n",
      "3292   25.42  0.365539  28.000000 -52.000000  15.000000  33.230188    0.0\n",
      "3293   32.38  0.365688  27.831157 -52.391301  14.884868  33.230100    0.0\n",
      "3294   37.45  0.365792  28.000000 -53.000000  14.000000  33.230039    0.0\n",
      "3295   40.47  0.365846  28.162292 -53.491129  12.817468  33.230005    0.0\n",
      "\n",
      "[448 rows x 7 columns]\n",
      "         BVP       EDA      ACC_x      ACC_y      ACC_z       TEMP  label\n",
      "2864  141.62  0.363286  23.000000 -56.000000  15.000000  33.210000    0.0\n",
      "2865  152.15  0.363569  22.567085 -55.951639  15.043983  33.209593    0.0\n",
      "2866  163.51  0.363835  23.000000 -56.000000  16.000000  33.209201    0.0\n",
      "2867  171.47  0.364073  23.442938 -56.072105  16.836852  33.208839    0.0\n",
      "2868  172.22  0.364276  23.000000 -56.000000  17.000000  33.208522    0.0\n",
      "...      ...       ...        ...        ...        ...        ...    ...\n",
      "3307   29.67  0.362572  25.787457 -57.051162  10.362457  33.230454    0.0\n",
      "3308   27.62  0.362145  26.000000 -56.000000  10.000000  33.230409    0.0\n",
      "3309   24.55  0.361738  26.173253 -55.173557   9.987782  33.230338    0.0\n",
      "3310   20.99  0.361360  26.000000 -55.000000  10.000000  33.230243    0.0\n",
      "3311   17.52  0.361020  26.140638 -55.143520   9.952142  33.230129    0.0\n",
      "\n",
      "[448 rows x 7 columns]\n",
      "        BVP       EDA      ACC_x      ACC_y      ACC_z       TEMP  label\n",
      "2880 -55.53  0.363286  23.000000 -56.000000  16.000000  33.210000    0.0\n",
      "2881 -62.57  0.363054  23.191960 -55.058909  17.452750  33.210412    0.0\n",
      "2882 -68.78  0.362841  24.000000 -55.000000  18.000000  33.210808    0.0\n",
      "2883 -74.66  0.362654  24.897791 -54.799029  18.720922  33.211173    0.0\n",
      "2884 -80.30  0.362504  25.000000 -54.000000  20.000000  33.211494    0.0\n",
      "...     ...       ...        ...        ...        ...        ...    ...\n",
      "3323 -27.53  0.361417  26.887436 -54.958584  12.591321  33.229253    0.0\n",
      "3324 -25.63  0.361772  27.000000 -55.000000  13.000000  33.229355    0.0\n",
      "3325 -20.30  0.362146  27.684696 -54.951179  13.572866  33.229486    0.0\n",
      "3326 -12.09  0.362529  28.000000 -55.000000  14.000000  33.229641    0.0\n",
      "3327  -1.98  0.362912  27.436304 -55.115702  13.762053  33.229814    0.0\n",
      "\n",
      "[448 rows x 7 columns]\n",
      "         BVP       EDA      ACC_x      ACC_y      ACC_z       TEMP  label\n",
      "2896 -138.25  0.364565  23.000000 -55.000000  16.000000  33.210000    0.0\n",
      "2897 -145.60  0.364951  22.133707 -54.888079  15.245679  33.209585    0.0\n",
      "2898 -149.46  0.365329  22.000000 -55.000000  15.000000  33.209185    0.0\n",
      "2899 -149.13  0.365690  22.604513 -55.521776  14.926599  33.208816    0.0\n",
      "2900 -144.81  0.366022  23.000000 -56.000000  15.000000  33.208492    0.0\n",
      "...      ...       ...        ...        ...        ...        ...    ...\n",
      "3339   14.81  0.365154  26.286169 -55.308044  12.132694  33.230890    0.0\n",
      "3340   12.59  0.365080  26.000000 -56.000000  12.000000  33.230762    0.0\n",
      "3341   11.90  0.364978  25.371061 -56.669141  11.470598  33.230603    0.0\n",
      "3342   12.18  0.364854  25.000000 -57.000000  11.000000  33.230418    0.0\n",
      "3343   12.81  0.364714  25.010480 -57.039703  10.951618  33.230214    0.0\n",
      "\n",
      "[448 rows x 7 columns]\n",
      "        BVP       EDA      ACC_x      ACC_y      ACC_z       TEMP  label\n",
      "2912 -38.15  0.365844  22.000000 -57.000000  15.000000  33.210000    0.0\n",
      "2913 -26.13  0.365515  21.583762 -56.629046  14.955270  33.210419    0.0\n",
      "2914 -14.83  0.365170  22.000000 -56.000000  15.000000  33.210822    0.0\n",
      "2915  -4.88  0.364819  22.357962 -55.802061  14.675589  33.211194    0.0\n",
      "2916   3.28  0.364474  22.000000 -56.000000  14.000000  33.211520    0.0\n",
      "...     ...       ...        ...        ...        ...        ...    ...\n",
      "3355 -12.07  0.363885  24.177023 -56.249723   9.909226  33.229033    0.0\n",
      "3356 -16.21  0.363981  24.000000 -57.000000  10.000000  33.229175    0.0\n",
      "3357 -20.27  0.364101  23.522838 -57.756817   9.693617  33.229350    0.0\n",
      "3358 -23.80  0.364241  23.000000 -58.000000   9.000000  33.229551    0.0\n",
      "3359 -26.16  0.364397  22.751295 -57.655565   8.637549  33.229770    0.0\n",
      "\n",
      "[448 rows x 7 columns]\n",
      "        BVP       EDA      ACC_x      ACC_y      ACC_z       TEMP  label\n",
      "2928   9.35  0.363286  22.000000 -56.000000  15.000000  33.210000    0.0\n",
      "2929   9.86  0.363465  21.843415 -55.850319  15.013059  33.209578    0.0\n",
      "2930   9.83  0.363662  22.000000 -56.000000  15.000000  33.209172    0.0\n",
      "2931   9.24  0.363867  22.229571 -56.575300  14.988615  33.208797    0.0\n",
      "2932   8.21  0.364070  22.000000 -57.000000  15.000000  33.208468    0.0\n",
      "...     ...       ...        ...        ...        ...        ...    ...\n",
      "3371  34.63  0.365953  23.895369 -56.394092  11.468078  33.231008    0.0\n",
      "3372  33.36  0.365967  24.000000 -57.000000  11.000000  33.230859    0.0\n",
      "3373  30.51  0.365961  24.084107 -57.304559  10.898502  33.230676    0.0\n",
      "3374  26.67  0.365936  24.000000 -57.000000  11.000000  33.230466    0.0\n",
      "3375  22.57  0.365896  23.868789 -56.390264  11.042140  33.230238    0.0\n",
      "\n",
      "[448 rows x 7 columns]\n",
      "        BVP       EDA      ACC_x      ACC_y      ACC_z       TEMP  label\n",
      "2944 -19.06  0.363286  22.000000 -56.000000  15.000000  33.210000    0.0\n",
      "2945 -22.70  0.362863  21.746574 -56.189059  14.811717  33.210425    0.0\n",
      "2946 -25.00  0.362402  22.000000 -56.000000  15.000000  33.210835    0.0\n",
      "2947 -25.03  0.361915  22.702418 -55.733606  15.150012  33.211213    0.0\n",
      "2948 -22.30  0.361411  23.000000 -56.000000  15.000000  33.211544    0.0\n",
      "...     ...       ...        ...        ...        ...        ...    ...\n",
      "3387  -3.19  0.365442  25.149574 -55.805739  11.804258  33.228973    0.0\n",
      "3388  -5.51  0.365489  25.000000 -56.000000  12.000000  33.229126    0.0\n",
      "3389  -7.35  0.365555  24.493612 -56.621672  12.237015  33.229313    0.0\n",
      "3390  -8.98  0.365637  24.000000 -57.000000  12.000000  33.229527    0.0\n",
      "3391 -10.78  0.365734  23.864773 -56.647818  11.408301  33.229759    0.0\n",
      "\n",
      "[448 rows x 7 columns]\n",
      "        BVP       EDA      ACC_x      ACC_y      ACC_z       TEMP  label\n",
      "2960   5.68  0.358169  23.000000 -56.000000  15.000000  33.210000    0.0\n",
      "2961   2.28  0.358354  22.859599 -55.971930  14.933954  33.209571    0.0\n",
      "2962  -0.42  0.358612  23.000000 -56.000000  15.000000  33.209158    0.0\n",
      "2963  -2.06  0.358939  23.117592 -56.020831  15.053627  33.208778    0.0\n",
      "2964  -2.59  0.359324  23.000000 -56.000000  15.000000  33.208443    0.0\n",
      "...     ...       ...        ...        ...        ...        ...    ...\n",
      "3403  -2.31  0.367084  23.967200 -57.262771  10.931944  33.231030    0.0\n",
      "3404   6.68  0.367129  24.000000 -57.000000  11.000000  33.230875    0.0\n",
      "3405  13.79  0.367155  24.028284 -56.780827  11.076906  33.230687    0.0\n",
      "3406  18.52  0.367162  24.000000 -57.000000  11.000000  33.230473    0.0\n",
      "3407  20.80  0.367152  23.978103 -57.251462  10.913254  33.230241    0.0\n",
      "\n",
      "[448 rows x 7 columns]\n",
      "        BVP       EDA      ACC_x      ACC_y      ACC_z       TEMP  label\n",
      "2976  -5.87  0.364565  23.000000 -56.000000  15.000000  33.210000    0.0\n",
      "2977  -7.39  0.364743  22.893493 -55.997674  15.402448  33.210433    0.0\n",
      "2978  -9.10  0.364854  23.000000 -56.000000  16.000000  33.210849    0.0\n",
      "2979 -11.02  0.364896  23.110376 -56.001236  16.308872  33.211233    0.0\n",
      "2980 -13.15  0.364874  23.000000 -56.000000  16.000000  33.211571    0.0\n",
      "...     ...       ...        ...        ...        ...        ...    ...\n",
      "3419   7.88  0.366180  24.844474 -56.033496  12.047996  33.228982    0.0\n",
      "3420   9.51  0.366095  25.000000 -56.000000  12.000000  33.229135    0.0\n",
      "3421  10.29  0.366018  25.137598 -55.964800  12.022613  33.229321    0.0\n",
      "3422  10.18  0.365950  25.000000 -56.000000  12.000000  33.229533    0.0\n",
      "3423   9.31  0.365892  24.867354 -56.035771  11.940672  33.229762    0.0\n",
      "\n",
      "[448 rows x 7 columns]\n",
      "        BVP       EDA      ACC_x      ACC_y      ACC_z       TEMP  label\n",
      "2992  18.19  0.362006  23.000000 -56.000000  15.000000  33.210000    0.0\n",
      "2993  20.81  0.361813  22.300438 -56.003969  14.975092  33.209563    0.0\n",
      "2994  21.23  0.361661  22.000000 -56.000000  15.000000  33.209142    0.0\n",
      "2995  19.59  0.361554  22.426997 -55.995449  15.021733  33.208754    0.0\n",
      "2996  16.26  0.361492  23.000000 -56.000000  15.000000  33.208413    0.0\n",
      "...     ...       ...        ...        ...        ...        ...    ...\n",
      "3435 -23.24  0.365810  24.286997 -56.015863  10.879614  33.230994    0.0\n",
      "3436 -26.29  0.365822  24.000000 -56.000000  11.000000  33.230843    0.0\n",
      "3437 -26.87  0.365832  24.448122 -56.003761  11.522389  33.230661    0.0\n",
      "3438 -24.19  0.365840  25.000000 -56.000000  12.000000  33.230455    0.0\n",
      "3439 -18.12  0.365844  25.108363 -55.940704  12.076036  33.230231    0.0\n",
      "\n",
      "[448 rows x 7 columns]\n",
      "        BVP       EDA      ACC_x      ACC_y      ACC_z       TEMP  label\n",
      "3008  -1.18  0.363286  22.000000 -56.000000  15.000000  33.210000    0.0\n",
      "3009  -1.65  0.363473  22.579801 -56.008414  15.563124  33.210442    0.0\n",
      "3010  -2.64  0.363638  23.000000 -56.000000  16.000000  33.210869    0.0\n",
      "3011  -3.81  0.363776  23.082134 -55.991028  15.712146  33.211262    0.0\n",
      "3012  -4.91  0.363886  23.000000 -56.000000  15.000000  33.211608    0.0\n",
      "...     ...       ...        ...        ...        ...        ...    ...\n",
      "3451  21.68  0.365758  24.145979 -57.302831  11.052060  33.229046    0.0\n",
      "3452  17.88  0.365764  24.000000 -57.000000  11.000000  33.229191    0.0\n",
      "3453  14.78  0.365775  23.782651 -56.256290  10.957041  33.229366    0.0\n",
      "3454  12.65  0.365793  24.000000 -56.000000  11.000000  33.229565    0.0\n",
      "3455  11.56  0.365816  24.629503 -56.525338  11.039670  33.229779    0.0\n",
      "\n",
      "[448 rows x 7 columns]\n",
      "        BVP       EDA      ACC_x      ACC_y      ACC_z       TEMP  label\n",
      "3024 -21.76  0.363286  23.000000 -56.000000  15.000000  33.210000    0.0\n",
      "3025 -17.52  0.363196  23.048916 -56.013185  14.844165  33.209551    0.0\n",
      "3026 -11.29  0.363122  23.000000 -56.000000  15.000000  33.209118    0.0\n",
      "3027  -3.83  0.363070  22.914268 -55.986152  15.165722  33.208718    0.0\n",
      "3028   3.78  0.363042  23.000000 -56.000000  15.000000  33.208366    0.0\n",
      "...     ...       ...        ...        ...        ...        ...    ...\n",
      "3467   3.71  0.366136  24.332760 -55.910400  11.883466  33.230897    0.0\n",
      "3468   1.10  0.366113  25.000000 -56.000000  12.000000  33.230759    0.0\n",
      "3469  -1.51  0.366073  25.239964 -56.085983  12.098361  33.230593    0.0\n",
      "3470  -4.31  0.366015  25.000000 -56.000000  12.000000  33.230407    0.0\n",
      "3471  -7.47  0.365939  24.856924 -55.912661  11.908415  33.230206    0.0\n",
      "\n",
      "[448 rows x 7 columns]\n",
      "        BVP       EDA      ACC_x      ACC_y      ACC_z       TEMP  label\n",
      "3040  -7.13  0.364565  23.000000 -56.000000  15.000000  33.210000    0.0\n",
      "3041  -7.47  0.364753  22.890694 -56.019125  14.991106  33.210459    0.0\n",
      "3042  -6.43  0.364927  23.000000 -56.000000  15.000000  33.210901    0.0\n",
      "3043  -4.55  0.365084  23.095891 -55.980009  15.080430  33.211310    0.0\n",
      "3044  -2.48  0.365218  23.000000 -56.000000  15.000000  33.211670    0.0\n",
      "...     ...       ...        ...        ...        ...        ...    ...\n",
      "3483  21.92  0.363949  24.239342 -57.027327  11.885475  33.229185    0.0\n",
      "3484  27.00  0.363775  24.000000 -57.000000  12.000000  33.229312    0.0\n",
      "3485  29.74  0.363618  24.086001 -57.099509  12.126296  33.229464    0.0\n",
      "3486  30.26  0.363482  24.000000 -57.000000  12.000000  33.229634    0.0\n",
      "3487  28.86  0.363370  23.874048 -56.505933  11.857364  33.229815    0.0\n",
      "\n",
      "[448 rows x 7 columns]\n",
      "        BVP       EDA      ACC_x      ACC_y      ACC_z       TEMP  label\n",
      "3056 -13.60  0.364565  23.000000 -56.000000  15.000000  33.210000    0.0\n",
      "3057 -16.79  0.364371  22.941511 -56.027185  15.429223  33.209528    0.0\n",
      "3058 -19.92  0.364175  23.000000 -56.000000  16.000000  33.209073    0.0\n",
      "3059 -22.44  0.363981  23.055707 -55.971578  16.321606  33.208651    0.0\n",
      "3060 -23.57  0.363794  23.000000 -56.000000  16.000000  33.208280    0.0\n",
      "...     ...       ...        ...        ...        ...        ...    ...\n",
      "3499  10.61  0.364499  23.853691 -56.705854  12.092318  33.230696    0.0\n",
      "3500   9.98  0.364764  24.000000 -56.000000  12.000000  33.230584    0.0\n",
      "3501   8.71  0.365036  24.148090 -55.716681  12.014386  33.230453    0.0\n",
      "3502   7.02  0.365311  24.000000 -56.000000  12.000000  33.230308    0.0\n",
      "3503   5.12  0.365582  23.849688 -56.210255  11.911131  33.230155    0.0\n",
      "\n",
      "[448 rows x 7 columns]\n",
      "        BVP       EDA      ACC_x      ACC_y      ACC_z       TEMP  label\n",
      "3072  13.83  0.363286  23.000000 -56.000000  16.000000  33.210000    0.0\n",
      "3073   8.30  0.363401  22.960671 -56.039700  16.375535  33.210491    0.0\n",
      "3074   2.28  0.363529  23.000000 -56.000000  16.000000  33.210966    0.0\n",
      "3075  -3.17  0.363667  23.036994 -55.958077  15.271055  33.211407    0.0\n",
      "3076  -7.12  0.363810  23.000000 -56.000000  15.000000  33.211797    0.0\n",
      "...     ...       ...        ...        ...        ...        ...    ...\n",
      "3515 -28.72  0.366796  23.816863 -56.103816  12.056997  33.229481    0.0\n",
      "3516 -29.91  0.366658  24.000000 -56.000000  12.000000  33.229571    0.0\n",
      "3517 -28.31  0.366489  24.196906 -55.918506  11.970646  33.229672    0.0\n",
      "3518 -23.51  0.366293  24.000000 -56.000000  12.000000  33.229781    0.0\n",
      "3519 -15.87  0.366076  23.781793 -56.068741  12.008304  33.229892    0.0\n",
      "\n",
      "[448 rows x 7 columns]\n",
      "        BVP       EDA      ACC_x      ACC_y      ACC_z       TEMP  label\n",
      "3088  -5.76  0.364565  23.000000 -56.000000  15.000000  33.210000    0.0\n",
      "3089  -7.27  0.364495  22.979309 -56.079768  14.947423  33.209477    0.0\n",
      "3090  -8.99  0.364407  23.000000 -56.000000  15.000000  33.208969    0.0\n",
      "3091 -11.01  0.364305  23.024964 -55.897776  14.924552  33.208495    0.0\n",
      "3092 -13.44  0.364193  23.000000 -56.000000  15.000000  33.208074    0.0\n",
      "...     ...       ...        ...        ...        ...        ...    ...\n",
      "3531   9.42  0.364044  23.979098 -56.031811  13.143652  33.230236    0.0\n",
      "3532   7.19  0.364072  24.000000 -56.000000  13.000000  33.230181    0.0\n",
      "3533   5.87  0.364141  24.074184 -55.973215  12.914658  33.230126    0.0\n",
      "3534   5.34  0.364248  24.000000 -56.000000  13.000000  33.230076    0.0\n",
      "3535   5.36  0.364390  23.856350 -56.021509  13.069542  33.230032    0.0\n",
      "\n",
      "[448 rows x 7 columns]\n",
      "        BVP       EDA      ACC_x      ACC_y      ACC_z       TEMP  label\n",
      "3104  15.97  0.363286  25.000000 -56.000000  15.000000  33.210000    0.0\n",
      "3105  20.76  0.363312  25.264550 -56.178417  15.182421  33.210582    0.0\n",
      "3106  23.27  0.363353  25.000000 -56.000000  15.000000  33.211153    0.0\n",
      "3107  23.43  0.363405  24.218058 -55.874051  14.763840  33.211689    0.0\n",
      "3108  21.45  0.363466  24.000000 -56.000000  15.000000  33.212172    0.0\n",
      "...     ...       ...        ...        ...        ...        ...    ...\n",
      "3547  -4.75  0.366960  23.874290 -55.969718  11.933508  33.230262    0.0\n",
      "3548  -6.18  0.367069  24.000000 -56.000000  12.000000  33.230260    0.0\n",
      "3549  -7.65  0.367140  24.123746 -56.048436  12.013251  33.230235    0.0\n",
      "3550  -9.38  0.367172  24.000000 -56.000000  12.000000  33.230183    0.0\n",
      "3551 -11.51  0.367167  23.872636 -55.924951  12.325803  33.230105    0.0\n",
      "\n",
      "[448 rows x 7 columns]\n",
      "        BVP       EDA      ACC_x      ACC_y      ACC_z       TEMP  label\n",
      "3120   0.03  0.363286  24.000000 -56.000000  13.000000  33.210000    0.0\n",
      "3121   0.31  0.363095  22.879024 -55.709634  12.997413  33.209281    0.0\n",
      "3122   0.03  0.362874  22.000000 -55.000000  13.000000  33.208561    0.0\n",
      "3123  -0.76  0.362624  21.821781 -54.583245  12.885418  33.207867    0.0\n",
      "3124  -2.00  0.362351  22.000000 -55.000000  13.000000  33.207225    0.0\n",
      "...     ...       ...        ...        ...        ...        ...    ...\n",
      "3563   9.07  0.365189  24.246434 -55.959859  11.820391  33.228697    0.0\n",
      "3564  15.57  0.365015  25.000000 -56.000000  12.000000  33.228805    0.0\n",
      "3565  20.00  0.364863  25.388023 -56.505618  12.270422  33.228989    0.0\n",
      "3566  22.33  0.364736  25.000000 -57.000000  12.000000  33.229250    0.0\n",
      "3567  22.75  0.364636  24.355271 -56.740801  11.300667  33.229588    0.0\n",
      "\n",
      "[448 rows x 7 columns]\n",
      "        BVP       EDA      ACC_x      ACC_y      ACC_z       TEMP  label\n",
      "3136 -26.09  0.359448  22.000000 -57.000000  20.000000  33.210000    0.0\n",
      "3137 -20.81  0.359439  21.371708 -58.011211  20.211892  33.211234    0.0\n",
      "3138 -13.14  0.359489  20.000000 -58.000000  20.000000  33.212573    0.0\n",
      "3139  -4.02  0.359599  17.687884 -57.497178  19.796822  33.213995    0.0\n",
      "3140   5.34  0.359767  15.000000 -58.000000  20.000000  33.215476    0.0\n",
      "...     ...       ...        ...        ...        ...        ...    ...\n",
      "3579   6.91  0.365326  24.896949 -56.846093  11.975378  33.234366    0.0\n",
      "3580   8.18  0.365450  25.000000 -56.000000  12.000000  33.234038    0.0\n",
      "3581   9.23  0.365567  25.145122 -55.567461  12.036690  33.233460    0.0\n",
      "3582   9.88  0.365673  25.000000 -56.000000  12.000000  33.232605    0.0\n",
      "3583   9.96  0.365766  24.843519 -56.376660  11.953547  33.231456    0.0\n",
      "\n",
      "[448 rows x 7 columns]\n",
      "        BVP       EDA      ACC_x      ACC_y      ACC_z       TEMP  label\n",
      "3152  -1.80  0.364565  19.000000 -47.000000  26.000000  33.230000    0.0\n",
      "3153  -1.88  0.364952  18.133634 -44.267612  20.951867  33.230528    0.0\n",
      "3154  -0.89  0.365297  16.000000 -44.000000  19.000000  33.230938    0.0\n",
      "3155   0.55  0.365593  13.823300 -44.070681  18.222209  33.231236    0.0\n",
      "3156   1.80  0.365835  12.000000 -44.000000  17.000000  33.231434    0.0\n",
      "...     ...       ...        ...        ...        ...        ...    ...\n",
      "3595 -12.64  0.365838  24.877909 -56.044155  11.912589  33.196805    0.0\n",
      "3596 -15.16  0.365817  25.000000 -56.000000  12.000000  33.193117    0.0\n",
      "3597 -18.27  0.365805  25.088141 -55.941904  12.093392  33.189538    0.0\n",
      "3598 -21.48  0.365804  25.000000 -56.000000  12.000000  33.186124    0.0\n",
      "3599 -23.95  0.365817  24.994527 -56.065719  11.900561  33.182929    0.0\n",
      "\n",
      "[448 rows x 7 columns]\n",
      "        BVP       EDA      ACC_x      ACC_y      ACC_z       TEMP  label\n",
      "3168 -17.36  0.364565  13.000000 -61.000000  24.000000  33.230000    0.0\n",
      "3169 -21.20  0.364261  11.179678 -60.209790  22.375217  33.229848    0.0\n",
      "3170 -25.48  0.363963   9.000000 -60.000000  21.000000  33.229715    0.0\n",
      "3171 -29.62  0.363680   7.909163 -59.341955  20.029769  33.229604    0.0\n",
      "3172 -32.67  0.363419   8.000000 -58.000000  19.000000  33.229515    0.0\n",
      "...     ...       ...        ...        ...        ...        ...    ...\n",
      "3611  22.04  0.366848  24.769255 -56.076869  11.857821  33.172179    0.0\n",
      "3612  18.02  0.366937  25.000000 -56.000000  12.000000  33.173497    0.0\n",
      "3613  13.53  0.367011  24.882564 -55.922792  12.151548  33.174996    0.0\n",
      "3614   9.25  0.367068  24.000000 -56.000000  12.000000  33.176619    0.0\n",
      "3615   5.77  0.367106  23.424315 -56.077487  11.837872  33.178306    0.0\n",
      "\n",
      "[448 rows x 7 columns]\n",
      "        BVP       EDA      ACC_x      ACC_y      ACC_z       TEMP  label\n",
      "3184  18.43  0.363286  20.000000 -62.000000  22.000000  33.230000    0.0\n",
      "3185  13.75  0.363483  24.571805 -58.022074  16.792695  33.230154    0.0\n",
      "3186   8.43  0.363688  25.000000 -55.000000  12.000000  33.230319    0.0\n",
      "3187   3.43  0.363894  24.170669 -53.154286   9.606965  33.230492    0.0\n",
      "3188  -0.38  0.364093  27.000000 -51.000000   9.000000  33.230669    0.0\n",
      "...     ...       ...        ...        ...        ...        ...    ...\n",
      "3627   2.72  0.366209  24.700270 -56.080659  11.688259  33.186488    0.0\n",
      "3628   0.44  0.366103  25.000000 -56.000000  12.000000  33.185512    0.0\n",
      "3629  -1.90  0.366010  25.305639 -55.918043  12.413744  33.184332    0.0\n",
      "3630  -4.18  0.365934  25.000000 -56.000000  12.000000  33.182988    0.0\n",
      "3631  -6.38  0.365878  24.689037 -56.083724  11.139867  33.181528    0.0\n",
      "\n",
      "[448 rows x 7 columns]\n",
      "        BVP       EDA      ACC_x      ACC_y      ACC_z       TEMP  label\n",
      "3200  17.86  0.364565  35.000000 -48.000000  11.000000  33.230000    0.0\n",
      "3201  18.43  0.364449  35.255115 -49.100784  12.532328  33.229398    0.0\n",
      "3202  18.76  0.364327  35.000000 -50.000000  14.000000  33.228673    0.0\n",
      "3203  18.79  0.364205  34.294706 -51.045002  14.866070  33.227823    0.0\n",
      "3204  18.47  0.364091  34.000000 -52.000000  15.000000  33.226848    0.0\n",
      "...     ...       ...        ...        ...        ...        ...    ...\n",
      "3643 -19.28  0.366773  24.732254 -56.137572  13.242475  33.172399    0.0\n",
      "3644 -11.52  0.366888  25.000000 -56.000000  12.000000  33.173363    0.0\n",
      "3645  -2.75  0.366986  24.925541 -55.803093  11.321752  33.174630    0.0\n",
      "3646   5.84  0.367061  24.000000 -56.000000  11.000000  33.176179    0.0\n",
      "3647  13.18  0.367108  23.408922 -56.554032  10.494358  33.177980    0.0\n",
      "\n",
      "[448 rows x 7 columns]\n",
      "        BVP       EDA      ACC_x      ACC_y      ACC_z       TEMP  label\n",
      "3216  48.56  0.364565  31.000000 -54.000000   8.000000  33.210000    0.0\n",
      "3217  57.52  0.364749  30.839231 -54.369859   8.835759  33.208798    0.0\n",
      "3218  65.47  0.364935  30.000000 -54.000000   9.000000  33.207737    0.0\n",
      "3219  71.64  0.365116  27.991339 -52.905664   8.460580  33.206833    0.0\n",
      "3220  75.10  0.365284  26.000000 -52.000000   8.000000  33.206101    0.0\n",
      "...     ...       ...        ...        ...        ...        ...    ...\n",
      "3659  -3.86  0.364883  27.046835 -54.264543  16.364381  33.204648    0.0\n",
      "3660  -2.70  0.364538  27.000000 -55.000000  16.000000  33.206149    0.0\n",
      "3661  -1.03  0.364198  26.446075 -55.600405  14.876757  33.207433    0.0\n",
      "3662   0.67  0.363870  25.000000 -56.000000  13.000000  33.208499    0.0\n",
      "3663   2.02  0.363563  23.826845 -56.523427  11.036212  33.209351    0.0\n",
      "\n",
      "[448 rows x 7 columns]\n",
      "        BVP       EDA      ACC_x      ACC_y      ACC_z       TEMP  label\n",
      "3232 -61.93  0.364565  24.000000 -66.000000  10.000000  33.210000    0.0\n",
      "3233 -60.65  0.364259  23.035589 -64.313061   9.654251  33.210858    0.0\n",
      "3234 -56.82  0.363937  21.000000 -63.000000   9.000000  33.211672    0.0\n",
      "3235 -51.26  0.363605  17.767152 -61.177288   8.009963  33.212415    0.0\n",
      "3236 -44.98  0.363273  15.000000 -59.000000   7.000000  33.213062    0.0\n",
      "...     ...       ...        ...        ...        ...        ...    ...\n",
      "3675 -15.77  0.363696  27.418460 -61.667343  18.537634  33.209870    0.0\n",
      "3676 -18.13  0.364069  28.000000 -63.000000  19.000000  33.209784    0.0\n",
      "3677 -20.96  0.364479  29.710611 -65.818656  21.106236  33.209753    0.0\n",
      "3678 -24.06  0.364919  31.000000 -69.000000  24.000000  33.209780    0.0\n",
      "3679 -26.93  0.365377  31.073089 -70.856541  24.895946  33.209864    0.0\n",
      "\n",
      "[448 rows x 7 columns]\n",
      "        BVP       EDA      ACC_x      ACC_y      ACC_z       TEMP  label\n",
      "3248 -57.03  0.362006  25.000000 -54.000000  10.000000  33.210000    0.0\n",
      "3249 -55.54  0.362232  24.552624 -54.292079   9.816525  33.209112    0.0\n",
      "3250 -50.06  0.362499  25.000000 -55.000000  11.000000  33.208237    0.0\n",
      "3251 -40.84  0.362800  24.905178 -55.791215  12.469325  33.207407    0.0\n",
      "3252 -28.97  0.363126  24.000000 -56.000000  13.000000  33.206650    0.0\n",
      "...     ...       ...        ...        ...        ...        ...    ...\n",
      "3691  22.52  0.368630  19.873383 -49.566933  27.041436  33.211533    0.0\n",
      "3692  19.91  0.368478  26.000000 -51.000000  29.000000  33.211365    0.0\n",
      "3693  16.12  0.368248  29.117897 -50.080539  27.046636  33.211121    0.0\n",
      "3694  11.69  0.367941  28.000000 -48.000000  24.000000  33.210806    0.0\n",
      "3695   7.23  0.367564  27.340016 -46.742945  24.911778  33.210428    0.0\n",
      "\n",
      "[448 rows x 7 columns]\n",
      "        BVP       EDA      ACC_x      ACC_y      ACC_z       TEMP  label\n",
      "3264 -40.77  0.365844  27.000000 -55.000000  14.000000  33.210000    0.0\n",
      "3265 -45.76  0.365789  25.822945 -54.911724  12.357428  33.211368    0.0\n",
      "3266 -46.72  0.365686  25.000000 -55.000000  11.000000  33.212834    0.0\n",
      "3267 -43.76  0.365540  24.889572 -55.094590  10.322845  33.214371    0.0\n",
      "3268 -37.72  0.365357  25.000000 -55.000000  10.000000  33.215953    0.0\n",
      "...     ...       ...        ...        ...        ...        ...    ...\n",
      "3707   4.27  0.360854  62.485686 -17.457219  19.505998  33.206930    0.0\n",
      "3708   2.19  0.360436  61.000000 -14.000000  19.000000  33.207250    0.0\n",
      "3709  -0.42  0.360082  59.736087 -12.304646  19.301962  33.207718    0.0\n",
      "3710  -3.24  0.359797  57.000000 -11.000000  19.000000  33.208335    0.0\n",
      "3711  -6.04  0.359586  53.061292  -7.946181  19.263513  33.209098    0.0\n",
      "\n",
      "[448 rows x 7 columns]\n",
      "        BVP       EDA      ACC_x         ACC_y      ACC_z       TEMP  label\n",
      "3280  -2.03  0.363286  29.000000 -5.200000e+01  15.000000  33.230000    0.0\n",
      "3281  -5.63  0.363330  29.115211 -5.190281e+01  14.294769  33.230393    0.0\n",
      "3282  -9.45  0.363420  29.000000 -5.300000e+01  13.000000  33.230672    0.0\n",
      "3283 -12.97  0.363553  28.950134 -5.437489e+01  12.268397  33.230847    0.0\n",
      "3284 -15.63  0.363724  29.000000 -5.500000e+01  12.000000  33.230933    0.0\n",
      "...     ...       ...        ...           ...        ...        ...    ...\n",
      "3723 -28.82  0.361762  41.340842  5.852660e-01  25.918256  33.224688    0.0\n",
      "3724 -23.06  0.362118  41.000000  1.000000e+00  26.000000  33.225953    0.0\n",
      "3725 -15.65  0.362457  41.714524  1.122599e+00  26.949325  33.227128    0.0\n",
      "3726  -7.73  0.362770  42.000000  2.912501e-14  28.000000  33.228200    0.0\n",
      "3727  -0.51  0.363049  43.749216 -1.412043e+00  29.508268  33.229160    0.0\n",
      "\n",
      "[448 rows x 7 columns]\n",
      "        BVP       EDA      ACC_x      ACC_y      ACC_z       TEMP  label\n",
      "3296  41.50  0.365844  28.000000 -54.000000  12.000000  33.230000    0.0\n",
      "3297  40.81  0.365784  27.485789 -54.892455  11.529017  33.230020    0.0\n",
      "3298  38.79  0.365665  27.000000 -56.000000  11.000000  33.230062    0.0\n",
      "3299  35.98  0.365488  26.916927 -56.705960  10.394671  33.230120    0.0\n",
      "3300  33.04  0.365255  27.000000 -57.000000  10.000000  33.230189    0.0\n",
      "...     ...       ...        ...        ...        ...        ...    ...\n",
      "3739 -18.08  0.362457  45.105393   0.854376  35.570202  33.231760    0.0\n",
      "3740 -20.22  0.362127  47.000000   1.000000  37.000000  33.231443    0.0\n",
      "3741 -21.81  0.361781  48.142188   1.206227  38.460093  33.231097    0.0\n",
      "3742 -23.07  0.361427  43.000000   1.000000  36.000000  33.230733    0.0\n",
      "3743 -24.38  0.361073  38.196620   1.051400  32.733883  33.230364    0.0\n",
      "\n",
      "[448 rows x 7 columns]\n",
      "        BVP       EDA      ACC_x      ACC_y      ACC_z       TEMP  label\n",
      "3312  14.56  0.360727  27.000000 -55.000000  10.000000  33.230000    0.0\n",
      "3313  12.24  0.360487  27.606948 -54.749574  10.079267  33.229861    0.0\n",
      "3314  10.35  0.360306  27.000000 -55.000000  10.000000  33.229719    0.0\n",
      "3315   8.42  0.360188  25.981821 -55.641557   9.889719  33.229580    0.0\n",
      "3316   5.88  0.360134  26.000000 -56.000000  10.000000  33.229451    0.0\n",
      "...     ...       ...        ...        ...        ...        ...    ...\n",
      "3755 -37.08  0.358926  61.496978   4.996080  32.497633  33.228586    0.0\n",
      "3756 -34.52  0.358986  59.000000   6.000000  30.000000  33.228783    0.0\n",
      "3757 -33.53  0.359074  57.825190   6.993676  28.057721  33.229030    0.0\n",
      "3758 -34.40  0.359185  62.000000   7.000000  31.000000  33.229320    0.0\n",
      "3759 -36.57  0.359311  62.420295   6.279791  33.146354  33.229646    0.0\n",
      "\n",
      "[448 rows x 7 columns]\n",
      "        BVP       EDA      ACC_x      ACC_y      ACC_z       TEMP  label\n",
      "3328   8.90  0.363286  27.000000 -55.000000  13.000000  33.230000    0.0\n",
      "3329  19.42  0.363643  27.496802 -54.781199  12.343819  33.230190    0.0\n",
      "3330  28.62  0.363975  28.000000 -55.000000  12.000000  33.230378    0.0\n",
      "3331  35.72  0.364275  27.315597 -55.656731  11.599216  33.230554    0.0\n",
      "3332  40.13  0.364538  26.000000 -56.000000  11.000000  33.230713    0.0\n",
      "...     ...       ...        ...        ...        ...        ...    ...\n",
      "3771  90.86  0.360109  57.990048   3.862553  30.219195  33.232422    0.0\n",
      "3772  92.43  0.360016  57.000000   4.000000  29.000000  33.232187    0.0\n",
      "3773  89.98  0.359900  55.843438   4.172724  28.181265  33.231831    0.0\n",
      "3774  83.39  0.359763  57.000000   4.000000  29.000000  33.231349    0.0\n",
      "3775  73.00  0.359611  58.128392   3.935282  29.672272  33.230739    0.0\n",
      "\n",
      "[448 rows x 7 columns]\n",
      "         BVP       EDA      ACC_x      ACC_y      ACC_z       TEMP  label\n",
      "3344   13.30  0.364565  25.000000 -57.000000  11.000000  33.230000    0.0\n",
      "3345   13.36  0.364414  24.618351 -57.011285  10.637643  33.229783    0.0\n",
      "3346   12.87  0.364267  24.000000 -57.000000  10.000000  33.229572    0.0\n",
      "3347   11.82  0.364130  23.671432 -56.707824   9.703059  33.229376    0.0\n",
      "3348   10.24  0.364009  24.000000 -56.000000  10.000000  33.229202    0.0\n",
      "...      ...       ...        ...        ...        ...        ...    ...\n",
      "3787 -104.48  0.358553  55.723285   2.961171  29.640753  33.216006    0.0\n",
      "3788  -84.96  0.358662  55.000000   2.000000  29.000000  33.214629    0.0\n",
      "3789  -57.46  0.358809  54.431366   1.350814  29.087891  33.213322    0.0\n",
      "3790  -28.80  0.358991  55.000000   1.000000  30.000000  33.212105    0.0\n",
      "3791   -2.38  0.359206  55.146225   0.869530  30.400303  33.210992    0.0\n",
      "\n",
      "[448 rows x 7 columns]\n",
      "        BVP       EDA      ACC_x      ACC_y      ACC_z       TEMP  label\n",
      "3360 -26.62  0.364565  23.000000 -57.000000   9.000000  33.230000    0.0\n",
      "3361 -24.64  0.364740  23.581844 -56.370000   9.621663  33.230231    0.0\n",
      "3362 -20.03  0.364917  24.000000 -56.000000  10.000000  33.230455    0.0\n",
      "3363 -13.12  0.365091  24.018507 -55.930770  10.340399  33.230662    0.0\n",
      "3364  -4.63  0.365258  24.000000 -56.000000  11.000000  33.230845    0.0\n",
      "...     ...       ...        ...        ...        ...        ...    ...\n",
      "3803 -33.82  0.362157  56.468542   4.344065  28.363483  33.207888    0.0\n",
      "3804 -29.62  0.362233  56.000000   4.000000  28.000000  33.208289    0.0\n",
      "3805 -22.75  0.362258  55.550975   4.070547  27.643312  33.208720    0.0\n",
      "3806 -14.41  0.362229  56.000000   4.000000  28.000000  33.209160    0.0\n",
      "3807  -5.72  0.362145  56.421230   3.770595  28.317287  33.209593    0.0\n",
      "\n",
      "[448 rows x 7 columns]\n",
      "        BVP       EDA      ACC_x      ACC_y      ACC_z       TEMP  label\n",
      "3376  18.92  0.365844  24.000000 -56.000000  11.000000  33.230000    0.0\n",
      "3377  16.22  0.365783  24.487718 -55.954188  10.974583  33.229761    0.0\n",
      "3378  14.55  0.365716  25.000000 -56.000000  11.000000  33.229531    0.0\n",
      "3379  13.69  0.365649  25.154440 -55.989566  11.030984  33.229319    0.0\n",
      "3380  13.14  0.365583  25.000000 -56.000000  11.000000  33.229132    0.0\n",
      "...     ...       ...        ...        ...        ...        ...    ...\n",
      "3819  60.06  0.357777  57.877733   8.615455  26.877913  33.210779    0.0\n",
      "3820  62.11  0.357300  58.000000   9.000000  26.000000  33.210591    0.0\n",
      "3821  65.26  0.356839  57.797155   9.196243  25.505453  33.210406    0.0\n",
      "3822  69.45  0.356399  58.000000   9.000000  26.000000  33.210238    0.0\n",
      "3823  74.39  0.355988  58.220219   8.423283  26.414873  33.210099    0.0\n",
      "\n",
      "[448 rows x 7 columns]\n",
      "        BVP       EDA      ACC_x      ACC_y      ACC_z       TEMP  label\n",
      "3392 -13.14  0.365844  24.000000 -56.000000  11.000000  33.230000    0.0\n",
      "3393 -16.33  0.365965  24.078105 -55.782197  10.951142  33.230242    0.0\n",
      "3394 -20.42  0.366093  24.000000 -56.000000  11.000000  33.230474    0.0\n",
      "3395 -25.11  0.366226  23.942673 -56.123210  10.989214  33.230688    0.0\n",
      "3396 -29.77  0.366360  24.000000 -56.000000  11.000000  33.230876    0.0\n",
      "...     ...       ...        ...        ...        ...        ...    ...\n",
      "3835  83.54  0.354472  57.742036   6.426635  25.500010  33.211302    0.0\n",
      "3836  78.94  0.354641  58.000000   6.000000  25.000000  33.211310    0.0\n",
      "3837  66.86  0.354843  57.925310   6.319837  24.450162  33.211207    0.0\n",
      "3838  49.67  0.355076  58.000000   7.000000  25.000000  33.210968    0.0\n",
      "3839  30.50  0.355333  58.101833   7.239031  25.950897  33.210572    0.0\n",
      "\n",
      "[448 rows x 7 columns]\n"
     ]
    },
    {
     "data": {
      "image/png": "[encoded data removed]",
      "text/plain": [
       "<Figure size 432x288 with 1 Axes>"
      ]
     },
     "metadata": {
      "needs_background": "light"
     },
     "output_type": "display_data"
    },
    {
     "data": {
      "image/png": "[encoded data removed]",
      "text/plain": [
       "<Figure size 432x288 with 1 Axes>"
      ]
     },
     "metadata": {
      "needs_background": "light"
     },
     "output_type": "display_data"
    },
    {
     "data": {
      "image/png": "[encoded data removed]",
      "text/plain": [
       "<Figure size 432x288 with 1 Axes>"
      ]
     },
     "metadata": {
      "needs_background": "light"
     },
     "output_type": "display_data"
    },
    {
     "data": {
      "image/png": "[encoded data removed]",
      "text/plain": [
       "<Figure size 432x288 with 1 Axes>"
      ]
     },
     "metadata": {
      "needs_background": "light"
     },
     "output_type": "display_data"
    },
    {
     "data": {
      "image/png": "[encoded data removed]",
      "text/plain": [
       "<Figure size 432x288 with 1 Axes>"
      ]
     },
     "metadata": {
      "needs_background": "light"
     },
     "output_type": "display_data"
    },
    {
     "data": {
      "image/png": "[encoded data removed]",
      "text/plain": [
       "<Figure size 432x288 with 1 Axes>"
      ]
     },
     "metadata": {
      "needs_background": "light"
     },
     "output_type": "display_data"
    },
    {
     "data": {
      "image/png": "[encoded data removed]",
      "text/plain": [
       "<Figure size 432x288 with 1 Axes>"
      ]
     },
     "metadata": {
      "needs_background": "light"
     },
     "output_type": "display_data"
    },
    {
     "data": {
      "image/png": "[encoded data removed]",
      "text/plain": [
       "<Figure size 432x288 with 1 Axes>"
      ]
     },
     "metadata": {
      "needs_background": "light"
     },
     "output_type": "display_data"
    },
    {
     "data": {
      "image/png": "[encoded data removed]",
      "text/plain": [
       "<Figure size 432x288 with 1 Axes>"
      ]
     },
     "metadata": {
      "needs_background": "light"
     },
     "output_type": "display_data"
    },
    {
     "data": {
      "image/png": "[encoded data removed]",
      "text/plain": [
       "<Figure size 432x288 with 1 Axes>"
      ]
     },
     "metadata": {
      "needs_background": "light"
     },
     "output_type": "display_data"
    },
    {
     "data": {
      "image/png": "[encoded data removed]",
      "text/plain": [
       "<Figure size 432x288 with 1 Axes>"
      ]
     },
     "metadata": {
      "needs_background": "light"
     },
     "output_type": "display_data"
    },
    {
     "data": {
      "image/png": "[encoded data removed]",
      "text/plain": [
       "<Figure size 432x288 with 1 Axes>"
      ]
     },
     "metadata": {
      "needs_background": "light"
     },
     "output_type": "display_data"
    },
    {
     "data": {
      "image/png": "[encoded data removed]",
      "text/plain": [
       "<Figure size 432x288 with 1 Axes>"
      ]
     },
     "metadata": {
      "needs_background": "light"
     },
     "output_type": "display_data"
    },
    {
     "data": {
      "image/png": "[encoded data removed]",
      "text/plain": [
       "<Figure size 432x288 with 1 Axes>"
      ]
     },
     "metadata": {
      "needs_background": "light"
     },
     "output_type": "display_data"
    },
    {
     "data": {
      "image/png": "[encoded data removed]",
      "text/plain": [
       "<Figure size 432x288 with 1 Axes>"
      ]
     },
     "metadata": {
      "needs_background": "light"
     },
     "output_type": "display_data"
    },
    {
     "data": {
      "image/png": "[encoded data removed]",
      "text/plain": [
       "<Figure size 432x288 with 1 Axes>"
      ]
     },
     "metadata": {
      "needs_background": "light"
     },
     "output_type": "display_data"
    },
    {
     "data": {
      "image/png": "[encoded data removed]",
      "text/plain": [
       "<Figure size 432x288 with 1 Axes>"
      ]
     },
     "metadata": {
      "needs_background": "light"
     },
     "output_type": "display_data"
    },
    {
     "data": {
      "image/png": "[encoded data removed]",
      "text/plain": [
       "<Figure size 432x288 with 1 Axes>"
      ]
     },
     "metadata": {
      "needs_background": "light"
     },
     "output_type": "display_data"
    },
    {
     "data": {
      "image/png": "[encoded data removed]",
      "text/plain": [
       "<Figure size 432x288 with 1 Axes>"
      ]
     },
     "metadata": {
      "needs_background": "light"
     },
     "output_type": "display_data"
    },
    {
     "data": {
      "image/png": "[encoded data removed]",
      "text/plain": [
       "<Figure size 432x288 with 1 Axes>"
      ]
     },
     "metadata": {
      "needs_background": "light"
     },
     "output_type": "display_data"
    },
    {
     "data": {
      "image/png": "[encoded data removed]",
      "text/plain": [
       "<Figure size 432x288 with 1 Axes>"
      ]
     },
     "metadata": {
      "needs_background": "light"
     },
     "output_type": "display_data"
    },
    {
     "data": {
      "image/png": "[encoded data removed]",
      "text/plain": [
       "<Figure size 432x288 with 1 Axes>"
      ]
     },
     "metadata": {
      "needs_background": "light"
     },
     "output_type": "display_data"
    },
    {
     "data": {
      "image/png": "[encoded data removed]",
      "text/plain": [
       "<Figure size 432x288 with 1 Axes>"
      ]
     },
     "metadata": {
      "needs_background": "light"
     },
     "output_type": "display_data"
    },
    {
     "data": {
      "image/png": "[encoded data removed]",
      "text/plain": [
       "<Figure size 432x288 with 1 Axes>"
      ]
     },
     "metadata": {
      "needs_background": "light"
     },
     "output_type": "display_data"
    },
    {
     "data": {
      "image/png": "[encoded data removed]",
      "text/plain": [
       "<Figure size 432x288 with 1 Axes>"
      ]
     },
     "metadata": {
      "needs_background": "light"
     },
     "output_type": "display_data"
    },
    {
     "data": {
      "image/png": "[encoded data removed]",
      "text/plain": [
       "<Figure size 432x288 with 1 Axes>"
      ]
     },
     "metadata": {
      "needs_background": "light"
     },
     "output_type": "display_data"
    },
    {
     "data": {
      "image/png": "[encoded data removed]",
      "text/plain": [
       "<Figure size 432x288 with 1 Axes>"
      ]
     },
     "metadata": {
      "needs_background": "light"
     },
     "output_type": "display_data"
    },
    {
     "data": {
      "image/png": "[encoded data removed]",
      "text/plain": [
       "<Figure size 432x288 with 1 Axes>"
      ]
     },
     "metadata": {
      "needs_background": "light"
     },
     "output_type": "display_data"
    },
    {
     "data": {
      "image/png": "[encoded data removed]",
      "text/plain": [
       "<Figure size 432x288 with 1 Axes>"
      ]
     },
     "metadata": {
      "needs_background": "light"
     },
     "output_type": "display_data"
    },
    {
     "data": {
      "image/png": "[encoded data removed]",
      "text/plain": [
       "<Figure size 432x288 with 1 Axes>"
      ]
     },
     "metadata": {
      "needs_background": "light"
     },
     "output_type": "display_data"
    },
    {
     "data": {
      "image/png": "[encoded data removed]",
      "text/plain": [
       "<Figure size 432x288 with 1 Axes>"
      ]
     },
     "metadata": {
      "needs_background": "light"
     },
     "output_type": "display_data"
    },
    {
     "data": {
      "image/png": "[encoded data removed]",
      "text/plain": [
       "<Figure size 432x288 with 1 Axes>"
      ]
     },
     "metadata": {
      "needs_background": "light"
     },
     "output_type": "display_data"
    },
    {
     "data": {
      "image/png": "[encoded data removed]",
      "text/plain": [
       "<Figure size 432x288 with 1 Axes>"
      ]
     },
     "metadata": {
      "needs_background": "light"
     },
     "output_type": "display_data"
    },
    {
     "data": {
      "image/png": "[encoded data removed]",
      "text/plain": [
       "<Figure size 432x288 with 1 Axes>"
      ]
     },
     "metadata": {
      "needs_background": "light"
     },
     "output_type": "display_data"
    },
    {
     "data": {
      "image/png": "[encoded data removed]",
      "text/plain": [
       "<Figure size 432x288 with 1 Axes>"
      ]
     },
     "metadata": {
      "needs_background": "light"
     },
     "output_type": "display_data"
    },
    {
     "data": {
      "image/png": "[encoded data removed]",
      "text/plain": [
       "<Figure size 432x288 with 1 Axes>"
      ]
     },
     "metadata": {
      "needs_background": "light"
     },
     "output_type": "display_data"
    },
    {
     "data": {
      "image/png": "[encoded data removed]",
      "text/plain": [
       "<Figure size 432x288 with 1 Axes>"
      ]
     },
     "metadata": {
      "needs_background": "light"
     },
     "output_type": "display_data"
    },
    {
     "data": {
      "image/png": "[encoded data removed]",
      "text/plain": [
       "<Figure size 432x288 with 1 Axes>"
      ]
     },
     "metadata": {
      "needs_background": "light"
     },
     "output_type": "display_data"
    },
    {
     "data": {
      "image/png": "[encoded data removed]",
      "text/plain": [
       "<Figure size 432x288 with 1 Axes>"
      ]
     },
     "metadata": {
      "needs_background": "light"
     },
     "output_type": "display_data"
    },
    {
     "data": {
      "image/png": "[encoded data removed]",
      "text/plain": [
       "<Figure size 432x288 with 1 Axes>"
      ]
     },
     "metadata": {
      "needs_background": "light"
     },
     "output_type": "display_data"
    },
    {
     "data": {
      "image/png": "[encoded data removed]",
      "text/plain": [
       "<Figure size 432x288 with 1 Axes>"
      ]
     },
     "metadata": {
      "needs_background": "light"
     },
     "output_type": "display_data"
    },
    {
     "data": {
      "image/png": "[encoded data removed]",
      "text/plain": [
       "<Figure size 432x288 with 1 Axes>"
      ]
     },
     "metadata": {
      "needs_background": "light"
     },
     "output_type": "display_data"
    },
    {
     "data": {
      "image/png": "[encoded data removed]",
      "text/plain": [
       "<Figure size 432x288 with 1 Axes>"
      ]
     },
     "metadata": {
      "needs_background": "light"
     },
     "output_type": "display_data"
    },
    {
     "data": {
      "image/png": "[encoded data removed]",
      "text/plain": [
       "<Figure size 432x288 with 1 Axes>"
      ]
     },
     "metadata": {
      "needs_background": "light"
     },
     "output_type": "display_data"
    },
    {
     "data": {
      "image/png": "[encoded data removed]",
      "text/plain": [
       "<Figure size 432x288 with 1 Axes>"
      ]
     },
     "metadata": {
      "needs_background": "light"
     },
     "output_type": "display_data"
    },
    {
     "data": {
      "image/png": "[encoded data removed]",
      "text/plain": [
       "<Figure size 432x288 with 1 Axes>"
      ]
     },
     "metadata": {
      "needs_background": "light"
     },
     "output_type": "display_data"
    },
    {
     "data": {
      "image/png": "[encoded data removed]",
      "text/plain": [
       "<Figure size 432x288 with 1 Axes>"
      ]
     },
     "metadata": {
      "needs_background": "light"
     },
     "output_type": "display_data"
    },
    {
     "data": {
      "image/png": "[encoded data removed]",
      "text/plain": [
       "<Figure size 432x288 with 1 Axes>"
      ]
     },
     "metadata": {
      "needs_background": "light"
     },
     "output_type": "display_data"
    },
    {
     "data": {
      "image/png": "[encoded data removed]",
      "text/plain": [
       "<Figure size 432x288 with 1 Axes>"
      ]
     },
     "metadata": {
      "needs_background": "light"
     },
     "output_type": "display_data"
    },
    {
     "data": {
      "image/png": "[encoded data removed]",
      "text/plain": [
       "<Figure size 432x288 with 1 Axes>"
      ]
     },
     "metadata": {
      "needs_background": "light"
     },
     "output_type": "display_data"
    },
    {
     "data": {
      "image/png": "[encoded data removed]",
      "text/plain": [
       "<Figure size 432x288 with 1 Axes>"
      ]
     },
     "metadata": {
      "needs_background": "light"
     },
     "output_type": "display_data"
    },
    {
     "data": {
      "image/png": "[encoded data removed]",
      "text/plain": [
       "<Figure size 432x288 with 1 Axes>"
      ]
     },
     "metadata": {
      "needs_background": "light"
     },
     "output_type": "display_data"
    },
    {
     "data": {
      "image/png": "[encoded data removed]",
      "text/plain": [
       "<Figure size 432x288 with 1 Axes>"
      ]
     },
     "metadata": {
      "needs_background": "light"
     },
     "output_type": "display_data"
    },
    {
     "data": {
      "image/png": "[encoded data removed]",
      "text/plain": [
       "<Figure size 432x288 with 1 Axes>"
      ]
     },
     "metadata": {
      "needs_background": "light"
     },
     "output_type": "display_data"
    },
    {
     "data": {
      "image/png": "[encoded data removed]",
      "text/plain": [
       "<Figure size 432x288 with 1 Axes>"
      ]
     },
     "metadata": {
      "needs_background": "light"
     },
     "output_type": "display_data"
    },
    {
     "data": {
      "image/png": "[encoded data removed]",
      "text/plain": [
       "<Figure size 432x288 with 1 Axes>"
      ]
     },
     "metadata": {
      "needs_background": "light"
     },
     "output_type": "display_data"
    },
    {
     "data": {
      "image/png": "[encoded data removed]",
      "text/plain": [
       "<Figure size 432x288 with 1 Axes>"
      ]
     },
     "metadata": {
      "needs_background": "light"
     },
     "output_type": "display_data"
    },
    {
     "data": {
      "image/png": "[encoded data removed]",
      "text/plain": [
       "<Figure size 432x288 with 1 Axes>"
      ]
     },
     "metadata": {
      "needs_background": "light"
     },
     "output_type": "display_data"
    },
    {
     "data": {
      "image/png": "[encoded data removed]",
      "text/plain": [
       "<Figure size 432x288 with 1 Axes>"
      ]
     },
     "metadata": {
      "needs_background": "light"
     },
     "output_type": "display_data"
    },
    {
     "data": {
      "image/png": "[encoded data removed]",
      "text/plain": [
       "<Figure size 432x288 with 1 Axes>"
      ]
     },
     "metadata": {
      "needs_background": "light"
     },
     "output_type": "display_data"
    },
    {
     "data": {
      "image/png": "[encoded data removed]",
      "text/plain": [
       "<Figure size 432x288 with 1 Axes>"
      ]
     },
     "metadata": {
      "needs_background": "light"
     },
     "output_type": "display_data"
    },
    {
     "data": {
      "image/png": "[encoded data removed]",
      "text/plain": [
       "<Figure size 432x288 with 1 Axes>"
      ]
     },
     "metadata": {
      "needs_background": "light"
     },
     "output_type": "display_data"
    },
    {
     "data": {
      "image/png": "[encoded data removed]",
      "text/plain": [
       "<Figure size 432x288 with 1 Axes>"
      ]
     },
     "metadata": {
      "needs_background": "light"
     },
     "output_type": "display_data"
    },
    {
     "data": {
      "image/png": "[encoded data removed]",
      "text/plain": [
       "<Figure size 432x288 with 1 Axes>"
      ]
     },
     "metadata": {
      "needs_background": "light"
     },
     "output_type": "display_data"
    },
    {
     "data": {
      "image/png": "[encoded data removed]",
      "text/plain": [
       "<Figure size 432x288 with 1 Axes>"
      ]
     },
     "metadata": {
      "needs_background": "light"
     },
     "output_type": "display_data"
    },
    {
     "data": {
      "image/png": "[encoded data removed]",
      "text/plain": [
       "<Figure size 432x288 with 1 Axes>"
      ]
     },
     "metadata": {
      "needs_background": "light"
     },
     "output_type": "display_data"
    },
    {
     "data": {
      "image/png": "[encoded data removed]",
      "text/plain": [
       "<Figure size 432x288 with 1 Axes>"
      ]
     },
     "metadata": {
      "needs_background": "light"
     },
     "output_type": "display_data"
    },
    {
     "data": {
      "image/png": "[encoded data removed]",
      "text/plain": [
       "<Figure size 432x288 with 1 Axes>"
      ]
     },
     "metadata": {
      "needs_background": "light"
     },
     "output_type": "display_data"
    },
    {
     "data": {
      "image/png": "[encoded data removed]",
      "text/plain": [
       "<Figure size 432x288 with 1 Axes>"
      ]
     },
     "metadata": {
      "needs_background": "light"
     },
     "output_type": "display_data"
    },
    {
     "data": {
      "image/png": "[encoded data removed]",
      "text/plain": [
       "<Figure size 432x288 with 1 Axes>"
      ]
     },
     "metadata": {
      "needs_background": "light"
     },
     "output_type": "display_data"
    },
    {
     "data": {
      "image/png": "[encoded data removed]",
      "text/plain": [
       "<Figure size 432x288 with 1 Axes>"
      ]
     },
     "metadata": {
      "needs_background": "light"
     },
     "output_type": "display_data"
    },
    {
     "data": {
      "image/png": "[encoded data removed]",
      "text/plain": [
       "<Figure size 432x288 with 1 Axes>"
      ]
     },
     "metadata": {
      "needs_background": "light"
     },
     "output_type": "display_data"
    },
    {
     "data": {
      "image/png": "[encoded data removed]",
      "text/plain": [
       "<Figure size 432x288 with 1 Axes>"
      ]
     },
     "metadata": {
      "needs_background": "light"
     },
     "output_type": "display_data"
    },
    {
     "data": {
      "image/png": "[encoded data removed]",
      "text/plain": [
       "<Figure size 432x288 with 1 Axes>"
      ]
     },
     "metadata": {
      "needs_background": "light"
     },
     "output_type": "display_data"
    },
    {
     "data": {
      "image/png": "[encoded data removed]",
      "text/plain": [
       "<Figure size 432x288 with 1 Axes>"
      ]
     },
     "metadata": {
      "needs_background": "light"
     },
     "output_type": "display_data"
    },
    {
     "data": {
      "image/png": "[encoded data removed]",
      "text/plain": [
       "<Figure size 432x288 with 1 Axes>"
      ]
     },
     "metadata": {
      "needs_background": "light"
     },
     "output_type": "display_data"
    },
    {
     "data": {
      "image/png": "[encoded data removed]",
      "text/plain": [
       "<Figure size 432x288 with 1 Axes>"
      ]
     },
     "metadata": {
      "needs_background": "light"
     },
     "output_type": "display_data"
    },
    {
     "data": {
      "image/png": "[encoded data removed]",
      "text/plain": [
       "<Figure size 432x288 with 1 Axes>"
      ]
     },
     "metadata": {
      "needs_background": "light"
     },
     "output_type": "display_data"
    },
    {
     "data": {
      "image/png": "[encoded data removed]",
      "text/plain": [
       "<Figure size 432x288 with 1 Axes>"
      ]
     },
     "metadata": {
      "needs_background": "light"
     },
     "output_type": "display_data"
    },
    {
     "data": {
      "image/png": "[encoded data removed]",
      "text/plain": [
       "<Figure size 432x288 with 1 Axes>"
      ]
     },
     "metadata": {
      "needs_background": "light"
     },
     "output_type": "display_data"
    },
    {
     "data": {
      "image/png": "[encoded data removed]",
      "text/plain": [
       "<Figure size 432x288 with 1 Axes>"
      ]
     },
     "metadata": {
      "needs_background": "light"
     },
     "output_type": "display_data"
    },
    {
     "data": {
      "image/png": "[encoded data removed]",
      "text/plain": [
       "<Figure size 432x288 with 1 Axes>"
      ]
     },
     "metadata": {
      "needs_background": "light"
     },
     "output_type": "display_data"
    },
    {
     "data": {
      "image/png": "[encoded data removed]",
      "text/plain": [
       "<Figure size 432x288 with 1 Axes>"
      ]
     },
     "metadata": {
      "needs_background": "light"
     },
     "output_type": "display_data"
    },
    {
     "data": {
      "image/png": "[encoded data removed]",
      "text/plain": [
       "<Figure size 432x288 with 1 Axes>"
      ]
     },
     "metadata": {
      "needs_background": "light"
     },
     "output_type": "display_data"
    },
    {
     "data": {
      "image/png": "[encoded data removed]",
      "text/plain": [
       "<Figure size 432x288 with 1 Axes>"
      ]
     },
     "metadata": {
      "needs_background": "light"
     },
     "output_type": "display_data"
    },
    {
     "data": {
      "image/png": "[encoded data removed]",
      "text/plain": [
       "<Figure size 432x288 with 1 Axes>"
      ]
     },
     "metadata": {
      "needs_background": "light"
     },
     "output_type": "display_data"
    },
    {
     "data": {
      "image/png": "[encoded data removed]",
      "text/plain": [
       "<Figure size 432x288 with 1 Axes>"
      ]
     },
     "metadata": {
      "needs_background": "light"
     },
     "output_type": "display_data"
    },
    {
     "data": {
      "image/png": "[encoded data removed]",
      "text/plain": [
       "<Figure size 432x288 with 1 Axes>"
      ]
     },
     "metadata": {
      "needs_background": "light"
     },
     "output_type": "display_data"
    },
    {
     "data": {
      "image/png": "[encoded data removed]",
      "text/plain": [
       "<Figure size 432x288 with 1 Axes>"
      ]
     },
     "metadata": {
      "needs_background": "light"
     },
     "output_type": "display_data"
    },
    {
     "data": {
      "image/png": "[encoded data removed]",
      "text/plain": [
       "<Figure size 432x288 with 1 Axes>"
      ]
     },
     "metadata": {
      "needs_background": "light"
     },
     "output_type": "display_data"
    },
    {
     "data": {
      "image/png": "[encoded data removed]",
      "text/plain": [
       "<Figure size 432x288 with 1 Axes>"
      ]
     },
     "metadata": {
      "needs_background": "light"
     },
     "output_type": "display_data"
    },
    {
     "data": {
      "image/png": "[encoded data removed]",
      "text/plain": [
       "<Figure size 432x288 with 1 Axes>"
      ]
     },
     "metadata": {
      "needs_background": "light"
     },
     "output_type": "display_data"
    },
    {
     "data": {
      "image/png": "[encoded data removed]",
      "text/plain": [
       "<Figure size 432x288 with 1 Axes>"
      ]
     },
     "metadata": {
      "needs_background": "light"
     },
     "output_type": "display_data"
    },
    {
     "data": {
      "image/png": "[encoded data removed]",
      "text/plain": [
       "<Figure size 432x288 with 1 Axes>"
      ]
     },
     "metadata": {
      "needs_background": "light"
     },
     "output_type": "display_data"
    },
    {
     "data": {
      "image/png": "[encoded data removed]",
      "text/plain": [
       "<Figure size 432x288 with 1 Axes>"
      ]
     },
     "metadata": {
      "needs_background": "light"
     },
     "output_type": "display_data"
    },
    {
     "data": {
      "image/png": "[encoded data removed]",
      "text/plain": [
       "<Figure size 432x288 with 1 Axes>"
      ]
     },
     "metadata": {
      "needs_background": "light"
     },
     "output_type": "display_data"
    },
    {
     "data": {
      "image/png": "[encoded data removed]",
      "text/plain": [
       "<Figure size 432x288 with 1 Axes>"
      ]
     },
     "metadata": {
      "needs_background": "light"
     },
     "output_type": "display_data"
    },
    {
     "data": {
      "image/png": "[encoded data removed]",
      "text/plain": [
       "<Figure size 432x288 with 1 Axes>"
      ]
     },
     "metadata": {
      "needs_background": "light"
     },
     "output_type": "display_data"
    },
    {
     "data": {
      "image/png": "[encoded data removed]",
      "text/plain": [
       "<Figure size 432x288 with 1 Axes>"
      ]
     },
     "metadata": {
      "needs_background": "light"
     },
     "output_type": "display_data"
    },
    {
     "data": {
      "image/png": "[encoded data removed]",
      "text/plain": [
       "<Figure size 432x288 with 1 Axes>"
      ]
     },
     "metadata": {
      "needs_background": "light"
     },
     "output_type": "display_data"
    },
    {
     "data": {
      "image/png": "[encoded data removed]",
      "text/plain": [
       "<Figure size 432x288 with 1 Axes>"
      ]
     },
     "metadata": {
      "needs_background": "light"
     },
     "output_type": "display_data"
    },
    {
     "name": "stdout",
     "output_type": "stream",
     "text": [
      "Error in callback <function flush_figures at 0x122f26ee0> (for post_execute):\n"
     ]
    }
   ],
   "source": [
    "window_len = 64 * 60 # fs = 64 and window length in seconds = 60\n",
    "#subwindow_len = 64 * 30 # fs = 64 and sub-window length in seconds = 7\n",
    "subwindow_len = 64 * 7 # müsste es nicht 7 sein, wenn sub-window length 7 ist?\n",
    "window_shift = int(64 * 0.25) # fs = 64 and window shift in seconds = 0.25\n",
    "\n",
    "window = df_new[:window_len]\n",
    "windows = []\n",
    "\n",
    "for i in range(0, window_len, window_shift):\n",
    "    if i+subwindow_len <= window_len:\n",
    "        windows.append(df_new[i:i+subwindow_len])\n",
    "        # print(i,i+subwindow_len)\n",
    "        subwindow = df_new[i:i+subwindow_len]\n",
    "        print(subwindow)\n",
    "\n",
    "        x = subwindow.index\n",
    "        y = np.array(subwindow['BVP'])\n",
    "        plt.plot(x, y)\n",
    "        plt.xlabel('Index')\n",
    "        plt.ylabel('BVP')\n",
    "        # y = scipy.fft(subwindow['BVP'].to_numpy())\n",
    "        # freq = scipy.fftfreq(8, 0.125)\n",
    "        #f_s = 30\n",
    "        f_s = 64\n",
    "        X = scipy.fft.fft(x)\n",
    "        #freqs = scipy.fft.fftfreq(len(x)) * f_s\n",
    "        N = f_s * 7\n",
    "        freqs = scipy.fft.fftfreq(N, 1/f_s)\n",
    "        fig, ax = plt.subplots()\n",
    "\n",
    "        ax.stem(freqs, np.abs(X))\n",
    "        ax.set_xlabel('Frequency in Hertz [Hz]')\n",
    "        ax.set_ylabel('Frequency Domain (Spectrum) Magnitude')\n",
    "        ax.set_xlim(-f_s / 2, f_s / 2)\n",
    "        ax.set_ylim(-5, 110)\n",
    "        # FFT =scipy.fft.fft(y)\n",
    "        # new_N= len(FFT)//2\n",
    "        # f_nat=1\n",
    "        # new_X = np.linspace(10**-12, f_nat/2, new_N, endpoint=True)\n",
    "        # new_Xph=1.0/(new_X)\n",
    "        # FFT_abs=np.abs(FFT)\n",
    "        # plt.plot(new_Xph,2*FFT_abs[0:len(FFT)//2]/len(new_Xph),color='black')\n",
    "        # plt.xlabel('Period ($h$)',fontsize=20)\n",
    "        # plt.ylabel('Amplitude',fontsize=20)\n",
    "        # plt.title('(Fast) Fourier Transform Method Algorithm',fontsize=20)\n",
    "        # plt.grid(True)\n",
    "        # plt.xlim(0,200)"
   ]
  },
  {
   "cell_type": "markdown",
   "metadata": {},
   "source": [
    "### Labels\n",
    "\n",
    "- 0 = not defined / transient\n",
    "- 1 = baseline\n",
    "- 2 = stress\n",
    "- 3 = amusement\n",
    "- 4 = meditaiton\n",
    "- 5/6/7 = should be ignored in this dataset"
   ]
  },
  {
   "cell_type": "code",
   "execution_count": null,
   "metadata": {},
   "outputs": [],
   "source": [
    "# replace all labels \n",
    "df[df['label'] == 1]"
   ]
  },
  {
   "cell_type": "markdown",
   "metadata": {},
   "source": [
    "#### Todos\n",
    "- Upsample Signals to 64 Hz\n",
    "- downsample Labels to 64 Hz (Binning?)"
   ]
  }
 ],
 "metadata": {
  "colab": {
   "collapsed_sections": [],
   "name": "Stress Detection With Wearables: Explorative Analyse.ipynb",
   "provenance": []
  },
  "kernelspec": {
   "display_name": "Python 3.9.13 64-bit",
   "language": "python",
   "name": "python3"
  },
  "language_info": {
   "codemirror_mode": {
    "name": "ipython",
    "version": 3
   },
   "file_extension": ".py",
   "mimetype": "text/x-python",
   "name": "python",
   "nbconvert_exporter": "python",
   "pygments_lexer": "ipython3",
   "version": "3.9.13"
  },
  "vscode": {
   "interpreter": {
    "hash": "aee8b7b246df8f9039afb4144a1f6fd8d2ca17a180786b69acc140d282b71a49"
   }
  }
 },
 "nbformat": 4,
 "nbformat_minor": 4
}
