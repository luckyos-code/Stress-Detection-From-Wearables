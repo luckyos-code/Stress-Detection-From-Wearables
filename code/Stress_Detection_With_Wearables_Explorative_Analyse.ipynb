{
 "cells": [
  {
   "cell_type": "code",
   "execution_count": 1,
   "metadata": {
    "id": "sPj6wrBeejUk"
   },
   "outputs": [],
   "source": [
    "import pickle\n",
    "import os\n",
    "import scipy\n",
    "import pandas as pd\n",
    "import numpy as np\n",
    "import matplotlib.pyplot as plt\n",
    "import neurokit2 as nk"
   ]
  },
  {
   "cell_type": "code",
   "execution_count": 19,
   "metadata": {},
   "outputs": [],
   "source": [
    "DATA_PATH = os.path.realpath(\"../data/WESAD\")"
   ]
  },
  {
   "cell_type": "code",
   "execution_count": 14,
   "metadata": {
    "id": "Xv4nzRc0fGo2"
   },
   "outputs": [],
   "source": [
    "class Subject:\n",
    "\n",
    "    def __init__(self, main_path, subject_number):\n",
    "        self.name = f'S{subject_number}'\n",
    "        self.subject_keys = ['signal', 'label', 'subject']\n",
    "        self.signal_keys = ['chest', 'wrist']\n",
    "        self.chest_keys = ['ACC', 'ECG', 'EMG', 'EDA', 'Temp', 'Resp']\n",
    "        self.wrist_keys = ['ACC', 'BVP', 'EDA', 'TEMP']\n",
    "        with open(os.path.join(main_path, self.name) + '/' + self.name + '.pkl', 'rb') as file:\n",
    "            self.data = pickle.load(file, encoding='latin1')\n",
    "        self.labels = self.data['label']\n",
    "\n",
    "    def get_wrist_data(self):\n",
    "        data = self.data['signal']['wrist']\n",
    "        return data\n",
    "\n",
    "    def get_chest_data(self):\n",
    "        return self.data['signal']['chest']"
   ]
  },
  {
   "cell_type": "code",
   "execution_count": 17,
   "metadata": {
    "id": "G5ApA_aGfJ3j"
   },
   "outputs": [],
   "source": [
    "s10 = Subject(DATA_PATH, '10')"
   ]
  },
  {
   "cell_type": "code",
   "execution_count": 20,
   "metadata": {
    "id": "uY8YBVAQfYR0"
   },
   "outputs": [],
   "source": [
    "s10_wrist_data = s10.get_wrist_data()"
   ]
  },
  {
   "cell_type": "code",
   "execution_count": 21,
   "metadata": {},
   "outputs": [
    {
     "data": {
      "text/plain": [
       "{'ACC': array([[ 107., -105.,  127.],\n",
       "        [  67.,  -52.,   45.],\n",
       "        [  26.,   40.,    0.],\n",
       "        ...,\n",
       "        [  54.,   23.,   24.],\n",
       "        [  54.,   23.,   24.],\n",
       "        [  54.,   23.,   24.]]),\n",
       " 'BVP': array([[10.17],\n",
       "        [12.04],\n",
       "        [13.01],\n",
       "        ...,\n",
       "        [57.59],\n",
       "        [65.93],\n",
       "        [69.86]]),\n",
       " 'EDA': array([[0.349215],\n",
       "        [0.346656],\n",
       "        [0.350494],\n",
       "        ...,\n",
       "        [0.931574],\n",
       "        [0.932854],\n",
       "        [0.932854]]),\n",
       " 'TEMP': array([[33.13],\n",
       "        [33.16],\n",
       "        [33.16],\n",
       "        ...,\n",
       "        [30.83],\n",
       "        [30.83],\n",
       "        [30.83]])}"
      ]
     },
     "execution_count": 21,
     "metadata": {},
     "output_type": "execute_result"
    }
   ],
   "source": [
    "s10_wrist_data"
   ]
  },
  {
   "cell_type": "markdown",
   "metadata": {
    "id": "uvnyLrF7hIgb"
   },
   "source": [
    "# Data Preparation"
   ]
  },
  {
   "cell_type": "code",
   "execution_count": null,
   "metadata": {},
   "outputs": [],
   "source": [
    "# https://github.com/WJMatthew/WESAD/blob/master/data_wrangling.py"
   ]
  },
  {
   "cell_type": "markdown",
   "metadata": {
    "id": "XgVeW7GZiDqc"
   },
   "source": [
    "**Wrist - Empatica E4**\n",
    "\n",
    "ACC: three-axis acceleration (32 Hz)\n",
    "\n",
    "BVP: blood volume pulse (64 Hz)\n",
    "\n",
    "EDA: electrodermal activity (4 Hz)\n",
    "\n",
    "TEMP: skin temperature (4 Hz)"
   ]
  },
  {
   "cell_type": "code",
   "execution_count": 22,
   "metadata": {},
   "outputs": [],
   "source": [
    "bvp_signal = s10_wrist_data['BVP'][:,0]\n",
    "eda_signal = s10_wrist_data['EDA'][:,0]\n",
    "acc_x_signal = s10_wrist_data['ACC'][:,0]\n",
    "acc_y_signal = s10_wrist_data['ACC'][:,1]\n",
    "acc_z_signal = s10_wrist_data['ACC'][:,2]\n",
    "temp_signal = s10_wrist_data['TEMP'][:,0]\n",
    "labels = s10.labels"
   ]
  },
  {
   "cell_type": "code",
   "execution_count": 23,
   "metadata": {},
   "outputs": [
    {
     "data": {
      "text/plain": [
       "array([10.17, 12.04, 13.01, ..., 57.59, 65.93, 69.86])"
      ]
     },
     "execution_count": 23,
     "metadata": {},
     "output_type": "execute_result"
    }
   ],
   "source": [
    "bvp_signal"
   ]
  },
  {
   "cell_type": "code",
   "execution_count": 25,
   "metadata": {
    "id": "PwJei-1rf1sw"
   },
   "outputs": [],
   "source": [
    "# Turn e4-wrist-data into datafames\n",
    "\n",
    "eda_df = pd.DataFrame(s10_wrist_data['EDA'], columns=['EDA'])\n",
    "bvp_df = pd.DataFrame(s10_wrist_data['BVP'], columns=['BVP'])\n",
    "acc_df = pd.DataFrame(s10_wrist_data['ACC'], columns=['ACC_x', 'ACC_y', 'ACC_z'])\n",
    "temp_df = pd.DataFrame(s10_wrist_data['TEMP'], columns=['TEMP'])\n",
    "label_df = pd.DataFrame(s10.labels, columns=['label'])"
   ]
  },
  {
   "cell_type": "code",
   "execution_count": 26,
   "metadata": {
    "colab": {
     "base_uri": "https://localhost:8080/"
    },
    "id": "Z442gSlbiyYQ",
    "outputId": "efcea2e4-8830-47b7-9286-34fe9d036815"
   },
   "outputs": [
    {
     "data": {
      "text/plain": [
       "RangeIndex(start=0, stop=21984, step=1)"
      ]
     },
     "execution_count": 26,
     "metadata": {},
     "output_type": "execute_result"
    }
   ],
   "source": [
    "eda_df.index"
   ]
  },
  {
   "cell_type": "markdown",
   "metadata": {},
   "source": [
    "# Data"
   ]
  },
  {
   "cell_type": "code",
   "execution_count": 26,
   "metadata": {
    "id": "D3AKpwDFmtJG"
   },
   "outputs": [],
   "source": [
    "fs_dict = {'ACC': 32, 'BVP': 64, 'EDA': 4, 'TEMP': 4, 'label': 700}"
   ]
  },
  {
   "cell_type": "code",
   "execution_count": 27,
   "metadata": {
    "id": "do1jXPigmoG4"
   },
   "outputs": [],
   "source": [
    "eda_df.index = [(1 / fs_dict['EDA']) * i for i in range(len(eda_df))]\n",
    "bvp_df.index = [(1 / fs_dict['BVP']) * i for i in range(len(bvp_df))]\n",
    "acc_df.index = [(1 / fs_dict['ACC']) * i for i in range(len(acc_df))]\n",
    "temp_df.index = [(1 / fs_dict['TEMP']) * i for i in range(len(temp_df))]\n",
    "label_df.index = [(1 / fs_dict['label']) * i for i in range(len(label_df))]"
   ]
  },
  {
   "cell_type": "code",
   "execution_count": 28,
   "metadata": {
    "id": "-VrWmng1nRmo"
   },
   "outputs": [],
   "source": [
    "eda_df.index = pd.to_datetime(eda_df.index, unit='s')\n",
    "bvp_df.index = pd.to_datetime(bvp_df.index, unit='s')\n",
    "temp_df.index = pd.to_datetime(temp_df.index, unit='s')\n",
    "acc_df.index = pd.to_datetime(acc_df.index, unit='s')\n",
    "label_df.index = pd.to_datetime(label_df.index, unit='s')"
   ]
  },
  {
   "cell_type": "code",
   "execution_count": 29,
   "metadata": {},
   "outputs": [
    {
     "data": {
      "text/html": [
       "<div>\n",
       "<style scoped>\n",
       "    .dataframe tbody tr th:only-of-type {\n",
       "        vertical-align: middle;\n",
       "    }\n",
       "\n",
       "    .dataframe tbody tr th {\n",
       "        vertical-align: top;\n",
       "    }\n",
       "\n",
       "    .dataframe thead th {\n",
       "        text-align: right;\n",
       "    }\n",
       "</style>\n",
       "<table border=\"1\" class=\"dataframe\">\n",
       "  <thead>\n",
       "    <tr style=\"text-align: right;\">\n",
       "      <th></th>\n",
       "      <th>EDA</th>\n",
       "    </tr>\n",
       "  </thead>\n",
       "  <tbody>\n",
       "    <tr>\n",
       "      <th>1970-01-01 00:00:00.000</th>\n",
       "      <td>0.349215</td>\n",
       "    </tr>\n",
       "    <tr>\n",
       "      <th>1970-01-01 00:00:00.250</th>\n",
       "      <td>0.346656</td>\n",
       "    </tr>\n",
       "    <tr>\n",
       "      <th>1970-01-01 00:00:00.500</th>\n",
       "      <td>0.350494</td>\n",
       "    </tr>\n",
       "    <tr>\n",
       "      <th>1970-01-01 00:00:00.750</th>\n",
       "      <td>0.336423</td>\n",
       "    </tr>\n",
       "    <tr>\n",
       "      <th>1970-01-01 00:00:01.000</th>\n",
       "      <td>0.338981</td>\n",
       "    </tr>\n",
       "    <tr>\n",
       "      <th>...</th>\n",
       "      <td>...</td>\n",
       "    </tr>\n",
       "    <tr>\n",
       "      <th>1970-01-01 01:31:34.750</th>\n",
       "      <td>0.941808</td>\n",
       "    </tr>\n",
       "    <tr>\n",
       "      <th>1970-01-01 01:31:35.000</th>\n",
       "      <td>0.940529</td>\n",
       "    </tr>\n",
       "    <tr>\n",
       "      <th>1970-01-01 01:31:35.250</th>\n",
       "      <td>0.931574</td>\n",
       "    </tr>\n",
       "    <tr>\n",
       "      <th>1970-01-01 01:31:35.500</th>\n",
       "      <td>0.932854</td>\n",
       "    </tr>\n",
       "    <tr>\n",
       "      <th>1970-01-01 01:31:35.750</th>\n",
       "      <td>0.932854</td>\n",
       "    </tr>\n",
       "  </tbody>\n",
       "</table>\n",
       "<p>21984 rows × 1 columns</p>\n",
       "</div>"
      ],
      "text/plain": [
       "                              EDA\n",
       "1970-01-01 00:00:00.000  0.349215\n",
       "1970-01-01 00:00:00.250  0.346656\n",
       "1970-01-01 00:00:00.500  0.350494\n",
       "1970-01-01 00:00:00.750  0.336423\n",
       "1970-01-01 00:00:01.000  0.338981\n",
       "...                           ...\n",
       "1970-01-01 01:31:34.750  0.941808\n",
       "1970-01-01 01:31:35.000  0.940529\n",
       "1970-01-01 01:31:35.250  0.931574\n",
       "1970-01-01 01:31:35.500  0.932854\n",
       "1970-01-01 01:31:35.750  0.932854\n",
       "\n",
       "[21984 rows x 1 columns]"
      ]
     },
     "execution_count": 29,
     "metadata": {},
     "output_type": "execute_result"
    }
   ],
   "source": [
    "eda_df"
   ]
  },
  {
   "cell_type": "code",
   "execution_count": 27,
   "metadata": {},
   "outputs": [
    {
     "data": {
      "text/plain": [
       "351744"
      ]
     },
     "execution_count": 27,
     "metadata": {},
     "output_type": "execute_result"
    }
   ],
   "source": [
    "len(bvp_df)"
   ]
  },
  {
   "cell_type": "code",
   "execution_count": 31,
   "metadata": {
    "id": "enZ5lmd3nfFA"
   },
   "outputs": [],
   "source": [
    "# Combined dataframe - not used yet\n",
    "df = eda_df.join(bvp_df, how='outer')\n",
    "df = df.join(temp_df, how='outer')\n",
    "df = df.join(acc_df, how='outer')\n",
    "df = df.join(label_df, how='outer')\n",
    "df['label'] = df['label'].fillna(method='bfill')\n",
    "df.reset_index(drop=True, inplace=True)"
   ]
  },
  {
   "cell_type": "markdown",
   "metadata": {},
   "source": [
    "df_test = pd.DataFrame()\n",
    "df_test = bvp_df.join(label_df, how='inner')"
   ]
  },
  {
   "cell_type": "code",
   "execution_count": 32,
   "metadata": {},
   "outputs": [],
   "source": [
    "# Combined dataframe - not used yet\n",
    "df_test = pd.DataFrame()\n",
    "df_test = bvp_df.join(label_df, how='inner')\n",
    "df_test = df_test.join(eda_df, how='outer')\n",
    "df_test = df_test.join(acc_df, how='outer')\n",
    "# df_test = df_test.join(label_df, how='inner')\n",
    "#df_test['label'] = df_test['label'].fillna(method='bfill')\n",
    "#df_test.reset_index(drop=True, inplace=True)"
   ]
  },
  {
   "cell_type": "code",
   "execution_count": 33,
   "metadata": {},
   "outputs": [],
   "source": [
    "df_test = pd.DataFrame()\n",
    "df_test = bvp_df.join(label_df, how='left')\n",
    "#df_test = df_test.join(eda_df, how='inner')"
   ]
  },
  {
   "cell_type": "code",
   "execution_count": 178,
   "metadata": {},
   "outputs": [
    {
     "data": {
      "text/html": [
       "<div>\n",
       "<style scoped>\n",
       "    .dataframe tbody tr th:only-of-type {\n",
       "        vertical-align: middle;\n",
       "    }\n",
       "\n",
       "    .dataframe tbody tr th {\n",
       "        vertical-align: top;\n",
       "    }\n",
       "\n",
       "    .dataframe thead th {\n",
       "        text-align: right;\n",
       "    }\n",
       "</style>\n",
       "<table border=\"1\" class=\"dataframe\">\n",
       "  <thead>\n",
       "    <tr style=\"text-align: right;\">\n",
       "      <th></th>\n",
       "      <th>label</th>\n",
       "    </tr>\n",
       "  </thead>\n",
       "  <tbody>\n",
       "    <tr>\n",
       "      <th>1970-01-01 00:00:00.000000000</th>\n",
       "      <td>0</td>\n",
       "    </tr>\n",
       "    <tr>\n",
       "      <th>1970-01-01 00:00:00.001428571</th>\n",
       "      <td>0</td>\n",
       "    </tr>\n",
       "    <tr>\n",
       "      <th>1970-01-01 00:00:00.002857142</th>\n",
       "      <td>0</td>\n",
       "    </tr>\n",
       "    <tr>\n",
       "      <th>1970-01-01 00:00:00.004285714</th>\n",
       "      <td>0</td>\n",
       "    </tr>\n",
       "    <tr>\n",
       "      <th>1970-01-01 00:00:00.005714285</th>\n",
       "      <td>0</td>\n",
       "    </tr>\n",
       "    <tr>\n",
       "      <th>...</th>\n",
       "      <td>...</td>\n",
       "    </tr>\n",
       "    <tr>\n",
       "      <th>1970-01-01 01:31:35.992857142</th>\n",
       "      <td>0</td>\n",
       "    </tr>\n",
       "    <tr>\n",
       "      <th>1970-01-01 01:31:35.994285714</th>\n",
       "      <td>0</td>\n",
       "    </tr>\n",
       "    <tr>\n",
       "      <th>1970-01-01 01:31:35.995714285</th>\n",
       "      <td>0</td>\n",
       "    </tr>\n",
       "    <tr>\n",
       "      <th>1970-01-01 01:31:35.997142857</th>\n",
       "      <td>0</td>\n",
       "    </tr>\n",
       "    <tr>\n",
       "      <th>1970-01-01 01:31:35.998571428</th>\n",
       "      <td>0</td>\n",
       "    </tr>\n",
       "  </tbody>\n",
       "</table>\n",
       "<p>3847200 rows × 1 columns</p>\n",
       "</div>"
      ],
      "text/plain": [
       "                               label\n",
       "1970-01-01 00:00:00.000000000      0\n",
       "1970-01-01 00:00:00.001428571      0\n",
       "1970-01-01 00:00:00.002857142      0\n",
       "1970-01-01 00:00:00.004285714      0\n",
       "1970-01-01 00:00:00.005714285      0\n",
       "...                              ...\n",
       "1970-01-01 01:31:35.992857142      0\n",
       "1970-01-01 01:31:35.994285714      0\n",
       "1970-01-01 01:31:35.995714285      0\n",
       "1970-01-01 01:31:35.997142857      0\n",
       "1970-01-01 01:31:35.998571428      0\n",
       "\n",
       "[3847200 rows x 1 columns]"
      ]
     },
     "execution_count": 178,
     "metadata": {},
     "output_type": "execute_result"
    }
   ],
   "source": [
    "label_df"
   ]
  },
  {
   "cell_type": "code",
   "execution_count": 34,
   "metadata": {
    "colab": {
     "base_uri": "https://localhost:8080/"
    },
    "id": "rIQT07QznHjD",
    "outputId": "c7921584-d5b3-4420-83f6-7730f6d8bc67"
   },
   "outputs": [
    {
     "data": {
      "text/plain": [
       "896800"
      ]
     },
     "execution_count": 34,
     "metadata": {},
     "output_type": "execute_result"
    }
   ],
   "source": [
    "len(df[df['label'] == 1])"
   ]
  },
  {
   "cell_type": "code",
   "execution_count": 35,
   "metadata": {},
   "outputs": [
    {
     "data": {
      "text/html": [
       "<div>\n",
       "<style scoped>\n",
       "    .dataframe tbody tr th:only-of-type {\n",
       "        vertical-align: middle;\n",
       "    }\n",
       "\n",
       "    .dataframe tbody tr th {\n",
       "        vertical-align: top;\n",
       "    }\n",
       "\n",
       "    .dataframe thead th {\n",
       "        text-align: right;\n",
       "    }\n",
       "</style>\n",
       "<table border=\"1\" class=\"dataframe\">\n",
       "  <thead>\n",
       "    <tr style=\"text-align: right;\">\n",
       "      <th></th>\n",
       "      <th>EDA</th>\n",
       "      <th>BVP</th>\n",
       "      <th>TEMP</th>\n",
       "      <th>ACC_x</th>\n",
       "      <th>ACC_y</th>\n",
       "      <th>ACC_z</th>\n",
       "      <th>label</th>\n",
       "    </tr>\n",
       "  </thead>\n",
       "  <tbody>\n",
       "    <tr>\n",
       "      <th>0</th>\n",
       "      <td>0.349215</td>\n",
       "      <td>10.17</td>\n",
       "      <td>33.13</td>\n",
       "      <td>107.0</td>\n",
       "      <td>-105.0</td>\n",
       "      <td>127.0</td>\n",
       "      <td>0.0</td>\n",
       "    </tr>\n",
       "    <tr>\n",
       "      <th>1</th>\n",
       "      <td>NaN</td>\n",
       "      <td>NaN</td>\n",
       "      <td>NaN</td>\n",
       "      <td>NaN</td>\n",
       "      <td>NaN</td>\n",
       "      <td>NaN</td>\n",
       "      <td>0.0</td>\n",
       "    </tr>\n",
       "    <tr>\n",
       "      <th>2</th>\n",
       "      <td>NaN</td>\n",
       "      <td>NaN</td>\n",
       "      <td>NaN</td>\n",
       "      <td>NaN</td>\n",
       "      <td>NaN</td>\n",
       "      <td>NaN</td>\n",
       "      <td>0.0</td>\n",
       "    </tr>\n",
       "    <tr>\n",
       "      <th>3</th>\n",
       "      <td>NaN</td>\n",
       "      <td>NaN</td>\n",
       "      <td>NaN</td>\n",
       "      <td>NaN</td>\n",
       "      <td>NaN</td>\n",
       "      <td>NaN</td>\n",
       "      <td>0.0</td>\n",
       "    </tr>\n",
       "    <tr>\n",
       "      <th>4</th>\n",
       "      <td>NaN</td>\n",
       "      <td>NaN</td>\n",
       "      <td>NaN</td>\n",
       "      <td>NaN</td>\n",
       "      <td>NaN</td>\n",
       "      <td>NaN</td>\n",
       "      <td>0.0</td>\n",
       "    </tr>\n",
       "    <tr>\n",
       "      <th>...</th>\n",
       "      <td>...</td>\n",
       "      <td>...</td>\n",
       "      <td>...</td>\n",
       "      <td>...</td>\n",
       "      <td>...</td>\n",
       "      <td>...</td>\n",
       "      <td>...</td>\n",
       "    </tr>\n",
       "    <tr>\n",
       "      <th>171</th>\n",
       "      <td>NaN</td>\n",
       "      <td>NaN</td>\n",
       "      <td>NaN</td>\n",
       "      <td>NaN</td>\n",
       "      <td>NaN</td>\n",
       "      <td>NaN</td>\n",
       "      <td>0.0</td>\n",
       "    </tr>\n",
       "    <tr>\n",
       "      <th>172</th>\n",
       "      <td>NaN</td>\n",
       "      <td>NaN</td>\n",
       "      <td>NaN</td>\n",
       "      <td>NaN</td>\n",
       "      <td>NaN</td>\n",
       "      <td>NaN</td>\n",
       "      <td>0.0</td>\n",
       "    </tr>\n",
       "    <tr>\n",
       "      <th>173</th>\n",
       "      <td>NaN</td>\n",
       "      <td>NaN</td>\n",
       "      <td>NaN</td>\n",
       "      <td>NaN</td>\n",
       "      <td>NaN</td>\n",
       "      <td>NaN</td>\n",
       "      <td>0.0</td>\n",
       "    </tr>\n",
       "    <tr>\n",
       "      <th>174</th>\n",
       "      <td>NaN</td>\n",
       "      <td>NaN</td>\n",
       "      <td>NaN</td>\n",
       "      <td>NaN</td>\n",
       "      <td>NaN</td>\n",
       "      <td>NaN</td>\n",
       "      <td>0.0</td>\n",
       "    </tr>\n",
       "    <tr>\n",
       "      <th>175</th>\n",
       "      <td>NaN</td>\n",
       "      <td>NaN</td>\n",
       "      <td>NaN</td>\n",
       "      <td>NaN</td>\n",
       "      <td>NaN</td>\n",
       "      <td>NaN</td>\n",
       "      <td>0.0</td>\n",
       "    </tr>\n",
       "  </tbody>\n",
       "</table>\n",
       "<p>176 rows × 7 columns</p>\n",
       "</div>"
      ],
      "text/plain": [
       "          EDA    BVP   TEMP  ACC_x  ACC_y  ACC_z  label\n",
       "0    0.349215  10.17  33.13  107.0 -105.0  127.0    0.0\n",
       "1         NaN    NaN    NaN    NaN    NaN    NaN    0.0\n",
       "2         NaN    NaN    NaN    NaN    NaN    NaN    0.0\n",
       "3         NaN    NaN    NaN    NaN    NaN    NaN    0.0\n",
       "4         NaN    NaN    NaN    NaN    NaN    NaN    0.0\n",
       "..        ...    ...    ...    ...    ...    ...    ...\n",
       "171       NaN    NaN    NaN    NaN    NaN    NaN    0.0\n",
       "172       NaN    NaN    NaN    NaN    NaN    NaN    0.0\n",
       "173       NaN    NaN    NaN    NaN    NaN    NaN    0.0\n",
       "174       NaN    NaN    NaN    NaN    NaN    NaN    0.0\n",
       "175       NaN    NaN    NaN    NaN    NaN    NaN    0.0\n",
       "\n",
       "[176 rows x 7 columns]"
      ]
     },
     "execution_count": 35,
     "metadata": {},
     "output_type": "execute_result"
    }
   ],
   "source": [
    "df[0:176]"
   ]
  },
  {
   "cell_type": "code",
   "execution_count": 36,
   "metadata": {},
   "outputs": [
    {
     "data": {
      "text/plain": [
       "0         10.17\n",
       "1           NaN\n",
       "2           NaN\n",
       "3           NaN\n",
       "4           NaN\n",
       "          ...  \n",
       "351741      NaN\n",
       "351742      NaN\n",
       "351743      NaN\n",
       "351744      NaN\n",
       "351745      NaN\n",
       "Name: BVP, Length: 351746, dtype: float64"
      ]
     },
     "execution_count": 36,
     "metadata": {},
     "output_type": "execute_result"
    }
   ],
   "source": [
    "df.BVP[:351746]"
   ]
  },
  {
   "cell_type": "code",
   "execution_count": 37,
   "metadata": {},
   "outputs": [
    {
     "data": {
      "text/plain": [
       "99.45142857142856"
      ]
     },
     "execution_count": 37,
     "metadata": {},
     "output_type": "execute_result"
    }
   ],
   "source": [
    "len(df.BVP)/700/60"
   ]
  },
  {
   "cell_type": "markdown",
   "metadata": {},
   "source": [
    "# Playground"
   ]
  },
  {
   "cell_type": "code",
   "execution_count": 38,
   "metadata": {},
   "outputs": [
    {
     "ename": "FileNotFoundError",
     "evalue": "[Errno 2] No such file or directory: '/Users/nils/master/Stress-Detection-From-Wearables/data/WESAD/S10/S10_E4_Data/BVP.csv'",
     "output_type": "error",
     "traceback": [
      "\u001b[0;31m---------------------------------------------------------------------------\u001b[0m",
      "\u001b[0;31mFileNotFoundError\u001b[0m                         Traceback (most recent call last)",
      "\u001b[1;32m/Users/piasuelzle/Desktop/Uni/SS2022/BigDataPrak/Stress-Detection-From-Wearables/code/Stress_Detection_With_Wearables_Explorative_Analyse.ipynb Cell 31'\u001b[0m in \u001b[0;36m<cell line: 1>\u001b[0;34m()\u001b[0m\n\u001b[0;32m----> <a href='vscode-notebook-cell:/Users/piasuelzle/Desktop/Uni/SS2022/BigDataPrak/Stress-Detection-From-Wearables/code/Stress_Detection_With_Wearables_Explorative_Analyse.ipynb#ch0000030?line=0'>1</a>\u001b[0m csv \u001b[39m=\u001b[39m pd\u001b[39m.\u001b[39;49mread_csv(\u001b[39m\"\u001b[39;49m\u001b[39m/Users/nils/master/Stress-Detection-From-Wearables/data/WESAD/S10/S10_E4_Data/BVP.csv\u001b[39;49m\u001b[39m\"\u001b[39;49m)\n",
      "File \u001b[0;32m/usr/local/lib/python3.9/site-packages/pandas/util/_decorators.py:311\u001b[0m, in \u001b[0;36mdeprecate_nonkeyword_arguments.<locals>.decorate.<locals>.wrapper\u001b[0;34m(*args, **kwargs)\u001b[0m\n\u001b[1;32m    305\u001b[0m \u001b[39mif\u001b[39;00m \u001b[39mlen\u001b[39m(args) \u001b[39m>\u001b[39m num_allow_args:\n\u001b[1;32m    306\u001b[0m     warnings\u001b[39m.\u001b[39mwarn(\n\u001b[1;32m    307\u001b[0m         msg\u001b[39m.\u001b[39mformat(arguments\u001b[39m=\u001b[39marguments),\n\u001b[1;32m    308\u001b[0m         \u001b[39mFutureWarning\u001b[39;00m,\n\u001b[1;32m    309\u001b[0m         stacklevel\u001b[39m=\u001b[39mstacklevel,\n\u001b[1;32m    310\u001b[0m     )\n\u001b[0;32m--> 311\u001b[0m \u001b[39mreturn\u001b[39;00m func(\u001b[39m*\u001b[39;49margs, \u001b[39m*\u001b[39;49m\u001b[39m*\u001b[39;49mkwargs)\n",
      "File \u001b[0;32m/usr/local/lib/python3.9/site-packages/pandas/io/parsers/readers.py:680\u001b[0m, in \u001b[0;36mread_csv\u001b[0;34m(filepath_or_buffer, sep, delimiter, header, names, index_col, usecols, squeeze, prefix, mangle_dupe_cols, dtype, engine, converters, true_values, false_values, skipinitialspace, skiprows, skipfooter, nrows, na_values, keep_default_na, na_filter, verbose, skip_blank_lines, parse_dates, infer_datetime_format, keep_date_col, date_parser, dayfirst, cache_dates, iterator, chunksize, compression, thousands, decimal, lineterminator, quotechar, quoting, doublequote, escapechar, comment, encoding, encoding_errors, dialect, error_bad_lines, warn_bad_lines, on_bad_lines, delim_whitespace, low_memory, memory_map, float_precision, storage_options)\u001b[0m\n\u001b[1;32m    665\u001b[0m kwds_defaults \u001b[39m=\u001b[39m _refine_defaults_read(\n\u001b[1;32m    666\u001b[0m     dialect,\n\u001b[1;32m    667\u001b[0m     delimiter,\n\u001b[0;32m   (...)\u001b[0m\n\u001b[1;32m    676\u001b[0m     defaults\u001b[39m=\u001b[39m{\u001b[39m\"\u001b[39m\u001b[39mdelimiter\u001b[39m\u001b[39m\"\u001b[39m: \u001b[39m\"\u001b[39m\u001b[39m,\u001b[39m\u001b[39m\"\u001b[39m},\n\u001b[1;32m    677\u001b[0m )\n\u001b[1;32m    678\u001b[0m kwds\u001b[39m.\u001b[39mupdate(kwds_defaults)\n\u001b[0;32m--> 680\u001b[0m \u001b[39mreturn\u001b[39;00m _read(filepath_or_buffer, kwds)\n",
      "File \u001b[0;32m/usr/local/lib/python3.9/site-packages/pandas/io/parsers/readers.py:575\u001b[0m, in \u001b[0;36m_read\u001b[0;34m(filepath_or_buffer, kwds)\u001b[0m\n\u001b[1;32m    572\u001b[0m _validate_names(kwds\u001b[39m.\u001b[39mget(\u001b[39m\"\u001b[39m\u001b[39mnames\u001b[39m\u001b[39m\"\u001b[39m, \u001b[39mNone\u001b[39;00m))\n\u001b[1;32m    574\u001b[0m \u001b[39m# Create the parser.\u001b[39;00m\n\u001b[0;32m--> 575\u001b[0m parser \u001b[39m=\u001b[39m TextFileReader(filepath_or_buffer, \u001b[39m*\u001b[39;49m\u001b[39m*\u001b[39;49mkwds)\n\u001b[1;32m    577\u001b[0m \u001b[39mif\u001b[39;00m chunksize \u001b[39mor\u001b[39;00m iterator:\n\u001b[1;32m    578\u001b[0m     \u001b[39mreturn\u001b[39;00m parser\n",
      "File \u001b[0;32m/usr/local/lib/python3.9/site-packages/pandas/io/parsers/readers.py:933\u001b[0m, in \u001b[0;36mTextFileReader.__init__\u001b[0;34m(self, f, engine, **kwds)\u001b[0m\n\u001b[1;32m    930\u001b[0m     \u001b[39mself\u001b[39m\u001b[39m.\u001b[39moptions[\u001b[39m\"\u001b[39m\u001b[39mhas_index_names\u001b[39m\u001b[39m\"\u001b[39m] \u001b[39m=\u001b[39m kwds[\u001b[39m\"\u001b[39m\u001b[39mhas_index_names\u001b[39m\u001b[39m\"\u001b[39m]\n\u001b[1;32m    932\u001b[0m \u001b[39mself\u001b[39m\u001b[39m.\u001b[39mhandles: IOHandles \u001b[39m|\u001b[39m \u001b[39mNone\u001b[39;00m \u001b[39m=\u001b[39m \u001b[39mNone\u001b[39;00m\n\u001b[0;32m--> 933\u001b[0m \u001b[39mself\u001b[39m\u001b[39m.\u001b[39m_engine \u001b[39m=\u001b[39m \u001b[39mself\u001b[39;49m\u001b[39m.\u001b[39;49m_make_engine(f, \u001b[39mself\u001b[39;49m\u001b[39m.\u001b[39;49mengine)\n",
      "File \u001b[0;32m/usr/local/lib/python3.9/site-packages/pandas/io/parsers/readers.py:1217\u001b[0m, in \u001b[0;36mTextFileReader._make_engine\u001b[0;34m(self, f, engine)\u001b[0m\n\u001b[1;32m   1213\u001b[0m     mode \u001b[39m=\u001b[39m \u001b[39m\"\u001b[39m\u001b[39mrb\u001b[39m\u001b[39m\"\u001b[39m\n\u001b[1;32m   1214\u001b[0m \u001b[39m# error: No overload variant of \"get_handle\" matches argument types\u001b[39;00m\n\u001b[1;32m   1215\u001b[0m \u001b[39m# \"Union[str, PathLike[str], ReadCsvBuffer[bytes], ReadCsvBuffer[str]]\"\u001b[39;00m\n\u001b[1;32m   1216\u001b[0m \u001b[39m# , \"str\", \"bool\", \"Any\", \"Any\", \"Any\", \"Any\", \"Any\"\u001b[39;00m\n\u001b[0;32m-> 1217\u001b[0m \u001b[39mself\u001b[39m\u001b[39m.\u001b[39mhandles \u001b[39m=\u001b[39m get_handle(  \u001b[39m# type: ignore[call-overload]\u001b[39;49;00m\n\u001b[1;32m   1218\u001b[0m     f,\n\u001b[1;32m   1219\u001b[0m     mode,\n\u001b[1;32m   1220\u001b[0m     encoding\u001b[39m=\u001b[39;49m\u001b[39mself\u001b[39;49m\u001b[39m.\u001b[39;49moptions\u001b[39m.\u001b[39;49mget(\u001b[39m\"\u001b[39;49m\u001b[39mencoding\u001b[39;49m\u001b[39m\"\u001b[39;49m, \u001b[39mNone\u001b[39;49;00m),\n\u001b[1;32m   1221\u001b[0m     compression\u001b[39m=\u001b[39;49m\u001b[39mself\u001b[39;49m\u001b[39m.\u001b[39;49moptions\u001b[39m.\u001b[39;49mget(\u001b[39m\"\u001b[39;49m\u001b[39mcompression\u001b[39;49m\u001b[39m\"\u001b[39;49m, \u001b[39mNone\u001b[39;49;00m),\n\u001b[1;32m   1222\u001b[0m     memory_map\u001b[39m=\u001b[39;49m\u001b[39mself\u001b[39;49m\u001b[39m.\u001b[39;49moptions\u001b[39m.\u001b[39;49mget(\u001b[39m\"\u001b[39;49m\u001b[39mmemory_map\u001b[39;49m\u001b[39m\"\u001b[39;49m, \u001b[39mFalse\u001b[39;49;00m),\n\u001b[1;32m   1223\u001b[0m     is_text\u001b[39m=\u001b[39;49mis_text,\n\u001b[1;32m   1224\u001b[0m     errors\u001b[39m=\u001b[39;49m\u001b[39mself\u001b[39;49m\u001b[39m.\u001b[39;49moptions\u001b[39m.\u001b[39;49mget(\u001b[39m\"\u001b[39;49m\u001b[39mencoding_errors\u001b[39;49m\u001b[39m\"\u001b[39;49m, \u001b[39m\"\u001b[39;49m\u001b[39mstrict\u001b[39;49m\u001b[39m\"\u001b[39;49m),\n\u001b[1;32m   1225\u001b[0m     storage_options\u001b[39m=\u001b[39;49m\u001b[39mself\u001b[39;49m\u001b[39m.\u001b[39;49moptions\u001b[39m.\u001b[39;49mget(\u001b[39m\"\u001b[39;49m\u001b[39mstorage_options\u001b[39;49m\u001b[39m\"\u001b[39;49m, \u001b[39mNone\u001b[39;49;00m),\n\u001b[1;32m   1226\u001b[0m )\n\u001b[1;32m   1227\u001b[0m \u001b[39massert\u001b[39;00m \u001b[39mself\u001b[39m\u001b[39m.\u001b[39mhandles \u001b[39mis\u001b[39;00m \u001b[39mnot\u001b[39;00m \u001b[39mNone\u001b[39;00m\n\u001b[1;32m   1228\u001b[0m f \u001b[39m=\u001b[39m \u001b[39mself\u001b[39m\u001b[39m.\u001b[39mhandles\u001b[39m.\u001b[39mhandle\n",
      "File \u001b[0;32m/usr/local/lib/python3.9/site-packages/pandas/io/common.py:789\u001b[0m, in \u001b[0;36mget_handle\u001b[0;34m(path_or_buf, mode, encoding, compression, memory_map, is_text, errors, storage_options)\u001b[0m\n\u001b[1;32m    784\u001b[0m \u001b[39melif\u001b[39;00m \u001b[39misinstance\u001b[39m(handle, \u001b[39mstr\u001b[39m):\n\u001b[1;32m    785\u001b[0m     \u001b[39m# Check whether the filename is to be opened in binary mode.\u001b[39;00m\n\u001b[1;32m    786\u001b[0m     \u001b[39m# Binary mode does not support 'encoding' and 'newline'.\u001b[39;00m\n\u001b[1;32m    787\u001b[0m     \u001b[39mif\u001b[39;00m ioargs\u001b[39m.\u001b[39mencoding \u001b[39mand\u001b[39;00m \u001b[39m\"\u001b[39m\u001b[39mb\u001b[39m\u001b[39m\"\u001b[39m \u001b[39mnot\u001b[39;00m \u001b[39min\u001b[39;00m ioargs\u001b[39m.\u001b[39mmode:\n\u001b[1;32m    788\u001b[0m         \u001b[39m# Encoding\u001b[39;00m\n\u001b[0;32m--> 789\u001b[0m         handle \u001b[39m=\u001b[39m \u001b[39mopen\u001b[39;49m(\n\u001b[1;32m    790\u001b[0m             handle,\n\u001b[1;32m    791\u001b[0m             ioargs\u001b[39m.\u001b[39;49mmode,\n\u001b[1;32m    792\u001b[0m             encoding\u001b[39m=\u001b[39;49mioargs\u001b[39m.\u001b[39;49mencoding,\n\u001b[1;32m    793\u001b[0m             errors\u001b[39m=\u001b[39;49merrors,\n\u001b[1;32m    794\u001b[0m             newline\u001b[39m=\u001b[39;49m\u001b[39m\"\u001b[39;49m\u001b[39m\"\u001b[39;49m,\n\u001b[1;32m    795\u001b[0m         )\n\u001b[1;32m    796\u001b[0m     \u001b[39melse\u001b[39;00m:\n\u001b[1;32m    797\u001b[0m         \u001b[39m# Binary mode\u001b[39;00m\n\u001b[1;32m    798\u001b[0m         handle \u001b[39m=\u001b[39m \u001b[39mopen\u001b[39m(handle, ioargs\u001b[39m.\u001b[39mmode)\n",
      "\u001b[0;31mFileNotFoundError\u001b[0m: [Errno 2] No such file or directory: '/Users/nils/master/Stress-Detection-From-Wearables/data/WESAD/S10/S10_E4_Data/BVP.csv'"
     ]
    }
   ],
   "source": [
    "csv = pd.read_csv(\"/Users/nils/master/Stress-Detection-From-Wearables/data/WESAD/S10/S10_E4_Data/BVP.csv\")"
   ]
  },
  {
   "cell_type": "code",
   "execution_count": 39,
   "metadata": {},
   "outputs": [
    {
     "data": {
      "text/plain": [
       "Text(0, 0.5, 'BVP')"
      ]
     },
     "execution_count": 39,
     "metadata": {},
     "output_type": "execute_result"
    },
    {
     "data": {
      "image/png": "[encoded data removed]",
      "text/plain": [
       "<Figure size 432x288 with 1 Axes>"
      ]
     },
     "metadata": {
      "needs_background": "light"
     },
     "output_type": "display_data"
    }
   ],
   "source": [
    "x = bvp_df.index\n",
    "y = np.array(bvp_df['BVP'])\n",
    "plt.plot(x, y)\n",
    "plt.xlabel('Index')\n",
    "plt.ylabel('BVP')"
   ]
  },
  {
   "cell_type": "code",
   "execution_count": 40,
   "metadata": {},
   "outputs": [],
   "source": [
    "y_detrend = scipy.signal.detrend(y)"
   ]
  },
  {
   "cell_type": "code",
   "execution_count": 41,
   "metadata": {},
   "outputs": [
    {
     "name": "stdout",
     "output_type": "stream",
     "text": [
      "[10.17 12.04 13.01 ... 57.59 65.93 69.86]\n",
      "[10.16143209 12.03143214 13.00143219 ... 57.59766437 65.93766442\n",
      " 69.86766447]\n"
     ]
    }
   ],
   "source": [
    "print(y)\n",
    "print(y_detrend)"
   ]
  },
  {
   "cell_type": "code",
   "execution_count": 42,
   "metadata": {},
   "outputs": [
    {
     "data": {
      "text/plain": [
       "(0.0, 200.0)"
      ]
     },
     "execution_count": 42,
     "metadata": {},
     "output_type": "execute_result"
    },
    {
     "data": {
      "image/png": "[encoded data removed]",
      "text/plain": [
       "<Figure size 432x288 with 1 Axes>"
      ]
     },
     "metadata": {
      "needs_background": "light"
     },
     "output_type": "display_data"
    }
   ],
   "source": [
    "FFT =np.fft.fft(y)\n",
    "new_N=int(len(FFT)/2) \n",
    "f_nat=1\n",
    "new_X = np.linspace(10**-12, f_nat/2, new_N, endpoint=True)\n",
    "new_Xph=1.0/(new_X)\n",
    "FFT_abs=np.abs(FFT)\n",
    "plt.plot(new_Xph,2*FFT_abs[0:int(len(FFT)/2.)]/len(new_Xph),color='black')\n",
    "plt.xlabel('Period ($h$)',fontsize=20)\n",
    "plt.ylabel('Amplitude',fontsize=20)\n",
    "plt.title('(Fast) Fourier Transform Method Algorithm',fontsize=20)\n",
    "plt.grid(True)\n",
    "plt.xlim(0,200)"
   ]
  },
  {
   "cell_type": "markdown",
   "metadata": {},
   "source": [
    "# Upsampling and matching signals"
   ]
  },
  {
   "cell_type": "code",
   "execution_count": 28,
   "metadata": {},
   "outputs": [],
   "source": [
    "# Upsampling data to match BVP data sampling rate using fourier method as described in Paper/dataset\n",
    "eda_upsampled = scipy.signal.resample(eda_signal, len(bvp_signal))\n",
    "temp_upsampled = scipy.signal.resample(temp_signal, len(bvp_signal))\n",
    "acc_x_upsampled = scipy.signal.resample(acc_x_signal, len(bvp_signal))\n",
    "acc_y_upsampled = scipy.signal.resample(acc_y_signal, len(bvp_signal))\n",
    "acc_z_upsampled = scipy.signal.resample(acc_z_signal, len(bvp_signal))\n"
   ]
  },
  {
   "cell_type": "code",
   "execution_count": 29,
   "metadata": {},
   "outputs": [],
   "source": [
    "data_arrays = zip(bvp_signal, eda_upsampled, acc_x_upsampled, acc_y_upsampled, acc_z_upsampled, temp_upsampled)\n",
    "df = pd.DataFrame(data=data_arrays, columns=['BVP', 'EDA', 'ACC_x', 'ACC_y', 'ACC_z', 'TEMP'])\n",
    "df.index = [(1 / 64) * i for i in range(len(df))] # 64 = sampling rate of BVP\n",
    "df.index = pd.to_datetime(df.index, unit='s')\n",
    "df_new = df.join(label_df)\n",
    "df_bfill = df_new.copy()\n",
    "df_new['label'] = df_new['label'].fillna(method='ffill')\n",
    "df_new.reset_index(drop=True, inplace=True)\n"
   ]
  },
  {
   "cell_type": "markdown",
   "metadata": {},
   "source": [
    "##### Anwendung von Fourier Transformation (scipy.fft) am Beispiel: https://realpython.com/python-scipy-fft/\n",
    "Wichtige Parameter:\n",
    "1. **SAMPLE_RATE** (in Hertz) determines how many data points the signal uses to represent the sine wave per second. So if the signal had a sample rate of 10 Hz and was a five-second sine wave, then it would have 10 * 5 = 50 data points.\n",
    "2. **DURATION** (in Seconds) is the length of the generated sample. -> Frage hierzu: können wir überhaupt duration in seconds nehmen, wenn wir gar nicht mit den Zeitstempeln arbeiten, oder ist das irrelvant?\n",
    "\n",
    "Für *fftfreq* wird N (= SAMPLE_RATE * DURATION) und 1/SAMPLE_RATE"
   ]
  },
  {
   "cell_type": "code",
   "execution_count": 56,
   "metadata": {},
   "outputs": [
    {
     "name": "stdout",
     "output_type": "stream",
     "text": [
      "        BVP       EDA       ACC_x       ACC_y         ACC_z       TEMP  label\n",
      "0     10.17  0.349215  107.000000 -105.000000  1.270000e+02  33.130000    0.0\n",
      "1     12.04  0.325576  102.356872 -113.012765  1.126363e+02  33.223713    0.0\n",
      "2     13.01  0.305809   67.000000  -52.000000  4.500000e+01  33.302211    0.0\n",
      "3     13.07  0.289995   32.736815   17.606782 -5.830147e+00  33.365191    0.0\n",
      "4     12.33  0.278123   26.000000   40.000000  2.862856e-14  33.412692    0.0\n",
      "...     ...       ...         ...         ...           ...        ...    ...\n",
      "1915   5.47  0.358221   14.513470  -75.934280  1.440351e+01  33.155813    0.0\n",
      "1916   6.91  0.358469   13.000000  -73.000000  1.400000e+01  33.156445    0.0\n",
      "1917   7.69  0.358720   12.394525  -69.947345  1.378235e+01  33.157210    0.0\n",
      "1918   7.81  0.358969   12.000000  -67.000000  1.300000e+01  33.158080    0.0\n",
      "1919   7.34  0.359214   11.060886  -62.381661  1.114435e+01  33.159022    0.0\n",
      "\n",
      "[1920 rows x 7 columns]\n"
     ]
    },
    {
     "data": {
      "image/png": "[encoded data removed]",
      "text/plain": [
       "<Figure size 432x288 with 1 Axes>"
      ]
     },
     "metadata": {
      "needs_background": "light"
     },
     "output_type": "display_data"
    },
    {
     "data": {
      "image/png": "[encoded data removed]",
      "text/plain": [
       "<Figure size 432x288 with 1 Axes>"
      ]
     },
     "metadata": {
      "needs_background": "light"
     },
     "output_type": "display_data"
    }
   ],
   "source": [
    "window_len = 64 * 60 # fs = 64 and window length in seconds = 60\n",
    "subwindow_len = 64 * 30 # fs = 64 and sub-window length in seconds = 30\n",
    "window_shift = int(64 * 0.25) # fs = 64 and window shift in seconds = 0.25\n",
    "\n",
    "window = df_new[:window_len]\n",
    "windows = []\n",
    "\n",
    "for i in range(0, window_len, window_shift):\n",
    "    if i+subwindow_len <= window_len:\n",
    "        windows.append(df_new[i:i+subwindow_len])\n",
    "        # print(i,i+subwindow_len)\n",
    "        subwindow = df_new[i:i+subwindow_len]\n",
    "        print(subwindow)\n",
    "\n",
    "        x = subwindow.index\n",
    "        y = np.array(subwindow['BVP'])\n",
    "        plt.plot(x, y)\n",
    "        plt.xlabel('Index')\n",
    "        plt.ylabel('BVP')\n",
    "        # y = scipy.fft(subwindow['BVP'].to_numpy())\n",
    "        # freq = scipy.fftfreq(8, 0.125)\n",
    "        #f_s = 30\n",
    "        f_s = 64\n",
    "        # du hattest hier x drin - das ist nur ein RangeIndex, der Input für fft ist aber ein Array, deswegen dachte ich vielleicht eher y\n",
    "        X = scipy.fft.fft(y)\n",
    "        #freqs = scipy.fft.fftfreq(len(x)) * f_s\n",
    "        N = 64 * 30\n",
    "        freqs = scipy.fft.fftfreq(N, 1/f_s)\n",
    "        fig, ax = plt.subplots()\n",
    "\n",
    "        ax.stem(freqs, np.abs(X))\n",
    "        ax.set_xlabel('Frequency in Hertz [Hz]')\n",
    "        ax.set_ylabel('Frequency Domain (Spectrum) Magnitude')\n",
    "        ax.set_xlim(-f_s / 2, f_s / 2)\n",
    "        ax.set_ylim(-5, 110)\n",
    "        # FFT =scipy.fft.fft(y)\n",
    "        # new_N= len(FFT)//2\n",
    "        # f_nat=1\n",
    "        # new_X = np.linspace(10**-12, f_nat/2, new_N, endpoint=True)\n",
    "        # new_Xph=1.0/(new_X)\n",
    "        # FFT_abs=np.abs(FFT)\n",
    "        # plt.plot(new_Xph,2*FFT_abs[0:len(FFT)//2]/len(new_Xph),color='black')\n",
    "        # plt.xlabel('Period ($h$)',fontsize=20)\n",
    "        # plt.ylabel('Amplitude',fontsize=20)\n",
    "        # plt.title('(Fast) Fourier Transform Method Algorithm',fontsize=20)\n",
    "        # plt.grid(True)\n",
    "        # plt.xlim(0,200)\n",
    "        break"
   ]
  },
  {
   "cell_type": "markdown",
   "metadata": {},
   "source": [
    "### Labels\n",
    "\n",
    "- 0 = not defined / transient\n",
    "- 1 = baseline\n",
    "- 2 = stress\n",
    "- 3 = amusement\n",
    "- 4 = meditaiton\n",
    "- 5/6/7 = should be ignored in this dataset"
   ]
  },
  {
   "cell_type": "code",
   "execution_count": null,
   "metadata": {},
   "outputs": [],
   "source": [
    "# replace all labels \n",
    "df[df['label'] == 1]"
   ]
  },
  {
   "cell_type": "markdown",
   "metadata": {},
   "source": [
    "#### Todos\n",
    "- Upsample Signals to 64 Hz\n",
    "- downsample Labels to 64 Hz (Binning?)"
   ]
  }
 ],
 "metadata": {
  "colab": {
   "collapsed_sections": [],
   "name": "Stress Detection With Wearables: Explorative Analyse.ipynb",
   "provenance": []
  },
  "kernelspec": {
   "display_name": "Python 3.10.4 ('sdfw')",
   "language": "python",
   "name": "python3"
  },
  "language_info": {
   "codemirror_mode": {
    "name": "ipython",
    "version": 3
   },
   "file_extension": ".py",
   "mimetype": "text/x-python",
   "name": "python",
   "nbconvert_exporter": "python",
   "pygments_lexer": "ipython3",
   "version": "3.9.13"
  },
  "vscode": {
   "interpreter": {
    "hash": "421d3e5045432d1c81a7cbcf776867c261bbaddc029f3e12ea9459c25f8592c5"
   }
  }
 },
 "nbformat": 4,
 "nbformat_minor": 4
}
