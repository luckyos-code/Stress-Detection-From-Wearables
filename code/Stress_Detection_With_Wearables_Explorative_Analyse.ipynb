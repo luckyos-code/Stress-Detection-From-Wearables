{
 "cells": [
  {
   "cell_type": "code",
   "execution_count": 2,
   "metadata": {
    "id": "sPj6wrBeejUk"
   },
   "outputs": [],
   "source": [
    "import pickle\n",
    "import os\n",
    "import pandas as pd"
   ]
  },
  {
   "cell_type": "code",
   "execution_count": 26,
   "metadata": {},
   "outputs": [],
   "source": [
    "DATA_PATH = \"/Users/Nils/Library/Mobile Documents/com~apple~CloudDocs/master/sommersemester_22/big_data_prak/data/WESAD\""
   ]
  },
  {
   "cell_type": "code",
   "execution_count": 9,
   "metadata": {
    "id": "Xv4nzRc0fGo2"
   },
   "outputs": [],
   "source": [
    "class Subject:\n",
    "\n",
    "    def __init__(self, main_path, subject_number):\n",
    "        self.name = f'S{subject_number}'\n",
    "        self.subject_keys = ['signal', 'label', 'subject']\n",
    "        self.signal_keys = ['chest', 'wrist']\n",
    "        self.chest_keys = ['ACC', 'ECG', 'EMG', 'EDA', 'Temp', 'Resp']\n",
    "        self.wrist_keys = ['ACC', 'BVP', 'EDA', 'TEMP']\n",
    "        with open(os.path.join(main_path, self.name) + '/' + self.name + '.pkl', 'rb') as file:\n",
    "            self.data = pickle.load(file, encoding='latin1')\n",
    "        self.labels = self.data['label']\n",
    "\n",
    "    def get_wrist_data(self):\n",
    "        data = self.data['signal']['wrist']\n",
    "        data.update({'Resp': self.data['signal']['chest']['Resp']})\n",
    "        return data\n",
    "\n",
    "    def get_chest_data(self):\n",
    "        return self.data['signal']['chest']"
   ]
  },
  {
   "cell_type": "code",
   "execution_count": 27,
   "metadata": {
    "id": "G5ApA_aGfJ3j"
   },
   "outputs": [],
   "source": [
    "s10 = Subject(DATA_PATH, '10')"
   ]
  },
  {
   "cell_type": "code",
   "execution_count": 28,
   "metadata": {
    "id": "uY8YBVAQfYR0"
   },
   "outputs": [],
   "source": [
    "s10_wrist_data = s10.get_wrist_data()"
   ]
  },
  {
   "cell_type": "markdown",
   "metadata": {
    "id": "uvnyLrF7hIgb"
   },
   "source": [
    "# Data Preparation"
   ]
  },
  {
   "cell_type": "markdown",
   "metadata": {
    "id": "XgVeW7GZiDqc"
   },
   "source": [
    "**Wrist - Empatica E4**\n",
    "\n",
    "ACC: three-axis acceleration (32 Hz)\n",
    "\n",
    "BVP: blood volume pulse (64 Hz)\n",
    "\n",
    "EDA: electrodermal activity (4 Hz)\n",
    "\n",
    "TEMP: skin temperature (4 Hz)"
   ]
  },
  {
   "cell_type": "code",
   "execution_count": 29,
   "metadata": {
    "colab": {
     "base_uri": "https://localhost:8080/"
    },
    "id": "TThFbKWlhj4M",
    "outputId": "e08dce7d-d15f-4b62-f2ff-17a4721ee99a"
   },
   "outputs": [
    {
     "data": {
      "text/plain": [
       "{'ACC': array([[ 107., -105.,  127.],\n",
       "        [  67.,  -52.,   45.],\n",
       "        [  26.,   40.,    0.],\n",
       "        ...,\n",
       "        [  54.,   23.,   24.],\n",
       "        [  54.,   23.,   24.],\n",
       "        [  54.,   23.,   24.]]),\n",
       " 'BVP': array([[10.17],\n",
       "        [12.04],\n",
       "        [13.01],\n",
       "        ...,\n",
       "        [57.59],\n",
       "        [65.93],\n",
       "        [69.86]]),\n",
       " 'EDA': array([[0.349215],\n",
       "        [0.346656],\n",
       "        [0.350494],\n",
       "        ...,\n",
       "        [0.931574],\n",
       "        [0.932854],\n",
       "        [0.932854]]),\n",
       " 'TEMP': array([[33.13],\n",
       "        [33.16],\n",
       "        [33.16],\n",
       "        ...,\n",
       "        [30.83],\n",
       "        [30.83],\n",
       "        [30.83]]),\n",
       " 'Resp': array([[ 0.21362305],\n",
       "        [ 0.19226074],\n",
       "        [ 0.20599365],\n",
       "        ...,\n",
       "        [-2.18353271],\n",
       "        [-2.003479  ],\n",
       "        [-2.03094482]])}"
      ]
     },
     "execution_count": 29,
     "metadata": {},
     "output_type": "execute_result"
    }
   ],
   "source": [
    "s10_wrist_data"
   ]
  },
  {
   "cell_type": "code",
   "execution_count": 30,
   "metadata": {
    "id": "PwJei-1rf1sw"
   },
   "outputs": [],
   "source": [
    "# Turn e4-wrist-data into datafames\n",
    "\n",
    "eda_df = pd.DataFrame(s10_wrist_data['EDA'], columns=['EDA'])\n",
    "bvp_df = pd.DataFrame(s10_wrist_data['BVP'], columns=['BVP'])\n",
    "acc_df = pd.DataFrame(s10_wrist_data['ACC'], columns=['ACC_x', 'ACC_y', 'ACC_z'])\n",
    "temp_df = pd.DataFrame(s10_wrist_data['TEMP'], columns=['TEMP'])\n",
    "label_df = pd.DataFrame(s10.labels, columns=['label'])"
   ]
  },
  {
   "cell_type": "code",
   "execution_count": 31,
   "metadata": {
    "colab": {
     "base_uri": "https://localhost:8080/"
    },
    "id": "Z442gSlbiyYQ",
    "outputId": "efcea2e4-8830-47b7-9286-34fe9d036815"
   },
   "outputs": [
    {
     "data": {
      "text/plain": [
       "RangeIndex(start=0, stop=21984, step=1)"
      ]
     },
     "execution_count": 31,
     "metadata": {},
     "output_type": "execute_result"
    }
   ],
   "source": [
    "eda_df.index"
   ]
  },
  {
   "cell_type": "code",
   "execution_count": 32,
   "metadata": {
    "id": "kKKaH6T1f37h"
   },
   "outputs": [],
   "source": [
    "# DATA "
   ]
  },
  {
   "cell_type": "code",
   "execution_count": 33,
   "metadata": {
    "id": "D3AKpwDFmtJG"
   },
   "outputs": [],
   "source": [
    "fs_dict = {'ACC': 32, 'BVP': 64, 'EDA': 4, 'TEMP': 4, 'label': 64}"
   ]
  },
  {
   "cell_type": "code",
   "execution_count": 34,
   "metadata": {
    "id": "do1jXPigmoG4"
   },
   "outputs": [],
   "source": [
    "eda_df.index = [(1 / fs_dict['EDA']) * i for i in range(len(eda_df))]\n",
    "bvp_df.index = [(1 / fs_dict['BVP']) * i for i in range(len(bvp_df))]\n",
    "acc_df.index = [(1 / fs_dict['ACC']) * i for i in range(len(acc_df))]\n",
    "temp_df.index = [(1 / fs_dict['TEMP']) * i for i in range(len(temp_df))]\n",
    "label_df.index = [(1 / fs_dict['label']) * i for i in range(len(label_df))]"
   ]
  },
  {
   "cell_type": "code",
   "execution_count": 35,
   "metadata": {
    "id": "-VrWmng1nRmo"
   },
   "outputs": [],
   "source": [
    "eda_df.index = pd.to_datetime(eda_df.index, unit='s')\n",
    "bvp_df.index = pd.to_datetime(bvp_df.index, unit='s')\n",
    "temp_df.index = pd.to_datetime(temp_df.index, unit='s')\n",
    "acc_df.index = pd.to_datetime(acc_df.index, unit='s')\n",
    "label_df.index = pd.to_datetime(label_df.index, unit='s')"
   ]
  },
  {
   "cell_type": "code",
   "execution_count": 36,
   "metadata": {
    "colab": {
     "base_uri": "https://localhost:8080/"
    },
    "id": "HwiNfiENmxlh",
    "outputId": "f8b78c63-6d0b-43f6-a08f-8b3b94025bca"
   },
   "outputs": [
    {
     "data": {
      "text/plain": [
       "DatetimeIndex([       '1970-01-01 00:00:00', '1970-01-01 00:00:00.015625',\n",
       "               '1970-01-01 00:00:00.031250', '1970-01-01 00:00:00.046875',\n",
       "               '1970-01-01 00:00:00.062500', '1970-01-01 00:00:00.078125',\n",
       "               '1970-01-01 00:00:00.093750', '1970-01-01 00:00:00.109375',\n",
       "               '1970-01-01 00:00:00.125000', '1970-01-01 00:00:00.140625',\n",
       "               ...\n",
       "               '1970-01-01 01:31:35.843750', '1970-01-01 01:31:35.859375',\n",
       "               '1970-01-01 01:31:35.875000', '1970-01-01 01:31:35.890625',\n",
       "               '1970-01-01 01:31:35.906250', '1970-01-01 01:31:35.921875',\n",
       "               '1970-01-01 01:31:35.937500', '1970-01-01 01:31:35.953125',\n",
       "               '1970-01-01 01:31:35.968750', '1970-01-01 01:31:35.984375'],\n",
       "              dtype='datetime64[ns]', length=351744, freq=None)"
      ]
     },
     "execution_count": 36,
     "metadata": {},
     "output_type": "execute_result"
    }
   ],
   "source": [
    "bvp_df.index"
   ]
  },
  {
   "cell_type": "code",
   "execution_count": 37,
   "metadata": {
    "colab": {
     "base_uri": "https://localhost:8080/"
    },
    "id": "Tg4v8EGYm9zW",
    "outputId": "50ddc79f-e297-4841-cc3c-47fbee25cace"
   },
   "outputs": [
    {
     "data": {
      "text/plain": [
       "DatetimeIndex([       '1970-01-01 00:00:00', '1970-01-01 00:00:00.250000',\n",
       "               '1970-01-01 00:00:00.500000', '1970-01-01 00:00:00.750000',\n",
       "                      '1970-01-01 00:00:01', '1970-01-01 00:00:01.250000',\n",
       "               '1970-01-01 00:00:01.500000', '1970-01-01 00:00:01.750000',\n",
       "                      '1970-01-01 00:00:02', '1970-01-01 00:00:02.250000',\n",
       "               ...\n",
       "               '1970-01-01 01:31:33.500000', '1970-01-01 01:31:33.750000',\n",
       "                      '1970-01-01 01:31:34', '1970-01-01 01:31:34.250000',\n",
       "               '1970-01-01 01:31:34.500000', '1970-01-01 01:31:34.750000',\n",
       "                      '1970-01-01 01:31:35', '1970-01-01 01:31:35.250000',\n",
       "               '1970-01-01 01:31:35.500000', '1970-01-01 01:31:35.750000'],\n",
       "              dtype='datetime64[ns]', length=21984, freq=None)"
      ]
     },
     "execution_count": 37,
     "metadata": {},
     "output_type": "execute_result"
    }
   ],
   "source": [
    "eda_df.index"
   ]
  },
  {
   "cell_type": "code",
   "execution_count": 38,
   "metadata": {
    "id": "enZ5lmd3nfFA"
   },
   "outputs": [],
   "source": [
    "# Combined dataframe - not used yet\n",
    "df = eda_df.join(bvp_df, how='outer')\n",
    "df = df.join(temp_df, how='outer')\n",
    "df = df.join(acc_df, how='outer')\n",
    "df = df.join(label_df, how='outer')\n",
    "df['label'] = df['label'].fillna(method='bfill')\n",
    "df.reset_index(drop=True, inplace=True)"
   ]
  },
  {
   "cell_type": "code",
   "execution_count": 49,
   "metadata": {
    "colab": {
     "base_uri": "https://localhost:8080/"
    },
    "id": "rIQT07QznHjD",
    "outputId": "c7921584-d5b3-4420-83f6-7730f6d8bc67"
   },
   "outputs": [
    {
     "data": {
      "text/plain": [
       "826000"
      ]
     },
     "execution_count": 49,
     "metadata": {},
     "output_type": "execute_result"
    }
   ],
   "source": [
    "len(df[df['label'] == 1])"
   ]
  }
 ],
 "metadata": {
  "colab": {
   "collapsed_sections": [],
   "name": "Stress Detection With Wearables: Explorative Analyse.ipynb",
   "provenance": []
  },
  "kernelspec": {
   "display_name": "Python 3",
   "language": "python",
   "name": "python3"
  },
  "language_info": {
   "codemirror_mode": {
    "name": "ipython",
    "version": 3
   },
   "file_extension": ".py",
   "mimetype": "text/x-python",
   "name": "python",
   "nbconvert_exporter": "python",
   "pygments_lexer": "ipython3",
   "version": "3.8.5"
  }
 },
 "nbformat": 4,
 "nbformat_minor": 4
}
